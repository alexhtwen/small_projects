{
 "cells": [
  {
   "cell_type": "markdown",
   "metadata": {},
   "source": [
    "# Lab Problem Set 3      2023/10/23 作業\n",
    "\n",
    "請先閱讀 Lecture 5 並練習完 Lab 5 之後，再做以下的題目!!"
   ]
  },
  {
   "cell_type": "markdown",
   "metadata": {},
   "source": [
    "**Problem 1.** 中國南北朝時期的數學著作《孫子算經》下卷的第二十六題，叫做「物不知數」問題，原文如下：\n",
    "\n",
    "    有物不知其數，三三數之剩二，五五數之剩三，七七數之剩二。問物幾何？\n",
    "\n",
    "意思是說，有一個數字，3個3個來數會剩下2(除以3餘2)，5個一數會剩3(除以5餘3)，7個一數會剩2(除以7餘2)，請問數字是多少?\n",
    "\n",
    "請寫一個程式，可以測試使用者輸入的數字是否為上述「物不知數」問題的答案(之一) :\n",
    "\n",
    "<span style=\"color:#369\">如果是，請輸出 :</span>\n",
    "\n",
    "<span style=\"color:#936\"> &nbsp; &nbsp; Yeah，您解決了「物不知數」的問題!</span>\n",
    "\n",
    "<span style=\"color:#369\">如果不是，請輸出 :</span>\n",
    "\n",
    "<span style=\"color:#936\"> &nbsp; &nbsp; Oops，請再繼續努力!</span>\n",
    "\n"
   ]
  },
  {
   "cell_type": "code",
   "execution_count": 6,
   "metadata": {},
   "outputs": [
    {
     "name": "stdout",
     "output_type": "stream",
     "text": [
      "[23, 128, 233, 338, 443, 548, 653, 758, 863, 968]\n"
     ]
    }
   ],
   "source": [
    "# 程式請寫這裡\n",
    "# 程式一開始要請使用者輸入一個整數\n",
    "# 接著程式要測試這個整數是否為「物不知數」問題的答案\n",
    "# number = int(input(\"輸入一個整數 :\"))\n",
    "\n",
    "# for i in range(1001):\n",
    "# if number % 3 == 2 and number % 5 == 3 and number % 7 == 2:\n",
    "#     print(\"Yeah，您解決了「物不知數」的問題!\")\n",
    "# else:\n",
    "#     print( \"Oops,請再繼續努力!\")\n",
    "\n",
    "print([ i for i in range(1, 1001) if i % 3 == 2 and i % 5 == 3 and i % 7 == 2])\n"
   ]
  },
  {
   "cell_type": "code",
   "execution_count": 1,
   "metadata": {},
   "outputs": [
    {
     "data": {
      "text/plain": [
       "5"
      ]
     },
     "execution_count": 1,
     "metadata": {},
     "output_type": "execute_result"
    }
   ],
   "source": [
    "500 % 45"
   ]
  },
  {
   "cell_type": "markdown",
   "metadata": {},
   "source": [
    "<div style=\"color: DarkSalmon; font-family: 'Ubuntu Mono', 'Inconsolata', 'Noto Sans TC'; font-size: 250%; font-weight: 700;\">\n",
    "Problem 2\n",
    "</div>\n",
    "<br>\n",
    "<div style=\"font-family: 'Inconsolata', 'Noto Sans TC'; font-size: 125%; color: Gainsboro\">\n",
    "\n",
    "* 未來世界，甚麼機器都有! 飲品販賣機只賣一種飲料: 人氣飲，一杯45元。這個機器依顧客付的金額自動計算賣幾杯，但是每次交易最多只賣 4 杯。例如：\n",
    "\n",
    "    > 顧客付款 50，1 杯，找 5 元<br>\n",
    "    > 顧客付款 100，2 杯，找 10 元<br>\n",
    "    > 顧客付款 500，4 杯，找 320 元\n",
    "    \n",
    "* 機器的螢幕上會看到 : \n",
    "\n",
    "    人氣飲，一杯45元，每次限4杯，請付款 :\n",
    "    \n",
    "* 顧客付款後，依上述機器的設計，輸出：\n",
    "\n",
    "    顧客付款金額、賣的杯數、找的金額\n",
    "    "
   ]
  },
  {
   "cell_type": "code",
   "execution_count": null,
   "metadata": {},
   "outputs": [],
   "source": [
    "# Problem 2. 程式請寫這裡\n",
    "# 機器的螢幕上會看到 : 人氣飲，一杯45元，每次限4杯，請付款 :\n",
    "# 付款金額不足一杯的，也需考慮在內喔!\n"
   ]
  },
  {
   "cell_type": "markdown",
   "metadata": {},
   "source": [
    "<div style=\"color: DarkSalmon; font-family: 'Ubuntu Mono', 'Inconsolata', 'Noto Sans TC'; font-size: 250%; font-weight: 700;\">\n",
    "Problem 3\n",
    "</div>\n",
    "<br>\n",
    "<div style=\"font-family: 'Inconsolata', 'Noto Sans TC'; font-size: 125%; color: Gainsboro\">\n",
    "\n",
    "* 請先完成 Exercise 5.4。在 Exercise 5.4 中，如果真要猜一個隨機數字，只猜一次，真的很難猜中! <span style=\"color:red\">如果沒猜中數字的話，程式會告訴使用者猜得太大或太小</span>，請想想看如果程式在使用者沒猜中數字時，會繼續問使用者 : \"猜一個 1~10 的正整數 : \"，你認為最多只要猜幾次就保證可以猜到? (當然猜10次(從1猜到10)一定可以猜到，但是是否用更少的次數就一定可猜到呢? )\n",
    "\n",
    "* 請修改Exercise 5.4，可以讓使用者最多猜4次! (是否這樣一定猜得到，這其實是使用者怎麼猜的問題! 但是如果只猜3次是否有可能猜不到?)\n",
    "\n",
    "* 這樣的程式應該要使用迴圈(下次才會講到)，現在請同學用目前所學到的語法來做! \n"
   ]
  },
  {
   "cell_type": "code",
   "execution_count": null,
   "metadata": {},
   "outputs": [],
   "source": [
    "# Problem 3. 程式請寫這裡\n",
    "# 需要的話同學可以在程式中使用這一行 raise SystemExit(0)，碰到這一行程式會直接結束!!\n",
    "\n",
    "# import random 來取得一個隨機的1~10的整數 (隨機函數的介紹，請參考 Lab 5)\n"
   ]
  }
 ],
 "metadata": {
  "kernelspec": {
   "display_name": "Python 3 (ipykernel)",
   "language": "python",
   "name": "python3"
  },
  "language_info": {
   "codemirror_mode": {
    "name": "ipython",
    "version": 3
   },
   "file_extension": ".py",
   "mimetype": "text/x-python",
   "name": "python",
   "nbconvert_exporter": "python",
   "pygments_lexer": "ipython3",
   "version": "3.12.0"
  }
 },
 "nbformat": 4,
 "nbformat_minor": 2
}
