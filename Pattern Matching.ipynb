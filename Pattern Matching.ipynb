{
 "cells": [
  {
   "cell_type": "markdown",
   "id": "78f28da3-3161-4cbf-9c7d-fbbe5e9ebd1c",
   "metadata": {
    "tags": []
   },
   "source": [
    "# <font color='SteelBlue'>Structural Pattern Matching</font>\n",
    "* 是Python 3.10最重大的新增功能。\n",
    "* 類似C-like系列語言的switch-case但<font color='tomato' size='+1'>更強大</font>(truly awesome)。\n",
    "* 筆者建議盡快熟悉使用。\n",
    "\n",
    "註：建議將JupyterLab的Theme從預設的Light改為Dark，閱讀效果會較佳。"
   ]
  },
  {
   "cell_type": "code",
   "execution_count": 2,
   "id": "b67f39d0-d749-406d-8657-77d2322c14f8",
   "metadata": {
    "tags": []
   },
   "outputs": [
    {
     "name": "stdout",
     "output_type": "stream",
     "text": [
      "InteractiveShell set.\n",
      "3.10.6 (main, Nov  2 2022, 18:53:38) [GCC 11.3.0]\n"
     ]
    }
   ],
   "source": [
    "import sys\n",
    "from IPython.core.interactiveshell import InteractiveShell\n",
    "\n",
    "InteractiveShell.ast_node_interactivity = \"all\"\n",
    "print(\"InteractiveShell set.\")\n",
    "print(sys.version)"
   ]
  },
  {
   "cell_type": "markdown",
   "id": "21a9a10c-ac93-4ecd-b056-d9c5bb39e464",
   "metadata": {},
   "source": [
    "## <font color='LightSalmon'><font color='LightSalmon'>多重判斷時Python的傳統寫法</font>\n",
    "* 3.9版以前，Python沒有switch-case，多重判斷只能if-elif-else。筆者覺得長相不佳，認為是Python語法上少數暗點之一。是否為暗點當然見仁見智，總之個人不大喜歡就是。\n",
    "* 以下用一個最簡單的例子複習Python傳統的if-elif-else語法。筆者對此有意見，原因是'=='右邊的<font color='tomato' size='+1'>「定數」(literal)</font>無法對齊。"
   ]
  },
  {
   "cell_type": "code",
   "execution_count": 2,
   "id": "32df43b7-18ca-450e-94d3-ea96348be3cb",
   "metadata": {},
   "outputs": [
    {
     "name": "stdout",
     "output_type": "stream",
     "text": [
      "I'm a teapot\n"
     ]
    }
   ],
   "source": [
    "http_code = \"418\"\n",
    "\n",
    "if http_code == \"200\":  # 這個'200'和下面的'401', '418'等地位相同卻對不齊。\n",
    "    print(\"OK\")\n",
    "elif http_code == \"401\" or http_code == \"403\" or http_code == \"404\":\n",
    "    print(\"Not Found\")\n",
    "elif http_code == \"418\":\n",
    "    print(\"I'm a teapot\")\n",
    "elif http_code == \"500\":\n",
    "    print(\"Internal Server Error\")\n",
    "else:\n",
    "    print(\"Code not found\")"
   ]
  },
  {
   "cell_type": "markdown",
   "id": "55e4fa9c-6d99-4d78-b3cc-50a9425c2c2f",
   "metadata": {},
   "source": [
    "## <font color='LightSalmon'><font color='LightSalmon'>Structural Pattern Matching語法</font>\n",
    "* 終於終於，Python 3.10版可以用類似switch-case的結構了，這個新語法稱為<font color='tomato' size='+1'>Structural Pattern Matching</font>。\n",
    "* 本文其後簡稱作Pattern Matching或乾脆叫Matching。\n",
    "* 以下用Pattern Matching改寫樓上的if-elif-else。結構簡潔，定數漂亮對齊。"
   ]
  },
  {
   "cell_type": "code",
   "execution_count": null,
   "id": "ae50e10d-bb6c-42fa-8884-29167b69bf8b",
   "metadata": {
    "tags": []
   },
   "outputs": [],
   "source": [
    "http_code = '404'\n",
    "\n",
    "match http_code:\n",
    "    # match和case之間不可以有任何指令。可試打開下面註解掉的任何一行。\n",
    "    # print('Pattern Matching test.')\n",
    "    # if True:\n",
    "    #     pass\n",
    "    case '200':                  # '200'和下面的'401', '418'等對齊，整齊多了。\n",
    "        print ('OK')\n",
    "    # 2個cases之間也不能有指令。\n",
    "    # name = \"Alex\"\n",
    "    case '401' | '403' | '404':  # 可以用'|'表示「或」。\n",
    "        print('Not allowed')\n",
    "    case '418':\n",
    "        print(\"I'm a teapot\")\n",
    "    case '500':\n",
    "        print('Internal Server Error')\n",
    "    case _:                      # 相當於if-elif-else中的else。\n",
    "        print(\"Something's wrong with the internet\")"
   ]
  },
  {
   "cell_type": "markdown",
   "id": "527d632a-6951-4be9-8e78-c1e1d43fa801",
   "metadata": {
    "tags": []
   },
   "source": [
    "## <font color='LightSalmon'>Cool，但談不上啥特異功能吔</font>\n",
    "* 有人也許會說，這個Pattern Matching很漂亮，可只是語法上的改進或語法甜頭(syntactic sugar)而已，並非「新增功能」。\n",
    "* 沒錯，Pattern Matching能耐如僅及於此，的確不算新增功能。不過上面這段只是它的基本入門款，牛刀小試耳。\n",
    "* 此功能關卡堡壘不少，必須耐心逐個攻破，方得全貌。\n",
    "* 在下將步步為營，謹慎求證，不會重蹈[「市場花園行動」](https://zh.wikipedia.org/wiki/%E5%B8%82%E5%A0%B4%E8%8A%B1%E5%9C%92%E8%A1%8C%E5%8B%95)覆轍。<font color='tomato' size='+1'>橋雖遠，終有到達一天</font>。\n",
    "* 搶占Pattern Matching灘頭堡的[「諾曼第登陸」](https://zh.wikipedia.org/wiki/%E8%AF%BA%E6%9B%BC%E5%BA%95%E6%88%98%E5%BD%B9)開始："
   ]
  },
  {
   "cell_type": "markdown",
   "id": "fe2338f6-9cfa-4a5a-8eae-96fdc0a59bdb",
   "metadata": {},
   "source": [
    "## <font color='LightSalmon'>Pattern Matching-0：match和case非保留字</font></font>\n",
    "* 3.10版雖然新增了match-case的Matching結構，但match和case這兩個字[只是soft keywords，不是hard keywords](https://www.python.org/dev/peps/pep-0622/)，意思是這2個key words在3.10版<font color='tomato' size='+1'>並未增列為保留字</font>(reserved words)。這個措施使得3.10版和之前的版本相容，各位可以放心使用match和case作為變數。\n",
    "* Pattern Matching結構本身match和case也不是變數。"
   ]
  },
  {
   "cell_type": "code",
   "execution_count": 3,
   "id": "914086d6-f2d3-46d7-b458-395bf6d02eb0",
   "metadata": {},
   "outputs": [
    {
     "name": "stdout",
     "output_type": "stream",
     "text": [
      "matches case 0\n",
      "match: I am a match\n"
     ]
    }
   ],
   "source": [
    "from pprint import pprint\n",
    "\n",
    "match = 'I am a match'\n",
    "# case = 'I am a case'\n",
    "\n",
    "match match:   # 前面的match是Pattern Matching的關鍵字，後面的match則是變數。\n",
    "# match case:\n",
    "    case 'I am a match':\n",
    "        print('matches case 0')\n",
    "    case 'I am a case':\n",
    "        print('matches case 1')\n",
    "    case _:\n",
    "        print('no match')\n",
    "\n",
    "\n",
    "if \"match\" in globals():\n",
    "    print(f'match: {match}')\n",
    "if \"case\" in locals():   # 用globals()和locals()判斷好像都行。不確定。\n",
    "    print(f'case: {case}')\n",
    "# 經過Pattern Matching之後，match和case的值不變。"
   ]
  },
  {
   "cell_type": "markdown",
   "id": "106fe937-f571-4c02-8dca-7b01c70456d4",
   "metadata": {
    "tags": []
   },
   "source": [
    "## <font color='LightSalmon'>Pattern Matching-1：pattern內可以有變數</font>\n",
    "* Pattern Matching就是可以用'pattern'來比對。\n",
    "* 意思是：case的後面除了「定數」外，還可以是個pattern。\n",
    "* pattern內可以有<font color='tomato' size='+1'>變數</font>，這是Pattern Matching比switch-case更為強大的原因之一。\n",
    "* pattern比對順序由上至下，而且最多只有1個匹配。前面的pattern匹配到，就自動跳離match結構，不再往後比對了。因此case內不必也不能break。"
   ]
  },
  {
   "cell_type": "code",
   "execution_count": null,
   "id": "c34961c2-43c4-4965-861c-61f80f1a2d61",
   "metadata": {},
   "outputs": [],
   "source": [
    "dict_to_match = {'name': 'Becca', 'age': 28}\n",
    "# dict_to_match = {'name': 'Becca', 'age': 6}\n",
    "match dict_to_match:      # 所謂Pattern Matching，就是可以用'pattern'來比對。\n",
    "    # case後面的就是pattern。\n",
    "    case {'name': 'Alex', 'age': 38}:   # ．此pattern比對'Alex'和38。\n",
    "        print('match case 0')           #   匹配到會自動跳離，不須也不能寫break。\n",
    "    case {'name': name, 'age': age}:    # ．以變數name和age比對任何名稱和年齡。\n",
    "        print('match case 1')           #   value的變數名稱不一定要和key名稱相同。\n",
    "    case {'name': name1, 'age': age1}:  # ．本pattern和case 1的pattern完全相同。因\n",
    "        print('match case 2')           #   case 1較優先，所以本case永遠不會有匹配。\n",
    "    case _:\n",
    "        print('no match')"
   ]
  },
  {
   "cell_type": "markdown",
   "id": "9829180d-dad9-4c5d-9f57-477603c361bd",
   "metadata": {},
   "source": [
    "## <font color='LightSalmon'>Pattern Matching-2：不一定要包含dict的全部keys</font>\n",
    "* 要比對的物件(即match後面的變數)如果是dict，<font color='tomato' size='+1'>pattern不一定要包含該dict所有的keys</font>。\n",
    "* 可少卻不可多。如果pattern多出一個原dict沒有的key，就無法匹配。\n",
    "* dict和pattern的keys順序可以不一樣。"
   ]
  },
  {
   "cell_type": "code",
   "execution_count": null,
   "id": "c0cdd8a3-f558-4a58-8e32-48e325c717ea",
   "metadata": {
    "tags": []
   },
   "outputs": [],
   "source": [
    "def match(obj):\n",
    "    match_obj = 'no match'\n",
    "    match obj:\n",
    "        case {'id': id,      # 本pattern匹配任何有這些keys的dict。\n",
    "              'info': {'name': name, 'age': age}}:  # pattern不須包括dict的全部keys。\n",
    "            match_obj = {'id': id, 'info': {'name': name, 'age': age}}\n",
    "            print(r\"match pattern    : {'id': id, 'info': {'name': name, 'age': age}}\")\n",
    "            print(f'matches case 0   : {match_obj}' '\\n')\n",
    "        case {'id': id,        # 比對dict時，pattern的key可少卻不可多。\n",
    "              'name': name,    # 這個code cell傳入本函數的person，全都沒有一個\n",
    "              'edu': edu,      # 名叫'edu'的key，所以本pattern無法匹配任何person。\n",
    "              'bmi': bmi}:\n",
    "            match_obj = {'id': id, 'name': name, 'edu': edu, 'bmi': bmi}\n",
    "            print(r\"match pattern    : {'id': id, 'name': name, 'edu': edu, 'bmi': bmi}\")\n",
    "            print(f'matches case 1   : {match_obj}' '\\n')\n",
    "        case {'name': {'first': first, 'last': last,},\n",
    "              'id': id}:       # keys的順序不一樣，亦匹配第3個person。\n",
    "            match_obj = {'name': {'first': first, 'last': last}, 'id': id}\n",
    "            print(r\"match pattern    : {'name': {'first': first, 'last': last}, 'id': id}\")\n",
    "            print(f'matches case 2   : {match_obj}' '\\n')\n",
    "        case _:  # 以上皆非\n",
    "            print(r'match pattern    : _')\n",
    "            print(f'{match_obj}' '\\n')\n",
    "    return match_obj\n",
    "\n",
    "# 這個persons內的元素是要被比對的物件。\n",
    "persons = [\n",
    "    {'id': 1, 'info': {'name': 'Alex', 'age': 49, 'hair': None}},\n",
    "    {'id': 2, 'name': 'Lotus', 'gender': 'F', 'bmi': 21.25},\n",
    "    {'id': 3, 'name': {'last': '藍', 'first': '可兒'}, 'is_veg': False},\n",
    "]\n",
    "\n",
    "for person in persons:\n",
    "    print(f'obj to be matched: {person}      type: {type(person)}')\n",
    "    result = match(person)"
   ]
  },
  {
   "cell_type": "markdown",
   "id": "247a93d4-5fb9-4f0f-bed6-4a3b72e27a24",
   "metadata": {
    "tags": []
   },
   "source": [
    "## <font color='LightSalmon'>Pattern Matching-3：list和tuple意義相同</font>\n",
    "* 比對時list和tuple意義完全相同，都是<font color='tomato' size='+1'>sequence(序列)</font>。\n",
    "* 所謂sequence，可粗略理解成「可使用索引以及切片」的型別，如list, tuple和str。\n",
    "* Pattern Matching機制為了避免產生某些錯誤，在<font color='tomato' size='+1'>match sequence時排除了str</font>。所以str不歸sequence管，是獨立比對的。"
   ]
  },
  {
   "cell_type": "code",
   "execution_count": null,
   "id": "e3970657-9d06-4897-b381-9207ce242c90",
   "metadata": {},
   "outputs": [],
   "source": [
    "def match(obj):\n",
    "    match_obj = 'no match'\n",
    "    match obj:\n",
    "        case (item1, item2):\n",
    "            match_obj = (item1, item2)\n",
    "            print(r'match pattern    : (item1, item2)')\n",
    "            print(f'matches case 0   : {match_obj}' '\\n')\n",
    "        case [item1, item2, item3]:\n",
    "            match_obj = [item1, item2, item3]\n",
    "            print(r'match pattern    : [item1, item2, item3]')\n",
    "            print(f'matches case 1   : {match_obj}' '\\n')\n",
    "        case 'pi':\n",
    "            match_obj = 'pi'\n",
    "            print(r\"match pattern    : 'pi'\")\n",
    "            print(f'matches case 2   : {match_obj}' '\\n')\n",
    "        case _:\n",
    "            print(r'match pattern    : _')\n",
    "            print(f'{match_obj}' '\\n')\n",
    "    return match_obj\n",
    "\n",
    "objs = (\n",
    "    [0, 1],                                       # 2-item list\n",
    "    (True, False, None),                          # 3-item tuple\n",
    "    [[0, 1, 1, 2, 3, 5], (2, 3, 5, 7, 11, 13)],   # 2-item list\n",
    "    (2.71828,),                                   # 1-item tuple(Euler's number, e)\n",
    "    ['春分', '夏至', '秋分', '冬至'],             # 4-item list\n",
    "    (),                                           # 0-item tuple\n",
    "    \"['Isaac Newton', 'Albert Einstein']\"         # str\n",
    ")\n",
    "\n",
    "for obj in objs:\n",
    "    print(f'obj to be matched: {obj}      type: {type(obj)}')\n",
    "    result = match(obj)"
   ]
  },
  {
   "cell_type": "markdown",
   "id": "c4930339-dd69-45de-9b4a-5f739b8460fc",
   "metadata": {},
   "source": [
    "## <font color='LightSalmon'>Pattern Matching-4：支援萬用字元</font>\n",
    "* Pattern Matching支援wildcards(萬用或百搭字元)比對，如<font color='tomato' size='+1'><b>[x, y, *rest]</b></font>或<font color='tomato' size='+1'><b>(x, y, *rest)</b></font>。意思是：這2個patterns要比對一個有最少有2個元素(最多不限)的sequence(list or tuple)。rest可以改用其他合法變數名稱如`[x, y, *others]`或者`(x, y, *others)`。\n",
    "* <font color='tomato' size='+1'><b>*rest</b></font>其實就是Python著名的[unpacking秘技](https://www.learncodewithmike.com/2019/12/python-unpacking.html)的其中一部分。\n",
    "* <font color='tomato' size='+1'><b>[x, y, *_]</b></font>或<font color='tomato' size='+1'><b>(x, y, *_)</b></font>則較為特殊。以筆者測試後的粗淺理解，這個寫法意思是比對一個最少有2個元素的sequence，可是第3個以後的元素卻不會unpack，或者說它也有unpack，但方式和一般不同。\n",
    "* 至於dict的比對，也支援wildcard<font color='tomato' size='+2'><b>&#42;&#42;rest</b></font>，但不允許用<font color='tomato' size='+2'><b>**&#95;</b></font>。"
   ]
  },
  {
   "cell_type": "code",
   "execution_count": null,
   "id": "d77ad7a5-17d9-47c7-a89e-676789d190f5",
   "metadata": {},
   "outputs": [],
   "source": [
    "def match(obj):\n",
    "    match_obj = 'no match'\n",
    "    match obj:\n",
    "        case (item1, item2):\n",
    "            match_obj = (item1, item2)\n",
    "            print(r'match pattern    : (item1, item2)')\n",
    "            print(f'matches case 0   : {match_obj}' '\\n')\n",
    "        case [item1, item2, *others]:         # 請試將這個case區塊註解，再看結果。\n",
    "            match_obj = [item1, item2, *others]\n",
    "            print(r'match pattern    : [item1, item2, *others]')\n",
    "            print(f'matches case 1   : {match_obj}' '\\n')\n",
    "        case (item1, item2, *_):\n",
    "            match_obj = (item1, item2, _)     # 這裡'_'就好，不要'*_'再unpack一次。\n",
    "            print(r'match pattern    : (item1, item2, *_)')\n",
    "            print(f'matches case 2   : {match_obj}' '\\n')\n",
    "        case {\"name\": name, **other_pairs}:   # 用**other_pairs來百搭dict其他的pairs。\n",
    "            match_obj = (name, other_pairs)\n",
    "            print(r'match pattern    : {\"name\": name, **other_pairs}')\n",
    "            print(f'matches case 3   : {match_obj}' '\\n')\n",
    "        # case {\"name\": name, **_}:             # invalid syntax\n",
    "        #     match_obj = (name, _)\n",
    "        #     print(f'matches case 4   : {match_obj}')\n",
    "        #     print(r'match pattern    : {\"name\": name, **_}' '\\n')\n",
    "        case _:\n",
    "            print(r'match pattern    : _')\n",
    "            print(f'{match_obj}' '\\n')\n",
    "    return match_obj\n",
    "\n",
    "objs = (\n",
    "    ('Σ',),                      # 1-item tuple\n",
    "    ['Σ', 'Φ'],                  # 2-item list\n",
    "    ('Σ', 'Φ', 'Θ', 'Ψ', 'Ω'),   # 5-item tuple\n",
    "    {'name': '王羲之', 'category': '書法', 'piece': '蘭亭集序'},\n",
    ")\n",
    "\n",
    "for obj in objs:\n",
    "    print(f'obj to be matched: {obj}      type: {type(obj)}')\n",
    "    result = match(obj)"
   ]
  },
  {
   "cell_type": "markdown",
   "id": "e86639fc-a92e-46a6-b116-15dd3d9656a7",
   "metadata": {},
   "source": [
    "## <font color='LightSalmon'>先岔開複習一下packing / unpacking</font>"
   ]
  },
  {
   "cell_type": "code",
   "execution_count": null,
   "id": "810882dc-cac2-4a65-94b2-003412c655d5",
   "metadata": {},
   "outputs": [],
   "source": [
    "# def show_members(width, member1, member2, member3, member4, member5):\n",
    "def show_members(width, *members):  # 將傳入的n個參數打包成一個名叫members的tuple。\n",
    "    print(\"  --- within show_members() ---\")\n",
    "    print(\"  members: \", end=\"\")\n",
    "    for member in members:\n",
    "        print(f\"{member:{width}}\", end=\"\")\n",
    "\n",
    "\n",
    "length = 12\n",
    "# 將list的所有元素一次性賦予「同樣數量」的變數。\n",
    "name1, name2, name3 = [\"Lean\", \"Mirror\", \"Lotus\"]\n",
    "print(\"．將list的所有元素一次性賦予「同樣數量」的變數。注意：list有幾個元素，就要用幾個變數承接。\")\n",
    "print(f\"  指令： name1, name2, name3 = ['Lean', 'Mirror', 'Lotus']\")\n",
    "print(f\"  name1: {name1:{length}}name2: {name2:{length}}name3: {name3:{length}}\")\n",
    "print()\n",
    "\n",
    "# Python慣例：用底線'_'代表don't care。\n",
    "me, _, spouse = (\"Alex\", \"Passion\", \"Marrianne\")  # 'Passion'是小三？\n",
    "print(\"．Python慣例用底線'_'代表don't care。\")\n",
    "print(\"  指令： me, _, spouse = ('Alex', 'Passion', 'Marrianne')   # 'Passion'是小三？\")\n",
    "print(f\"  me: {me:{length}}spouse: {spouse}\")\n",
    "print()\n",
    "\n",
    "# 剔頭去尾後，中間部分以'*'這個operator打包成others，others型別是list。\n",
    "my_family = (\"Alex\", \"Marrianne\", \"Rebecca\", \"Thomas\", \"Asing\", \"Audrey\", \"Cyrus\")\n",
    "me, *others, grandson = my_family  # 這裡有人會說成unpack，但我認為pack較易理解。\n",
    "print(\"．先挑出sequence的前或後，其餘部分則「打包」(pack)成list。\")\n",
    "print(f\"  my_family: {my_family}\")\n",
    "print(\"  指令： me, *others, grandson = my_family\")\n",
    "print(f\"  me: {me:{length}}grandson: {grandson}\")\n",
    "print(f\"  others: {others}      type: {type(others)}\")\n",
    "print()\n",
    "\n",
    "rhesis = \"當從實地建基柱，莫在浮沙築高樓。\"\n",
    "first, *middles, last = rhesis\n",
    "print(\"．字串也是sequence。不過Pattern Matching中的sequence matching不包括str。\")\n",
    "print(f\"  rhesis: {rhesis}\")\n",
    "print(\"  指令： first, *middles, last = rhesis\")\n",
    "print(f\"  first: {first:{length}}last: {last}\")\n",
    "print(f\"  middles: {middles}\")\n",
    "print()\n",
    "\n",
    "print(\"．calling show_members(): show_members(length, *others)\")\n",
    "show_members(length, *others)  # 將others unpack為多個參數傳給show_members()。\n",
    "# show_members(length, \"Marrianne\", \"Rebecca\", \"Thomas\", \"Asing\", \"Audrey\")"
   ]
  },
  {
   "cell_type": "markdown",
   "id": "30ebd4dd-663a-456f-8285-ace1dc7c9cad",
   "metadata": {
    "tags": []
   },
   "source": [
    "## <font color='LightSalmon'>Pattern Matching-5：設定變數型別</font>\n",
    "* pattern中的變數如果沒有指定型別，會匹配任何型別物件。\n",
    "* 如想指明型別，可用<font color='tomato' size='+1'><b>str(var)</b></font>, <font color='tomato' size='+1'><b>int(var)</b></font>, <font color='tomato' size='+1'><b>float(var)</b></font>等方式設定。"
   ]
  },
  {
   "cell_type": "code",
   "execution_count": null,
   "id": "01790bbb-1fb8-4844-b35d-1949e0b17a86",
   "metadata": {
    "tags": []
   },
   "outputs": [],
   "source": [
    "def match(obj):\n",
    "    match_obj = 'no match'\n",
    "    match obj:\n",
    "        case [str(item1), str(item2)]:  # 比對1個sequence，內有2個型別為str的元素。\n",
    "            match_obj = [item1, item2]\n",
    "            print(f'matches case 0   : {match_obj}')\n",
    "            print(r'match pattern    : [str(item1), str(item2)]' '\\n')\n",
    "        case (int(num1), float(num2)):  # 比對1個sequence，2個元素，分別是int和float。\n",
    "            match_obj = (num1, num2)\n",
    "            print(f'matches case 1   : {match_obj}')\n",
    "            print(r'match pattern    : (int(num1), float(num2))' '\\n')\n",
    "        case _:                         # 以上皆非\n",
    "            print(match_obj)\n",
    "            print('match pattern    : _' '\\n')\n",
    "            pass\n",
    "    return match_obj\n",
    "\n",
    "objs = [\n",
    "    ('沈括', '張衡'),  # 華夏古代大科學家\n",
    "    [1, 1644],         # 1644年中國有5個皇帝:崇禎、順治、李自成、張獻忠、南明弘光帝\n",
    "    [0.0, 1.618],      # 黃金比例=1.618\n",
    "    (0, 3.1415927),    # 南北朝時代祖沖之計算的Pi精確到小數點後7位，領先全球一千多年\n",
    "    (1.41421, 6174)    # 畢達哥拉斯常數, 黑洞數\n",
    "]\n",
    "\n",
    "for obj in objs:\n",
    "    print(f'obj to be matched: {obj}      type: {type(obj)}')\n",
    "    result = match(obj)"
   ]
  },
  {
   "cell_type": "markdown",
   "id": "31e9ce9f-d8e2-47c0-94e5-63bdf61fcebd",
   "metadata": {},
   "source": [
    "## <font color='LightSalmon'>Pattern Matching-6：set的pattern比對</font>\n",
    "依目前測試，發現：\n",
    "* 比對set時，pattern不可以用<font color='tomato' size='+1'><b>{var1, var2, ...}</b></font>，而要用<font color='tomato' size='+1'><b>set()</b></font>或者<font color='tomato' size='+1'><b>set(var)</b></font>。\n",
    "* <font color='tomato' size='+1'><b>set()</b></font>及<font color='tomato' size='+1'><b>set(var)</b></font>都可匹配任意數量元素的set。\n",
    "* 但<font size='+1'><b>`set()`</b></font>的寫法因為沒有變數，無法抓到set內的元素。"
   ]
  },
  {
   "cell_type": "code",
   "execution_count": null,
   "id": "9965b213-eb8d-44b1-b32c-26d7667b36b4",
   "metadata": {
    "tags": []
   },
   "outputs": [],
   "source": [
    "def match(obj):\n",
    "    match_obj = 'no match'\n",
    "    match obj:\n",
    "        # 請試註解下面的case，看結果如何。\n",
    "        # case set():               # 比對set要用set()，不可以{stuff, ...}。\n",
    "        #     match_obj = set()     # 此pattern雖匹配任意的set，但抓不到set內元素。\n",
    "        #     print(f'matches case 0   : {match_obj}')\n",
    "        #     print('match pattern    : set()' '\\n')\n",
    "        # 上下兩個patterns都匹配任意元素的set，所以下面的pattern永遠沒有機會大展身手。\n",
    "        case set(stuff):\n",
    "            match_obj = stuff     # 設定變數，就可以抓到set的所有元素。\n",
    "            print(f'matches case 1   : {match_obj}')\n",
    "            print(r'match pattern    : set(stuff)' '\\n')\n",
    "        case _:\n",
    "            print(match_obj)\n",
    "            print('match pattern    : _' '\\n')\n",
    "            pass\n",
    "    return match_obj\n",
    "\n",
    "objs = (\n",
    "    set(),\n",
    "    {'Spagetti'},                                    # 意粉\n",
    "    {'Spagetti', 'Macaroni'},                        # 意粉, 通粉\n",
    "    {'Spagetti', 'Macaroni', 'Fusilli'},             # 意粉, 通粉, 螺旋粉\n",
    "    {'Spagetti', 'Macaroni', 'Fusilli', 'Lasagna'},  # 意粉, 通粉, 螺旋粉, 千層麵\n",
    ")\n",
    "\n",
    "for obj in objs:\n",
    "    print(f'obj to be matched: {obj}      type: {type(obj)}')\n",
    "    result = match(obj)"
   ]
  },
  {
   "cell_type": "markdown",
   "id": "04ad5d89-969b-45de-ad81-ec762b6865d5",
   "metadata": {},
   "source": [
    "## <font color='LightSalmon'>Pattern Matching-7：class也可比對</font>\n",
    "* 以下用一個自訂類別<font color='tomato' size='+1'><b>Couple</b></font>示範class的比對。"
   ]
  },
  {
   "cell_type": "code",
   "execution_count": null,
   "id": "b3628238-19cf-42ff-a716-04037552fa42",
   "metadata": {
    "tags": []
   },
   "outputs": [],
   "source": [
    "class Couple:\n",
    "    def __init__(self, husband: str, wife: str):  # constructor(建構子)\n",
    "        self.he: str = husband\n",
    "        self.she: str = wife\n",
    "\n",
    "    def __repr__(self):\n",
    "        return f\"Husband: {self.he}\\tWife: {self.she}.\"\n",
    "\n",
    "    def have_sex(self):   # method(方法)\n",
    "        print('We are having sex...')\n",
    "        return 'having sex'\n",
    "\n",
    "\n",
    "def match(obj):\n",
    "    match_obj = 'no match'\n",
    "    match obj:\n",
    "        case Couple(husband='Alex', wife='Lotus'):\n",
    "            match_obj = ('Alex', 'Lotus')\n",
    "            print(f'matches case 0   : {match_obj}')\n",
    "            print(\"match pattern    : Couple(husband='Alex', wife='Lotus')\" '\\n')\n",
    "        case Couple(husband='Arian', wife=str(wife)):\n",
    "            match_obj = ('Arian', wife)\n",
    "            print(f'matches case 1   : {match_obj}')\n",
    "            print(\"match pattern    : Couple(husband='Arian', wife=wife)\" '\\n')\n",
    "        # case Couple(he=str(husband), she='Diana'):\n",
    "        # case Couple(she='Diana'):\n",
    "        case Couple(have_sex='having sex'):  # TODO:\n",
    "            # match_obj = ('Diana', )\n",
    "            match_obj = ('having sex.......', )\n",
    "            print(f'matches case 2   : {match_obj}')\n",
    "            # print(\"match pattern    : Couple(husband=husband, wife='Lotus')\" '\\n')\n",
    "            # print(\"match pattern    : Couple(she='Diana')\" '\\n')\n",
    "            print(\"match pattern    : Couple(have_sex='having sex')\" '\\n')\n",
    "        case Couple(husband=str(husband), wife=str(wife)):\n",
    "            match_obj = (husband, wife)\n",
    "            print(f'matches case 3   : {match_obj}')\n",
    "            print('match pattern    : Couple(husband=husband, wife=wife)' '\\n')\n",
    "        case _:\n",
    "            print(match_obj)\n",
    "            print('match pattern    : _' '\\n')\n",
    "            pass\n",
    "    return match_obj\n",
    "\n",
    "couple1 = Couple('Arian', 'Brett')  # case 1\n",
    "couple2 = Couple('Chris', 'Diana')  # case 2\n",
    "couple3 = Couple('Ethan', 'Fiona')  # case 3\n",
    "couple4 = Couple('Grant', 2021)     # no match\n",
    "objs = (couple1, couple2, couple3, couple4)\n",
    "\n",
    "for obj in objs:\n",
    "    print(f'obj to be matched: {obj}      type: {type(obj)}')\n",
    "    result = match(obj)"
   ]
  },
  {
   "cell_type": "markdown",
   "id": "c504d3e0-beaa-492a-90dc-6d65ebe117ac",
   "metadata": {},
   "source": [
    "## <font color='LightSalmon'>Pattern Matching-8：Guard</font>\n",
    "* pattern的後面可以加if判斷，這個if clause稱為<font color='tomato' size='+1'><b>guard</b></font>。\n",
    "* guard的判斷結果為False時，會往下一個case走。\n",
    "* case後面的變數會先抓值，然後交給guard運用。"
   ]
  },
  {
   "cell_type": "code",
   "execution_count": null,
   "id": "5bc6fef7-3e94-45d6-b581-84d7ac249e72",
   "metadata": {},
   "outputs": [],
   "source": [
    "def match(obj):\n",
    "    match_obj = 'no match'\n",
    "    match obj:\n",
    "        case [str(item1), str(item2)] if item1 == item2:  # 2個字串元素必須相同。\n",
    "            match_obj = [item1, item2]\n",
    "            print(f'matches case 0   : {match_obj}')\n",
    "            print(r'match pattern    : str(item1), str(item2)] if item1 == item2' '\\n')\n",
    "        case (int(n1), int(n2), int(n3), int(n4), int(n5), int(n6)) \\\n",
    "              if n1 + n2 == n3 and n2 + n3 == n4 and n3 + n4 == n5 and n4 + n5 == n6:\n",
    "            match_obj = (n1, n2, n3, n4, n5, n6)\n",
    "            print(f'matches case 1   : {match_obj}')\n",
    "            print(r'match pattern    : (int(n1), int(n2), int(n3), int(n4), int(n5), int(n6)) if n1 + n2 == n3 and n2 + n3 == n4 and n3 + n4 == n5 and n4 + n5 == n6' '\\n')\n",
    "        case (int(n1), int(n2), int(n3), int(n4), int(n5)) if [i**2 for i in range(1, 6)]:\n",
    "        # case (int(n1), int(n2), int(n3), int(n4), int(n5)) if [1, 4, 9, 16, 25]:\n",
    "            match_obj = (n1, n2, n3, n4, n5)\n",
    "            print(f'matches case 2   : {match_obj}')\n",
    "            print(r'match pattern    : (int(n1), int(n2), int(n3), int(n4), int(n5)) if [i**2 for i in range(1, 6)]' '\\n')\n",
    "        case [float(f1), float(f2)] if len(str(f1).split('.')[1]) == 4 and len(str(f2).split('.')[0]) == 6:\n",
    "            match_obj = (f1, f2)\n",
    "            print(f'matches case 3   : {match_obj}')\n",
    "            print(r\"match pattern    : [float(f1), float(f2)] if len(str(f1).split('.')[1]) == 4 and len(str(f2).split('.')[0]) == 6\" '\\n')\n",
    "        case (bool(b1), bool(b2)) if b1 is not b2:\n",
    "            match_obj = (b1, b2)\n",
    "            print(f'matches case 4   : {match_obj}')\n",
    "            print(r\"match pattern    : (bool(b1), bool(b2()) if b1 is not b2\" '\\n')\n",
    "        case {'height': float(h), 'weight': float(w), 'bmi': float(b)} if round(w / h**2, 1) == b:\n",
    "            match_obj = (h, w, b)\n",
    "            print(f'matches case 5   : {match_obj}')\n",
    "            print(r\"match pattern    : {'height': float(h), 'weight': float(w), 'bmi': float(b)} if round(w / h**2, 1) == b\" '\\n')\n",
    "        case _:\n",
    "            print(match_obj)\n",
    "            print('match pattern    : _' '\\n')\n",
    "            pass\n",
    "    return match_obj\n",
    "\n",
    "objs = [\n",
    "    ('蘇東坡', '蘇東坡'),\n",
    "    ('蘇東坡', '蘇軾'),      # Q: 蘇東坡就是蘇軾，這是常識，電腦怎麼不懂？  A: 這不是AI喔\n",
    "    [0, 1, 1, 2, 3, 5],      # Fibonacci sequence\n",
    "    [1, 4, 9, 16, 25],       # Square Numbers\n",
    "    (1.5396, 299792.458),    # Lieb's square ice constant, 光速(km/s)\n",
    "    [True, False],           # toggle\n",
    "    {'height': 1.68, 'weight': 66.8, 'bmi': 23.7}   # 66.8 / 1.68**2 = 21.7\n",
    "]\n",
    "\n",
    "for obj in objs:\n",
    "    print(f'obj to be matched: {obj}      type: {type(obj)}')\n",
    "    result = match(obj)"
   ]
  },
  {
   "cell_type": "markdown",
   "id": "ab02d071-bb91-4932-a9eb-cd88be59f664",
   "metadata": {},
   "source": [
    "## <font color='LightSalmon'>番外篇：有if-elif-else能而Pattern Matching不能的嗎？</font>\n",
    "* 以筆者目前的理解，萬一有如下的if-elif-else結構，Pattern Matching可能就無能為力了。\n",
    "* 就算最後Pattern Matching能夠解決，大概也非常冗長難懂，直接用if-elif-else反而較易閱讀。\n",
    "* 所以3.10版推出了威力強大的Pattern Matching，<font color='tomato' size='+1'><b>if-elif-else仍有其存在價值</b></font>。"
   ]
  },
  {
   "cell_type": "code",
   "execution_count": null,
   "id": "bd195cfa-3906-4363-8094-d58dbca5995e",
   "metadata": {},
   "outputs": [],
   "source": [
    "a = 3\n",
    "b = 5\n",
    "c = 14\n",
    "if a - b > c:\n",
    "    print(\"case 0\")\n",
    "elif a * c < 1:\n",
    "    print(\"case 1\")\n",
    "elif c == 59:\n",
    "    print(\"case 2\")\n",
    "elif \"聯友人工資源管理公司\"[5:9] == \"資源管理\":\n",
    "    print(\"case 3\")\n",
    "elif 2 + 2 == 5:\n",
    "    print(\"case 4\")\n",
    "elif False:\n",
    "    print(\"case 5\")\n",
    "else:\n",
    "    print(\"Oh, no\")"
   ]
  },
  {
   "cell_type": "markdown",
   "id": "5a6fc674-e850-4ba5-9ae3-46a190f4774c",
   "metadata": {},
   "source": [
    "## <font color='LightSalmon'>順便談一個程式邏輯</font>\n",
    "* 以下利用<font color='tomato' size='+1'>randomuser.me</font>網站產生的測試用user資料來說明。\n",
    "* 該網站會產生隨機user，亦可指定user id。產生的欄位蠻多的，可以作為程式的測試資料用。\n",
    "* 它的1.1版和1.3版產生的user，JSON的結構和內容值會稍有不同。\n",
    "* 我們取其中的dob(出生日期)欄位作為例子，利用1.1和1.3版不同結構的特性，說明一個寫code時須要注意的地方。\n",
    "* 為方便觀察，就固定產生同一id(685)的user。"
   ]
  },
  {
   "cell_type": "code",
   "execution_count": null,
   "id": "b34782db-0f1f-4d28-b2ca-420fca68b27d",
   "metadata": {},
   "outputs": [],
   "source": [
    "import requests\n",
    "\n",
    "USER_ID = 685  # 為方便觀察，就固定產生同一id的user。USER_ID全大寫是constant的慣例。\n",
    "\n",
    "\n",
    "def get_user(version=\"1.3\"):\n",
    "    \"\"\"Get random users\"\"\"\n",
    "    url = f\"https://randomuser.me/api/{version}/?results=1&seed={USER_ID}\"\n",
    "    response = requests.get(url)\n",
    "    if response:\n",
    "        return response.json()[\"results\"][0]\n",
    "\n",
    "\n",
    "user = get_user(\"1.1\")\n",
    "print(\"1.1版\")\n",
    "print(user)\n",
    "print(f'出生日期：{user[\"dob\"]}')\n",
    "print(f'型別    ：{type(user[\"dob\"])}')\n",
    "print(\"------------------------\")\n",
    "print(\"1.3版\")\n",
    "user = get_user(\"1.3\")\n",
    "print(user)\n",
    "print(f'出生日期：{user[\"dob\"]}')\n",
    "print(f'型別    ：{type(user[\"dob\"])}')"
   ]
  },
  {
   "cell_type": "markdown",
   "id": "8692bb76-6f9b-4db0-812e-906918d5c6d6",
   "metadata": {},
   "source": [
    "## <font color='LightSalmon'>多重判斷一定要「先特殊後普通」</font>\n",
    "* 多重判斷時，要把握<font color='tomato' size='+1'>越specific(特殊)者越先，越general(普通)者越後</font>這個原則。\n",
    "* 萬一不小心寫反，結果就不是預期了。"
   ]
  },
  {
   "cell_type": "markdown",
   "id": "6dd19dfc-d998-4483-a68c-be0ac444a8b0",
   "metadata": {},
   "source": [
    "### <font color='SkyBlue'>傳統if-elif-else寫法</font>"
   ]
  },
  {
   "cell_type": "code",
   "execution_count": null,
   "id": "4207ecb8-b8b6-4246-a51c-9093b20d7c5e",
   "metadata": {},
   "outputs": [],
   "source": [
    "from datetime import datetime\n",
    "\n",
    "def get_age_if_specific_to_general(user):\n",
    "    \"\"\"\n",
    "    Returns the age of parameter user.\n",
    "\n",
    "        Parameters:\n",
    "            user (requests.models.Response): user information\n",
    "\n",
    "        Returns:\n",
    "            age (int): the age of the user\n",
    "\n",
    "        Description:\n",
    "            1. 使用Python傳統的if-elif-else語法。\n",
    "            2. if-elif順序是先general(普遍)後specific(特殊)。\n",
    "    \"\"\"\n",
    "    if \"age\" in user[\"dob\"]:  # specific(1.3版才有'age'欄位)\n",
    "        return user[\"dob\"][\"age\"]\n",
    "    elif \"dob\" in user:  # general(1.1到1.3版都有'dob'欄位)\n",
    "        now = datetime.now()\n",
    "        dob_date = datetime.strptime(user[\"dob\"], \"%Y-%m-%d %H:%M:%S\")\n",
    "        return now.year - dob_date.year\n",
    "    else:\n",
    "        return None\n",
    "\n",
    "\n",
    "def get_age_if_general_to_specific(user):\n",
    "    \"\"\"\n",
    "    Returns the age of parameter user.\n",
    "\n",
    "        Parameters:\n",
    "            user (requests.models.Response): user information\n",
    "\n",
    "        Returns:\n",
    "            age (int): the age of the user\n",
    "\n",
    "        Description:\n",
    "            1. 使用Python傳統的if-elif-else語法。\n",
    "            2. if-elif順序是先general(普遍)後specific(特殊)。\n",
    "    \"\"\"\n",
    "    if \"dob\" in user:  # general(1.1到1.3版都有'dob'欄位)\n",
    "        now = datetime.now()\n",
    "        dob_date = datetime.strptime(user[\"dob\"], \"%Y-%m-%d %H:%M:%S\")\n",
    "        return now.year - dob_date.year\n",
    "    elif \"age\" in user[\"dob\"]:  # specific(1.3版才有'age'欄位)\n",
    "        return user[\"dob\"][\"age\"]\n",
    "    else:\n",
    "        return None"
   ]
  },
  {
   "cell_type": "markdown",
   "id": "4d2a2346-0788-4957-b34e-022733832524",
   "metadata": {
    "tags": []
   },
   "source": [
    "### <font color='SkyBlue'>Pattern Matching寫法</font>"
   ]
  },
  {
   "cell_type": "code",
   "execution_count": null,
   "id": "60ecae0c-659c-46c3-b6e8-f4f433ae608a",
   "metadata": {},
   "outputs": [],
   "source": [
    "def get_age_match_specific_to_general(user):\n",
    "    '''\n",
    "    Returns the age of parameter user.\n",
    "\n",
    "        Parameters:\n",
    "            user (requests.models.Response): user information\n",
    "\n",
    "        Returns:\n",
    "            age (int): the age of the user\n",
    "\n",
    "        Description:\n",
    "            1. 使用Python 3.10新增的structural Pattern Match技術。\n",
    "            2. 前兩case's順序是先specific(特殊)後general(普遍)。\n",
    "    '''\n",
    "    match user:\n",
    "        case {'dob': {'age': age}}:    # specific(1.3版才有'age'欄位)\n",
    "            return age\n",
    "        case {'dob': dob}:             # general(1.1到1.3版都有'dob'欄位)\n",
    "            now = datetime.now()\n",
    "            dob_date = datetime.strptime(dob, '%Y-%m-%d %H:%M:%S')\n",
    "            return now.year - dob_date.year\n",
    "        case _:\n",
    "            return None\n",
    "\n",
    "def get_age_match_general_to_specific(user):\n",
    "    '''\n",
    "    Returns the age of parameter user.\n",
    "\n",
    "        Parameters:\n",
    "            user (requests.models.Response): user information\n",
    "\n",
    "        Returns:\n",
    "            age (int): the age of the user\n",
    "\n",
    "        Description:\n",
    "            1. 使用Python 3.10新增的structural Pattern Match技術。\n",
    "            2. 前兩case's順序是先general(普遍)後specific(特殊)。\n",
    "    '''\n",
    "    match user:\n",
    "        case {'dob': dob}:             # general(1.1到1.3版都有'dob'欄位)\n",
    "            now = datetime.now()\n",
    "            dob_date = datetime.strptime(dob, '%Y-%m-%d %H:%M:%S')\n",
    "            return now.year - dob_date.year\n",
    "        case {'dob': {'age': age}}:    # specific(1.3版才有'age'欄位)\n",
    "            return age\n",
    "        case _:\n",
    "            return None"
   ]
  },
  {
   "cell_type": "code",
   "execution_count": null,
   "id": "16c68804-0338-42dc-b91c-a5bf4712ad54",
   "metadata": {},
   "outputs": [],
   "source": [
    "while True:\n",
    "    try:\n",
    "        version = input(\n",
    "            \"Input version(1.1 or 1.3)   999 exit: \"\n",
    "        ).strip()  # 請輸入1.1或1.3，或999結束。\n",
    "        if version == \"999\":\n",
    "            print(\"The End.\")\n",
    "            break\n",
    "        else:\n",
    "            print(f\"version: {version}\\n\")\n",
    "            user = get_user(version=version)\n",
    "            # user[\"dob\"]\n",
    "            age_if_specific_to_general = get_age_if_specific_to_general(user)\n",
    "            print(f\"age_if_specific_to_general: {age_if_specific_to_general}\")\n",
    "            age_if_general_to_specific = get_age_if_general_to_specific(user)\n",
    "            print(f\"age_if_general_to_specific: {age_if_general_to_specific}\")\n",
    "            age_match_specific_to_general = get_age_match_specific_to_general(user)\n",
    "            print(f\"age_match_specific_to_general: {age_match_specific_to_general}\")\n",
    "            age_match_general_to_specific = get_age_match_general_to_specific(user)\n",
    "            print(f\"age_match_general_to_specific: {age_match_general_to_specific}\")\n",
    "    except Exception as e:\n",
    "        print(f\"Error: {e}\")\n",
    "    finally:\n",
    "        print()"
   ]
  },
  {
   "cell_type": "markdown",
   "id": "31ede308-0ffc-402e-aade-1605f041c545",
   "metadata": {},
   "source": [
    "## <font color='LightSalmon'>「先普通後特殊」的錯誤示範</font>\n",
    "* 下列的code如輸入50，您認為理應印出甚麼？\n",
    "* 實際上會印出甚麼？\n",
    "* 麻煩修正。"
   ]
  },
  {
   "cell_type": "code",
   "execution_count": null,
   "id": "24c23d5a-7422-491b-a0eb-0ec2fda96941",
   "metadata": {
    "tags": []
   },
   "outputs": [],
   "source": [
    "# 從最general到最specific的寫法錯誤。\n",
    "while True:\n",
    "    age = int(input(\"Input age (999 exit):\"))\n",
    "    if age == 999:\n",
    "        print(\"Game Over.\")\n",
    "        break\n",
    "    elif age >= 12:  # 最general\n",
    "        print(\"可看輔級電影。\")\n",
    "    elif age >= 20:\n",
    "        print(\"可看輔級電影和投票。\")\n",
    "    elif age >= 40:\n",
    "        print(\"可看輔級電影、投票和選總統。\")\n",
    "    elif age >= 65:  # 最specific\n",
    "        print(\"可看輔級電影、投票、選總統和退休。\")\n",
    "    else:\n",
    "        print(\"年齡太小，長大再說。\")"
   ]
  },
  {
   "cell_type": "markdown",
   "id": "aab3a183-7ba3-4724-bcf3-d1a6a4078ef3",
   "metadata": {},
   "source": [
    "## <font color='LightSalmon'>「先普通後特殊」錯誤示範的參考修訂</font>"
   ]
  },
  {
   "cell_type": "code",
   "execution_count": null,
   "id": "d893e1c8-b1c0-4625-b865-2841219735d3",
   "metadata": {
    "tags": []
   },
   "outputs": [],
   "source": [
    "# 從最specific到最general的寫法才正確。\n",
    "while True:\n",
    "    age = int(input(\"Input age (999 exit):\"))\n",
    "    if age == 999:\n",
    "        print(\"Game Over.\")\n",
    "        break\n",
    "    elif age >= 65:  # 最specific\n",
    "        print(\"可看輔級電影、投票、選總統和退休。\")\n",
    "    elif age >= 40:\n",
    "        print(\"可看輔級電影、投票和選總統。\")\n",
    "    elif age >= 20:\n",
    "        print(\"可看輔級電影和投票。\")\n",
    "    elif age >= 12:  # 最general\n",
    "        print(\"可看輔級電影。\")\n",
    "    else:\n",
    "        print(\"年齡太小，長大再說。\")"
   ]
  }
 ],
 "metadata": {
  "kernelspec": {
   "display_name": "Python 3",
   "language": "python",
   "name": "python3"
  },
  "language_info": {
   "codemirror_mode": {
    "name": "ipython",
    "version": 3
   },
   "file_extension": ".py",
   "mimetype": "text/x-python",
   "name": "python",
   "nbconvert_exporter": "python",
   "pygments_lexer": "ipython3",
   "version": "3.10.6 (main, Nov  2 2022, 18:53:38) [GCC 11.3.0]"
  },
  "vscode": {
   "interpreter": {
    "hash": "916dbcbb3f70747c44a77c7bcd40155683ae19c65e1c03b4aa3499c5328201f1"
   }
  }
 },
 "nbformat": 4,
 "nbformat_minor": 5
}
