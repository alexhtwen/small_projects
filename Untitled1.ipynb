{
 "cells": [
  {
   "cell_type": "code",
   "execution_count": 7,
   "id": "64c90aed",
   "metadata": {},
   "outputs": [
    {
     "name": "stdout",
     "output_type": "stream",
     "text": [
      "Notebook test9.ipynb written.\r\n"
     ]
    }
   ],
   "source": [
    "filename_1 = 'test9.py'\n",
    "! p2j $filename_1"
   ]
  },
  {
   "cell_type": "code",
   "execution_count": 10,
   "id": "1e5d08d4",
   "metadata": {},
   "outputs": [
    {
     "name": "stdout",
     "output_type": "stream",
     "text": [
      "Notebook test1.ipynb written.\n",
      "Notebook test2.ipynb written.\n",
      "Notebook test3.ipynb written.\n",
      "Notebook test4.ipynb written.\n",
      "Notebook test5.ipynb written.\n",
      "Notebook test6.ipynb written.\n",
      "Notebook test7.ipynb written.\n",
      "Notebook test8.ipynb written.\n",
      "Notebook test9.ipynb written.\n"
     ]
    }
   ],
   "source": [
    "for i in range(1, 10):\n",
    "    filename_1 = f'test{i}.py'\n",
    "    ! p2j $filename_1"
   ]
  }
 ],
 "metadata": {
  "kernelspec": {
   "display_name": "Python 3 (ipykernel)",
   "language": "python",
   "name": "python3"
  },
  "language_info": {
   "codemirror_mode": {
    "name": "ipython",
    "version": 3
   },
   "file_extension": ".py",
   "mimetype": "text/x-python",
   "name": "python",
   "nbconvert_exporter": "python",
   "pygments_lexer": "ipython3",
   "version": "3.10.6"
  }
 },
 "nbformat": 4,
 "nbformat_minor": 5
}
