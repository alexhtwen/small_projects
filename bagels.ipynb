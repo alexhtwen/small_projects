{
 "cells": [
  {
   "cell_type": "code",
   "execution_count": 1,
   "metadata": {},
   "outputs": [
    {
     "name": "stdout",
     "output_type": "stream",
     "text": [
      "1234: 0A1B\n",
      "4567: 0A1B\n",
      "9024: 0A0B\n",
      "8156: 1A1B\n",
      "8175: 1A1B\n",
      "8354: 1A2B\n",
      "8567: 0A2B\n",
      "5381: 0A3B\n",
      ": 0A0B\n"
     ]
    }
   ],
   "source": [
    "import random as rd\n"
   ]
  },
  {
   "cell_type": "markdown",
   "metadata": {},
   "source": []
  },
  {
   "cell_type": "code",
   "execution_count": null,
   "metadata": {},
   "outputs": [],
   "source": [
    "jhihbuijjjubhjbhjbjh"
   ]
  },
  {
   "cell_type": "markdown",
   "metadata": {},
   "source": [
    "### gftgfygftygfytgytgy\n"
   ]
  },
  {
   "cell_type": "code",
   "execution_count": 6,
   "metadata": {},
   "outputs": [],
   "source": [
    "import random as rd\n",
    "\n",
    "ans = ''.join(str(digit) for digit in rd.choices(range(10), k=4))\n",
    "# ans\n",
    "while True:\n",
    "    digits = input('Input your guess:')\n",
    "    if digits == '-1':\n",
    "        break\n",
    "    a_count = b_count = 0\n",
    "    for i, digit in enumerate(digits):\n",
    "        if digit == ans[i]:\n",
    "            a_count += 1\n",
    "        elif digit in ans:\n",
    "            b_count += 1\n",
    "    print(f'{digits}: {a_count}A{b_count}B')\n",
    "    if a_count == 4:\n",
    "        break"
   ]
  },
  {
   "cell_type": "markdown",
   "metadata": {},
   "source": [
    "99999\n",
    "8888\n"
   ]
  },
  {
   "cell_type": "code",
   "execution_count": 19,
   "metadata": {},
   "outputs": [
    {
     "name": "stdout",
     "output_type": "stream",
     "text": [
      "hello, world.\n"
     ]
    }
   ],
   "source": [
    "# 99999\n",
    "print('hello, world.')"
   ]
  },
  {
   "cell_type": "code",
   "execution_count": null,
   "metadata": {},
   "outputs": [],
   "source": []
  },
  {
   "cell_type": "code",
   "execution_count": null,
   "metadata": {},
   "outputs": [
    {
     "name": "stdout",
     "output_type": "stream",
     "text": [
      "hello, world.\n"
     ]
    }
   ],
   "source": [
    "# 99999\n",
    "print('hello, world.')"
   ]
  },
  {
   "cell_type": "code",
   "execution_count": null,
   "metadata": {},
   "outputs": [
    {
     "name": "stdout",
     "output_type": "stream",
     "text": [
      "hello, world.\n"
     ]
    }
   ],
   "source": [
    "# 99999\n",
    "print('hello, world.')"
   ]
  },
  {
   "cell_type": "code",
   "execution_count": null,
   "metadata": {},
   "outputs": [],
   "source": [
    "import time\n",
    "\n",
    "import datetime\n",
    "\n",
    "print('Hello, world')"
   ]
  },
  {
   "cell_type": "code",
   "execution_count": null,
   "metadata": {},
   "outputs": [],
   "source": [
    "print(12345)\n",
    "print(12345)\n",
    "print(12345)\n",
    "print(12345)\n",
    "print(12345)\n",
    "print(12345)\n",
    "print(12345)\n"
   ]
  },
  {
   "cell_type": "code",
   "execution_count": null,
   "metadata": {},
   "outputs": [],
   "source": [
    "def numeral_to_chinese(numeral):\n",
    "    ...    # 請完成這個函數。\n",
    "    ...\n",
    "    return ...\n",
    "\n",
    "while True:\n",
    "    time.sleep(1)    # 暫停一秒，以免有時輸入後看不到輸出。\n",
    "    input_str = input('請輸入一個數字(exit結束)：')\n",
    "    if input_str.lower().strip() == 'exit':\n",
    "        print('Game over.')\n",
    "        break\n",
    "    numeral = int(input_str)\n",
    "    print(numeral_to_chinese(numeral))\n",
    "    print()"
   ]
  },
  {
   "cell_type": "code",
   "execution_count": null,
   "metadata": {},
   "outputs": [],
   "source": [
    "print('1111111111111111111')\n",
    "print('1111111111111111111')\n",
    "print('1111111111111111111')\n",
    "print('1111111111111111111')"
   ]
  },
  {
   "cell_type": "markdown",
   "metadata": {},
   "source": [
    "![](./pye%20looks%20like%20this.png)"
   ]
  },
  {
   "cell_type": "code",
   "execution_count": null,
   "metadata": {},
   "outputs": [
    {
     "name": "stdout",
     "output_type": "stream",
     "text": [
      "hello, world.\n"
     ]
    }
   ],
   "source": [
    "# 99999\n",
    "print('hello, world.')"
   ]
  }
 ],
 "metadata": {
  "kernelspec": {
   "display_name": "Python 3.10.4 64-bit",
   "language": "python",
   "name": "python3"
  },
  "language_info": {
   "codemirror_mode": {
    "name": "ipython",
    "version": 3
   },
   "file_extension": ".py",
   "mimetype": "text/x-python",
   "name": "python",
   "nbconvert_exporter": "python",
   "pygments_lexer": "ipython3",
   "version": "3.10.6 (main, Aug 10 2022, 11:40:04) [GCC 11.3.0]"
  },
  "orig_nbformat": 4,
  "vscode": {
   "interpreter": {
    "hash": "916dbcbb3f70747c44a77c7bcd40155683ae19c65e1c03b4aa3499c5328201f1"
   }
  }
 },
 "nbformat": 4,
 "nbformat_minor": 2
}
