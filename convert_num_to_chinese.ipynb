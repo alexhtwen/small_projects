{
 "cells": [
  {
   "cell_type": "code",
   "execution_count": 3,
   "metadata": {},
   "outputs": [
    {
     "name": "stdout",
     "output_type": "stream",
     "text": [
      "-96673954386737147  負九京六千六百七十三兆九千五百四十三億八千六百七十三萬七千一百四十七\n",
      " 74023116500942633  七京四千零二十三兆一千一百六十五億零九十四萬二千六百三十三\n",
      " 19925428940372407  一京九千九百二十五兆四千二百八十九億四千零三十七萬二千四百零七\n",
      " 93527637730608294  九京三千五百二十七兆六千三百七十七億三千零六十萬八千二百九十四\n",
      " 44624046041115244  四京四千六百二十四兆零四百六十億四千一百一十一萬五千二百四十四\n",
      " 50722268031632914  五京零七百二十二兆二千六百八十億三千一百六十三萬二千九百一十四\n",
      "  4712708643088420  四千七百一十二兆七千零八十六億四千三百零八萬八千四百二十\n",
      " 90549732034629044  九京零五百四十九兆七千三百二十億三千四百六十二萬九千零四十四\n",
      "-53607203373578101  負五京三千六百零七兆二千零三十三億七千三百五十七萬八千一百零一\n",
      "-62199989880908123  負六京二千一百九十九兆九千八百九十八億八千零九十萬八千一百二十三\n"
     ]
    }
   ],
   "source": [
    "def numeral_to_chinese(numeral: int) -> str:\n",
    "    import re\n",
    "    digits = {'0': '零', '1': '一', '2': '二', '3': '三', '4': '四', '5': '五', '6': '六', '7': '七', '8': '八', '9': '九'}\n",
    "    units = {1: '', 2: '十', 3: '百', 4: '千', 5: '萬', 6: '十萬', 7: '百萬', 8: '千萬', 9: '億', 10: '十億', 11: '百億', 12: '千億', 13: '兆', 14: '十兆', 15: '百兆', 16: '千兆', 17: '京'}\n",
    "\n",
    "    chars = str(numeral)\n",
    "    chinese = ''\n",
    "    if chars[0] == '-':\n",
    "        chars = chars[1:]\n",
    "        is_negative = True\n",
    "    else:\n",
    "        is_negative = False\n",
    "    length = len(chars)\n",
    "\n",
    "    for i, char in enumerate(chars):\n",
    "        chinese += digits[char]\n",
    "        chinese += units[length - i]\n",
    "    # print(f'original:          {chinese}')\n",
    "\n",
    "    chinese = chinese.replace('京零京', '京').replace('兆零兆', '兆').replace('億零億', '億').replace('萬零萬', '萬')\n",
    "    chinese = chinese.replace('十零', '十')\n",
    "  \n",
    "    for zero in ['零十', '零百', '零千', '零萬', '零億', '零兆', '零京']:\n",
    "        chinese = chinese.replace(zero, '零')\n",
    " \n",
    "    pattern = '零+'\n",
    "    replacement = '零'\n",
    "    chinese = re.sub(pattern=pattern, repl=replacement, string=chinese)\n",
    "    # print(f'零+⮕零:           {chinese}')\n",
    "\n",
    "    pattern = '(.+?)零+$'  # ^(?!my)\n",
    "    replacement = r'\\g<1>'\n",
    "    chinese = re.sub(pattern=pattern, repl=replacement, string=chinese)\n",
    "    # print(fr'(.+?)零+$⮕\\g<1>:  {chinese}')\n",
    "\n",
    "    pattern = '^一十'\n",
    "    replacement = '十'\n",
    "    chinese = re.sub(pattern=pattern, repl=replacement, string=chinese)\n",
    "    # print(f'^一十⮕十:         {chinese}')\n",
    "\n",
    "    zhao_count = chinese.count('兆')\n",
    "    yi_count = chinese.count('億')\n",
    "    wan_count = chinese.count('萬')\n",
    "    chinese = chinese.replace('兆', '', zhao_count - 1)\n",
    "    chinese = chinese.replace('億', '', yi_count - 1)\n",
    "    chinese = chinese.replace('萬', '', wan_count - 1)\n",
    "    # print(f'replace():         {chinese}')\n",
    "\n",
    "    if is_negative:\n",
    "        chinese = '負' + chinese\n",
    "    # print()\n",
    "    return chinese\n",
    "\n",
    "import random as rd \n",
    "\n",
    "for _ in range(10):\n",
    "    numeral = rd.randint(-99999999999999999, 99999999999999999)\n",
    "    # numeral = 110636944010\n",
    "    print(f'{numeral:18}  {numeral_to_chinese(numeral=numeral)}')"
   ]
  },
  {
   "cell_type": "code",
   "execution_count": null,
   "metadata": {},
   "outputs": [],
   "source": []
  }
 ],
 "metadata": {
  "kernelspec": {
   "display_name": "Python 3.10.6 64-bit",
   "language": "python",
   "name": "python3"
  },
  "language_info": {
   "codemirror_mode": {
    "name": "ipython",
    "version": 3
   },
   "file_extension": ".py",
   "mimetype": "text/x-python",
   "name": "python",
   "nbconvert_exporter": "python",
   "pygments_lexer": "ipython3",
   "version": "3.11.2"
  },
  "orig_nbformat": 4,
  "vscode": {
   "interpreter": {
    "hash": "916dbcbb3f70747c44a77c7bcd40155683ae19c65e1c03b4aa3499c5328201f1"
   }
  }
 },
 "nbformat": 4,
 "nbformat_minor": 2
}
