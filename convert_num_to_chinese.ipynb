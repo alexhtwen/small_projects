{
 "cells": [
  {
   "cell_type": "code",
   "execution_count": null,
   "metadata": {},
   "outputs": [],
   "source": [
    "def numeral_to_chinese(numeral: int) -> str:\n",
    "    import re\n",
    "    digits = {'0': '零', '1': '一', '2': '二', '3': '三', '4': '四', '5': '五', '6': '六', '7': '七', '8': '八', '9': '九'}\n",
    "    units = {1: '', 2: '十', 3: '百', 4: '千', 5: '萬', 6: '十萬', 7: '百萬', 8: '千萬', 9: '億', 10: '十億', 11: '百億', 12: '千億', 13: '兆', 14: '十兆', 15: '百兆', 16: '千兆', 17: '京'}\n",
    "\n",
    "    chars = str(numeral)\n",
    "    chinese = ''\n",
    "    if chars[0] == '-':\n",
    "        chars = chars[1:]\n",
    "        is_negative = True\n",
    "    else:\n",
    "        is_negative = False\n",
    "    length = len(chars)\n",
    "\n",
    "    for i, char in enumerate(chars):\n",
    "        chinese += digits[char]\n",
    "        chinese += units[length - i]\n",
    "    # print(f'original:          {chinese}')\n",
    "\n",
    "    chinese = chinese.replace('京零京', '京').replace('兆零兆', '兆').replace('億零億', '億').replace('萬零萬', '萬')\n",
    "    chinese = chinese.replace('十零', '十')\n",
    "  \n",
    "    for zero in ['零十', '零百', '零千', '零萬', '零億', '零兆', '零京']:\n",
    "        chinese = chinese.replace(zero, '零')\n",
    " \n",
    "    pattern = '零+'\n",
    "    replacement = '零'\n",
    "    chinese = re.sub(pattern=pattern, repl=replacement, string=chinese)\n",
    "    # print(f'零+⮕零:           {chinese}')\n",
    "\n",
    "    pattern = '(.+?)零+$'  # ^(?!my)\n",
    "    replacement = r'\\g<1>'\n",
    "    chinese = re.sub(pattern=pattern, repl=replacement, string=chinese)\n",
    "    # print(fr'(.+?)零+$⮕\\g<1>:  {chinese}')\n",
    "\n",
    "    pattern = '^一十'\n",
    "    replacement = '十'\n",
    "    chinese = re.sub(pattern=pattern, repl=replacement, string=chinese)\n",
    "    # print(f'^一十⮕十:         {chinese}')\n",
    "\n",
    "    zhao_count = chinese.count('兆')\n",
    "    yi_count = chinese.count('億')\n",
    "    wan_count = chinese.count('萬')\n",
    "    chinese = chinese.replace('兆', '', zhao_count - 1)\n",
    "    chinese = chinese.replace('億', '', yi_count - 1)\n",
    "    chinese = chinese.replace('萬', '', wan_count - 1)\n",
    "    # print(f'replace():         {chinese}')\n",
    "\n",
    "    if is_negative:\n",
    "        chinese = '負' + chinese\n",
    "    # print()\n",
    "    return chinese\n"
   ]
  },
  {
   "cell_type": "code",
   "execution_count": null,
   "metadata": {},
   "outputs": [],
   "source": [
    "import random as rd \n",
    "\n",
    "for _ in range(10):\n",
    "    numeral = rd.randint(-99999999999999999, 99999999999999999)\n",
    "    # numeral = 110636944010\n",
    "    print(f'{numeral:18}  {numeral_to_chinese(numeral=numeral)}')"
   ]
  }
 ],
 "metadata": {
  "kernelspec": {
   "display_name": "Python 3.10.6 64-bit",
   "language": "python",
   "name": "python3"
  },
  "language_info": {
   "codemirror_mode": {
    "name": "ipython",
    "version": 3
   },
   "file_extension": ".py",
   "mimetype": "text/x-python",
   "name": "python",
   "nbconvert_exporter": "python",
   "pygments_lexer": "ipython3",
   "version": "3.10.6"
  },
  "orig_nbformat": 4,
  "vscode": {
   "interpreter": {
    "hash": "916dbcbb3f70747c44a77c7bcd40155683ae19c65e1c03b4aa3499c5328201f1"
   }
  }
 },
 "nbformat": 4,
 "nbformat_minor": 2
}
