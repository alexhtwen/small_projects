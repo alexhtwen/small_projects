{
 "cells": [
  {
   "cell_type": "code",
   "execution_count": 10,
   "metadata": {},
   "outputs": [
    {
     "data": {
      "application/javascript": "// 設定output文字顏色。\ndocument.styleSheets[0].addRule('body', 'color: Moccasin !important;');\n",
      "text/plain": [
       "<IPython.core.display.Javascript object>"
      ]
     },
     "metadata": {},
     "output_type": "display_data"
    }
   ],
   "source": [
    "%%javascript\n",
    "// 設定output文字顏色。\n",
    "document.styleSheets[0].addRule('body', 'color: Moccasin !important;');"
   ]
  },
  {
   "cell_type": "code",
   "execution_count": null,
   "metadata": {},
   "outputs": [],
   "source": [
    "import time\n",
    "from datetime import datetime\n",
    "\n",
    "from IPython.core.interactiveshell import InteractiveShell \n",
    "InteractiveShell.ast_node_interactivity = \"all\"\n",
    "\n",
    "# 取得目前日期時間的兩種方法：\n",
    "f\"now: {time.strftime('%Y-%m-%d %H:%M:%S', time.localtime())}\"  # 用time模組\n",
    "f\"now: {datetime.now().strftime('%Y-%m-%d %H:%M:%S')}\"          # 用datetime模組"
   ]
  },
  {
   "attachments": {},
   "cell_type": "markdown",
   "metadata": {},
   "source": [
    "## 正則表達式-1"
   ]
  },
  {
   "cell_type": "code",
   "execution_count": null,
   "metadata": {},
   "outputs": [],
   "source": [
    "import re\n",
    "\n",
    "patterns = ['', '']\n",
    "order = 'Tx: 30ml ACL rupture va9 mL Spur va30ml Cubitus Varus 47 ml Arthritis VA 36 ml Ankle Fracture va10'\n",
    "\n",
    "for pattern in patterns:\n",
    "    match = re.search(string=order, pattern=p)\n"
   ]
  },
  {
   "attachments": {},
   "cell_type": "markdown",
   "metadata": {},
   "source": [
    "## 變數字串分割"
   ]
  },
  {
   "cell_type": "code",
   "execution_count": null,
   "metadata": {},
   "outputs": [],
   "source": [
    "a = 3\n",
    "b = 6\n",
    "c = 0\n",
    "a\n",
    "b\n",
    "c"
   ]
  },
  {
   "cell_type": "code",
   "execution_count": null,
   "metadata": {},
   "outputs": [],
   "source": [
    "import string\n",
    "\n",
    "def pascal(chars: str) -> list:\n",
    "    return_list = []\n",
    "    for char in chars:\n",
    "        if char in string.ascii_uppercase:\n",
    "            box.append(char)\n",
    "        else:\n",
    "            box[-1] += char\n",
    "    \n",
    "    return box\n",
    "    # return [char if char in string.ascii_uppercase else pass for i, char in enumerate(chars)]\n",
    "    # [        for i in range(sum(1 for c in message if c.isupper()))]\n"
   ]
  },
  {
   "cell_type": "code",
   "execution_count": null,
   "metadata": {},
   "outputs": [],
   "source": [
    "def camel(chars: str) -> list:\n",
    "    box = []\n",
    "    \n",
    "    for char in chars:\n",
    "        \n",
    "        # if char == 0 or char in char.upper():\n",
    "        if char == char.title() or char == char.upper():    \n",
    "            box.append(char)\n",
    "        else:\n",
    "            box[-1] += char\n",
    "    \n",
    "    return box       \n",
    "\n",
    "print(camel('familyName')) \n"
   ]
  },
  {
   "cell_type": "code",
   "execution_count": null,
   "metadata": {},
   "outputs": [],
   "source": [
    "\n",
    "# def camel(chars: str) -> list:\n",
    "#     return [for i, char in enumerate(chars)]\n",
    "\n",
    "\n",
    "# def snake(chars: str) -> list:\n",
    "#     return_list = []\n",
    "#     for i, char in enumerate(chars):\n",
    "#         if i == 0:\n",
    "#             return_list.append(char)   \n",
    "#         elif char == '_':\n",
    "#             return_list.append('')\n",
    "#         else:\n",
    "#             return_list[-1] = return_list[-1] + char\n",
    "    \n",
    "#     return return_list        \n",
    "\n",
    "def snake(chars: str) -> list:\n",
    "    return chars.split('_')\n",
    "\n",
    "\n",
    "print()        \n",
    "print(f\"{pascal('FamilyName') = }\")\n",
    "print(f\"{pascal('UserLoginId') = }\")\n",
    "print(f\"{pascal('RestApiWebApp') = }\")\n",
    "print()\n",
    "print(f\"{camel('familyName') = }\")\n",
    "print(f\"{camel('userLoginId') = }\")\n",
    "print(f\"{camel('restApiWebApp') = }\")\n",
    "print()\n",
    "print(f\"{snake('family_name') = }\")\n",
    "print(f\"{snake('user_login_id') = }\")\n",
    "print(f\"{snake('rest_api_web_app') = }\")"
   ]
  },
  {
   "cell_type": "code",
   "execution_count": null,
   "metadata": {},
   "outputs": [],
   "source": [
    "num_list1 = [y for y in range(100) if y % 2 == 0 and y % 5 == 0]\n",
    "num_list2 = [y for y in range(100) if y % 2 == 0 if y % 5 == 0]\n",
    "print(num_list1)\n",
    "print(num_list2)"
   ]
  },
  {
   "cell_type": "code",
   "execution_count": null,
   "metadata": {},
   "outputs": [],
   "source": [
    "message = 'PythonIsFun'\n",
    "# print(\"Capital Letters: \", sum(1 for c in message if c.isupper()))\n",
    "for i in range(sum(1 for c in message if c.isupper())):\n",
    "    print(i)"
   ]
  },
  {
   "cell_type": "code",
   "execution_count": null,
   "metadata": {},
   "outputs": [],
   "source": [
    "chars = 'BananaOrangePear'\n",
    "\n",
    "\n",
    "[chars[c:] for index, c in enumerate([index for index, c in enumerate(chars) if c.isupper()] ) ]\n",
    "\n",
    "indexes = [ for i, ii in enumerate([index for index, c in enumerate(chars) if c.isupper()])]\n",
    "indexes\n",
    "[chars[index:(indexes[i+1] if i < len(indexes) - 1 else len(chars))] for i, index in enumerate(indexes)]\n",
    "# [chars[idx:idx+3] for idx in indexes]\n",
    "# [chars[index:5] for i, index in enumerate(indexes)]\n",
    "# print(s1.rfind('an', 1, 5))\n",
    "# print(s1.find('an', 1, 5))"
   ]
  },
  {
   "cell_type": "code",
   "execution_count": null,
   "metadata": {},
   "outputs": [],
   "source": [
    "a = [1, 2, 3, 7, 0, 6, 8]\n",
    "# print([lambda: _ for _ in a])\n",
    "b = [lambda: _ for _ in a]\n",
    "c = [_() for _ in b]\n",
    "# print(a)\n",
    "# print(b)\n",
    "print(c)"
   ]
  },
  {
   "cell_type": "code",
   "execution_count": null,
   "metadata": {},
   "outputs": [],
   "source": [
    "# import time\n",
    "\n",
    "def is_happy_number(n: int) -> bool:   # 型別提示(並不是強制)\n",
    "    # return_value = False\n",
    "    chars = str(n)\n",
    "    new_ns = []\n",
    "    while True:\n",
    "        new_n = 0\n",
    "        for char in chars:\n",
    "            new_n += int(char) ** 2\n",
    "        \n",
    "        if new_n == 1:\n",
    "            return_value = True\n",
    "            break\n",
    "        elif new_n in new_ns:\n",
    "            return_value = False\n",
    "            break\n",
    "        else:\n",
    "            new_ns.append(new_n)\n",
    "            chars = str(new_n)\n",
    "            # time.sleep(0.3)\n",
    "            # print(new_n)\n",
    "    \n",
    "    return return_value\n",
    "        \n",
    "is_happy_number(7)\n",
    "is_happy_number(90)\n",
    "is_happy_number(44)\n",
    "is_happy_number(21)\n",
    "is_happy_number(79)\n",
    "is_happy_number(108)\n"
   ]
  },
  {
   "cell_type": "code",
   "execution_count": 8,
   "metadata": {},
   "outputs": [
    {
     "name": "stdout",
     "output_type": "stream",
     "text": [
      "\n",
      "make_appointment('1', '027', '00715', '2022-09-30', '上午') = True\n",
      "make_appointment('6', '013', '01256', '2022-10-19', '下午') = True\n",
      "make_appointment('3', '027', '00715', '2022-09-30', '上午') = True\n",
      "make_appointment('9', '015', '23809', '2022-10-04', '夜間') = True\n",
      "make_appointment('4', '027', '00715', '2022-09-30', '上午') = False\n",
      "make_appointment('6', '013', '01256', '2022-10-19', '下午') = True\n",
      "make_appointment('1', '027', '00715', '2022-09-30', '上午') = False\n",
      "make_appointment('1', '027', '00715', '2022-09-30', '上午') = False\n",
      "make_appointment('9', '015', '23809', '2022-10-04', '夜間') = True\n",
      "make_appointment('6', '013', '01256', '2022-10-19', '下午') = False\n",
      "make_appointment('9', '015', '23809', '2022-10-04', '夜間') = False\n"
     ]
    }
   ],
   "source": [
    "def make_appointment(\n",
    "        patient_id: str, \n",
    "        department_id: str, \n",
    "        doctor_id: str, \n",
    "        date: str, \n",
    "        period: str) -> bool:\n",
    "    global departments, doctors, appointments, MAX_PATIENTS_COUNT\n",
    "    \n",
    "    if departments.get(department_id) is None or doctors.get(doctor_id) is None:\n",
    "        return False\n",
    "    \n",
    "    count = 0\n",
    "    for appointment in appointments:\n",
    "        if appointment['doctor_id'] == doctor_id and \\\n",
    "                appointment['date'] == date and \\\n",
    "                appointment['period'] == period: \n",
    "            count +=1\n",
    "            if count >= MAX_PATIENTS_COUNT:\n",
    "                return False\n",
    "   \n",
    "    appointments.append( \\\n",
    "        {'patient_id': patient_id, \n",
    "         'department_id': department_id, \n",
    "         'doctor_id': doctor_id, \n",
    "         'date': date, \n",
    "         'period': period\n",
    "         })\n",
    "\n",
    "    return True\n",
    "\n",
    "MAX_PATIENTS_COUNT = 2\n",
    "departments = {'027': '骨科', '013': '神經內科', '015': '胸腔內科'}\n",
    "doctors = {'00715': {'name': '翁佩韋', 'department_id': '027', 'count': 2}, \n",
    "           '00721': {'name': '江長蓉', 'department_id': '027', 'count': 2}, \n",
    "           '01256': {'name': '官怡君', 'department_id': '013', 'count': 2}, \n",
    "           '23809': {'name': '張志誠', 'department_id': '015', 'count': 2},\n",
    "} \n",
    "appointments = []\n",
    "# 骨科027、神內是013、翁佩韋醫師是00715、江長蓉醫師是00721\n",
    "\n",
    "print()\n",
    "print(f\"{make_appointment('1', '027', '00715', '2022-09-30', '上午') = }\")\n",
    "print(f\"{make_appointment('6', '013', '01256', '2022-10-19', '下午') = }\")\n",
    "print(f\"{make_appointment('3', '027', '00715', '2022-09-30', '上午') = }\")\n",
    "print(f\"{make_appointment('9', '015', '23809', '2022-10-04', '夜間') = }\")\n",
    "print(f\"{make_appointment('4', '027', '00715', '2022-09-30', '上午') = }\")\n",
    "print(f\"{make_appointment('6', '013', '01256', '2022-10-19', '下午') = }\")\n",
    "print(f\"{make_appointment('1', '027', '00715', '2022-09-30', '上午') = }\")\n",
    "print(f\"{make_appointment('1', '027', '00715', '2022-09-30', '上午') = }\")\n",
    "print(f\"{make_appointment('9', '015', '23809', '2022-10-04', '夜間') = }\")\n",
    "print(f\"{make_appointment('6', '013', '01256', '2022-10-19', '下午') = }\")\n",
    "print(f\"{make_appointment('9', '015', '23809', '2022-10-04', '夜間') = }\")"
   ]
  },
  {
   "cell_type": "code",
   "execution_count": null,
   "metadata": {},
   "outputs": [],
   "source": []
  },
  {
   "cell_type": "code",
   "execution_count": 2,
   "metadata": {},
   "outputs": [
    {
     "ename": "AttributeError",
     "evalue": "'dict' object has no attribute 'name'",
     "output_type": "error",
     "traceback": [
      "\u001b[0;31m---------------------------------------------------------------------------\u001b[0m",
      "\u001b[0;31mAttributeError\u001b[0m                            Traceback (most recent call last)",
      "Cell \u001b[0;32mIn[2], line 2\u001b[0m\n\u001b[1;32m      1\u001b[0m d \u001b[39m=\u001b[39m {\u001b[39m'\u001b[39m\u001b[39mname\u001b[39m\u001b[39m'\u001b[39m: \u001b[39m'\u001b[39m\u001b[39malex\u001b[39m\u001b[39m'\u001b[39m}\n\u001b[0;32m----> 2\u001b[0m d\u001b[39m.\u001b[39;49mname\n",
      "\u001b[0;31mAttributeError\u001b[0m: 'dict' object has no attribute 'name'"
     ]
    }
   ],
   "source": [
    "d = {'name': 'alex'}\n",
    "d.name"
   ]
  },
  {
   "cell_type": "code",
   "execution_count": null,
   "metadata": {},
   "outputs": [],
   "source": [
    "print(round(1454.9999, -1))\n",
    "print(round(1350.0000, -2))\n",
    "print(round(1458.9999, -3))\n",
    "print(round(1458.236, -4))\n",
    "print(round(1458.236, -5))\n"
   ]
  },
  {
   "cell_type": "code",
   "execution_count": null,
   "metadata": {},
   "outputs": [],
   "source": [
    "# Linux version(低音版)\n",
    "def play_song(notations):\n",
    "    import os\n",
    "\n",
    "    frequencies = {\n",
    "        'C3' : 130.81,    # 1\n",
    "        'C#3': 138.59,    # 1#\n",
    "        'D3' : 146.83,    # 2\n",
    "        'D#3': 155.56,    # 2#\n",
    "        'E3' : 164.81,    # 3\n",
    "        'F3' : 174.61,    # 4\n",
    "        'F#3': 185.00,    # 4#\n",
    "        'G3' : 196.00,    # 5\n",
    "        'G#3': 207.65,    # 5#\n",
    "        'A3' : 220.00,    # 6\n",
    "        'A#3': 233.08,    # 6#\n",
    "        'B3' : 246.94,    # 7\n",
    "        'C4' : 261.63,    # 1\n",
    "        'C#4': 277.18,    # 1#\n",
    "        'D4' : 293.66,    # 2\n",
    "        'D#4': 311.13,    # 2#  \n",
    "        'E4' : 329.63,    # 3\n",
    "        'F4' : 349.23,    # 4\n",
    "        'F#4': 369.99,    # 4#    \n",
    "        'G4' : 391.99,    # 5\n",
    "        'G#4': 415.30,    # 5#\n",
    "        'A4' : 440.00,    # 6\n",
    "        'A#4': 466.16,    # 6#\n",
    "        'B4' : 493.88,    # 7\n",
    "    }\n",
    "\n",
    "    # durations = {'H': 300, 'M': 600, 'D': 1200, 'T': 1800, 'Q': 2400}\n",
    "    durations = {'H': 250, 'M': 500, 'D': 1000, 'T': 1500, 'Q': 2000}\n",
    "\n",
    "    for notation in notations:\n",
    "        note = notation.split()\n",
    "        frequency = frequencies.get(note[0])\n",
    "        duration = durations.get(note[1])\n",
    "        os.system(f'beep -f {frequency} -l {duration}')\n",
    "        \n",
    "\n",
    "notations = ('G3 H', 'G3 H', 'A3 M', 'G3 M', 'C4 M', 'B3 D', 'G3 H', 'G3 H', \n",
    "             'A3 M', 'G3 M', 'D4 M', 'C4 D', 'G3 H', 'G3 H', 'G4 M', 'E4 M', \n",
    "             'C4 M', 'B3 M', 'A3 M', 'F4 H', 'F4 H', 'E4 M', 'C4 M', 'D4 M', 'C4 T')\n",
    "play_song(notations)"
   ]
  },
  {
   "cell_type": "code",
   "execution_count": null,
   "metadata": {},
   "outputs": [],
   "source": [
    "# Linux version(高音版)\n",
    "def play_song(notations):\n",
    "    import os\n",
    "\n",
    "    frequencies = {\n",
    "        'C3' : 130.81,    # 1\n",
    "        'C#3': 138.59,    # 1#\n",
    "        'D3' : 146.83,    # 2\n",
    "        'D#3': 155.56,    # 2#\n",
    "        'E3' : 164.81,    # 3\n",
    "        'F3' : 174.61,    # 4\n",
    "        'F#3': 185.00,    # 4#\n",
    "        'G3' : 196.00,    # 5\n",
    "        'G#3': 207.65,    # 5#\n",
    "        'A3' : 220.00,    # 6\n",
    "        'A#3': 233.08,    # 6#\n",
    "        'B3' : 246.94,    # 7\n",
    "        'C4' : 261.63,    # 1\n",
    "        'C#4': 277.18,    # 1#\n",
    "        'D4' : 293.66,    # 2\n",
    "        'D#4': 311.13,    # 2#  \n",
    "        'E4' : 329.63,    # 3\n",
    "        'F4' : 349.23,    # 4\n",
    "        'F#4': 369.99,    # 4#    \n",
    "        'G4' : 391.99,    # 5\n",
    "        'G#4': 415.30,    # 5#\n",
    "        'A4' : 440.00,    # 6\n",
    "        'A#4': 466.16,    # 6#\n",
    "        'B4' : 493.88,    # 7\n",
    "        'C5' : 523.25,    # 1\n",
    "        'C#5': 554.37,    # 1#\n",
    "        'D5' : 587.33,    # 2\n",
    "        'D#5': 622.25,    # 2#  \n",
    "        'E5' : 659.26,    # 3\n",
    "        'F5' : 698.46,    # 4\n",
    "        'F#5': 739.99,    # 4#    \n",
    "        'G5' : 783.99,    # 5\n",
    "        'G#5': 830.61,    # 5#\n",
    "        'A5' : 880.00,    # 6\n",
    "        'A#5': 932.33,    # 6#\n",
    "        'B5' : 987.77,    # 7\n",
    "    }\n",
    "\n",
    "    # durations = {'H': 300, 'M': 600, 'D': 1200, 'T': 1800, 'Q': 2400}\n",
    "    durations = {'H': 250, 'M': 500, 'D': 1000, 'T': 1500, 'Q': 2000}\n",
    "\n",
    "    for notation in notations:\n",
    "        note = notation.split()\n",
    "        frequency = frequencies.get(note[0])\n",
    "        duration = durations.get(note[1])\n",
    "        os.system(f'beep -f {frequency} -l {duration}')\n",
    "        \n",
    "        \n",
    "\n",
    "notations = ('G4 H', 'G4 H', 'A4 M', 'G4 M', 'C5 M', 'B4 D', 'G4 H', 'G4 H', \n",
    "             'A4 M', 'G4 M', 'D5 M', 'C5 D', 'G4 H', 'G4 H', 'G5 M', 'E5 M', \n",
    "             'C5 M', 'B4 M', 'A4 M', 'F5 H', 'F5 H', 'E5 M', 'C5 M', 'D5 M', 'C5 T')\n",
    "play_song(notations)"
   ]
  },
  {
   "cell_type": "code",
   "execution_count": null,
   "metadata": {},
   "outputs": [],
   "source": [
    "import sys\n",
    "from IPython.core.interactiveshell import InteractiveShell\n",
    "\n",
    "InteractiveShell.ast_node_interactivity = \"all\"\n",
    "print(\"InteractiveShell set.\")\n",
    "print(sys.version)"
   ]
  },
  {
   "cell_type": "code",
   "execution_count": null,
   "metadata": {},
   "outputs": [],
   "source": [
    "# Windows version\n",
    "def play_song(notations):\n",
    "    import winsound\n",
    "\n",
    "    frequencies = {\n",
    "        'C3' : 130.81,    # 1\n",
    "        'C#3': 138.59,    # 1#\n",
    "        'D3' : 146.83,    # 2\n",
    "        'D#3': 155.56,    # 2#\n",
    "        'E3' : 164.81,    # 3\n",
    "        'F3' : 174.61,    # 4\n",
    "        'F#3': 185.00,    # 4#\n",
    "        'G3' : 196.00,    # 5\n",
    "        'G#3': 207.65,    # 5#\n",
    "        'A3' : 220.00,    # 6\n",
    "        'A#3': 233.08,    # 6#\n",
    "        'B3' : 246.94,    # 7\n",
    "        'C4' : 261.63,    # 1\n",
    "        'C#4': 277.18,    # 1#\n",
    "        'D4' : 293.66,    # 2\n",
    "        'D#4': 311.13,    # 2#  \n",
    "        'E4' : 329.63,    # 3\n",
    "        'F4' : 349.23,    # 4\n",
    "        'F#4': 369.99,    # 4#    \n",
    "        'G4' : 391.99,    # 5\n",
    "        'G#4': 415.30,    # 5#\n",
    "        'A4' : 440.00,    # 6\n",
    "        'A#4': 466.16,    # 6#\n",
    "        'B4' : 493.88,    # 7\n",
    "        'C5' : 523.25,    # 1\n",
    "        'C#5': 554.37,    # 1#\n",
    "        'D5' : 587.33,    # 2\n",
    "        'D#5': 622.25,    # 2#  \n",
    "        'E5' : 659.26,    # 3\n",
    "        'F5' : 698.46,    # 4\n",
    "        'F#5': 739.99,    # 4#    \n",
    "        'G5' : 783.99,    # 5\n",
    "        'G#5': 830.61,    # 5#\n",
    "        'A5' : 880.00,    # 6\n",
    "        'A#5': 932.33,    # 6#\n",
    "        'B5' : 987.77,    # 7\n",
    "    }\n",
    "\n",
    "    # durations = {'H': 300, 'M': 600, 'D': 1200, 'T': 1800, 'Q': 2400}\n",
    "    durations = {'H': 250, 'M': 500, 'D': 1000, 'T': 1500, 'Q': 2000}\n",
    "\n",
    "    for notation in notations:\n",
    "        note = notation.split()\n",
    "        frequency = round(frequencies.get(note[0]))\n",
    "        duration = durations.get(note[1])\n",
    "        winsound.Beep(frequency, duration)\n",
    "        \n",
    "\n",
    "notations = ('G4 H', 'G4 H', 'A4 M', 'G4 M', 'C5 M', 'B4 D', 'G4 H', 'G4 H', \n",
    "             'A4 M', 'G4 M', 'D5 M', 'C5 D', 'G4 H', 'G4 H', 'G5 M', 'E5 M', \n",
    "             'C5 M', 'B4 M', 'A4 M', 'F5 H', 'F5 H', 'E5 M', 'C5 M', 'D5 M', 'C5 T')\n",
    "play_song(notations)"
   ]
  },
  {
   "cell_type": "code",
   "execution_count": null,
   "metadata": {},
   "outputs": [],
   "source": [
    "def acrostic(idioms: tuple) -> str:\n",
    "    '''藏頭詩'''\n",
    "    return ''.join([idiom[(index % len(idiom))] + ('，' if index == len(idiom) - 1 else '。' if index == len(idiom)*2 - 1 else '') for index, idiom in enumerate((idioms))])\n",
    "\n",
    "\n",
    "idioms = ('中流砥柱', '千秋萬世', '漸入佳境', '高風亮節', \n",
    "          '月下花前', '聰明伶俐', '地靈人傑', '破鏡重圓')\n",
    "print()\n",
    "print(acrostic(idioms))\n",
    "idioms = ('聖帝明王', '孺子可教', '紆尊降貴', '談笑風生', \n",
    "          '拯溺扶危', '匡救彌縫', '名門世族', '百年樹人')\n",
    "print(acrostic(idioms))"
   ]
  },
  {
   "cell_type": "code",
   "execution_count": null,
   "metadata": {},
   "outputs": [],
   "source": [
    "def acrostic(idioms: tuple) -> str:\n",
    "    '''藏頭詩'''\n",
    "    # return ''.join([a[(index % len(a))] + ('，' if index == len(a) - 1 else '。' if index == len(a)*2 - 1 else '') for index, a in enumerate((idioms))])\n",
    "    return ''.join([idiom[(index % len(idiom))] + ('，' if index == len(idiom) - 1 else '。' if index == len(idiom)*2 - 1 else '') for index, idiom in enumerate((idioms))])\n",
    "\n",
    "\n",
    "idioms = ('聖帝明王', '孺子可教', '紆尊降貴', '談笑風生', \n",
    "          '拯溺扶危', '匡救彌縫', '名門世族', '百年樹人')\n",
    "print()\n",
    "print(acrostic(idioms))\n",
    "\n",
    "'聖子降生，拯救世人。'"
   ]
  },
  {
   "cell_type": "code",
   "execution_count": null,
   "metadata": {},
   "outputs": [],
   "source": [
    "from math import ceil\n",
    "\n",
    "def get_pages(total_words: int, words_per_line: int, lines_per_page) -> int:\n",
    "    return ceil(total_words / words_per_line / lines_per_page)\n",
    "\n",
    "print()\n",
    "print(f'{get_pages(110_537, 28, 26) = }')\n",
    "print(f'{get_pages(236_090, 39, 18) = }')\n",
    "print(f'{get_pages(788_451, 44, 16) = }')   # 紅樓夢字數\n",
    "print(f'{get_pages(481_584, 46, 19) = }')\n",
    "print()"
   ]
  },
  {
   "cell_type": "code",
   "execution_count": null,
   "metadata": {},
   "outputs": [],
   "source": [
    "def is_prime(number: int) -> bool:\n",
    "    prime = True\n",
    "    if number <= 1:\n",
    "        prime = False\n",
    "    else:\n",
    "        for i in range(2, int(number ** .5 + 1)):\n",
    "            if number % i == 0:\n",
    "                prime = False\n",
    "                break\n",
    "    return prime\n",
    "\n",
    "print()\n",
    "print(f'{is_prime(-3) = }')\n",
    "print(f'{is_prime(0) = }')\n",
    "print(f'{is_prime(1) = }')\n",
    "print(f'{is_prime(2) = }')\n",
    "print(f'{is_prime(3) = }')\n",
    "print(f'{is_prime(4) = }')\n",
    "print(f'{is_prime(73) = }')\n",
    "print(f'{is_prime(12347) = }')\n",
    "print(f'{is_prime(674139) = }')\n",
    "print()"
   ]
  },
  {
   "cell_type": "code",
   "execution_count": null,
   "metadata": {},
   "outputs": [],
   "source": [
    "def numeral_to_chinese(numeral: int) -> str:\n",
    "    import re\n",
    "    digits = {'0': '零', '1': '一', '2': '二', '3': '三', '4': '四', '5': '五', '6': '六', '7': '七', '8': '八', '9': '九'}\n",
    "    units = {1: '', 2: '十', 3: '百', 4: '千', 5: '萬', 6: '十萬', 7: '百萬', 8: '千萬', 9: '億', 10: '十億', 11: '百億', 12: '千億', 13: '兆', 14: '十兆', 15: '百兆', 16: '千兆', 17: '京'}\n",
    "\n",
    "    chars = str(numeral)\n",
    "    chinese = ''\n",
    "    if chars[0] == '-':\n",
    "        chars = chars[1:]\n",
    "        is_negative = True\n",
    "    else:\n",
    "        is_negative = False\n",
    "    length = len(chars)\n",
    "\n",
    "    for i, char in enumerate(chars):\n",
    "        chinese += digits[char]\n",
    "        chinese += units[length - i]\n",
    "    # print(f'original:          {chinese}')\n",
    "\n",
    "    chinese = chinese.replace('京零京', '京').replace('兆零兆', '兆').replace('億零億', '億').replace('萬零萬', '萬')\n",
    "    chinese = chinese.replace('十零', '十')\n",
    "  \n",
    "    for zero in ['零十', '零百', '零千', '零萬', '零億', '零兆', '零京']:\n",
    "        chinese = chinese.replace(zero, '零')\n",
    " \n",
    "    pattern = '零+'\n",
    "    replacement = '零'\n",
    "    chinese = re.sub(pattern=pattern, repl=replacement, string=chinese)\n",
    "    # print(f'零+⮕零:           {chinese}')\n",
    "\n",
    "    pattern = '(.+?)零+$'  # ^(?!my)\n",
    "    replacement = r'\\g<1>'\n",
    "    chinese = re.sub(pattern=pattern, repl=replacement, string=chinese)\n",
    "    # print(fr'(.+?)零+$⮕\\g<1>:  {chinese}')\n",
    "\n",
    "    pattern = '^一十'\n",
    "    replacement = '十'\n",
    "    chinese = re.sub(pattern=pattern, repl=replacement, string=chinese)\n",
    "    # print(f'^一十⮕十:         {chinese}')\n",
    "\n",
    "    zhao_count = chinese.count('兆')\n",
    "    yi_count = chinese.count('億')\n",
    "    wan_count = chinese.count('萬')\n",
    "    chinese = chinese.replace('兆', '', zhao_count - 1)\n",
    "    chinese = chinese.replace('億', '', yi_count - 1)\n",
    "    chinese = chinese.replace('萬', '', wan_count - 1)\n",
    "    # print(f'replace():         {chinese}')\n",
    "\n",
    "    if is_negative:\n",
    "        chinese = '負' + chinese\n",
    "    # print()\n",
    "    return chinese\n",
    "\n",
    "import random as rd \n",
    "\n",
    "for _ in range(10):\n",
    "    numeral = rd.randint(-99999999999999999, 99999999999999999)\n",
    "    # numeral = 110636944010\n",
    "    print(f'{numeral:18}  {numeral_to_chinese(numeral=numeral)}')"
   ]
  },
  {
   "cell_type": "code",
   "execution_count": null,
   "metadata": {},
   "outputs": [],
   "source": [
    "def is_composite(num: int) -> bool:\n",
    "    is_composite = False\n",
    "    for i in range(2, (num // 2 + 1)): \n",
    "        if num % i == 0:\n",
    "            is_composite = True\n",
    "            break\n",
    "    return is_composite\n",
    "\n",
    "print()\n",
    "print(f'{is_composite(-3) = }')\n",
    "print(f'{is_composite(0) = }')\n",
    "print(f'{is_composite(1) = }')\n",
    "print(f'{is_composite(2) = }')\n",
    "print(f'{is_composite(3) = }')\n",
    "print(f'{is_composite(4) = }')\n",
    "print(f'{is_composite(73) = }')\n",
    "print(f'{is_composite(12347) = }')\n",
    "print(f'{is_composite(674139) = }')\n",
    "print()"
   ]
  },
  {
   "cell_type": "code",
   "execution_count": null,
   "metadata": {},
   "outputs": [],
   "source": [
    "def remove_spaces(raw_str: str) -> str:\n",
    "    return 'α' + raw_str.replace(' ', '') + 'ω'\n",
    "\n",
    "print()\n",
    "raw_str = '   Hasta  la   vista,  baby.    --Terminator 2   '\n",
    "print(f'{raw_str = }')\n",
    "print(f\"{remove_spaces(raw_str) = }\")\n",
    "\n",
    "print()\n",
    "raw_str = ' Never lose a holy curiosity. --Albert Einstein'\n",
    "print(f'{raw_str = }')\n",
    "print(f\"{remove_spaces(raw_str) = }\")\n",
    "\n",
    "print()\n",
    "raw_str = ' 天  地  不  仁， 以  萬  物  為  芻  狗。  --Lao Zi '\n",
    "print(f'{raw_str = }')\n",
    "print(f\"{remove_spaces(raw_str) = }\")\n",
    "print()"
   ]
  },
  {
   "cell_type": "code",
   "execution_count": null,
   "metadata": {},
   "outputs": [],
   "source": [
    "def toggle_case(raw_str: str) -> str:\n",
    "    return 'α' + raw_str.swapcase() + 'ω'\n",
    "\n",
    "print()\n",
    "raw_str = 'Life is short.  We use Python.'\n",
    "print(f'{raw_str = }')\n",
    "print(f\"{toggle_case(raw_str) = }\")\n",
    "\n",
    "print()\n",
    "raw_str = 'Talk is cheap.  Show me the CODE.'\n",
    "print(f'{raw_str = }')\n",
    "print(f\"{toggle_case(raw_str) = }\")\n",
    "\n",
    "print()\n",
    "raw_str = '我們正在學CPR & First Aid。'\n",
    "print(f'{raw_str = }')\n",
    "print(f\"{toggle_case(raw_str) = }\")\n",
    "print()"
   ]
  },
  {
   "cell_type": "code",
   "execution_count": null,
   "metadata": {},
   "outputs": [],
   "source": [
    "def insert_seps(raw_str: str, sep: str) -> str:\n",
    "    # return 'α' + chars.join(raw_str.split('')) + 'ω'\n",
    "    return  'α' + sep.join([char for char in raw_str]) + 'ω'\n",
    "\n",
    "print()\n",
    "raw_str = 'Hello, World!'\n",
    "print(f'{raw_str = }')\n",
    "print(f\"{insert_seps(raw_str, '..') = }\") \n",
    "\n",
    "print()\n",
    "raw_str = 'Readability counts.'\n",
    "print(f'{raw_str = }')\n",
    "print(f\"{insert_seps(raw_str, '_') = }\") \n",
    "\n",
    "print()\n",
    "raw_str = '欲窮千里目，更上一層樓。'\n",
    "print(f'{raw_str = }')\n",
    "print(f\"{insert_seps(raw_str, ' ') = }\") \n",
    "print()\n"
   ]
  },
  {
   "cell_type": "code",
   "execution_count": 3,
   "metadata": {},
   "outputs": [
    {
     "name": "stdout",
     "output_type": "stream",
     "text": [
      "\n",
      "numbers = [5, 6, 3, 2, 8, 3, 8, 3, 3, 6, 0]\n",
      "split_list(numbers) = ([5, 2, 8, 3, 6, 0], [6, 3, 8])\n",
      "\n",
      "numbers = [9, 0, 4, 0, 7, 9, 1, 9, 6]\n",
      "split_list(numbers) = ([4, 0, 7, 1, 9, 6], [9, 0])\n",
      "\n",
      "numbers = [0, 1, 2, 3, 4, 4, 2, 3, 0]\n",
      "split_list(numbers) = ([1, 4, 2, 3, 0], [0, 2, 3, 4])\n",
      "\n",
      "numbers = [8, 2, 2, 7, 2, 2, 3, 2, 4, 9, 1]\n",
      "split_list(numbers) = ([8, 7, 3, 2, 4, 9, 1], [2])\n",
      "\n",
      "numbers = [5, 5, 5, 5, 5]\n",
      "split_list(numbers) = ([5], [5])\n",
      "\n",
      "numbers = [11, 29, 86, 33, 6]\n",
      "split_list(numbers) = ([11, 29, 86, 33, 6], [])\n"
     ]
    }
   ],
   "source": [
    "def split_list(numbers: list) -> tuple:\n",
    "    red_box = []    # 紅bin放有沒有重覆的數字\n",
    "    blue_box = []   # 藍bin放有重覆的唯一數字(重複只放一個)\n",
    "    for index, number in enumerate(numbers):\n",
    "        if number in numbers[index + 1:]:\n",
    "            if number not in blue_box:\n",
    "                blue_box.append(number)\n",
    "        else:\n",
    "            if number not in blue_box:\n",
    "                red_box.append(number)\n",
    "    \n",
    "    return red_box, blue_box\n",
    "            \n",
    "print()\n",
    "numbers = [5, 6, 3, 2, 8, 3, 8, 3, 3, 6, 0]\n",
    "print(f'{numbers = }')\n",
    "print(f'{split_list(numbers) = }')\n",
    "\n",
    "print()\n",
    "numbers = [9, 0, 4, 0, 7, 9, 1, 9, 6]\n",
    "print(f'{numbers = }')\n",
    "print(f'{split_list(numbers) = }')\n",
    "\n",
    "print()\n",
    "numbers = [0, 1, 2, 3, 4, 4, 2, 3, 0]\n",
    "print(f'{numbers = }')\n",
    "print(f'{split_list(numbers) = }')\n",
    "\n",
    "print()\n",
    "numbers = [8, 2, 2, 7, 2, 2, 3, 2, 4, 9, 1]\n",
    "print(f'{numbers = }')\n",
    "print(f'{split_list(numbers) = }')\n",
    "\n",
    "print()\n",
    "numbers = [5, 5, 5, 5, 5]\n",
    "print(f'{numbers = }')\n",
    "print(f'{split_list(numbers) = }')\n",
    "\n",
    "print()\n",
    "numbers = [11, 29, 86, 33, 6]\n",
    "print(f'{numbers = }')\n",
    "print(f'{split_list(numbers) = }')\n"
   ]
  },
  {
   "cell_type": "code",
   "execution_count": null,
   "metadata": {},
   "outputs": [],
   "source": [
    "def symmetrize(raw_str: str, central: str) -> str:\n",
    "    return raw_str + central + raw_str[::-1]\n",
    "\n",
    "\n",
    "print()\n",
    "raw_str = '芳梅喜淡雅，永日伴清茶'\n",
    "print(f'{raw_str = }') \n",
    "print(f\"{symmetrize(raw_str, '💖💖') = }\")\n",
    "\n",
    "print()\n",
    "raw_str = '遙望四邊雲接水，碧峰千點數鷗輕'\n",
    "print(f'{raw_str = }') \n",
    "print(f\"{symmetrize(raw_str, '💎') = }\")\n",
    "\n",
    "print()\n",
    "raw_str = ' +-.desserts.-+ '\n",
    "print(f'{raw_str = }') \n",
    "print(f\"{symmetrize(raw_str, '🎀🎖🎀') = }\")"
   ]
  },
  {
   "cell_type": "code",
   "execution_count": null,
   "metadata": {},
   "outputs": [],
   "source": [
    "def create_list(start: int, end: int, step: int) -> list:\n",
    "    return [item for item in range(start, end, step)][::-1]\n",
    "print()\n",
    "print(f'{create_list(3, 17, 3) = }')\n",
    "print(f'{create_list(56, 90, 5) = }')\n",
    "print(f'{create_list(-20, 9, 4) = }')\n",
    "print(f'{create_list(0, 500, 99) = }')"
   ]
  },
  {
   "cell_type": "code",
   "execution_count": null,
   "metadata": {},
   "outputs": [],
   "source": [
    "def get_unique_sum(lst: list) -> int:\n",
    "    return sum(set(lst))\n",
    "\n",
    "print(f'{get_unique_sum([4, 7, 3, 4, 9, 3, 3, 0, -7]) = }')\n",
    "print(f'{get_unique_sum([11, 6, -25, 6, 1, 6, 5, 3, 1, 8]) = }')\n",
    "print(f'{get_unique_sum([36, 37, 38, 11, 12, 37, -11, 11]) = }')\n",
    "print(f'{get_unique_sum([1, -2, 3, 4, 1, 3, 4, -2, 7, 1]) = }')\n"
   ]
  },
  {
   "cell_type": "code",
   "execution_count": null,
   "metadata": {},
   "outputs": [],
   "source": [
    "def acrostic(idioms: tuple) -> str:\n",
    "    string = ''\n",
    "    length = len(idioms[0])\n",
    "    for index, idiom in enumerate(idioms):\n",
    "        string += idiom[index % length]\n",
    "        if index == len(idioms) - 1:\n",
    "            string += '。'\n",
    "        elif index % length == length - 1:\n",
    "            string += '，'\n",
    "    return string\n",
    "\n",
    "idioms = ('聖帝明王', '孺子可教', '紆尊降貴', '談笑風生', \n",
    "          '拯溺扶危', '匡救彌縫', '名門世族', '百年樹人')\n",
    "print()\n",
    "print(acrostic(idioms))"
   ]
  },
  {
   "cell_type": "code",
   "execution_count": 12,
   "metadata": {},
   "outputs": [
    {
     "ename": "SyntaxError",
     "evalue": "cannot use assignment expressions with subscript (355667444.py, line 6)",
     "output_type": "error",
     "traceback": [
      "\u001b[0;36m  Cell \u001b[0;32mIn[12], line 6\u001b[0;36m\u001b[0m\n\u001b[0;31m    return (new_dict[key] := value) if (new_dict.get(key) is not None or add) else False\u001b[0m\n\u001b[0m            ^\u001b[0m\n\u001b[0;31mSyntaxError\u001b[0m\u001b[0;31m:\u001b[0m cannot use assignment expressions with subscript\n"
     ]
    }
   ],
   "source": [
    "def add_key(old_dict: dict, key: object, value: object = None, add: bool = True) -> dict:\n",
    "    from copy import deepcopy\n",
    "    new_dict = deepcopy(old_dict)\n",
    "    if new_dict.get(key) is not None or add:\n",
    "        new_dict[key] = value\n",
    "    # return new_dict\n",
    "    \n",
    "\n",
    "print('add_key() defined.')"
   ]
  },
  {
   "cell_type": "code",
   "execution_count": null,
   "metadata": {},
   "outputs": [],
   "source": [
    "old_dict = {'id': 1, 'name': 'Alex'}\n",
    "print()\n",
    "new_dict = add_key(old_dict, 'name', 'Thomas', True)\n",
    "print(f\"{old_dict = }\")\n",
    "print(\"new_dict = add_key(old_dict, 'name', 'Thomas', True)\")\n",
    "print(f\"結果new_dict的內容為：{new_dict}\")\n",
    "\n",
    "print()\n",
    "new_dict = add_key(old_dict, 'name', 'Thomas', False)\n",
    "print(f\"{old_dict = }\")\n",
    "print(\"new_dict = add_key(old_dict, 'name', 'Thomas', False)\")\n",
    "print(f\"結果new_dict的內容為：{new_dict}\")\n",
    "\n",
    "print()\n",
    "new_dict = add_key(old_dict, 'name', 'Thomas')\n",
    "print(f\"{old_dict = }\")\n",
    "print(\"new_dict = add_key(old_dict, 'name', 'Thomas')\")\n",
    "print(f\"結果new_dict的內容為：{new_dict}\")\n",
    "\n",
    "print()\n",
    "new_dict = add_key(old_dict, 'name')\n",
    "print(f\"{old_dict = }\")\n",
    "print(\"new_dict = add_key(old_dict, 'name')\")\n",
    "print(f\"結果new_dict的內容為：{new_dict}\")\n",
    "\n",
    "print('--------------------------------')\n",
    "\n",
    "print()\n",
    "new_dict = add_key(old_dict, 'bmi', 22.8, True)\n",
    "print(f\"{old_dict = }\")\n",
    "print(\"new_dict = add_key(old_dict, 'bmi', 22.8, True)\")\n",
    "print(f\"結果new_dict的內容為：{new_dict}\")\n",
    "\n",
    "print()\n",
    "new_dict = add_key(old_dict, 'bmi', 22.8, False)\n",
    "print(f\"{old_dict = }\")\n",
    "print(\"new_dict = add_key(old_dict, 'bmi', 22.8, False)\")\n",
    "print(f\"結果new_dict的內容為：{new_dict}\")\n",
    "\n",
    "print()\n",
    "new_dict = add_key(old_dict, 'bmi', 22.8)\n",
    "print(f\"{old_dict = }\")\n",
    "print(\"new_dict = add_key(old_dict, 'bmi', 22.8)\")\n",
    "print(f\"結果new_dict的內容為：{new_dict}\")\n",
    "\n",
    "print()\n",
    "new_dict = add_key(old_dict, 'bmi')\n",
    "print(f\"{old_dict = }\")\n",
    "print(\"new_dict = add_key(old_dict, 'bmi')\")\n",
    "print(f\"結果new_dict的內容為：{new_dict}\")\n",
    "\n",
    "print()"
   ]
  },
  {
   "cell_type": "code",
   "execution_count": null,
   "metadata": {},
   "outputs": [],
   "source": [
    "def intersperse(str1: str, str2: str) -> str:\n",
    "    return ''.join([char1 + str2[index] for index, char1 in enumerate(str1)])\n",
    "\n",
    "print()\n",
    "str1 = 'ABCDE'\n",
    "str2 = 'abcde'\n",
    "print(f'{str1 = }     {str2 = }')\n",
    "print(f'{intersperse(str1, str2) = }')\n",
    "\n",
    "print()\n",
    "str1 = '人生在世不稱意'\n",
    "str2 = '明朝散髮弄扁舟'\n",
    "print(f'{str1 = }     {str2 = }')\n",
    "print(f'{intersperse(str1, str2) = }')\n",
    "\n",
    "print()\n",
    "str1 = '7654321'\n",
    "str2 = '+-*/%.,'\n",
    "print(f'{str1 = }   {str2 = }')\n",
    "print(f'{intersperse(str1, str2) = }')"
   ]
  },
  {
   "cell_type": "code",
   "execution_count": 5,
   "metadata": {},
   "outputs": [
    {
     "ename": "ValueError",
     "evalue": "too many values to unpack (expected 2)",
     "output_type": "error",
     "traceback": [
      "\u001b[0;31m---------------------------------------------------------------------------\u001b[0m",
      "\u001b[0;31mValueError\u001b[0m                                Traceback (most recent call last)",
      "Cell \u001b[0;32mIn[5], line 4\u001b[0m\n\u001b[1;32m      2\u001b[0m str2 \u001b[39m=\u001b[39m \u001b[39m'\u001b[39m\u001b[39masdfg\u001b[39m\u001b[39m'\u001b[39m\n\u001b[1;32m      3\u001b[0m s_new \u001b[39m=\u001b[39m \u001b[39m'\u001b[39m\u001b[39m'\u001b[39m\n\u001b[0;32m----> 4\u001b[0m \u001b[39mfor\u001b[39;00m s1, s2 \u001b[39min\u001b[39;00m str1, str2:\n\u001b[1;32m      5\u001b[0m     s_new \u001b[39m+\u001b[39m\u001b[39m=\u001b[39m s1 \u001b[39m+\u001b[39m s2\n\u001b[1;32m      7\u001b[0m \u001b[39mprint\u001b[39m(s_new)    \n",
      "\u001b[0;31mValueError\u001b[0m: too many values to unpack (expected 2)"
     ]
    }
   ],
   "source": [
    "str1 = '12345'\n",
    "str2 = 'asdfg'\n",
    "s_new = ''\n",
    "for s1 in str1, str2:\n",
    "    s_new += s1 + s2\n",
    "    \n",
    "print(s_new)    "
   ]
  },
  {
   "cell_type": "code",
   "execution_count": null,
   "metadata": {},
   "outputs": [],
   "source": [
    "raw_str = 'abcde'\n",
    "reverse_str = raw_str[::-1]   # raw_str[::-1]就是raw_str的逆字串。\n",
    "print(f'{raw_str = }')\n",
    "print(f'{reverse_str = }')"
   ]
  },
  {
   "cell_type": "code",
   "execution_count": null,
   "metadata": {},
   "outputs": [],
   "source": [
    "import string\n",
    "\n",
    "def generate_pwd(char_pool: str, length: int, amount: int) -> list:\n",
    "    import random as rd\n",
    "    passwords = []    \n",
    "    for _ in range(amount):\n",
    "        passwords.append('')\n",
    "        passwords[-1] += ''.join(rd.choices(char_pool, k=length))\n",
    "    return passwords\n",
    "        \n",
    "print()\n",
    "pool = string.ascii_letters + string.digits \n",
    "print(f'{pool = }')\n",
    "print(f'{generate_pwd(pool, 6, 5) = }')\n",
    "\n",
    "print()\n",
    "pool = string.ascii_uppercase + string.hexdigits\n",
    "print(f'{pool = }')\n",
    "print(f'{generate_pwd(pool, 12, 2) = }')    \n",
    "\n",
    "print()\n",
    "pool = string.ascii_lowercase + string.punctuation\n",
    "print(f'{pool = }')\n",
    "print(f'{generate_pwd(pool, 8, 3) = }')"
   ]
  },
  {
   "cell_type": "code",
   "execution_count": null,
   "metadata": {},
   "outputs": [],
   "source": []
  },
  {
   "cell_type": "code",
   "execution_count": null,
   "metadata": {},
   "outputs": [],
   "source": [
    "def my_func(num: int):   # num是形參\n",
    "    global i\n",
    "    i += 10\n",
    "    num += 1    # num是「參數」，也就是local變數。在函數裡改變local變數的值，不會影響外面。\n",
    "    print(f'within my_func(): {num=}') \n",
    "    return num\n",
    "    \n",
    "s = 'hello, world'  # s的值是'hello, world'\n",
    "i = 123             # i的值是123\n",
    "lst = []            # lst的值是一個空的list\n",
    "# my_func(i)          # 呼叫my_func()之後的值是None(i是實參)\n",
    "# my_func(123)        # 呼叫my_func()之後的值是None(i是實參)\n",
    "# my_func             # 和my_func()不一樣\n",
    "print(f'before my_func(): {i=}')\n",
    "print(my_func(i))  # print出my_func()的傳回值，也就是my_func()的值。\n",
    "print(f'after my_func() : {i=}')"
   ]
  },
  {
   "cell_type": "code",
   "execution_count": null,
   "metadata": {},
   "outputs": [],
   "source": [
    "def is_aliquot(dividend: int, divisor: int) -> bool:\n",
    "    if divisor == 0:\n",
    "        raise ZeroDivisionError('除數不能為零。')\n",
    "    return dividend % divisor == 0"
   ]
  },
  {
   "cell_type": "code",
   "execution_count": null,
   "metadata": {},
   "outputs": [],
   "source": [
    "try:\n",
    "    print(f'{is_aliquot(15, 5) = }')\n",
    "    print(f'{is_aliquot(15, 4) = }')\n",
    "    print(f'{is_aliquot(15, 0) = }')\n",
    "except Exception as e:\n",
    "    print(str(e))                                                "
   ]
  },
  {
   "cell_type": "code",
   "execution_count": null,
   "metadata": {},
   "outputs": [],
   "source": [
    "import typing\n",
    "def set_pwd_source(source: str) -> typing.Callable:\n",
    "    import random as rd\n",
    "    return lambda count: ''.join(rd.choices(source, k=count))\n",
    "\n",
    "my_password_gen = set_pwd_source('0123456789abcdefghij')\n",
    "my_password_gen(10)"
   ]
  },
  {
   "cell_type": "code",
   "execution_count": null,
   "metadata": {},
   "outputs": [],
   "source": [
    "import typing\n",
    "def set_password_source(source: str) -> typing.Callable:\n",
    "    def gen_password(count: int) -> str:\n",
    "        import random as rd\n",
    "        return ''.join(rd.choices(source, k=count))\n",
    "    return gen_password\n",
    "\n",
    "my_password_gen = set_password_source('0123456789abcdefghij')\n",
    "my_password_gen(10)"
   ]
  },
  {
   "cell_type": "code",
   "execution_count": null,
   "metadata": {},
   "outputs": [],
   "source": [
    "def get_available_days(all_days: list, closed_days: list, on_duty_days: list) -> list:\n",
    "    return (lst := sorted(list((set(all_days) - set(closed_days)) & set(on_duty_days))))\n",
    "\n",
    "all_days = ['2022-12-05', '2022-12-01', '2022-12-03', '2022-12-08', '2022-12-04', \n",
    "            '2022-12-10', '2022-12-06', '2022-12-07', '2022-12-02', '2022-12-09']\n",
    "closed_days = ['2022-12-10', '2022-12-03']\n",
    "on_duty_days = ['2022-12-09', '2022-12-02', '2022-12-05', '2022-12-16', \n",
    "                '2022-12-04', '2022-12-12', '2022-12-14', '2022-12-03', \n",
    "                '2022-12-07']   # 有些看診日超過all_days範圍。\n",
    "\n",
    "print()\n",
    "print(f'{all_days = }')       # 一段時間內的所有日期\n",
    "print()\n",
    "print(f'{closed_days = }')    # 醫院休假日\n",
    "print()\n",
    "print(f'{on_duty_days = }')   # 醫師看診日\n",
    "print()\n",
    "print('-----------------')\n",
    "# 注意：超過all_days範圍的醫師看診日期不要納入傳回的list。\n",
    "print(f'{get_available_days(all_days, closed_days, on_duty_days) = }')\n",
    "print()"
   ]
  },
  {
   "cell_type": "code",
   "execution_count": null,
   "metadata": {},
   "outputs": [],
   "source": [
    "# def merge_dicts1(dict1: dict = {}, dict2: dict = {}) -> None:\n",
    "#     dict1.update(dict2)\n",
    "#     return None\n",
    "\n",
    "# def merge_dicts2(dict1: dict = {}, dict2: dict = {}) -> dict:\n",
    "#     return {**dict1, **dict2}"
   ]
  },
  {
   "cell_type": "code",
   "execution_count": 27,
   "metadata": {},
   "outputs": [],
   "source": [
    "def merge_dicts(dict1: dict, dict2: dict) -> dict:\n",
    "    # global dict1, dict2   # 不好的寫作風格\n",
    "    # dict1.update(dict2)\n",
    "    # print(f'bbb: {id(dict1)}')\n",
    "    # dict3 = dict1 | dict2\n",
    "    dict3 = {**dict1, **dict2}\n",
    "    # print(f'ccc: {id(dict1)}')\n",
    "    return dict3"
   ]
  },
  {
   "cell_type": "code",
   "execution_count": 28,
   "metadata": {},
   "outputs": [
    {
     "name": "stdout",
     "output_type": "stream",
     "text": [
      "----- key部分重疊 -----\n",
      "aaa: 140209829189440\n",
      "執行merge_dicts(dict1, dict2)...\n",
      "dict1 = {'name': 'Jade', 'age': 24, 'id': 1}\n",
      "dict2 = {'id': 1, 'name': 'Jade'}\n",
      "\n"
     ]
    }
   ],
   "source": [
    "print('----- key部分重疊 -----')\n",
    "dict1 = {'name': 'Alex', 'age': 24}; dict2 = {'id': 1, 'name': 'Jade'}\n",
    "print(f'aaa: {id(dict1)}')\n",
    "dict1 = merge_dicts(dict1, dict2)\n",
    "print('執行merge_dicts(dict1, dict2)...')\n",
    "print(f'{dict1 = }\\n{dict2 = }\\n')"
   ]
  },
  {
   "cell_type": "code",
   "execution_count": null,
   "metadata": {},
   "outputs": [],
   "source": [
    "\n",
    "# print('----- key完全不重疊 -----')\n",
    "# dict1 = {'name': 'Alex', 'age': 24}; dict2 = {'id': 1, 'bmi': 22.8}\n",
    "# print(f'{dict1 = }\\n{dict2 = }')\n",
    "# merge_dicts(dict1, dict2)\n",
    "# print('執行merge_dicts(dict1, dict2)...')\n",
    "# print(f'{dict1 = }\\n{dict2 = }\\n')\n",
    "\n",
    "# print('----- key完全重疊 -----')\n",
    "# dict1 = {'name': 'Alex', 'age': 24}; dict2 = {'name': 'Jade', 'age': 18}\n",
    "# print(f'{dict1 = }\\n{dict2 = }')\n",
    "# merge_dicts(dict1, dict2)\n",
    "# print('執行merge_dicts(dict1, dict2)...')\n",
    "# print(f'{dict1 = }\\n{dict2 = }\\n')\n",
    "\n",
    "# print('----- dict1包含dict2 -----')\n",
    "# dict1 = {'name': 'Alex', 'age': 24}; dict2 = {'name': 'Jade'}\n",
    "# print(f'{dict1 = }\\n{dict2 = }')\n",
    "# merge_dicts(dict1, dict2)\n",
    "# print('執行merge_dicts(dict1, dict2)...')\n",
    "# print(f'{dict1 = }\\n{dict2 = }\\n')\n",
    "\n",
    "# print('----- dict2包含dict1 -----')\n",
    "# dict1 = {'name': 'Alex', 'age': 24}; dict2 = {'id': 1, 'name': 'Jade', 'age': 18}\n",
    "# print(f'{dict1 = }\\n{dict2 = }')\n",
    "# merge_dicts(dict1, dict2)\n",
    "# print('執行merge_dicts(dict1, dict2)...')\n",
    "# print(f'{dict1 = }\\n{dict2 = }')\n",
    "# print()"
   ]
  },
  {
   "cell_type": "code",
   "execution_count": null,
   "metadata": {},
   "outputs": [],
   "source": [
    "def accumulate(high_bound: int, step: int) -> int:\n",
    "    return sum(i for i in range(1, high_bound, step))\n",
    "\n",
    "print()\n",
    "print(f'{accumulate(3, 1) = }')\n",
    "print(f'{accumulate(5, 5) = }')\n",
    "print(f'{accumulate(10, 2) = }')\n",
    "print(f'{accumulate(10, 3) = }')\n",
    "print(f'{accumulate(50, 9) = }')\n",
    "print(f'{accumulate(1024, 66) = }')\n",
    "print()"
   ]
  },
  {
   "cell_type": "code",
   "execution_count": 24,
   "metadata": {},
   "outputs": [],
   "source": [
    "def get_chinese_chars(raw_chars: str) -> int:\n",
    "    # 程式內盡量不要有Magic Numbers。將Magic Numbers用變數或常數表示。\n",
    "    MAX_ASCII = 127 \n",
    "    lines = raw_chars.split('\\n')\n",
    "\n",
    "    # 能以「資料」作判斷的，就盡量使用資料。程式的「維護」和「日後擴充」都比\n",
    "    # 在code內以邏輯判斷好。\n",
    "    # Code的邏輯寫好測試過OK後，「能不動就盡量不動」。\n",
    "    # 請緊記一點：「改code」是有風險的事。\n",
    "    # 下面的code_block_headers如果資料很多也較複雜，更理想的做法是把這些資料抽出來，\n",
    "    # 放在外部檔案或資料庫。程式從檔案或資料庫讀入資料。如此一來，即使日後資料\n",
    "    # 有增減修改，只要改外部的檔案或資料庫就行。程式部分完全不必更動。\n",
    "    code_block_headers = ['```', '```python', '```c', '```cpp', '```c#', '```python=', '```c=', '```cpp=', '```c#=']\n",
    "    chinese_chars = 0\n",
    "\n",
    "    # 下面這個「旗標」(flag)變數是本程式的重點。同學要懂得運用。\n",
    "    is_code_block = False\n",
    "\n",
    "    for line in lines:  \n",
    "        line = line.strip()\n",
    "\n",
    "        # 假如不是利用資料作判斷，下面這個if就得寫成：\n",
    "        # line_lower = line.lower()\n",
    "        # if line_lower == '```' or line_lower == '```python' or line_lower == '```c' or line_lower == '```cpp'... :\n",
    "        # 萬一日後code block的語言增加'javascript'，就得多寫一個or，更動到邏輯了。\n",
    "        # 再萬一整支程式有50個地方都須判斷，您就得改50處，少改一處就埋下一個地雷。\n",
    "        if line.lower() in code_block_headers:  # 這種寫法不管增加多少語言都不必改。只須改的是上面的list。\n",
    "            is_code_block = True\n",
    "\n",
    "        if is_code_block:\n",
    "            if line == '```':   # 這個地方不會變動，所以直接hardcode。\n",
    "                is_code_block = False\n",
    "        else:\n",
    "            for char in line:\n",
    "                if ord(char) > MAX_ASCII:  # 以常數取代Magic Number。\n",
    "                    chinese_chars += 1\n",
    "    return chinese_chars"
   ]
  },
  {
   "cell_type": "code",
   "execution_count": 25,
   "metadata": {},
   "outputs": [
    {
     "name": "stdout",
     "output_type": "stream",
     "text": [
      "\n",
      "get_chinese_chars(raw_chars) = 278\n",
      "\n"
     ]
    }
   ],
   "source": [
    "raw_chars = '''\n",
    "昨天簡介`類別屬性`(class attributes)，今天則淺談`類別方法`(class methods)。\n",
    "筆者談類別方法的「方法」(註1)，是從類別屬性切入。\n",
    "\n",
    "* 以下是昨天類別屬性的code。為節省篇幅，僅貼部分，完整版本見昨天發文：\n",
    "    ```\n",
    "    class Tree():\n",
    "        count = 0         # 放在建構子外面的是類別屬性。\n",
    "\n",
    "        def __init__(self, breed: str, age: int):\n",
    "            self.__breed = breed\n",
    "            self.__age = age\n",
    "            Tree.count += 1          # class attributes是用Tree.xxx而非self.xxx\n",
    "            ...   # 以下略\n",
    "    ```\n",
    "* `count`, `total_age`和`average_age`這幾個類別屬性都設成公開，所以主程式可以直接以`方法.屬性`或`物件.屬性`存取，沒用到property。看來還滿「方便」的。\n",
    "* 不過，這好像違反了筆者一直強調`屬性盡量私有(private)`的封裝保護層級理論。怎辦？改為私有吧：\n",
    "* 改為私有，類別屬性當然得補上properties。補好後的完整版本如下：\n",
    "    ```\n",
    "    class Tree():\n",
    "        __count = 0         # 所有類別的屬性都改為私有。\n",
    "\n",
    "        def __init__(self, breed: str, age: int):\n",
    "            self.__breed = breed\n",
    "            self.__age = age\n",
    "\n",
    "            Tree.__count += 1          # 類別屬性是用Tree.xxx而不是self.xxx。\n",
    "            # 以下略。\n",
    "    ```\n",
    "* 測試程式如下。請特別注意：這段測試程式，三個`類別屬性`都是用「**物件.屬性**」方式存取。'''\n",
    "\n",
    "print(f'\\n{get_chinese_chars(raw_chars) = }\\n')"
   ]
  },
  {
   "cell_type": "code",
   "execution_count": 36,
   "metadata": {},
   "outputs": [
    {
     "name": "stdout",
     "output_type": "stream",
     "text": [
      "2\n"
     ]
    }
   ],
   "source": [
    "def count_chinese_characters(s):\n",
    "    count = 0\n",
    "    for char in s:\n",
    "        if '\\u4e00' <= char <= '\\u9fff':\n",
    "            count += 1\n",
    "    return count\n",
    "\n",
    "# example usage\n",
    "s = \"Hello, 世界，。、！\"\n",
    "# s = '1236☎'\n",
    "print(count_chinese_characters(s))  # Output: 2"
   ]
  },
  {
   "cell_type": "code",
   "execution_count": 35,
   "metadata": {},
   "outputs": [
    {
     "name": "stdout",
     "output_type": "stream",
     "text": [
      "Number of Chinese characters: 8\n"
     ]
    }
   ],
   "source": [
    "import unicodedata\n",
    "\n",
    "def count_chinese_characters(text):\n",
    "    count = 0\n",
    "    for char in text:\n",
    "        if 'CJK UNIFIED' in unicodedata.name(char, ''):\n",
    "            count += 1\n",
    "    return count\n",
    "\n",
    "# Example usage:\n",
    "text = \"昨天簡介`類別屬性`(class attributes)。\"\n",
    "chinese_count = count_chinese_characters(text)\n",
    "print(\"Number of Chinese characters:\", chinese_count)\n"
   ]
  },
  {
   "cell_type": "code",
   "execution_count": 28,
   "metadata": {},
   "outputs": [
    {
     "data": {
      "text/plain": [
       "{'☎',\n",
       " '忏',\n",
       " '忕',\n",
       " '忷',\n",
       " '怑',\n",
       " '怭',\n",
       " '恌',\n",
       " '恞',\n",
       " '恲',\n",
       " '悕',\n",
       " '悿',\n",
       " '惔',\n",
       " '惙',\n",
       " '惢',\n",
       " '惾',\n",
       " '愀',\n",
       " '慅',\n",
       " '慔',\n",
       " '慛',\n",
       " '慡',\n",
       " '憍',\n",
       " '憭',\n",
       " '懞',\n",
       " '懩',\n",
       " '懱',\n",
       " '懽',\n",
       " '暃',\n",
       " '橤',\n",
       " '繠'}"
      ]
     },
     "execution_count": 28,
     "metadata": {},
     "output_type": "execute_result"
    }
   ],
   "source": [
    "s = set('懞懱懱懱慔慔懩懽懩懩懞懞懽懽怑恲慔忕忏憭憭悿憍憍悿恞憍恞恞憭慡慡愀悿慛慛慛慅慅悕慅悕悕忷惾惾惙惾惙恌惔怭橤繠惢橤繠橤繠暃☎')\n",
    "\n",
    "☎忏忕忷怑怭恌恞恲悕悿惔惙惢惾愀慅慔慛慡憍憭懞懩懱懽暃橤繠"
   ]
  },
  {
   "cell_type": "code",
   "execution_count": 142,
   "metadata": {},
   "outputs": [
    {
     "name": "stdout",
     "output_type": "stream",
     "text": [
      "new_chars = 'bcdefghijklmnpqrstuvwxyzab'  layers = 13\n",
      "       a\n",
      "      b b\n",
      "     c   a\n",
      "    d     z\n",
      "   e       y\n",
      "  f         x\n",
      " g           w\n",
      "h             v\n",
      " i           u\n",
      "  j         t\n",
      "   k       s\n",
      "    l     r\n",
      "     m   q\n",
      "      n p\n",
      "       o\n"
     ]
    }
   ],
   "source": [
    "def diamond(chars: str) -> str:\n",
    "    import math\n",
    "    return_str = ''\n",
    "    if len(chars) <= 1:\n",
    "        return chars\n",
    "    i = len(chars)\n",
    "    layers = math.ceil((i - 2) / 2)\n",
    "    layers = layers + 1 if layers % 2 == 0 else layers\n",
    "    chars_full = chars + chars[:layers*2 + 2 - len(chars)]\n",
    "    len_chars = len(chars_full)\n",
    "    bottom = int(len_chars/2)\n",
    "    new_chars = chars_full[1:bottom] + chars_full[bottom+1:]\n",
    "    max_leading_spaces = int((layers - 1)/2) + 1\n",
    "    print(f'{new_chars = }  {layers = }')\n",
    "    \n",
    "    for i in range(layers):\n",
    "        leading_spaces = ' '*(max_leading_spaces - i - 1) if i <= layers / 2 else ' '*(i - max_leading_spaces + 1)\n",
    "        hollow_spaces =  ' '*(i*2 + 1) if i <= layers / 2 else ' '*((layers - i)*2 - 1)\n",
    "        return_str += leading_spaces + new_chars[i] + hollow_spaces + new_chars[-i-1] + '\\n'\n",
    "    return_str = ' '*max_leading_spaces + chars_full[0] + '\\n' + return_str + ' '*max_leading_spaces + chars_full[bottom]\n",
    "    \n",
    "    return return_str\n",
    "    \n",
    "chars = 'abcdefghijklmnopqrstuvwxyz'\n",
    "# chars = 'gi'\n",
    "print(diamond(chars))\n",
    "# bb ca dr eq fp go hn im jl"
   ]
  },
  {
   "cell_type": "code",
   "execution_count": 146,
   "metadata": {},
   "outputs": [
    {
     "name": "stdout",
     "output_type": "stream",
     "text": [
      "*　ab　\n",
      "*\n"
     ]
    }
   ],
   "source": [
    "s = '　ab　\\n'\n",
    "print('*' + s.strip(' ') + '*')"
   ]
  },
  {
   "cell_type": "code",
   "execution_count": 154,
   "metadata": {},
   "outputs": [
    {
     "name": "stdout",
     "output_type": "stream",
     "text": [
      "*　hello world*\n"
     ]
    },
    {
     "data": {
      "text/plain": [
       "'* \\t\\n\\r\\x0b\\x0c*'"
      ]
     },
     "execution_count": 154,
     "metadata": {},
     "output_type": "execute_result"
    }
   ],
   "source": [
    "import string\n",
    "def custom_strip(s):\n",
    "    # return s.strip(string.whitespace.replace('\\u3000', ''))\n",
    "    return s.strip(string.whitespace)\n",
    "\n",
    "s = \"  　hello world  \"\n",
    "print(f'*{custom_strip(s)}*')  # Outputs: \"　hello world\"\n",
    "(f'*{string.whitespace}*')"
   ]
  },
  {
   "cell_type": "code",
   "execution_count": null,
   "metadata": {},
   "outputs": [],
   "source": [
    "def get_quote_info(chars: str) -> dict:\n",
    "    count = 0\n",
    "    quote = ''\n",
    "    lengths = []\n",
    "    quotes = []\n",
    "    return_dict = {}\n",
    "    within_quote = False\n",
    "    for char in chars:\n",
    "        if within_quote:\n",
    "            if char == '」':\n",
    "                lengths.append(count)\n",
    "                quotes.append(quote)\n",
    "                within_quote = False\n",
    "            else:    \n",
    "                count += 1\n",
    "                quote += char\n",
    "        else:\n",
    "            if char == '「':\n",
    "                count = 0\n",
    "                quote = ''\n",
    "                within_quote = True\n",
    "\n",
    "\n",
    "    shortest_text = quotes[lengths.index(min(lengths))]\n",
    "    longest_text = quotes[lengths.index(max(lengths))]\n",
    "    shortest_id = quotes.index(shortest_text)\n",
    "    longest_id = quotes.index(longest_text)\n",
    "    \n",
    "    return_dict['shortest_id'] = shortest_id\n",
    "    return_dict['shortest_len'] = min(lengths)\n",
    "    return_dict['shortest_text'] = shortest_text\n",
    "    \n",
    "    return_dict['longest_id'] = longest_id\n",
    "    return_dict['longest_len'] = max(lengths)\n",
    "    return_dict['longest_text'] = longest_text\n",
    "    \n",
    "    return return_dict"
   ]
  },
  {
   "cell_type": "code",
   "execution_count": null,
   "metadata": {},
   "outputs": [],
   "source": [
    "chars = '寶玉忙笑道：「好妹妹，你拿出來我瞧瞧。」寶琴笑道：「在南京收著呢，此時那裡去取來？」寶玉聽了，大失所望，便說：「沒福得見這世面。」黛玉笑拉寶琴道：「你別哄我們。我知道你這一來，你的這些東西未必放在家裡，自然都是要帶了來的，這會子又扯謊說沒帶來。他們雖信，我是不信的。」寶琴便紅了臉，低頭微笑不語。寶釵笑道：「偏這個顰兒慣說這些白話，把你就伶俐的。」黛玉道：「若帶了來，就給我們見識見識也罷了。」'\n",
    "print()\n",
    "print(f'{chars = }')\n",
    "quote_info = get_quote_info(chars)\n",
    "print(f'{quote_info = }')\n",
    "\n",
    "chars = '孔明曰：「將軍莫非因吾等不曾遠接，故而不樂？」回顧左右曰：「汝等緣何不先報？」雲長曰：「關某特來請死。」孔明曰：「莫非曹操不曾容道上來？」雲長曰：「是從那裏來。關某無能，因此被他走脫。」孔明曰：「拏得甚將士來？」雲長曰：「皆不曾拏。」孔明曰：「此是雲長想曹操昔日之恩，故意放了。但既有軍令狀在此，不得不按軍法。」遂叱武士推出斬之。'\n",
    "print()\n",
    "print(f'{chars = }')\n",
    "quote_info = get_quote_info(chars)\n",
    "print(f'{quote_info = }')\n",
    "\n",
    "print()\n",
    "print()\n",
    "print()\n",
    "print()\n",
    "print()"
   ]
  },
  {
   "cell_type": "code",
   "execution_count": null,
   "metadata": {},
   "outputs": [],
   "source": [
    "import psycopg2\n",
    "conn = psycopg2.connect(database=\"test\", user = \"postgres\", password = \"123456\", host = \"127.0.0.1\", port = \"5432\")\n",
    "\n",
    "cur = conn.cursor()\n",
    "cur.execute(\"INSERT INTO test.college.students values (7, 'David') ;\")\n",
    "conn.commit()\n",
    "conn.close()"
   ]
  },
  {
   "cell_type": "code",
   "execution_count": null,
   "metadata": {},
   "outputs": [],
   "source": [
    "def func(chars: str) -> dict | None:\n",
    "    if chars.startswith('a'):\n",
    "        return {'status': 'OK'}\n",
    "    else: \n",
    "        return None\n",
    "    \n",
    "print(func('abc'))"
   ]
  },
  {
   "cell_type": "code",
   "execution_count": null,
   "metadata": {},
   "outputs": [],
   "source": [
    "lst = ['41', '123', '65279', '36', '4126', 'asr6v']\n",
    "max(lst, key=len)\n",
    "min(lsbt, key=len)"
   ]
  },
  {
   "cell_type": "code",
   "execution_count": null,
   "metadata": {},
   "outputs": [],
   "source": [
    "def first_last(source: str | list | tuple, count: int) -> str | list | tuple:\n",
    "    return source[:count] + source[-count:]\n",
    "\n",
    "print()\n",
    "source = \"In the end, it's not the years in your life that count. It's the life in your years.\"\n",
    "print(f'{source = }')  # source是str，first_last()的傳回值也要是str。\n",
    "print(f'{first_last(source, 20) = }')\n",
    "print()\n",
    "source = ['天地', '玄黃', '宇宙', '洪荒', '日月', '盈昃', '辰宿', '列張']\n",
    "print(f'{source = }')  # source是list，first_last()的傳回值也要是list。\n",
    "print(f'{first_last(source, 5) = }')\n",
    "print()\n",
    "source = ('Amy', 'Ben', 'Coy', 'Dow', 'Ell', 'Fox', 'Gay', 'Huy', 'Ivy', 'Jay', 'Kim', 'Lee', 'Mat', 'Noe', 'Obe', 'Pat', 'Qis', 'Rex', 'Sim', 'Tim', 'Ugh', 'Van', 'Wes', 'Xeo', 'Yee', 'Zev')\n",
    "print(f'{source = }')  # source是tuple，first_last()的傳回值也要是tuple。\n",
    "print(f'{first_last(source, 6) = }')\n",
    "print()"
   ]
  },
  {
   "cell_type": "code",
   "execution_count": null,
   "metadata": {},
   "outputs": [],
   "source": [
    "def pig_latin(source_str: str, chars: str = 'aeiou', tail1: str = 'way', tail2: str = 'ay') -> str:\n",
    "    if source_str[0] in chars:\n",
    "        return_str = source_str + tail1\n",
    "    else:\n",
    "        return_str = source_str[1:] + source_str[0] + tail2\n",
    "    return return_str\n",
    "\n",
    "print()\n",
    "source_str = 'code'\n",
    "print(f'{source_str = :12}')  \n",
    "print(f'{pig_latin(source_str, \"man\", \"Snap\", \"Wendy\") = }')\n",
    "print()\n",
    "source_str = 'eat'\n",
    "print(f'{source_str = :12}')\n",
    "print(f'{pig_latin(source_str, tail2=\"fish\", tail1=\"meat\") = }')\n",
    "print()\n",
    "source_str = 'python'\n",
    "print(f'{source_str = :12}')  \n",
    "print(f'{pig_latin(source_str, chars=\"pointer\") = }')\n",
    "print()\n",
    "source_str = 'computer'\n",
    "print(f'{source_str = }')  \n",
    "print(f'{pig_latin(source_str=source_str) = }')\n",
    "print()       "
   ]
  },
  {
   "cell_type": "code",
   "execution_count": null,
   "metadata": {},
   "outputs": [],
   "source": [
    "def get_lines(in_file: str, out_file: str, start: int = 1, end: int = 10) -> int:\n",
    "    with open(in_file, 'r') as in_f:\n",
    "        lines = in_f.readlines()\n",
    "        \n",
    "    selected_lines = ''.join(lines[start - 1: end])        \n",
    "    with open(out_file, 'w') as out_f:\n",
    "        count = out_f.write(selected_lines)\n",
    "        \n",
    "    return count\n",
    " \n",
    "print()    \n",
    "print(f\"{get_lines('./quotes_raw.txt', './quotes_out1.txt', 45, 44) = }\")\n",
    "print(f\"{get_lines('./quotes_raw.txt', './quotes_out2.txt', 89, 89) = }\")\n",
    "print(f\"{get_lines('./quotes_raw.txt', './quotes_out3.txt', 257, 258) = }\")\n",
    "print(f\"{get_lines('./quotes_raw.txt', './quotes_out4.txt', 256, 309) = }\")\n",
    "print(f\"{get_lines('./quotes_raw.txt', './quotes_out5.txt', 241, 633) = }\")\n",
    "print(f\"{get_lines('./quotes_raw.txt', './quotes_out6.txt', 600, 700) = }\")\n",
    "print()"
   ]
  },
  {
   "cell_type": "code",
   "execution_count": null,
   "metadata": {},
   "outputs": [],
   "source": [
    "with open('./quotes.txt', 'r') as f:\n",
    "    lines = ''.join(set(f.readlines()))\n",
    "    \n",
    "with open('./quotes1.txt', 'w') as f:\n",
    "    f.write(lines)\n"
   ]
  },
  {
   "cell_type": "code",
   "execution_count": null,
   "metadata": {},
   "outputs": [],
   "source": [
    "from pprint import pprint\n",
    "import pandas as pd\n",
    "\n",
    "# def read_tree(csv_file):\n",
    "#     df = pd.read_csv(csv_file, sep=', ')\n",
    "#     return df.to_dict()\n",
    "\n",
    "def read_tree(csv_file):\n",
    "    return pd.read_csv(csv_file, sep=', ').to_dict()\n",
    "\n",
    "\n",
    "trees = read_tree('./tree_info.csv')\n",
    "print()\n",
    "print(trees)\n",
    "print()"
   ]
  },
  {
   "cell_type": "code",
   "execution_count": null,
   "metadata": {},
   "outputs": [],
   "source": [
    "d = {'a': 'aa', 1: 9, 3.14: [2, 5], True: False, (): [],}\n",
    "d\n",
    "del d[3.14]\n",
    "d\n",
    "d.pop(())\n",
    "d"
   ]
  },
  {
   "cell_type": "code",
   "execution_count": null,
   "metadata": {},
   "outputs": [],
   "source": [
    "sum(range(5))"
   ]
  },
  {
   "cell_type": "code",
   "execution_count": null,
   "metadata": {},
   "outputs": [],
   "source": [
    "display('Alex')\n",
    "name = 'Alex'\n",
    "display(f'{name = }')"
   ]
  },
  {
   "cell_type": "code",
   "execution_count": null,
   "metadata": {},
   "outputs": [],
   "source": [
    "import re\n",
    "\n",
    "def find_max_occurrence(source: str, target: str) -> int:\n",
    "    return 0 if not (match_len := [match.group() for match in re.finditer(pattern=target + '+', string=source)]) else len(max(match_len, key=len))\n",
    "\n",
    "print()\n",
    "source = '01100A2222012A000122m'\n",
    "print(f\"{find_max_occurrence(source=source, target='0') = }\")\n",
    "print(f\"{find_max_occurrence(source=source, target='1') = }\")\n",
    "print(f\"{find_max_occurrence(source=source, target='2') = }\")\n",
    "print(f\"{find_max_occurrence(source=source, target='m') = }\")\n",
    "print(f\"{find_max_occurrence(source=source, target='4') = }\")\n",
    "print(f\"{find_max_occurrence(source=source, target='A') = }\")\n",
    "print(f\"{find_max_occurrence(source=source, target='p') = }\")"
   ]
  },
  {
   "cell_type": "code",
   "execution_count": null,
   "metadata": {},
   "outputs": [],
   "source": []
  },
  {
   "cell_type": "code",
   "execution_count": null,
   "metadata": {},
   "outputs": [],
   "source": [
    "# coding=utf8\n",
    "# the above tag defines encoding for this document and is for Python 2.x compatibility\n",
    "\n",
    "import re\n",
    "\n",
    "regex = r\"0+\"\n",
    "\n",
    "test_str = \"01100222201250001223\"\n",
    "\n",
    "matches = re.finditer(regex, test_str, re.MULTILINE)\n",
    "print(f' {type(matches) = }')\n",
    "# for matchNum, match in enumerate(matches, start=1):\n",
    "    \n",
    "#     print (\"Match {matchNum} was found at {start}-{end}: {match}\".format(matchNum = matchNum, start = match.start(), end = match.end(), match = match.group()))\n",
    "    \n",
    "#     for groupNum in range(0, len(match.groups())):\n",
    "#         groupNum = groupNum + 1\n",
    "        \n",
    "#         print (\"Group {groupNum} found at {start}-{end}: {group}\".format(groupNum = groupNum, start = match.start(groupNum), end = match.end(groupNum), group = match.group(groupNum)))\n",
    "\n",
    "# # Note: for Python 2.7 compatibility, use ur\"\" to prefix the regex and u\"\" to prefix the test string and substitution.\n"
   ]
  },
  {
   "cell_type": "code",
   "execution_count": null,
   "metadata": {},
   "outputs": [],
   "source": [
    "# in_file = open('./quotes.txt', 'r', encoding='utf-8')\n",
    "# ...\n",
    "# in_file.close()\n",
    "\n",
    "# ---------\n",
    "with open('./quotes.txt', 'r', encoding='utf-8') as in_file:\n",
    "    text = in_file.read()\n",
    "    \n",
    "print(text)    \n",
    "    "
   ]
  },
  {
   "cell_type": "code",
   "execution_count": null,
   "metadata": {},
   "outputs": [],
   "source": [
    "# def is_palindrome(number: int) -> bool:\n",
    "#     chars = str(number)\n",
    "#     half_len = len(chars) // 2\n",
    "#     return True if chars[:half_len] == chars[:-half_len - 1:-1] else False\n",
    "\n",
    "def is_palindrome(number: int) -> bool:\n",
    "    new_number = str(number)\n",
    "    if number == int(new_number + new_number[::-1]):\n",
    "        return True\n",
    "    else:\n",
    "        return False\n",
    "\n",
    "print()\n",
    "print(f'{is_palindrome(13231) = }')\n",
    "print(f'{is_palindrome(12345678) = }')\n",
    "print(f'{is_palindrome(508805) = }')\n",
    "print(f'{is_palindrome(6666) = }')\n",
    "print(f'{is_palindrome(10987079801) = }')\n",
    "print(f'{is_palindrome(0) = }')\n",
    "print(f'{is_palindrome(10) = }')\n",
    "print()"
   ]
  },
  {
   "cell_type": "code",
   "execution_count": null,
   "metadata": {},
   "outputs": [],
   "source": [
    "def is_in_order(sequence: str, test_str: str) -> bool:\n",
    "    \n",
    "    in_order = True if test_str else False\n",
    "    previous_index = -1\n",
    "    for char in test_str:\n",
    "        this_index = sequence.find(char)\n",
    "        if this_index == -1:\n",
    "            in_order = False\n",
    "            break\n",
    "        \n",
    "        if this_index <= previous_index:\n",
    "            in_order = False\n",
    "            break\n",
    "        else:\n",
    "            previous_index = this_index            \n",
    "        \n",
    "    return in_order\n",
    "\n",
    "print()\n",
    "print(f\"{is_in_order('0123456789', '245768') = }\")\n",
    "print(f\"{is_in_order('0123456789', '245789') = }\")\n",
    "print(f\"{is_in_order('abcdefghijklmnopqrstuvwxyz', 'rstuvvwxyz') = }\")\n",
    "print(f\"{is_in_order('abcdefghijklmnopqrstuvwxyz', 'cdghijlptw') = }\")\n",
    "print(f\"{is_in_order('甲乙丙丁戊己庚辛壬癸', '戊己寅辛') = }\")\n",
    "print(f\"{is_in_order('甲乙丙丁戊己庚辛壬癸', '甲丁戊壬') = }\")\n",
    "print(f\"{is_in_order('鼠牛虎兔龍蛇馬羊猴雞狗豬', '') = }\")\n",
    "print(f\"{is_in_order('鼠牛虎兔龍蛇馬羊猴雞狗豬', '牛龍羊雞豬') = }\")\n",
    "print(f\"{is_in_order('ABΓΔEZηΘIKΛMNΞOπPΣτΥΦXΨΩ', 'OπτPΣΥΦΨΩ') = }\")\n",
    "print(f\"{is_in_order('ABΓΔEZηΘIKΛMNΞOπPΣτΥΦXΨΩ', 'Θ') = }\")\n",
    "        \n",
    "print()"
   ]
  },
  {
   "cell_type": "code",
   "execution_count": null,
   "metadata": {},
   "outputs": [],
   "source": [
    "def is_prime(number: int) -> bool:\n",
    "    prime = True\n",
    "    if number <= 1:\n",
    "        prime = False\n",
    "    else:\n",
    "        for i in range(2, int(number ** .5 + 1)): \n",
    "            if number % i == 0:\n",
    "                prime = False\n",
    "                break\n",
    "    return prime"
   ]
  },
  {
   "cell_type": "code",
   "execution_count": null,
   "metadata": {},
   "outputs": [],
   "source": [
    "def prime_factors(number: int) -> tuple:\n",
    "    return tuple([prime for prime in \n",
    "            [i for i in range(2, number + 1) if is_prime(i)] \n",
    "            if number % prime == 0])\n",
    "\n",
    "print() \n",
    "print(f'{prime_factors(-10) = }')\n",
    "print(f'{prime_factors(1) = }')\n",
    "print(f'{prime_factors(12) = }')\n",
    "print(f'{prime_factors(109) = }')\n",
    "print(f'{prime_factors(1128) = }')\n",
    "print(f'{prime_factors(2023) = }')\n",
    "print(f'{prime_factors(53751) = }')\n",
    "print()"
   ]
  },
  {
   "cell_type": "code",
   "execution_count": null,
   "metadata": {},
   "outputs": [],
   "source": [
    "def find_key(source: dict, key: str | int, value: object) -> str | int | None:\n",
    "    \n",
    "    if source.get(key) is None:\n",
    "        ...\n",
    "    source[key] = value\n",
    "    return None\n",
    "\n",
    "d = {'name': 'Alex', 'age': 39}\n",
    "print(f\"{find_key(d, 'bmi', 21.6) = }\")\n",
    "d\n"
   ]
  },
  {
   "cell_type": "code",
   "execution_count": null,
   "metadata": {},
   "outputs": [],
   "source": [
    "def sum_sub(int_container: list | tuple = []) -> int:\n",
    "    return_value = 0\n",
    "    for number in int_container:\n",
    "        if number % 2 == 1:   # 奇\n",
    "            return_value += number\n",
    "        else:\n",
    "            return_value -= number\n",
    "    return return_value\n",
    "\n",
    "# print()\n",
    "print(f'{sum_sub([-1, 2, 3, 4]) = }')\n",
    "print(f'{sum_sub((1, 2, -3, 4, 5)) = }')\n",
    "print(f'{sum_sub([1, 3, -5]) = }')\n",
    "print(f'{sum_sub((2, -4, -6, 0)) = }')\n",
    "print(f'{sum_sub([99, -10, 10]) = }')\n",
    "print(f'{sum_sub() = }')   # 採用參數的預設值。\n",
    "# print()"
   ]
  },
  {
   "cell_type": "code",
   "execution_count": null,
   "metadata": {},
   "outputs": [],
   "source": [
    "def repeat_me(source: str, counts: tuple | list = None) -> str:\n",
    "    if counts == None:\n",
    "        counts = [1 for _ in range(len(source))]\n",
    "    if len(source) != len(counts):\n",
    "        raise Exception(\"source和counts兩個參數的長度應相等。\")\n",
    "    \n",
    "    new_str = ''\n",
    "    for index, count in enumerate(counts):\n",
    "        # if count \n",
    "        if count < 0:\n",
    "            raise Exception('counts的元素不可以為負。')\n",
    "        new_str += source[index]*count\n",
    "    return new_str\n",
    "\n",
    "print()\n",
    "try:\n",
    "    quote = '我code故我在'; occurrences = (1, 2, 3, 4, 4, 3, 2, 1)\n",
    "    print(f\"{repeat_me(quote, counts=occurrences) = }\")\n",
    "    source = '我在故我code'; times = [2, 0, 2, 1, 0, 7, 0, 5]\n",
    "    print(f\"{repeat_me(counts=times, source=source) = }\")\n",
    "    print(f\"{repeat_me(pl := 'Python', counts=[1 for _ in range(len(pl))]) = }\")\n",
    "    print(f\"{repeat_me(source='窈窕淑女，君子好逑。') = }\")   # 沒有傳入counts。\n",
    "    print(f\"{repeat_me('Hello, World.', (0, 1, 2, 4, 0, 3)) = }\")\n",
    "    print(f\"{repeat_me('van Rossum', [0, 1, 2, 3, 4, 5, 6, 7, -8, 9]) = }\")\n",
    "except Exception as e:\n",
    "    print(e)\n",
    "finally:    \n",
    "    print()"
   ]
  },
  {
   "cell_type": "code",
   "execution_count": null,
   "metadata": {},
   "outputs": [],
   "source": [
    "# dict operations\n",
    "patient = {'name': 'Alex', 'height': 169, 'weight': 65.3, 'bp': [150, 63, 75], 'vital_signs': {'temp': 37.2, 'hr': 66, 'rr': 12}}\n",
    "\n",
    "print()\n",
    "print()\n",
    "print(f\"．原patient'：{patient}\")\n",
    "# 所有的keys。\n",
    "print(f'．所有的keys: {[key for key in patient]}')\n",
    "# 所有的values。\n",
    "print(f'．所有的values: {[value for value in patient.values()]}')\n",
    "# 所有的key-value pairs。\n",
    "print(f'．所有的pairs: {[(key, value) for key, value in patient.items()]}')\n",
    "print()\n",
    "# 搜尋某個key。\n",
    "print(f\"．搜尋'bmi'：{patient.get('bmi')}\")\n",
    "print(f\"．搜尋'bp'：{patient.get('bp')}\")\n",
    "print()\n",
    "# 修改某個bp的值。\n",
    "patient['weight'] = 64.2\n",
    "print(f\"．修改'weight'的值：{patient}\")\n",
    "print()\n",
    "# 新增'bmi'。\n",
    "patient['bmi'] = 23.1\n",
    "print(f\"．新增'bmi'：{patient}\")\n",
    "print()\n",
    "# 刪除'vital_signs'。\n",
    "del patient['vital_signs']\n",
    "print(f\"．刪除'vital_signs'：{patient}\")\n",
    "print()\n",
    "print()"
   ]
  },
  {
   "cell_type": "code",
   "execution_count": null,
   "metadata": {},
   "outputs": [],
   "source": [
    "# 藥盒中的藥丸\n",
    "box_a = {'A', 'B', 'C', 'M', 'N', 'U', 'V'}\n",
    "box_b = {'U', 'P', 'O', 'N', 'D', 'Z', 'C', 'E', 'K'}\n",
    "\n",
    "print()\n",
    "print(f\"   A藥盒的藥丸：{', '.join(box_a)}\")\n",
    "print(f\"   B藥盒的藥丸：{', '.join(box_b)}\")\n",
    "print(f\"1. A藥盒的藥丸數：{len(box_a)}\")\n",
    "print(f\"2. B藥盒的藥丸數：{len(box_b)}\")\n",
    "print(f\"3. 兩盒都有的藥丸：{', '.join(box_a & box_b)}\")\n",
    "print(f\"4. 全部不重複的藥丸：{', '.join(box_a | box_b)}\")\n",
    "print(f\"5. A盒有而B盒沒有的藥丸：{', '.join(box_a - box_b)}\")\n",
    "print(f\"6. B盒有而A盒沒有的藥丸：{', '.join(box_b - box_a)}\")\n",
    "print(f\"7. 扣除兩盒都有的藥丸：{', '.join(box_a ^ box_b)}\")\n",
    "print()"
   ]
  },
  {
   "cell_type": "code",
   "execution_count": null,
   "metadata": {},
   "outputs": [],
   "source": [
    "def order_me(source: tuple | list, order: str = '0') -> list:\n",
    "    import copy, random\n",
    "    return_list = []\n",
    "    match order:\n",
    "        case '0':   # 原封不動\n",
    "            return_list = list(copy.copy(source))\n",
    "        case '1':   # 奇先偶後\n",
    "            return_list = [item for item in source if item % 2 != 0] + [item for item in source if item % 2 == 0]\n",
    "        case '2':   # 偶先奇後\n",
    "            return_list = [item for item in source if item % 2 == 0] + [item for item in source if item % 2 != 0]\n",
    "        case '3':   # 升冪排序\n",
    "            return_list = sorted(source, reverse=False)\n",
    "        case '4':   # 降冪排序\n",
    "            return_list = sorted(source, reverse=True)\n",
    "        case '5':   # 隨機排列\n",
    "            return_list = random.sample(source, len(source))\n",
    "        case _:     # 觸發異常\n",
    "            raise ValueError(\"order參數只能接受'0', '1', '2', '3', '4', '5'。\")\n",
    "    return return_list\n",
    "\n",
    "source = (3, -8, 2, 5, 3, 0, -1, 6, -4, 2, -7)\n",
    "print()\n",
    "try:\n",
    "    print(f\"{id(source               ) = }\")   # 原tuple \n",
    "    print(f\"{id(order_me(source)     ) = }\")   # 原封不動\n",
    "    print(f\"{id(order_me(source, '1')) = }\")   # 奇先偶後\n",
    "    print(f\"{id(order_me(source, '2')) = }\")   # 偶先奇後\n",
    "    print(f\"{id(order_me(source, '3')) = }\")   # 升冪排序\n",
    "    print(f\"{id(order_me(source, '4')) = }\")   # 降冪排序\n",
    "    print(f\"{id(order_me(source, '5')) = }\")   # 隨機排列\n",
    "    print(f\"{id(order_me(source, '6')) = }\")   # 觸發異常\n",
    "except Exception as e:\n",
    "    print(e) \n",
    "print()       "
   ]
  },
  {
   "cell_type": "code",
   "execution_count": null,
   "metadata": {},
   "outputs": [],
   "source": [
    "def armstrong(number: int) -> bool:\n",
    "    chars = str(number)\n",
    "    leng = len(chars)\n",
    "    new_number = 0\n",
    "    for char in chars:\n",
    "        new_number += int(char)**leng\n",
    "    return number == new_number\n",
    "\n",
    "\n",
    "print()\n",
    "print(f'{armstrong(153) = }')\n",
    "print(f'{armstrong(724) = }')\n",
    "print(f'{armstrong(1634) = }')\n",
    "print(f'{armstrong(2709) = }')\n",
    "print(f'{armstrong(93084) = }')\n",
    "print(f'{armstrong(62530) = }')\n",
    "print()"
   ]
  },
  {
   "cell_type": "code",
   "execution_count": null,
   "metadata": {},
   "outputs": [],
   "source": [
    "def accum_items(nums: tuple | list) -> list:\n",
    "    square = 0\n",
    "    return [square := num + square for num in nums]\n",
    "\n",
    "nums = [(2, 4, 6), (5, 7, 9, -3.5), (4, 2.8, 0, -4.6, -7)]\n",
    "print()\n",
    "for num in nums:\n",
    "    print(f'{num = }')\n",
    "    print(f'{accum_items(num) = }\\n')"
   ]
  },
  {
   "cell_type": "code",
   "execution_count": null,
   "metadata": {},
   "outputs": [],
   "source": [
    "def cut(seq: str | list | tuple, size: int = 1) -> list:\n",
    "    return [seq[pos:pos + size] for pos in range(0, len(seq), size)]\n",
    "\n",
    "print()\n",
    "print(f\"{cut('ChatGPT', 4) = }\")\n",
    "print(f\"{cut(('流', '星', '蝴', '蝶', '劍'), 2) = }\")\n",
    "print(f\"{cut(['天', '涯', '明', '月', '刀'], 2) = }\")\n",
    "print(f'{cut([9, 8, 7, 6, 5, 4, 3, 2], 3) = }')\n",
    "print(f'{cut((2.1, 3.6, 8.0, 5.3, -0.9)) = }')\n",
    "print(f'{cut(\"心臟肝臟脾臟肺臟腎臟\", 2) = }')\n",
    "print()"
   ]
  },
  {
   "cell_type": "code",
   "execution_count": null,
   "metadata": {},
   "outputs": [],
   "source": [
    "def count_urine(*urine) -> tuple:\n",
    "    # return_value = tuple([for u in urine])\n",
    "    from statistics import mean\n",
    "    return sum(urine), 0 if len(urine) == 0 else round(mean(urine))\n",
    "\n",
    "print()\n",
    "print(f'{count_urine(230, 150, 10, 60) = }')   # 4個參數\n",
    "print(f'{count_urine(135, 200, 240, 50, 60, 0, 75) = }')   # 7個參數\n",
    "print(f'{count_urine(160, 320, 95) = }')   # 3個參數\n",
    "print(f'{count_urine(440) = }')   # 1個參數\n",
    "print(f'{count_urine() = }')   # 沒有參數\n",
    "print()\n"
   ]
  },
  {
   "attachments": {},
   "cell_type": "markdown",
   "metadata": {},
   "source": [
    "* 所得淨額 = 所得總額 - 免稅額\n",
    "* 免稅額基本50000元，每扶養一名親屬增加35000元。\n",
    "* 所得稅率表：\n",
    "    |所得淨額|稅率|累進差額|\n",
    "    |--|--|--|\n",
    "    |0-540000|5%|0|\n",
    "    |540001-1210000|12%|37800|\n",
    "    |1210001-2420000|20%|134600|\n",
    "    |2420001-4530000|30%|376600|\n",
    "    |4530001以上|40%|829600|\n",
    "* 應納稅額 = 所得淨額 * 稅率 - 累進差額"
   ]
  },
  {
   "cell_type": "code",
   "execution_count": null,
   "metadata": {},
   "outputs": [],
   "source": [
    "def income_tax(gross_income: int, dependents: int) -> int:\n",
    "    exemption = 132000 + 88000*dependents\n",
    "    net_income = gross_income - exemption\n",
    "    # print(f'{net_income = }')\n",
    "    if net_income <= 0:\n",
    "        return 0\n",
    "    \n",
    "    # 1. hard coded\n",
    "    # if net_income <= 540000:\n",
    "    #     tax1 = net_income*0.05 - 0\n",
    "    # elif net_income <= 1210000:\n",
    "    #     tax1 = net_income*0.12 - 37800\n",
    "    # elif net_income <= 2420000:\n",
    "    #     tax1 = net_income*0.2 - 134600\n",
    "    # elif net_income <= 4530000:\n",
    "    #     tax1 = net_income*0.3 - 376600\n",
    "    # else: \n",
    "    #     tax1 = net_income*0.4 - 829600\n",
    "    \n",
    "    # 2. 用變數設定稅率表\n",
    "    rate_diffs = ( \n",
    "        {'net_income': 4_530_001, 'tax_rate': .4, 'progressive_diff': 829_600},\n",
    "        {'net_income': 2_420_001, 'tax_rate': .3, 'progressive_diff': 376_600},\n",
    "        {'net_income': 1_210_001, 'tax_rate': .2, 'progressive_diff': 134_600},\n",
    "        {'net_income': 540_001, 'tax_rate': .12, 'progressive_diff': 37_800}, \n",
    "        {'net_income': 0, 'tax_rate': .05, 'progressive_diff': 0},\n",
    "    )\n",
    "    \n",
    "    tax = 0\n",
    "    for rate_diff in rate_diffs:\n",
    "        if net_income >= rate_diff['net_income']:\n",
    "            tax = net_income*rate_diff['tax_rate'] - rate_diff['progressive_diff']\n",
    "            break\n",
    "    # print(max(round(tax1), 0)) \n",
    "    # print()       \n",
    "    # print(tax, tax1)\n",
    "    return max(round(tax), 0)\n",
    "\n",
    "print()\n",
    "print(f'{income_tax(750_017, 3) = :,}\\n')       # 5%\n",
    "print(f'{income_tax(1_782_000, 5) = :,}\\n')     # 12%\n",
    "print(f'{income_tax(4_838_001, 2) = :,}\\n')     # 40%\n",
    "print(f'{income_tax(315_500, 4) = :,}\\n')       # 0%\n",
    "print(f'{income_tax(3_521_061, 0) = :,}\\n')     # 30%\n",
    "print(f'{income_tax(2_514_573, 1) = :,}\\n')     # 20%\n",
    "print()"
   ]
  },
  {
   "cell_type": "code",
   "execution_count": null,
   "metadata": {},
   "outputs": [],
   "source": [
    "def flip(dictionary: dict) -> dict:\n",
    "    return {v: k for k, v in dictionary.items()}\n",
    "\n",
    "print()\n",
    "flip({1: 2, 3: 4, 5: 6, 7: 8, 9: 0})\n",
    "flip({'id': 1, 'name': 'Alex', 'is_veg': False, 'height': None})\n",
    "flip({'spouse': 'Marrianne', 'children': ('Rebecca', 'Thomas')})\n",
    "flip({'pi': 3.1416, 'gold ratio': 1.618, 'Kaprekar': 6174})\n",
    "print()"
   ]
  },
  {
   "cell_type": "code",
   "execution_count": null,
   "metadata": {},
   "outputs": [],
   "source": [
    "def sort_str(raw_str: str, reverse=False) -> str:\n",
    "    return ''.join(sorted(list(raw_str), reverse=reverse))\n",
    "    \n",
    "print()\n",
    "print(f\"{sort_str('qYababcaMAjgOGd', reverse=False) = })\")\n",
    "print(f\"{sort_str('qYababcaMAjgOGd', reverse=True) = })\")\n",
    "print(f\"{sort_str('欲窮千里目，更上一層樓', False) = }\")\n",
    "print(f\"{sort_str('欲窮千里目，更上一層樓', True) = }\")\n",
    "print(f\"{sort_str('85136417960921') = }\")\n",
    "print(f\"{sort_str('85136417960921', reverse=True) = }\")\n",
    "print()"
   ]
  },
  {
   "cell_type": "code",
   "execution_count": null,
   "metadata": {},
   "outputs": [],
   "source": [
    "def roman2dec(raw: str) -> int:\n",
    "    return 123\n",
    "#     romans = {'I': 1, 'V': 5, 'X': 10, 'L': 50, 'C': 100}\n",
    "#     return_int = 0\n",
    "#     try:\n",
    "#         for r in raw:\n",
    "            \n",
    "            \n",
    "        \n",
    "#         return return_int    \n",
    "#     except Exception as e:\n",
    "#         ...\n",
    "#         return -1\n",
    "    # I(1)，V(5)，X(10)，L(50)，C(100)\n",
    "\n",
    "print()    \n",
    "print(f\"{roman2dec('III') = }\")\n",
    "print(f\"{roman2dec('IV') = }\")\n",
    "print(f\"{roman2dec('VIII') = }\")\n",
    "print(f\"{roman2dec('IX') = }\")\n",
    "print(f\"{roman2dec('XLIV') = }\")\n",
    "print(f\"{roman2dec('LXXVIII') = }\")\n",
    "print(f\"{roman2dec('XCV') = }\")\n",
    "print(f\"{roman2dec('C') = }\")\n",
    "print()"
   ]
  },
  {
   "cell_type": "code",
   "execution_count": null,
   "metadata": {},
   "outputs": [],
   "source": [
    "def get_missing(raw: tuple) -> list:\n",
    "    return sorted(list({i for i in range(len(raw))} - set(raw))) \n",
    "\n",
    "print()\n",
    "print(f'{get_missing((2, 3, 2, 1, 1)) = }')\n",
    "print(f'{get_missing((1, 5, 0, 8, 8, 4, 5, 1, 8)) = }')\n",
    "print(f'{get_missing((2, 4, 6, 3, 2, 5, 7, 0)) = }')\n",
    "print(f'{get_missing((3, 1, 2, 0)) = }')\n",
    "print(f'{get_missing(()) = }')\n",
    "print()"
   ]
  },
  {
   "cell_type": "code",
   "execution_count": null,
   "metadata": {},
   "outputs": [],
   "source": [
    "def max_min(num: int, op: str) -> int | float | None:\n",
    "    max_ = int(sort_str(str(num), reverse=True))\n",
    "    min_ = int(sort_str(str(num)))\n",
    "    # try:\n",
    "    match op:\n",
    "        case '+':\n",
    "            result = max_ + min_\n",
    "        case '-':\n",
    "            result = max_ - min_\n",
    "        case '*':\n",
    "            result = max_ * min_\n",
    "        case '/':\n",
    "            result = round(max_ / min_, 2)\n",
    "        case '//':\n",
    "            result = max_ // min_\n",
    "        case '%':\n",
    "            result = max_ % min_\n",
    "        case '**':\n",
    "            result = max_ ** min_\n",
    "        case _:\n",
    "            # raise SyntaxError('Invalid operator.')\n",
    "            result = None\n",
    "    return result\n",
    "\n",
    "print() \n",
    "ops = ('+', '-', '*', '/', '//', '%', '@')\n",
    "raw_number = 2010838701\n",
    "for op in ops:\n",
    "    print(f\"max_min({raw_number}, '{op}'): {max_min(op=op, num=raw_number)}\")\n",
    "print()    "
   ]
  },
  {
   "cell_type": "code",
   "execution_count": null,
   "metadata": {},
   "outputs": [],
   "source": [
    "# 從最specific到最general的寫法才正確。\n",
    "\n",
    "# 未滿12歲者以下的事全不能做。\n",
    "# 12歲以上可看輔級電影。\n",
    "# 20歲以上可投票。\n",
    "# 40歲以上可選總統。\n",
    "# 65歲以上可退休。\n",
    "\n",
    "def do_these(age: int) -> str:\n",
    "    if age >= 65:  # 最specific\n",
    "        stuff = '可看輔級電影、投票、選總統和退休。'\n",
    "    elif age >= 40:\n",
    "        stuff = '可看輔級電影、投票和選總統。'\n",
    "    elif age >= 20:\n",
    "        stuff = '可看輔級電影和投票。'\n",
    "    elif age >= 12:  # 最general\n",
    "        stuff = '可看輔級電影。'\n",
    "    else:\n",
    "        stuff = '年齡太小，長大再說。'\n",
    "    return stuff\n",
    "    \n",
    "print()\n",
    "ages = (10, 12, 20, 39, 40, 67)\n",
    "for age in ages:\n",
    "    print(f'{age}歲：{do_these(age)}')\n",
    "print()"
   ]
  },
  {
   "cell_type": "code",
   "execution_count": null,
   "metadata": {},
   "outputs": [],
   "source": [
    "# * 某購物網站根據上一年的購物金額，將會員分為以下等級：\n",
    "#     * 奇石會員：0-10000\n",
    "#     * 翡翠會員：10001-100000\n",
    "#     * 珍珠會員：100001-500000\n",
    "#     * 黃金會員：500001-1000000\n",
    "#     * 白金會員：1000001-5000000\n",
    "#     * 鑽石會員：5000001以上\n",
    "\n",
    "def get_member_level(amount: int) -> str:\n",
    "    if amount <= 10000:\n",
    "        member_level = '奇石會員'\n",
    "    elif amount <= 100000:\n",
    "        member_level = '翡翠會員'\n",
    "    elif amount <= 500000:\n",
    "        member_level = '珍珠會員'\n",
    "    elif amount <= 1000000:\n",
    "        member_level = '黃金會員'\n",
    "    elif amount <= 5000000:\n",
    "        member_level = '白金會員'\n",
    "    else: \n",
    "        member_level = '鑽石會員'\n",
    "    return member_level        \n",
    "\n",
    "# def get_member_level(amount: int) -> str:\n",
    "#     if amount >= 5000001:\n",
    "#         member_level = '鑽石會員'\n",
    "#     elif amount >= 1000001:\n",
    "#         member_level = '白金會員'\n",
    "#     elif amount >= 500001:\n",
    "#         member_level = '黃金會員'\n",
    "#     elif amount >= 100001:\n",
    "#         member_level = '珍珠會員'\n",
    "#     elif amount >= 1:\n",
    "#         member_level = '翡翠會員'\n",
    "#     else: \n",
    "#         member_level = '頑石會員'\n",
    "#     return member_level                \n",
    "\n",
    "print()        \n",
    "amounts = (10_000, 90_000, 350_000, 500_001, 4_999_999, 3000_000)\n",
    "for amount in amounts:\n",
    "    print(f'消費金額{amount:>12,}: {get_member_level(amount)}')\n",
    "    \n",
    "print()    \n",
    "    "
   ]
  },
  {
   "cell_type": "code",
   "execution_count": null,
   "metadata": {},
   "outputs": [],
   "source": [
    "def get_common(words: tuple | list, pos: str) -> str:\n",
    "    # reversed_words = ''\n",
    "    if pos != 'head':   # 表示抓字尾或首尾都抓\n",
    "        # reversed_words = [word[::-1] for word in words]\n",
    "        real_words = [word[::-1] for word in words]\n",
    "    else:\n",
    "        real_words = words\n",
    "    # print(words)         \n",
    "    # print(real_words)\n",
    "    # print(real_words)\n",
    "    matched_str = ''\n",
    "    first_word = real_words[0]\n",
    "    matched_str = ''\n",
    "    for letter in first_word:\n",
    "        # print(f'{letter = }')\n",
    "        is_all_matched = True\n",
    "        # print(f'{words[1:] = }')\n",
    "        for other_word in real_words[1:]:\n",
    "            # print(f'{other_word = }')\n",
    "            # print('|' + matched_str + letter + '|')\n",
    "            if not other_word.startswith(matched_str + letter):\n",
    "                is_all_matched = False\n",
    "                # print('----------------')\n",
    "                break\n",
    "        if is_all_matched:\n",
    "            # matched_str = (matched_str + letter) if pos == 'head' else (letter + matched_str)\n",
    "            matched_str += letter\n",
    "        else:\n",
    "            break\n",
    "    \n",
    "    return matched_str if pos == 'head' else matched_str[::-1]\n",
    "\n",
    "get_common(['lever', 'leveler', 'levier'], 'head')\n",
    "get_common(['lever', 'leveler', 'levier'], 'tail')"
   ]
  },
  {
   "cell_type": "code",
   "execution_count": null,
   "metadata": {},
   "outputs": [],
   "source": [
    "def head_tail(words: tuple | list, position: str = 'head') -> str:\n",
    "    position = position.lower().strip()\n",
    " \n",
    "    if position not in ('head', 'tail', 'both'):\n",
    "        raise Exception(\"argument 'position' should only be 'head', 'tail', or 'both'.\")\n",
    "    # print(real_words)\n",
    "    match position:\n",
    "        case 'head':\n",
    "            return_str = get_common(words=words, pos='head')\n",
    "        case 'tail':\n",
    "            return_str = get_common(words=words, pos='tail')\n",
    "        case _:   # 'both'\n",
    "            return_str = get_common(words=words, pos='head') + '_' + get_common(words=words, pos='tail')\n",
    "    \n",
    "    return return_str\n",
    "\n",
    "print() \n",
    "raw = ('expensive', 'experience', 'export', 'expect', 'explicit')  # 5\n",
    "print(f'{raw = }')\n",
    "print(f\"{head_tail(raw, 'head') = }\\n\")   # 'exp'\n",
    "\n",
    "raw = ('frizzly', 'ferly', 'fly', 'fully', 'friendly', 'flexibly', 'fitly')  # 7\n",
    "print(f'{raw = }')\n",
    "print(f\"{head_tail(raw, 'tail') = }\\n\")   # 'ly'\n",
    "\n",
    "raw = ('lever', 'leveler', 'levier')  # 3\n",
    "print(f'{raw = }')\n",
    "print(f\"{head_tail(raw, 'both') = }\\n\")   # 'lev_er'\n",
    "\n",
    "raw = ['chinese', 'church', 'cheese', 'choice']   # 4\n",
    "print(f'{raw = }')\n",
    "print(f\"{head_tail(raw, 'head') = }\\n\")   # 'ch'\n",
    "\n",
    "raw = ['anorexia', 'alexia', 'anoxia', 'ataraxia', 'apraxia']   # 5\n",
    "print(f'{raw = }')\n",
    "print(f\"{head_tail(raw, 'tail') = }\\n\")   # 'xia'\n",
    "\n",
    "raw = ['psychotherapist', 'psycholinguist', 'psychobiologist', 'psychologist', 'psychophysicist', 'psychiatrist']   # 6\n",
    "print(f'{raw = }')\n",
    "print(f\"{head_tail(raw, 'both') = }\\n\")   # 'psych_ist'\n",
    "print()"
   ]
  },
  {
   "cell_type": "code",
   "execution_count": null,
   "metadata": {},
   "outputs": [],
   "source": [
    "def fracture(raw: tuple = ()) -> dict:\n",
    "    return {} if not raw else {raw[0]: raw[1]}\n",
    "\n",
    "# def fracture(raw: tuple = ()) -> dict:\n",
    "#     return {} if not raw else {raw[0]: raw[1:]}\n",
    "\n",
    "print()\n",
    "print(f\"1. {fracture()}\")        # 無參數\n",
    "print(f\"2. {fracture(())}\")      # 有參數，但參數是個空的tuple。\n",
    "print(f\"3. {fracture(('斷骨狀態', ('不完全骨折', '完全骨折', '粉碎性骨折')))}\")\n",
    "print(f\"4. {fracture(('骨折部位', ('顱骨骨折', '腕骨骨折', '脊椎骨折', '骨盆骨折', '股骨骨折', '肋骨骨折', '肩骨折', '肱骨骨折', ...)))}\")\n",
    "print(f\"5. {fracture(('處理步驟', ('檢查症狀', '檢查受傷位置', '初步固定', '送醫檢查')))}\")\n",
    "print(f\"6. {fracture(('手術方式', ('傳統手術', '微創手術')))}\")\n",
    "print(f\"7. {fracture(('鋼板種類', ('健保鋼板', '自費鋼板')))}\")\n",
    "print(f\"8. {fracture(('鋼板廠牌', ('DePuy Synthes', 'Stryker', 'Zimmer Biomet', 'Smith & Nephew', 'APS')))}\")\n",
    "print(f\"9. {fracture(('用藥', ('Tylenol', 'Advil', 'Motrin IB', 'teriparatide', 'naproxen', 'ibuprofen')))}\")\n",
    "print()\n",
    "# print(f\"1. {fracture()}\")        # 無參數\n",
    "# print(f\"2. {fracture(())}\")      # 有參數，但參數是個空的tuple。\n",
    "# print(f\"3. {fracture(('斷骨狀態', '不完全骨折', '完全骨折', '粉碎性骨折'))}\")\n",
    "# print(f\"4. {fracture(('骨折部位', '顱骨骨折', '腕骨骨折', '脊椎骨折', '骨盆骨折', '股骨骨折', '肋骨骨折', '肩骨折', '肱骨骨折', ...))}\")\n",
    "# print(f\"5. {fracture(('處理步驟', '檢查症狀', '檢查受傷位置', '初步固定', '送醫檢查'))}\")\n",
    "# print(f\"6. {fracture(('手術方式', '傳統手術', '微創手術'))}\")\n",
    "# print(f\"7. {fracture(('鋼板種類', '健保鋼板', '自費鋼板'))}\")\n",
    "# print(f\"8. {fracture(('鋼板廠牌', 'DePuy Synthes', 'Stryker', 'Zimmer Biomet', 'Smith & Nephew', 'APS'))}\")\n",
    "# print(f\"9. {fracture(('用藥', 'Tylenol', 'Advil', 'Motrin IB', 'teriparatide', 'naproxen', 'ibuprofen'))}\")\n",
    "print()    "
   ]
  },
  {
   "cell_type": "code",
   "execution_count": null,
   "metadata": {},
   "outputs": [],
   "source": [
    "# from datetime import datetime   # 前面的datetime是檔案(datetime.py)，後面的datetime是class(class datetime)\n",
    "from datetime import timedelta\n",
    "\n",
    "def get_type(raw: tuple | list = ()) -> tuple | list:\n",
    "    import builtins, copy, string, types\n",
    "    \n",
    "    new_list = []   \n",
    "    for item in raw:\n",
    "        # this_type = \n",
    "        match type(item):\n",
    "            case builtins.str:\n",
    "                # print('str')\n",
    "                if item.isdigit():\n",
    "                    new_item = item.zfill(4)\n",
    "                else:\n",
    "                    new_item = item\n",
    "            case builtins.int:\n",
    "                # print('int')\n",
    "                new_item = -item\n",
    "            case builtins.float:\n",
    "                # print('float')\n",
    "                new_item = round(item, 2)\n",
    "            case builtins.bool:\n",
    "                # print('bool')\n",
    "                new_item = not item\n",
    "            case builtins.list:\n",
    "                # print('list')\n",
    "                new_item = tuple(item)\n",
    "            case builtins.tuple:\n",
    "                # print('tuple')\n",
    "                new_item = list(item)\n",
    "            case builtins.set:\n",
    "                # print('set')\n",
    "                new_item = copy.deepcopy(item)\n",
    "                sub_item = r.choice(tuple(new_item))\n",
    "                new_item.remove(sub_item)\n",
    "            case builtins.dict:\n",
    "                # print('dict')\n",
    "                new_item = copy.deepcopy(item)\n",
    "                while item.get(key := ''.join(r.choice('ABC'))) is None:\n",
    "                    value = r.randint(0, 9)\n",
    "                    new_item[key] = value\n",
    "                    break\n",
    "            case types.NoneType:\n",
    "                # print('None')\n",
    "                new_item = 'null'\n",
    "            case _:\n",
    "                # print(f'{type(item) = }')\n",
    "                new_item = copy.deepcopy(item)\n",
    "        new_list.append(new_item)\n",
    "    return tuple(new_list) if type(raw) == tuple else new_list\n",
    "       \n",
    "       \n",
    "from datetime import timedelta\n",
    "       \n",
    "print()\n",
    "print(f'{get_type() = }')       # 無參數\n",
    "print(f'{get_type(()) = }')     # 參數為空的tuple\n",
    "print(f'{get_type([]) = }\\n')   # 參數為空的list\n",
    "raw = ['A', '5', -5, 1.618, False, None, [2], (4,), {3, 8, 1}, {'A': 5}]\n",
    "print(f'{raw = }')\n",
    "print(f'{get_type(raw) = }\\n')\n",
    "\n",
    "raw = (complex(50), range(5), type(2), timedelta(days=3))\n",
    "# raw = (complex(50), range(5), type(2), datetime(2023, 3, 26))\n",
    "print(f'{raw = }')\n",
    "print(f'{get_type(raw) = }')\n",
    "print()"
   ]
  },
  {
   "cell_type": "code",
   "execution_count": null,
   "metadata": {},
   "outputs": [],
   "source": [
    "import copy\n",
    "\n",
    "def detect_type(raw: tuple | list = ()) -> tuple | list:\n",
    "    new_list = []   \n",
    "    for item in raw:\n",
    "        match type(item).__name__:\n",
    "            case 'str':\n",
    "                # print(\"This is a string\")\n",
    "                if item.isdigit():\n",
    "                    new_item = item.zfill(4)\n",
    "                else:\n",
    "                    new_item = item\n",
    "            case 'int':\n",
    "                # print(\"This is an integer\")\n",
    "                new_item = -item\n",
    "            case 'float':\n",
    "                # print(\"This is a float\")\n",
    "                new_item = round(item, 2)\n",
    "            case 'bool':\n",
    "                # print(\"This is a boolean\")\n",
    "                new_item = not item\n",
    "            case 'NoneType':\n",
    "                # print(\"This is None\")\n",
    "                new_item = 'null'\n",
    "            case 'list':\n",
    "                # print(\"This is a list\")\n",
    "                new_item = tuple(item)\n",
    "            case 'tuple':\n",
    "                # print(\"This is a tuple\")\n",
    "                new_item = list(item)\n",
    "            case 'set':\n",
    "                # print(\"This is a set\")\n",
    "                new_item = copy.deepcopy(item)\n",
    "                sub_item = r.choice(tuple(new_item))\n",
    "                new_item.remove(sub_item)\n",
    "            case 'dict':\n",
    "                # print(\"This is a dictionary\")\n",
    "                new_item = copy.deepcopy(item)\n",
    "                while item.get(key := ''.join(r.choice('ABC'))) is None:\n",
    "                    value = r.randint(0, 9)\n",
    "                    new_item[key] = value\n",
    "                    break\n",
    "            case _:\n",
    "                # print('This is an other type')\n",
    "                new_item = copy.deepcopy(item)\n",
    "        new_list.append(new_item)\n",
    "    return tuple(new_list) if type(raw) == tuple else new_list\n",
    "\n",
    "       \n",
    "from datetime import timedelta\n",
    "       \n",
    "print()\n",
    "print(f'{detect_type() = }')       # 無參數\n",
    "print(f'{detect_type(()) = }')     # 參數為空的tuple\n",
    "print(f'{detect_type([]) = }\\n')   # 參數為空的list\n",
    "raw = ['A', '5', -5, 1.618, False, None, [2], (4,), {3, 8, 1}, {'A': 5}]\n",
    "print(f'{raw = }')\n",
    "print(f'{detect_type(raw) = }\\n')\n",
    "\n",
    "raw = (complex(50), range(5), type(2), timedelta(days=3))\n",
    "# raw = (complex(50), range(5), type(2), datetime(2023, 3, 26))\n",
    "print(f'{raw = }')\n",
    "print(f'{detect_type(raw) = }')\n",
    "print()"
   ]
  },
  {
   "cell_type": "code",
   "execution_count": null,
   "metadata": {},
   "outputs": [],
   "source": [
    "import types\n",
    "def detect_type(argument):\n",
    "    match type(argument):\n",
    "        case str:\n",
    "            print(\"This is a string\")\n",
    "            # do something with string argument\n",
    "            # do something else with string argument\n",
    "        case int:\n",
    "            print(\"This is an integer\")\n",
    "            # do something with integer argument\n",
    "            # do something else with integer argument\n",
    "        case float:\n",
    "            print(\"This is a float\")\n",
    "            # do something with float argument\n",
    "            # do something else with float argument\n",
    "        case bool:\n",
    "            print(\"This is a boolean\")\n",
    "            # do something with boolean argument\n",
    "            # do something else with boolean argument\n",
    "        case type(None):\n",
    "            print(\"This is None\")\n",
    "            # do something with None argument\n",
    "            # do something else with None argument\n",
    "        case list:\n",
    "            print(\"This is a list\")\n",
    "            # do something with list argument\n",
    "            # do something else with list argument\n",
    "        case tuple:\n",
    "            print(\"This is a tuple\")\n",
    "            # do something with tuple argument\n",
    "            # do something else with tuple argument\n",
    "        case set:\n",
    "            print(\"This is a set\")\n",
    "            # do something with set argument\n",
    "            # do something else with set argument\n",
    "        case dict:\n",
    "            print(\"This is a dictionary\")\n",
    "            # do something with dictionary argument\n",
    "            # do something else with dictionary argument\n",
    "        case _:\n",
    "            print(\"This is some other type\")\n",
    "            # do something with other type argument\n",
    "            # do something else with other type argument\n",
    "\n",
    "detect_type('a')"
   ]
  },
  {
   "cell_type": "code",
   "execution_count": null,
   "metadata": {},
   "outputs": [],
   "source": [
    "import random as r\n",
    "\n",
    "def insert_sep(raw: str = '', sep: tuple | list = ()) -> str:\n",
    "    # print('/' + raw + '/')\n",
    "    return '' if not sep else r.choice(sep).join(raw).strip()\n",
    "\n",
    "print()\n",
    "print(f\"{insert_sep() = }\")\n",
    "print(f\"{insert_sep('Python') = }\")\n",
    "print(f\"{insert_sep(sep=()) = }\")\n",
    "print(f\"{insert_sep('abcdefg', ('.', ',')) = }\")\n",
    "print(f\"{insert_sep('人有悲歡離合', ('*', '_', '^')) = }\")\n",
    "print(f\"{insert_sep('月有陰晴圓缺', (' ',)) = }\")\n",
    "print(f\"{insert_sep('123456', ('+', '-', '*', '/')) = }\")\n",
    "print(f\"{insert_sep('心肝脾肺腎 ', ('臟 ',)) = }\")\n",
    "sep = (' 肩胛', ' 下頜', ' 肋', ' 肱', ' 中節趾')\n",
    "print(f'{sep = }')\n",
    "print(f\"{insert_sep(' 骨骨骨骨', sep) = }\")\n",
    "print()\n",
    "print()\n"
   ]
  },
  {
   "cell_type": "code",
   "execution_count": null,
   "metadata": {},
   "outputs": [],
   "source": [
    "def get_fee(fees: dict) -> int:\n",
    "    opd_reg_fee = 0 if fees.get('門診掛號費') is None else fees['門診掛號費']\n",
    "    opd_visits = 0 if fees.get('門診次數') is None else fees['門診次數']\n",
    "    er_reg_fee = 0 if fees.get('急診掛號費') is None else fees['急診掛號費']\n",
    "    er_visits = 0 if fees.get('急診次數') is None else fees['急診次數']\n",
    "    total_dx_fee = 0 if fees.get('總診察費') is None else fees['總診察費']\n",
    "    self_paid_plate_fee = 0 if fees.get('自付鋼板費') is None else fees['自付鋼板費']\n",
    "    other_fee =  0 if fees.get('其他費用') is None else fees['其他費用']\n",
    "    total_fee = opd_reg_fee* opd_visits + er_reg_fee*er_visits + total_dx_fee + self_paid_plate_fee + other_fee\n",
    "\n",
    "    return total_fee\n",
    "    \n",
    "print()    \n",
    "fees = {'門診掛號費': 390, '門診次數': 6, '急診掛號費': 600, '急診次數': 1, '總診察費': 2000, '自付鋼板費': 75_000}\n",
    "print(f'{fees = }')\n",
    "print(f\"{get_fee(fees) = }\")\n",
    "fees = {'門診掛號費': 470, '門診次數': 4, '急診掛號費': 800, '其他費用': 3200}\n",
    "print(f'{fees = }')\n",
    "print(f\"{get_fee(fees) = }\")\n",
    "fees = {}\n",
    "print(f'{fees = }')\n",
    "print(f\"{get_fee(fees) = }\")\n",
    "print()"
   ]
  },
  {
   "cell_type": "code",
   "execution_count": null,
   "metadata": {},
   "outputs": [],
   "source": [
    "def plus(nums: tuple | list = ()) -> list:\n",
    "    import math\n",
    "    # return [nums[i] + nums[-(i + 1)] for i in range(math.ceil(len(nums) / 2))]\n",
    "    return [nums[i] + nums[-(i + 1)] for i in range((len(nums) // 2))]\n",
    "\n",
    "print()\n",
    "print(f'{plus() = }')      # [] (無參數)\n",
    "print(f'{plus(()) = }')    # [] (空tuple)\n",
    "print(f'{plus([]) = }')    # [] (空list)\n",
    "print(f'{plus((100,)) = }')   # [200]\n",
    "print(f'{plus([100, -50]) = }')   # [50]\n",
    "print(f'{plus((1, 3, 5, 7, 9)) = }')   # [10, 10, 10]\n",
    "print(f'{plus([9, 0, -6, 32, 7, 11]) = }')   # [20, 7, 26]\n",
    "print(f'{plus((8, 10, 2, 6, 23, -6, -2, -10, -8)) = }')   # [0, 0, 0, 0, 46]\n",
    "print()"
   ]
  },
  {
   "cell_type": "code",
   "execution_count": null,
   "metadata": {},
   "outputs": [],
   "source": [
    "import math\n",
    "\n",
    "def add_mirror(nums: tuple | list = ()) -> list:\n",
    "    n = len(nums)\n",
    "    is_odd = (n % 2 == 1)\n",
    "    # 元素個數為奇數時，中間元素double其值。\n",
    "    return [nums[i] + nums[-(i + 1)] for i in range(math.ceil(n / 2))]\n",
    "    \n",
    "    # 中間元素落單時保留原值。\n",
    "    # return [nums[i] if is_odd and i == n // 2 else (nums[i] + nums[-(i + 1)]) for i in range(math.ceil(n / 2))]\n",
    "\n",
    "    # 中間元素落單時捨棄不納。\n",
    "    # return [nums[i] + nums[-(i + 1)] for i in range(n // 2)]\n",
    "\n",
    "# print()\n",
    "print(f'{add_mirror() = }')      # [] (無參數)\n",
    "print(f'{add_mirror(()) = }')    # [] (空tuple)\n",
    "print(f'{add_mirror([]) = }')    # [] (空list)\n",
    "print(f'{add_mirror((100,)) = }')   # [200]\n",
    "print(f'{add_mirror([100, -50]) = }')   # [50]\n",
    "print(f'{add_mirror((1, 3, 4, 7, 9)) = }')   # [10, 10, 8]\n",
    "print(f'{add_mirror([9, 0, -6, 32, 7, 11]) = }')   # [20, 7, 26]\n",
    "print(f'{add_mirror((8, 10, 2, 6, 23, -6, -2, -10, -8)) = }')   # [0, 0, 0, 0, 46]"
   ]
  },
  {
   "cell_type": "code",
   "execution_count": null,
   "metadata": {},
   "outputs": [],
   "source": [
    "import math\n",
    "\n",
    "def max_mirror(nums: tuple | list = ()) -> list:\n",
    "    n = len(nums)\n",
    "    is_odd = (n % 2 == 1)\n",
    "    # 元素個數為奇數時，中間元素double其值。\n",
    "    return [max(nums[i]*(i + 1), nums[-(i + 1)]**2) for i in range(math.ceil(n / 2))]\n",
    "    \n",
    "    # 中間元素落單時保留原值。\n",
    "    # return [nums[i] if is_odd and i == n // 2 else (nums[i] + nums[-(i + 1)]) for i in range(math.ceil(n / 2))]\n",
    "\n",
    "    # 中間元素落單時捨棄不納。\n",
    "    # return [nums[i] + nums[-(i + 1)] for i in range(n // 2)]\n",
    "\n",
    "print()\n",
    "print(f'{max_mirror() = }')             # [] (無參數)\n",
    "print(f'{max_mirror(()) = }')           # [] (空tuple)\n",
    "print(f'{max_mirror([]) = }')           # [] (空list)\n",
    "print(f'{max_mirror((2,)) = }')         # [4]\n",
    "print(f'{max_mirror([100, -10]) = }')   # [100]\n",
    "print(f'{max_mirror((82, 12, 4, 7, 9)) = }')   # [82, 49, 16]\n",
    "print(f'{max_mirror((8, 25, 2, 6, 4, -6, -2, -7, -8)) = }')   # [64, 50, 6, 36, 20]\n",
    "print(f'{max_mirror([10, 0, 8, -5, 5, 3]) = }')   # [10, 25, 51]\n",
    "print()"
   ]
  },
  {
   "cell_type": "code",
   "execution_count": null,
   "metadata": {},
   "outputs": [],
   "source": [
    "def rx(**medicines: dict) -> None:\n",
    "    for medicine, dose in medicines.items():\n",
    "        print(f'藥名：{medicine:25}劑量：{dose}')\n",
    "\n",
    "print() \n",
    "# 傳出不定數量的關鍵字參數給函數。\n",
    "rx(abc=35, ed=18.5, xyz=52)   # 實際藥名和劑量請自行修改調整。\n",
    "print()\n",
    "rx(rst=3.6, ytre=25)\n",
    "print()\n",
    "rx(mno=3.6, Bkli=25, Leme=10.5, rr=6, tt=7.0)\n",
    "print()"
   ]
  },
  {
   "cell_type": "code",
   "execution_count": null,
   "metadata": {},
   "outputs": [],
   "source": [
    "def keep_uniques(chars: str) -> str:\n",
    "    return ''.join([char if char not in chars[i + 1:] else '' for i, char in enumerate(chars)])\n",
    "\n",
    "print(f\"{del_uniques('DEFGBACAEDDBAB') = }\")\n",
    "print(f\"{del_uniques('DEFGBACAEDDBAB') = }\")\n",
    "print(f\"{del_uniques('DEFGBACAEDDBAB') = }\")\n",
    "print(f\"{del_uniques('DEFGBACAEDDBAB') = }\")\n",
    "print(f\"{del_uniques('DEFGBACAEDDBAB') = }\")\n",
    "print(f\"{del_uniques('DEFGBACAEDDBAB') = }\")"
   ]
  },
  {
   "cell_type": "code",
   "execution_count": null,
   "metadata": {},
   "outputs": [],
   "source": [
    "# ex75：函數-比對是否同一物件\n",
    "import copy \n",
    "\n",
    "def is_same_obj(obj1: object, *obj2: object) -> list:\n",
    "    results = []\n",
    "    items = (obj1,) + obj2\n",
    "    for index, item1 in enumerate(items):\n",
    "        for item2 in items[index + 1:]:\n",
    "            results.append(item1 is item2)\n",
    "    return results\n",
    "\n",
    "        \n",
    "print()\n",
    "print(f\"{is_same_obj(1) = }\\n\")\n",
    "\n",
    "a = 1; b = 1\n",
    "print(\"a = 1; b = 1\")\n",
    "print(f\"{is_same_obj(a, b) = }\\n\")\n",
    "\n",
    "a = 3; b = 4; c = a\n",
    "print(\"a = 3; b = 4; c = a\")\n",
    "print(f\"{is_same_obj(a, b, c) = }\\n\")\n",
    "\n",
    "a = 'A'; b = 'B'; c = 'C'; d = 'B'\n",
    "print(\"a = 'A'; b = 'B'; c = 'C'; d = 'B'\")\n",
    "print(f\"{is_same_obj(a, b, c, d) = }\\n\")\n",
    "\n",
    "a = [1, 3, 5]; b = a\n",
    "print(\"a = [1, 3, 5]; b = a\")\n",
    "print(f\"{is_same_obj(a, b) = }\\n\")\n",
    "\n",
    "a = [1, 3, 5]; b = copy.copy(a)\n",
    "print(\"a = [1, 3, 5]; b = copy.copy(a)\")\n",
    "print(f\"{is_same_obj(a, b) = }\\n\")\n",
    "\n",
    "a = (1, 3, 5); b = a\n",
    "print(\"a = (1, 3, 5); b = a\")\n",
    "print(f\"{is_same_obj(a, b) = }\\n\")\n",
    "\n",
    "a = (1, 3, 5); b = copy.deepcopy(a)\n",
    "print(\"a = (1, 3, 5); b = copy.deepcopy(a)\")\n",
    "print(f\"{is_same_obj(a, b) = }\\n\")\n",
    "\n",
    "a = {2, 8, 4, 7}; b = a; c = b; d = copy.copy(c)\n",
    "print(\"a = {2, 8, 4, 7}; b = a; c = b; d = copy.copy(c)\")\n",
    "print(f\"{is_same_obj(a, b, c, d) = }\\n\")\n",
    "\n",
    "a = {2, 8, 4, 7}; b = copy.copy(a); c = copy.deepcopy(a)\n",
    "print(\"a = {2, 8, 4, 7}; b = copy.copy(a); c = copy.deepcopy(a)\")\n",
    "print(f\"{is_same_obj(a, b, c) = }\\n\")\n",
    "\n",
    "a = {'id': 1, 'name': 'Alex'}; b = a\n",
    "print(\"a = {'id': 1, 'name': 'Alex'}; b = a\")\n",
    "print(f\"{is_same_obj(a, b) = }\\n\")\n",
    "\n",
    "a = {'id': 1, 'name': 'Alex'}; b = copy.deepcopy(a); c = b\n",
    "print(\"{'a = {'id': 1, 'name': 'Alex'}; b = copy.deepcopy(a); c = b\")\n",
    "print(f\"{is_same_obj(a, b, c) = }\\n\")\n",
    "\n",
    "print(f\"{is_same_obj(True, True, False) = }\\n\")\n",
    "\n",
    "print(f\"{is_same_obj(None, None) = }\\n\")\n",
    "\n",
    "a = 'A'; b = 'B'; c = 'C'; d = 'B'\n",
    "print(f\"{is_same_obj(a, b, c, d) = }\\n\")\n"
   ]
  },
  {
   "cell_type": "code",
   "execution_count": null,
   "metadata": {},
   "outputs": [],
   "source": [
    "t1 = 'abc'\n",
    "t2 = ('iui3', 5)\n",
    "items = tuple(t1) + t2\n",
    "items"
   ]
  },
  {
   "cell_type": "code",
   "execution_count": null,
   "metadata": {},
   "outputs": [],
   "source": [
    "# ex76：函數-猜數字\n",
    "def guess_num(lo: int = 1, hi: int = 100) -> tuple:\n",
    "    import random as r\n",
    "    ans = r.randint(lo, hi)\n",
    "    init_score = 100\n",
    "    penalty = 5\n",
    "    guesses = []\n",
    "    # while (guess := r.randint(lo, hi)) != ans:\n",
    "    #     if guess not in guesses:\n",
    "    #         guesses.append(guess)\n",
    "    # guesses.append(guess)\n",
    "        \n",
    "    # while True:\n",
    "    #     guess = r.randint(lo, hi)\n",
    "    #     if guess not in guesses:\n",
    "    #         guesses.append(guess)\n",
    "    #     if guess == ans:\n",
    "    #         break\n",
    "    \n",
    "    while True:\n",
    "        guess = r.randint(lo, hi)\n",
    "        if guess not in guesses:\n",
    "            guesses.append(guess)\n",
    "            if guess < ans:\n",
    "                lo = guess + 1\n",
    "            elif guess > ans:\n",
    "                hi = guess - 1\n",
    "            else:\n",
    "                break\n",
    "    \n",
    "    attempts = len(guesses)\n",
    "    score = max(0, init_score - (attempts - 1)*penalty)\n",
    "    return attempts, score  #, ans, guesses\n",
    "\n",
    "print()\n",
    "# 此程式目的是測試函數的效率。猜測次數越少(得分越高)者，表示函數的演算法\n",
    "# 越佳，效能越好。\n",
    "# 程式反複執行loops次，再算平均猜測次數和平均得分。\n",
    "lo = 1\n",
    "hi = 100\n",
    "loops = 1000\n",
    "sum_guesses = 0\n",
    "sum_scores = 0\n",
    "\n",
    "for _ in range(loops):\n",
    "    guesses, score = guess_num(lo, hi)\n",
    "    sum_guesses += guesses\n",
    "    sum_scores += score\n",
    "    \n",
    "print(f'平均猜測次數：{round(sum_guesses / loops, 2)}')\n",
    "print(f'平均得分　　：{round(sum_scores / loops, 2)}')"
   ]
  },
  {
   "cell_type": "code",
   "execution_count": null,
   "metadata": {},
   "outputs": [],
   "source": [
    "# ex77：函數-重複切除首尾\n",
    "def truncate_strs(raw: str = '') -> list:\n",
    "    n = len(raw)\n",
    "    half_n = n // 2\n",
    "    # print((n - 1))\n",
    "    # return [raw[i + 1:-(i + 1)] for i in range(n // 2) if not (n % 2 == 0 and i == n - 1)]\n",
    "    return [raw[i + 1:-(i + 1)] for i in range(half_n) if not (n % 2 == 0 and i == half_n-1)]\n",
    "\n",
    "print()\n",
    "print(f\"{truncate_strs() = }\")               # 無參數 (傳回空list)\n",
    "print(f\"{truncate_strs('') = }\")             # 空字串 (傳回空list)\n",
    "print(f\"{truncate_strs('A') = }\")            # one char (傳回空list)\n",
    "print(f\"{truncate_strs('AB') = }\")           # two chars (傳回空list)\n",
    "print(f\"{truncate_strs('ABC') = }\")          # odd\n",
    "print(f\"{truncate_strs('abcdef') = }\")       # even\n",
    "print(f\"{truncate_strs('abcdefg') = }\")      # odd\n",
    "print(f\"{truncate_strs('Charming') = }\")     # even\n",
    "print(f\"{truncate_strs('抽刀斷水') = }\")    # even\n",
    "print(f\"{truncate_strs(' ^*123*^ ') = }\")    # odd\n",
    "print()"
   ]
  },
  {
   "cell_type": "code",
   "execution_count": null,
   "metadata": {},
   "outputs": [],
   "source": [
    "# ex77：函數-重複切除首尾\n",
    "def truncate_strs(raw: str = '', seps: int = 1) -> list:\n",
    "    n = len(raw)\n",
    "    half_n = n // 2\n",
    "    return [raw[i + seps:-(i + seps)] for i in range(half_n) if not (n % 2 == 0 and i == half_n-1)]\n",
    "\n",
    "print()\n",
    "print(f\"{truncate_strs() = }\")               # 無參數 (傳回空list)\n",
    "print(f\"{truncate_strs('') = }\")             # 空字串 (傳回空list)\n",
    "print(f\"{truncate_strs('A') = }\")            # one char (傳回空list)\n",
    "print(f\"{truncate_strs('AB') = }\")           # two chars (傳回空list)\n",
    "print(f\"{truncate_strs('ABC', 2) = }\")            # odd\n",
    "print(f\"{truncate_strs('abcdefgh', 2) = }\")       # even\n",
    "print(f\"{truncate_strs('abcdefghijklmlopqrstuvw', 4) = }\")      # odd\n",
    "print(f\"{truncate_strs('Charming', 1) = }\")     # even\n",
    "print(f\"{truncate_strs('抽刀斷水水更流', 2) = }\")    # odd\n",
    "print(f\"{truncate_strs(' ^*0123456789*^ ', 3) = }\")    # even\n",
    "print()"
   ]
  },
  {
   "attachments": {},
   "cell_type": "markdown",
   "metadata": {},
   "source": [
    "* comprehensions:\n",
    "    * list comprehension\n",
    "    * set comprehension\n",
    "    * dict comprehension"
   ]
  },
  {
   "cell_type": "code",
   "execution_count": null,
   "metadata": {},
   "outputs": [],
   "source": [
    "# 算平方\n",
    "nums = [1, 4, 7, 9, 6]\n",
    "\n",
    "# squares = []  # [1, 16, 49, 81]\n",
    "# for num in nums:\n",
    "#     squares.append(num**2)\n",
    "\n",
    "squares = [num**2 for num in nums]  # list comprehension\n",
    "\n",
    "print(nums)    \n",
    "print(squares)"
   ]
  },
  {
   "cell_type": "code",
   "execution_count": null,
   "metadata": {},
   "outputs": [],
   "source": [
    "# 找出奇數\n",
    "nums = [1, 4, 7, 9, 6]\n",
    "\n",
    "# odds = []  # [1, 7, 9]\n",
    "# for num in nums:\n",
    "#     if num % 2 == 1:\n",
    "#         odds.append(num)\n",
    "\n",
    "odds = [num for num in nums if num % 2 == 1]  # list comprehension\n",
    "\n",
    "print(nums)    \n",
    "print(odds)"
   ]
  },
  {
   "cell_type": "code",
   "execution_count": null,
   "metadata": {},
   "outputs": [],
   "source": [
    "# 大於10者加1，小於10者減1, 剛好10不變。\n",
    "nums = [1, 11, 17, 9, 10, 5]\n",
    "\n",
    "new_nums = []  # [0, 12, 18, 8, 10, 4]\n",
    "\n",
    "# for num in nums:\n",
    "#     if num > 10:\n",
    "#         # new_num = num + 1\n",
    "#         new_nums.append(num + 1)\n",
    "#     elif num < 10:\n",
    "#         # new_num = num - 1\n",
    "#         new_nums.append(num - 1)\n",
    "#     else: \n",
    "#         # new_num = num\n",
    "#         new_nums.append(num)\n",
    "#     # new_nums.append(new_num)\n",
    "\n",
    "new_nums = [num + 1 if num > 10 else num - 1 if num < 10 else num for num in nums]  # list comprehension\n",
    "\n",
    "print(nums)    \n",
    "print(new_nums)\n",
    "\n",
    "# [0, 12, 18, 8, 10, 4]"
   ]
  },
  {
   "cell_type": "code",
   "execution_count": null,
   "metadata": {},
   "outputs": [],
   "source": [
    "# 找出奇數，該奇數大於等於9要乘2，小於9則除以2。\n",
    "nums = [11, 16, 9, 10, 5]\n",
    "\n",
    "# new_nums = []  # [22, 18, 2.5]\n",
    "# for num in nums:\n",
    "#     if num % 2 == 1:  # 取奇數\n",
    "#         if num >= 9:\n",
    "#             new_nums.append(num * 2)\n",
    "#         else: \n",
    "#             new_nums.append(round(num / 2, 2))\n",
    "\n",
    "new_nums = [num * 2 if num >= 9 else round(num / 2, 2) for num in nums if num % 2 == 1]  # list comprehension\n",
    "\n",
    "print(nums)    \n",
    "print(new_nums)\n",
    "\n",
    "# [22, 18, 2.5]"
   ]
  },
  {
   "cell_type": "code",
   "execution_count": null,
   "metadata": {},
   "outputs": [],
   "source": [
    "import copy\n",
    "\n",
    "patients = [\n",
    "    {'nane': '劉', 'id': 1}, \n",
    "    {'nane': '林', 'id': 2}, \n",
    "    {'nane': '王', 'id': 3}, \n",
    "    {'nane': '李', 'id': 4}, \n",
    "    {'nane': '張', 'id': 5}\n",
    "    ]\n",
    "\n",
    "for patient in patients:\n",
    "    # print(f'before: {id(patients[4])}')\n",
    "    # key name not changed.\n",
    "    # patient = {('name' if key == 'nane' else key): value for key, value in patient.items()}\n",
    "    \n",
    "    # key name changed, but doesn't preserve key order.\n",
    "    # patient.update({'name': patient.pop('nane')})  \n",
    "    \n",
    "    # key name changed and key order preserves, with the same reference.\n",
    "    new_patient = copy.deepcopy(patient)\n",
    "    patient.clear()\n",
    "    patient.update({('name' if key == 'nane' else key): value for key, value in new_patient.items()})\n",
    "    \n",
    "    # print(f'after : {id(patients[4])}\\n')      \n",
    "    # patient\n",
    "        \n",
    "print(f'{patients = }')\n"
   ]
  },
  {
   "cell_type": "code",
   "execution_count": null,
   "metadata": {},
   "outputs": [],
   "source": [
    "my_dict = {'id': 1, 'nane': 'Alex', 'bw': 65.1, 'bmi': 22.9}\n",
    "id1 = id(my_dict)\n",
    "\n",
    "my_dict.clear()\n",
    "my_dict.update({'id': 1, 'name': 'Alex', 'bw': 65.1, 'bmi': 22.9})\n",
    "my_dict\n",
    "id2 = id(my_dict)\n",
    "id1 == id2\n"
   ]
  },
  {
   "cell_type": "code",
   "execution_count": null,
   "metadata": {},
   "outputs": [],
   "source": [
    "class Stack:\n",
    "    __top = -1\n",
    "    def __init__(self):\n",
    "        self.items = []\n",
    "\n",
    "    def push(self, item):\n",
    "        self.items.append(item)\n",
    "\n",
    "    def pop(self):\n",
    "        return self.items.pop() if not self.is_empty() else None\n",
    "\n",
    "    def is_empty(self):\n",
    "        return not self.items\n",
    "\n",
    "    def top(self):\n",
    "        return self.items[-1] if not self.is_empty() else None\n",
    "    \n",
    "from datetime import datetime\n",
    "print(f'{datetime.now().strftime(\"%Y-%m-%d %H:%M:%S\")} class Stack defined.')    \n"
   ]
  },
  {
   "cell_type": "code",
   "execution_count": null,
   "metadata": {},
   "outputs": [],
   "source": [
    "# 使用2個tuples。\n",
    "def is_paired(chars: str = '') -> int:\n",
    "    opening_brackets = ('(', '[', '{', '<')\n",
    "    closing_brackets = (')', ']', '}', '>')\n",
    "    is_balanced = True\n",
    "    brackets_stack = Stack()\n",
    "    for index, char in enumerate(chars):\n",
    "        if char in opening_brackets:\n",
    "            brackets_stack.push(char)\n",
    "        elif char in closing_brackets:\n",
    "            obj = brackets_stack.pop()\n",
    "            \n",
    "            if obj is None:\n",
    "                is_balanced = False\n",
    "                break\n",
    "            if closing_brackets.index(char) != opening_brackets.index(obj):  # cross\n",
    "                is_balanced = False\n",
    "                break\n",
    "    if brackets_stack.items:\n",
    "        is_balanced = False\n",
    "    return -1 if is_balanced else index\n"
   ]
  },
  {
   "cell_type": "code",
   "execution_count": null,
   "metadata": {},
   "outputs": [],
   "source": [
    "# ex85：函數-括號匹配-2(使用dict)\n",
    "def is_paired(chars: str = '') -> int:\n",
    "    # opening_tokens = ('(', '[', '{', '<')\n",
    "    # closing_tokens = (')', ']', '}', '>')\n",
    "    brackets_map = {')': '(', '}': '{', ']': '[', '>': '<', '\"': '\"', \"'\": \"'\", '`': '`'}\n",
    "    is_balanced = True\n",
    "    brackets_stack = Stack()\n",
    "    index = 999\n",
    "    for index, char in enumerate(chars):\n",
    "        # print(index)\n",
    "        if char in brackets_map.values():   # opening bracket\n",
    "            brackets_stack.push(char)  \n",
    "        elif char in brackets_map.keys():   # closing bracket\n",
    "            item = brackets_stack.pop()\n",
    "            # if item is None:\n",
    "            #     is_balanced = False\n",
    "            #     break\n",
    "            if item != brackets_map[char]:  # cross\n",
    "                is_balanced = False\n",
    "                break\n",
    "    if not brackets_stack.is_empty():  # 原字串遍歷完，stack理應清空。沒有清空表示有些opening缺了配對的closing。\n",
    "        is_balanced = False\n",
    " \n",
    "    # return is_balanced   # -1 if is_balanced else index\n",
    "    return -1 if is_balanced else index\n"
   ]
  },
  {
   "cell_type": "code",
   "execution_count": null,
   "metadata": {},
   "outputs": [],
   "source": [
    "# 加上quotes\n",
    "def is_paired(chars: str = ''):\n",
    "    stack = Stack()\n",
    "    quotes_map = {\"'\": \"'\", '\"': '\"', '`': '`'}\n",
    "    brackets_map = {')': '(', '}': '{', ']': '['}  # , \"'\": \"'\", '\"': '\"', '`': '`'}\n",
    "    tokens_map = {**quotes_map, **brackets_map}\n",
    "\n",
    "    for char in chars:\n",
    "        if char in tokens_map.values():\n",
    "            # If the current character is a quote, \n",
    "            # and it matches the top of the stack, pop it.\n",
    "            if char in quotes_map and not stack.is_empty() and stack.top() == char:\n",
    "                stack.pop()\n",
    "            else:\n",
    "                stack.push(char)\n",
    "        elif char in tokens_map.keys():\n",
    "            if stack.is_empty() or stack.pop() != tokens_map[char]:\n",
    "                return False\n",
    "\n",
    "    return stack.is_empty()\n"
   ]
  },
  {
   "cell_type": "code",
   "execution_count": null,
   "metadata": {},
   "outputs": [],
   "source": [
    "print()\n",
    "print(f\"{is_paired()                                   = }\")    # -1\n",
    "print(f\"{is_paired('')                                 = }\")    # -1\n",
    "print(f\"{is_paired('abc(..+- `***567[00]321: )xyz') = }\")    # -1\n",
    "print(f\"{is_paired('abc(..{+- <***> 567[00]321: )xyz') = }\")    # 28\n",
    "print(f\"{is_paired('abc(..{+- >***<}567[00]321: )xyz') = }\")    # 10\n",
    "print(f\"{is_paired('abc(..{+- <***>}567[00)321: ]xyz') = }\")    # 22\n",
    "print(f\"{is_paired('abcpy..+- |_***56700321e xy  ^^z') = }\")    # -1\n",
    "print(f\"{is_paired('abcpy..+- |_***56700321{ xy  ^^z') = }\")    # 31\n",
    "print(f\"{is_paired('abcpy..+- |_***56700>321 xy  ^^z') = }\")    # 20\n",
    "print()"
   ]
  },
  {
   "cell_type": "code",
   "execution_count": null,
   "metadata": {},
   "outputs": [],
   "source": [
    "import random\n",
    "def roshambo(player1: str = 'John Doe', player2: str = 'Jane Doe', \n",
    "             shapes: tuple = ('剪刀', '石頭', '布'), \n",
    "             weights_sentinel: tuple | str = '__no_value__') -> dict:\n",
    "    # shapes_ = {'剪刀': 1, '石頭': 2, '布': 3}\n",
    "    shapes_amount = len(shapes)\n",
    "    shapes = tuple([{'shape': shape, 'level': level} for level, shape in enumerate(shapes, 1)])\n",
    "    if weights_sentinel == '__no_value__':\n",
    "        weights = [1] * shapes_amount\n",
    "    else:\n",
    "        weights = weights_sentinel\n",
    "    # return {'shape': random.choice(shapes), 'len': shapes_amount)}\n",
    "    rounds = 0\n",
    "    while True:\n",
    "        shape1 = random.choice(shapes)\n",
    "        shape2 = random.choice(shapes)\n",
    "        # shape2 = shapes[0]\n",
    "        # shape1 = shapes[len(shapes) - 1]\n",
    "        # print(f'{shape1 = }   {shape2 = }')\n",
    "        # result = ({} shape1)\n",
    "        rounds += 1\n",
    "        if (shape1['level'] == 1 and shape2['level'] == shapes_amount):\n",
    "            winner = player1\n",
    "            break\n",
    "        elif (shape2['level'] == 1 and shape1['level'] == shapes_amount): \n",
    "            winner = player2\n",
    "            break\n",
    "        elif (shape1['level']) > shape2['level']:\n",
    "            # print(f'{player1} wins at time {rounds}.')\n",
    "            winner = player1\n",
    "            break\n",
    "        elif (shape2['level']) > shape1['level']:\n",
    "            winner = player2\n",
    "            break\n",
    "    \n",
    "    if winner == player1:\n",
    "        winner_shape = shape1['shape'] \n",
    "        loser_shape = shape2['shape']\n",
    "    else:\n",
    "        winner_shape = shape2['shape'] \n",
    "        loser_shape = shape1['shape']\n",
    "    return {'winner': winner, 'w_shape': winner_shape, 'l_shape': loser_shape, 'rounds': rounds}\n",
    "    # return (winner, winner_shape, loser_shape, rounds)\n",
    "\n",
    "print()\n",
    "print(f\"{roshambo() = }\\n\")\n",
    "print(f\"{roshambo('奕辰', '欣怡') = }\\n\")\n",
    "print(f\"{roshambo('柏宇', '子晴') = }\\n\")\n",
    "\n",
    "shapes = ('rock', 'paper', 'scissors')\n",
    "print(f'{shapes = }')\n",
    "print(f\"{roshambo('Em', 'Ro', shapes) = }\\n\")\n",
    "\n",
    "shapes = ('布', '剪刀', '石頭')\n",
    "print(f'{shapes = }')\n",
    "print(f\"{roshambo('Al', 'Bo', shapes) = }\\n\")\n",
    "\n",
    "shapes = ('剪刀', '大理石', '鑽石', '布')\n",
    "print(f'{shapes = }')\n",
    "print(f\"{roshambo('Ed', 'Jo', shapes) = }\\n\")\n",
    "\n",
    "shapes = ('剪刀', '大理石', '花崗石', '鑽石', '布')\n",
    "print(f'{shapes = }')\n",
    "print(f\"{roshambo('張', '李', shapes) = }\\n\")"
   ]
  },
  {
   "cell_type": "code",
   "execution_count": null,
   "metadata": {},
   "outputs": [],
   "source": [
    "def my_function(shapes_amount=3, weights_sentinel='__no_value__'):\n",
    "    if weights_sentinel == '__no_value__':\n",
    "        weights = [1] * shapes_amount\n",
    "    else:\n",
    "        weights = weights_sentinel\n",
    "    return weights\n"
   ]
  },
  {
   "cell_type": "code",
   "execution_count": null,
   "metadata": {},
   "outputs": [],
   "source": [
    "def test_my_function():\n",
    "    # Test no argument at all call\n",
    "    assert my_function() == [1, 1, 1]\n",
    "    \n",
    "    # Test no argument 'weights_sentinel' call\n",
    "    assert my_function(weights_sentinel='__no_value__') == [1, 1, 1]\n",
    "    \n",
    "    # Test no argument 'weights_sentinel' call\n",
    "    assert my_function(shapes_amount=5) == [1, 1, 1, 1, 1]\n",
    "    \n",
    "    # Test with shapes_amount and weights_sentinel\n",
    "    assert my_function(shapes_amount=5, weights_sentinel='__no_value__') == [1, 1, 1, 1, 1]\n",
    "    assert my_function(shapes_amount=5, weights_sentinel=[1, 2, 3, 4, 5]) == [1, 2, 3, 4, 5]\n",
    "\n",
    "test_my_function()\n",
    "print('test for my_function() passed.')"
   ]
  },
  {
   "cell_type": "code",
   "execution_count": null,
   "metadata": {},
   "outputs": [],
   "source": [
    "# Test cases\n",
    "print()\n",
    "print(f\"{is_paired()                                   = }\")    # True (no argument passed)\n",
    "print(f\"{is_paired('')                                 = }\")    # True (empty string)\n",
    "print(f\"{is_paired('abc(..{+- <***>}567[00]321: )xyz') = }\")    # True (balanced)\n",
    "print(f\"{is_paired('abc(..{+- <***> 567[00]321: )xyz') = }\")    # False (not paired)\n",
    "print(f\"{is_paired('abc(..{+- >***<}567[00]321: )xyz') = }\")    # False (closed before open)\n",
    "print(f\"{is_paired('abc(..{+- <***>}567[00)321: ]xyz') = }\")    # False (crossed)\n",
    "print(f\"{is_paired('abcpy..+- |_***56700321e xy  ^^z') = }\")    # True (no any brackets)  \n",
    "print(f\"{is_paired('abcpy..+- |_***56700321{ xy  ^^z') = }\")    # False (single open) \n",
    "print(f\"{is_paired('abcpy..+- |_***56700>321 xy  ^^z') = }\")    # False (single closed) \n",
    "print()"
   ]
  },
  {
   "cell_type": "code",
   "execution_count": null,
   "metadata": {},
   "outputs": [],
   "source": [
    "# test cases\n",
    "print()\n",
    "print(f\"{is_paired()                                   = }\")    # -1 (no argument passed)\n",
    "print(f\"{is_paired('')                                 = }\")    # -1 (empty string)\n",
    "print(f\"{is_paired('abc(..{+- <***>}567[00]321: )xyz') = }\")    # -1 (balanced)\n",
    "print(f\"{is_paired('abc(..{+- <***> 567[00]321: )xyz') = }\")    # 28 (not paired)\n",
    "print(f\"{is_paired('abc(..{+- >***<}567[00]321: )xyz') = }\")    # 10 (closed before open)\n",
    "print(f\"{is_paired('abc(..{+- <***>}567[00)321: ]xyz') = }\")    # 22 (crossed)\n",
    "print(f\"{is_paired('abcpy..+- |_***56700321e xy  ^^z') = }\")    # -1 (no any brackets)  \n",
    "print(f\"{is_paired('abcpy..+- |_***56700321{ xy  ^^z') = }\")    # 31 (single open) \n",
    "print(f\"{is_paired('abcpy..+- |_***56700>321 xy  ^^z') = }\")    # 20 (single closed) \n",
    "print()"
   ]
  },
  {
   "cell_type": "code",
   "execution_count": null,
   "metadata": {},
   "outputs": [],
   "source": [
    "print()\n",
    "print(f\"{is_paired()                                   = }\")    # -1\n",
    "print(f\"{is_paired('')                                 = }\")    # -1\n",
    "print(f\"{is_paired('abc(..{+- <***>}567[00]321: )xyz') = }\")    # -1\n",
    "print(f\"{is_paired('abc(..{+- <***> 567[00]321: )xyz') = }\")    # 28\n",
    "print(f\"{is_paired('abc(..{+- >***<}567[00]321: )xyz') = }\")    # 10\n",
    "print(f\"{is_paired('abc(..{+- <***>}567[00)321: ]xyz') = }\")    # 22\n",
    "print(f\"{is_paired('abcpy..+- |_***56700321e xy  ^^z') = }\")    # -1\n",
    "print(f\"{is_paired('abcpy..+- |_***56700321{ xy  ^^z') = }\")    # 31\n",
    "print(f\"{is_paired('abcpy..+- |_***56700>321 xy  ^^z') = }\")    # 20\n",
    "print()"
   ]
  },
  {
   "cell_type": "code",
   "execution_count": null,
   "metadata": {},
   "outputs": [],
   "source": [
    "# ex87：函數-反轉數字\n",
    "def toy_num(num: float) -> tuple:\n",
    "    num_str = str(num)\n",
    "    sign = '' if num_str.startswith('-') else '-'\n",
    "    num_str = num_str[1:] if sign == '' else num_str\n",
    "    int_frac = num_str.split('.')\n",
    "    integer = int_frac[0]\n",
    "    fraction = int_frac[1]\n",
    "    # integer = integer.replace('-', '')\n",
    "    new_num1 = float(f'{sign}{num_str[::-1]}')\n",
    "    new_num2 = float(f'{sign}{integer[::-1]}.{fraction[::-1]}')\n",
    "    new_num3 = float(f'{sign}{integer[::-1]}.{fraction}')\n",
    "    new_num4 = float(f'{sign}{integer}.{fraction[::-1]}')\n",
    "    new_num5 = float(f'{sign}{fraction[::-1]}.{integer[::-1]}')\n",
    "    new_num6 = float(f'{sign}{fraction[::-1]}.{integer}')\n",
    "    new_num7 = float(f'{sign}{fraction}.{integer[::-1]}')\n",
    "    return new_num1, new_num2, new_num3, new_num4, new_num5, new_num6, new_num7\n",
    "\n",
    "print()\n",
    "print(f'{toy_num(950.) = }')\n",
    "print(f'{toy_num(+13.618) = }')\n",
    "print(f'{toy_num(-3.1416) = }')\n",
    "print(f'{toy_num(-1230.075) = }')\n",
    "print()"
   ]
  },
  {
   "cell_type": "code",
   "execution_count": null,
   "metadata": {},
   "outputs": [],
   "source": [
    "# ex88：函數-None殿後\n",
    "def none2end(items: list) -> list:\n",
    "    return (new_items := [item for item in items if item is not None]) + [None]*(len(items) - len(new_items))\n",
    "\n",
    "print()\n",
    "print(f\"{none2end([]) = }\")\n",
    "print(f\"{none2end([4, 3, None, 9, None, None, 1]) = }\")\n",
    "print(f\"{none2end(['None', '0', '6']) = }\")\n",
    "print()"
   ]
  },
  {
   "cell_type": "code",
   "execution_count": null,
   "metadata": {},
   "outputs": [],
   "source": [
    "def reorder_list(input_list):\n",
    "    return sorted(input_list, key=lambda x: x is None)\n",
    "\n",
    "print()\n",
    "print(f\"{reorder_list([]) = }\")\n",
    "print(f\"{reorder_list([4, 3, None, 9, None, None, 1]) = }\")\n",
    "print(f\"{reorder_list(['None', '0', '6']) = }\")\n",
    "print()"
   ]
  },
  {
   "cell_type": "code",
   "execution_count": null,
   "metadata": {},
   "outputs": [],
   "source": [
    "def reorder_list1(input_list):\n",
    "    return [item for item in input_list if item is not None] + [item for item in input_list if item is None]\n",
    "\n",
    "def reorder_list2(input_list):\n",
    "    return sorted(input_list, key=lambda x: x is None)\n",
    "\n",
    "def reorder_list3(input_list):\n",
    "    return [item for item in input_list if (item is not None) or (count := (count if 'count' in locals() else 0) + 1) is None] + [None] * count\n",
    "\n",
    "def reorder_list4(input_list):\n",
    "    return [item for item in input_list if item is not None] + [None] * sum(1 for item in input_list if item is None)\n",
    "\n",
    "def reorder_list5(input_list):\n",
    "    return (new_list := [item for item in input_list if item is not None]) + [None]*(len(input_list) - len(new_list))\n",
    "\n",
    "print()\n",
    "print(f\"{reorder_list3([]) = }\")\n",
    "print(f\"{reorder_list3([4, 3, None, 9, None, None, 1]) = }\")\n",
    "print(f\"{reorder_list3(['None', '0', '6']) = }\")\n",
    "print()"
   ]
  },
  {
   "cell_type": "code",
   "execution_count": null,
   "metadata": {},
   "outputs": [],
   "source": [
    "import time\n",
    "import random as r\n",
    "\n",
    "loops = 1000\n",
    "in_list = [r.choice([i for i in range(10)] + [None]) for i in range(100000)]\n",
    "\n",
    "time1 = time.time()\n",
    "for _ in range(loops):\n",
    "    new_list = reorder_list1(in_list)\n",
    "time2 = time.time()\n",
    "print(f'reorder_list1: {time2 - time1 = }')\n",
    "\n",
    "time1 = time.time()\n",
    "for _ in range(loops):\n",
    "    new_list = reorder_list2(in_list)\n",
    "time2 = time.time()\n",
    "print(f'reorder_list2: {time2 - time1 = }')\n",
    "\n",
    "time1 = time.time()\n",
    "for _ in range(loops):\n",
    "    new_list = reorder_list3(in_list)\n",
    "time2 = time.time()\n",
    "print(f'reorder_list3: {time2 - time1 = }')"
   ]
  },
  {
   "cell_type": "code",
   "execution_count": null,
   "metadata": {},
   "outputs": [],
   "source": [
    "# ex89：編號+檔案讀寫\n",
    "with open('./名句.txt', 'r') as f_in:\n",
    "    lines = f_in.readlines()\n",
    "\n",
    "# print(type(lines))\n",
    "# print(lines[:9])\n",
    "\n",
    "with open('編號名句.txt', 'w') as f_out:\n",
    "    for id, line in enumerate(lines, 1):\n",
    "        f_out.write(f'{id:03} {line}')"
   ]
  },
  {
   "cell_type": "code",
   "execution_count": 36,
   "metadata": {},
   "outputs": [
    {
     "name": "stdout",
     "output_type": "stream",
     "text": [
      "01. Beautiful is better than ugly.\n",
      "\n",
      "02. Explicit is better than implicit.\n",
      "\n",
      "03. Simple is better than complex.\n",
      "\n",
      "04. Complex is better than complicated.\n",
      "\n",
      "05. Flat is better than nested.\n",
      "\n",
      "06. Sparse is better than dense.\n",
      "\n",
      "07. Readability counts.\n",
      "\n",
      "08. Special cases aren't special enough to break the rules.\n",
      "\n",
      "09. Although practicality beats purity.\n",
      "\n",
      "10. Errors should never pass silently.\n",
      "\n",
      "11. Unless explicitly silenced.\n",
      "\n",
      "12. In the face of ambiguity, refuse the temptation to guess.\n",
      "\n",
      "13. There should be one-- and preferably only one --obvious way to do it.\n",
      "\n",
      "14. Although that way may not be obvious at first unless you're Dutch.\n",
      "\n",
      "15. Now is better than never.\n",
      "\n",
      "16. Although never is often better than *right* now.\n",
      "\n",
      "17. If the implementation is hard to explain, it's a bad idea.\n",
      "\n",
      "18. If the implementation is easy to explain, it may be a good idea.\n",
      "\n",
      "19. Namespaces are one honking great idea -- let's do more of those!\n"
     ]
    }
   ],
   "source": [
    "# ex89：編號+檔案讀寫\n",
    "with open('./Zen_of_Python.txt', 'r') as f_in:\n",
    "    for line in f_in:\n",
    "        print(line)\n",
    "\n"
   ]
  },
  {
   "cell_type": "code",
   "execution_count": null,
   "metadata": {},
   "outputs": [],
   "source": [
    "from datetime import datetime\n",
    "dt = datetime.now()\n",
    "print(f'{type(dt) = }')\n",
    "print(f'{dt.microsecond = }')\n",
    "dt.microsecond = 123456\n",
    "print(f'{dt.microsecond = }')"
   ]
  },
  {
   "cell_type": "code",
   "execution_count": null,
   "metadata": {},
   "outputs": [],
   "source": [
    "# ex91：存取dict-2\n",
    "patients = [ \n",
    "    {'id': 4, 'basic_info': {'name': '羅◯國', 'gender': 'M', 'dob': '2009-04-23', 'height': 183}, 'bp': (154, 89, 83), 'family': {'parents': {'father': '羅◯理', 'mother': '吳氏'}, 'spouse': None,  'siblings': ['羅◯梅', '羅◯昇', '羅◯蓮', '羅◯蓉', '羅◯明', '羅◯志'], 'children': None}}, \n",
    "    {'id': 3, 'basic_info': {'name': '李◯雪', 'gender': 'F', 'dob': '1944-06-07', 'height': 149}, 'bp': (176, 92, 95), 'family': {'parents': {'father': '李◯元', 'mother': '張氏'}, 'spouse': '林◯華', 'siblings': ['李◯安'], 'children': ['林◯瑜', '林◯琪', '林◯雅', '林◯偉']}}, \n",
    "    {'id': 1, 'basic_info': {'name': '劉◯永', 'gender': 'M', 'dob': '1937-12-31', 'height': 168}, 'bp': (131, 78, 78), 'family': {'parents': {'father': '劉◯順', 'mother': '郭氏'}, 'spouse': '金◯娟', 'siblings': ['劉◯仁', '劉◯莎', '劉◯菲'], 'children': ['劉◯梓', '劉◯昀', '劉◯鈞']}}, \n",
    "    {'id': 5, 'basic_info': {'name': '沈◯萱', 'gender': 'F', 'dob': '1986-09-12', 'height': 161}, 'bp': (126, 71, 72), 'family': {'parents': {'father': '沈◯山', 'mother': '王氏'}, 'spouse': '馬◯學', 'siblings': ['沈◯桂', '沈◯冰'], 'children': ['馬◯英', '馬◯斌']}}, \n",
    "    {'id': 2, 'basic_info': {'name': '吳◯雲', 'gender': 'F', 'dob': '1958-01-01', 'height': 157}, 'bp': (108, 52, 60), 'family': {'parents': {'father': '吳◯雄', 'mother': '陳氏'}, 'spouse': None,  'siblings': ['吳◯嫺', '吳◯瑞'], 'children': ['高◯竺']}}, \n",
    "]\n",
    "\n",
    "print()\n",
    "# list中第一個病人的身高\n",
    "print(f\"list中第一個病人的身高：{patients[0]['basic_info']['height']}\")\n",
    "\n",
    "# list中最後一個病人的母親\n",
    "print(f\"list中最後一個病人的母親：{patients[-1]['family']['parents']['mother']}\")\n",
    "\n",
    "# id = 3病人的倒數第二個小孩\n",
    "for patient in patients:\n",
    "    if patient['id'] == 3:\n",
    "        print(f\"id = 3病人的倒數第二個小孩：{patient['family']['children'][-2]}\")\n",
    "        break\n",
    "        \n",
    "# 1980年代出生的第一個病人的血壓\n",
    "for patient in patients:\n",
    "    if patient['basic_info']['dob'].startswith('198'):\n",
    "        print(f\"1980年代出生的第一個病人的血壓：{patient['bp']}\")\n",
    "        break\n",
    "\n",
    "# 年齡最大病人的第一個兄弟姊妹\n",
    "oldest = '9999-99-99'\n",
    "oldest_index = 0\n",
    "for i, patient in enumerate(patients):\n",
    "    if patient['basic_info']['dob'] < oldest:\n",
    "        oldest = patient['basic_info']['dob']\n",
    "        oldest_index = i\n",
    "        \n",
    "print(f\"年齡最大病人的第一個兄弟姊妹：{patients[oldest_index]['family']['siblings'][0]}\")\n",
    "print()"
   ]
  },
  {
   "cell_type": "code",
   "execution_count": 9,
   "metadata": {},
   "outputs": [
    {
     "name": "stdout",
     "output_type": "stream",
     "text": [
      "\n",
      "is_valid_pwd('') = False\n",
      "is_valid_pwd('weG8fj$') = False\n",
      "is_valid_pwd('pw*eX8j124A%#PU3d') = False\n",
      "is_valid_pwd('l%9t8jy7&^_0') = False\n",
      "is_valid_pwd('Z%X5CV7&9^#0') = False\n",
      "is_valid_pwd('asd$AS#D!@%') = False\n",
      "is_valid_pwd('3qeD8j124Aw') = False\n",
      "is_valid_pwd('tT9^rI_|nH') = False\n",
      "is_valid_pwd('keM8qj$0') = True\n",
      "is_valid_pwd('~eqj$0_u8iMD#5Mk') = True\n",
      "\n"
     ]
    }
   ],
   "source": [
    "# ex90：函數-檢查密碼\n",
    "from string import ascii_lowercase, ascii_uppercase, digits\n",
    "\n",
    "def is_valid_pwd(chars: str) -> bool:\n",
    "    symbols = '~!@#$%^&*_'\n",
    "    \n",
    "    valid_chars = ascii_uppercase + ascii_lowercase + digits + symbols\n",
    "    # print(valid_chars)\n",
    "    has_upper = False\n",
    "    has_lower = False\n",
    "    has_digit = False\n",
    "    has_symbol = False\n",
    "    is_valid = True\n",
    "    if len(chars) < 8 or len(chars) > 16:\n",
    "        return False\n",
    "    for char in chars:\n",
    "        # print('.......')\n",
    "        if char not in valid_chars:\n",
    "            return False\n",
    "        has_upper = (char in ascii_uppercase) or has_upper\n",
    "        has_lower = (char in ascii_lowercase) or has_lower\n",
    "        has_digit = (char in digits) or has_digit\n",
    "        has_symbol = (char in symbols) or has_symbol\n",
    "        # print(has_upper, has_lower, has_symbol)\n",
    "    return has_upper and has_lower and has_digit and has_symbol\n",
    "\n",
    "print()\n",
    "print(f\"{is_valid_pwd('') = }\")                    # False\n",
    "print(f\"{is_valid_pwd('weG8fj$') = }\")             # False(不足8字元)\n",
    "print(f\"{is_valid_pwd('pw*eX8j124A%#PU3d') = }\")   # False(超過16字元)\n",
    "print(f\"{is_valid_pwd('l%9t8jy7&^_0') = }\")        # False(缺大寫字母)\n",
    "print(f\"{is_valid_pwd('Z%X5CV7&9^#0') = }\")        # False(缺小寫字母)\n",
    "print(f\"{is_valid_pwd('asd$AS#D!@%') = }\")         # False(缺數字)\n",
    "print(f\"{is_valid_pwd('3qeD8j124Aw') = }\")         # False(缺符號)\n",
    "print(f\"{is_valid_pwd('tT9^rI_|nH') = }\")          # False(有不合法字元)\n",
    "print(f\"{is_valid_pwd('keM8qj$0') = }\")            # True\n",
    "print(f\"{is_valid_pwd('~eqj$0_u8iMD#5Mk') = }\")    # True\n",
    "print()  "
   ]
  },
  {
   "cell_type": "code",
   "execution_count": 19,
   "metadata": {},
   "outputs": [
    {
     "name": "stdout",
     "output_type": "stream",
     "text": [
      "\n",
      "is_unique() = True\n",
      "is_unique((1024,)) = True\n",
      "is_unique([3, 2, 69, -2, 5]) = True\n",
      "is_unique((0, 6, 8, 1, -0)) = False\n",
      "is_unique([7, 7, 7]) = False\n",
      "\n"
     ]
    }
   ],
   "source": [
    "def is_unique(nums: tuple | list = ()) -> bool:\n",
    "    return len(nums) == len(set(nums))\n",
    "\n",
    "print()\n",
    "print(f\"{is_unique() = }\")\n",
    "print(f\"{is_unique((1024,)) = }\")\n",
    "print(f\"{is_unique([3, 2, 69, -2, 5]) = }\")\n",
    "print(f\"{is_unique((0, 6, 8, 1, -0)) = }\")\n",
    "print(f\"{is_unique([7, 7, 7]) = }\")\n",
    "print()"
   ]
  },
  {
   "cell_type": "code",
   "execution_count": 42,
   "metadata": {},
   "outputs": [
    {
     "name": "stdout",
     "output_type": "stream",
     "text": [
      "\n",
      "is_right_triangle(4, 5, 3) = True\n",
      "is_right_triangle(6, 2, 7) = False\n",
      "is_right_triangle(35, 12, 37) = True\n",
      "is_right_triangle(23, 15, 17) = False\n",
      "\n"
     ]
    }
   ],
   "source": [
    "def is_right_triangle(x: int, y: int, z: int) -> bool:\n",
    "    return (sorted_t := sorted((x, y, z)))[0]**2 + sorted_t[1]**2 == sorted_t[2]**2\n",
    "\n",
    "# is_right_triangle = lambda x, y, z: (sorted_t := sorted((x, y, z)))[0]**2 + sorted_t[1]**2 == sorted_t[2]**2\n",
    "print()\n",
    "print(f'{is_right_triangle(4, 5, 3) = }')\n",
    "print(f'{is_right_triangle(6, 2, 7) = }')\n",
    "print(f'{is_right_triangle(35, 12, 37) = }')\n",
    "print(f'{is_right_triangle(23, 15, 17) = }')\n",
    "print()\n"
   ]
  },
  {
   "cell_type": "code",
   "execution_count": null,
   "metadata": {},
   "outputs": [],
   "source": [
    "with open(\"./quotes.txt\", \"r\") as file:\n",
    "    while (line := file.readline().strip()):\n",
    "        print(line)"
   ]
  },
  {
   "cell_type": "code",
   "execution_count": 1,
   "metadata": {},
   "outputs": [
    {
     "name": "stdout",
     "output_type": "stream",
     "text": [
      "\n",
      "get_larger(raw=raw, n=2, threshold=100) = [121, 169, 225, 289, 361]\n",
      "get_larger(raw=raw, n=3, threshold=3000) = [27000, 15625, 8000, 3375]\n",
      "get_larger(raw=raw, n=4, threshold=9999999) = [13845841, 25411681]\n",
      "get_larger(raw=raw, n=5, threshold=50000) = [100000, 248832, 59049]\n",
      "\n"
     ]
    }
   ],
   "source": [
    "def expensive_operation(x):\n",
    "    return x ** 2\n",
    "\n",
    "raw = [1, 2, 3, 4, 5, 6, 7, 8, 9]\n",
    "threshold = 50\n",
    "\n",
    "# larger = [result for x in raw if (result := expensive_operation(x)) > threshold]\n",
    "# larger = [result for x in raw if (result := x**2) > threshold]\n",
    "# print(larger)\n",
    "def get_larger(raw: tuple | list, n: int, threshold: int) -> list:\n",
    "        \n",
    "    larger = []\n",
    "    for x in raw:\n",
    "        if (result := x**n) > threshold:\n",
    "            larger.append(result)\n",
    "    return larger\n",
    "\n",
    "print()\n",
    "raw = (1, 3, 5, 7, 9, 11, 13, 15, 17, 19)\n",
    "print(f'{get_larger(raw=raw, n=2, threshold=100) = }')\n",
    "raw = [30, 25, 20, 15, 10]\n",
    "print(f'{get_larger(raw=raw, n=3, threshold=3000) = }')\n",
    "raw = (21, 31, 41, 51, 61, 71)\n",
    "print(f'{get_larger(raw=raw, n=4, threshold=9999999) = }')\n",
    "raw = [3, 8, 6, 0, 10, 12, 5, 9]\n",
    "print(f'{get_larger(raw=raw, n=5, threshold=50000) = }')\n",
    "print()"
   ]
  },
  {
   "cell_type": "code",
   "execution_count": 45,
   "metadata": {},
   "outputs": [
    {
     "data": {
      "text/plain": [
       "'2023/04/15 15:02:43'"
      ]
     },
     "execution_count": 45,
     "metadata": {},
     "output_type": "execute_result"
    }
   ],
   "source": [
    "from datetime import datetime\n",
    "\n",
    "datetime.now().strftime('%Y/%m/%d %H:%M:%S')"
   ]
  },
  {
   "cell_type": "code",
   "execution_count": 8,
   "metadata": {},
   "outputs": [
    {
     "name": "stdout",
     "output_type": "stream",
     "text": [
      "select * from ordtx where Mcode in ('28467', '29028', '29112', '29412', '29187', '29296', '29189', '29188')\n"
     ]
    }
   ],
   "source": [
    "drugs_list = ['28467', '29028', '29112', '29412', '29187', '29296', '29189', '29188']\n",
    "\n",
    "ordtx_T = f'select * from ordtx where Mcode in ({str(drugs_list)[1:-1]})'\n",
    "print(ordtx_T)\n"
   ]
  },
  {
   "cell_type": "code",
   "execution_count": 11,
   "metadata": {},
   "outputs": [
    {
     "name": "stdout",
     "output_type": "stream",
     "text": [
      "select * from ordtx WHERE Mcode LIKE '%28467%' OR Mcode LIKE '%29028%' OR Mcode LIKE '%29112%' OR Mcode LIKE '%29412%' OR Mcode LIKE '%29187%' OR Mcode LIKE '%29296%' OR Mcode LIKE '%29189%' OR Mcode LIKE '%29188%'\n"
     ]
    }
   ],
   "source": [
    "drugs_list = ['28467', '29028', '29112', '29412', '29187', '29296', '29189', '29188']\n",
    "ordtx_T = 'select * from ordtx WHERE '\n",
    "\n",
    "# Generate the conditions for the WHERE clause\n",
    "conditions = []\n",
    "for drug in drugs_list:\n",
    "    conditions.append(f\"Mcode LIKE '%{drug}%'\")\n",
    "\n",
    "# Join the conditions with the OR keyword\n",
    "ordtx_T += ' OR '.join(conditions)\n",
    "\n",
    "print(ordtx_T)"
   ]
  },
  {
   "cell_type": "code",
   "execution_count": 17,
   "metadata": {},
   "outputs": [
    {
     "name": "stdout",
     "output_type": "stream",
     "text": [
      "my_len = 6\n",
      "my_set = {0, True, 3, '5', 5, None}\n",
      "Dapper Drake\n"
     ]
    }
   ],
   "source": [
    "my_tuple = (5, 3, True, 0, 3.0, 1, None, '5', False, -0)\n",
    "my_set = set(my_tuple)\n",
    "my_len = len(my_set)\n",
    "print(f\"{my_len = }\")\n",
    "print(f\"{my_set = }\")\n",
    "match my_len:\n",
    "    case 12:\n",
    "        print('Precise Pangolin')\n",
    "    case 11:\n",
    "        print('Natty Narwhal')\n",
    "    case 10:\n",
    "        print('Lucid Lynx')\n",
    "    case 9:\n",
    "        print('Jaunty Jackalope')\n",
    "    case 8:\n",
    "        print('Hardy Heron')\n",
    "    case 7:\n",
    "        print('Feisty Fawn')\n",
    "    case 6:\n",
    "        print('Dapper Drake')\n",
    "    case 5:\n",
    "        print('Hoary Hedgehog')\n",
    "    case 4:\n",
    "        print('Warty Warthog')\n",
    "    case _:\n",
    "        print('Ultra Ubuntu')\n"
   ]
  },
  {
   "cell_type": "code",
   "execution_count": 60,
   "metadata": {},
   "outputs": [
    {
     "name": "stdout",
     "output_type": "stream",
     "text": [
      "\n",
      "find_consonant('a') = 'b'\n",
      "find_consonant('E') = 'F'\n",
      "find_consonant('i') = 'j'\n",
      "find_consonant('O') = 'P'\n",
      "find_consonant('u') = 'v'\n",
      "Expected a single uppercase or lowercase vowel character, but 'M' was given\n",
      "\n"
     ]
    }
   ],
   "source": [
    "import string\n",
    "\n",
    "def find_consonant(vowel: str) -> str:\n",
    "    vowels = 'aeiouAEIOU'\n",
    "    alphabets = string.ascii_letters\n",
    "    if vowel == '' or vowel not in vowels:\n",
    "        raise ValueError(f\"Expected a single uppercase or lowercase vowel character, but '{vowel}' was given\")\n",
    " \n",
    "    return alphabets[alphabets.find(vowel) + 1]\n",
    "\n",
    "print()\n",
    "try:  \n",
    "    print(f\"{find_consonant('a') = }\")\n",
    "    print(f\"{find_consonant('E') = }\")\n",
    "    print(f\"{find_consonant('i') = }\")\n",
    "    print(f\"{find_consonant('O') = }\")\n",
    "    print(f\"{find_consonant('u') = }\")\n",
    "    print(f\"{find_consonant('M') = }\")\n",
    "    print(f\"{find_consonant('aB') = }\")\n",
    "    print(f\"{find_consonant('A ') = }\")\n",
    "    print(f\"{find_consonant(' ') = }\")\n",
    "    print(f\"{find_consonant('') = }\")\n",
    "except ValueError as e:\n",
    "    print(e)    \n",
    "\n",
    "print()"
   ]
  },
  {
   "cell_type": "code",
   "execution_count": 27,
   "metadata": {},
   "outputs": [
    {
     "data": {
      "text/plain": [
       "0"
      ]
     },
     "execution_count": 27,
     "metadata": {},
     "output_type": "execute_result"
    },
    {
     "data": {
      "text/plain": [
       "0"
      ]
     },
     "execution_count": 27,
     "metadata": {},
     "output_type": "execute_result"
    },
    {
     "data": {
      "text/plain": [
       "1"
      ]
     },
     "execution_count": 27,
     "metadata": {},
     "output_type": "execute_result"
    }
   ],
   "source": [
    "import string\n",
    "\n",
    "def find_gem(vowel: str) -> str:\n",
    "    vowels = 'aeiouAEIOU'\n",
    "    alphabets = string.ascii_letters\n",
    "    if vowel == '' or vowel not in vowels:\n",
    "        raise ValueError(f\"Expected a single uppercase or lowercase vowel character, but '{vowel}' was given\")\n",
    " \n",
    "    return alphabets[alphabets.find(vowel) + 1]\n",
    "\n",
    "print()\n",
    "try:  \n",
    "    print(f\"{find_gem(, sands, step) = }\")\n",
    "    print(f\"{find_gem(, sands, step) = }\")\n",
    "    print(f\"{find_gem(, sands, step) = }\")\n",
    "    print(f\"{find_gem(, sands, step) = }\")\n",
    "    print(f\"{find_gem(, sands, step) = }\")\n",
    "    print(f\"{find_gem(, sands, step) = }\")\n",
    "    print(f\"{find_gem(, sands, step) = }\")\n",
    "    print(f\"{find_gem(, sands, step) = }\")\n",
    "    print(f\"{find_gem(, sands, step) = }\")\n",
    "    print(f\"{find_gem(, sands, step) = }\")\n",
    "except ValueError as e:\n",
    "    print(e)    \n",
    "\n",
    "print()"
   ]
  },
  {
   "cell_type": "code",
   "execution_count": 15,
   "metadata": {},
   "outputs": [
    {
     "name": "stdout",
     "output_type": "stream",
     "text": [
      "items = [1, 2, 3]\n",
      "id1 = 139959364248704\n",
      "id(items[:]) = 139959234022656\n",
      "--------\n",
      "id(items[:]) = 139959234021312\n",
      "aa: items[:] = [8, 0, 5]\n",
      "bb: items = [8, 0, 5]\n",
      "id2 = 139959364248704\n",
      "(id1 == id2) = True\n"
     ]
    }
   ],
   "source": [
    "items = [1, 2, 3]\n",
    "print(f'{items = }')\n",
    "id1 = id(items)\n",
    "print(f'{id1 = }')\n",
    "print(f'{id(items[:]) = }')\n",
    "\n",
    "print('--------')\n",
    "items[:] = [8, 0, 5]\n",
    "print(f'{id(items[:]) = }')\n",
    "print(f'aa: {items[:] = }')\n",
    "print(f'bb: {items = }')\n",
    "id2 = id(items)\n",
    "print(f'{id2 = }')\n",
    "print(f'{(id1 == id2) = }')"
   ]
  },
  {
   "cell_type": "code",
   "execution_count": 23,
   "metadata": {},
   "outputs": [
    {
     "name": "stdout",
     "output_type": "stream",
     "text": [
      "Alex\n",
      "None\n"
     ]
    }
   ],
   "source": [
    "d = {'name': 'Alex'}\n",
    "print(name if (name := d.get('name')) is not None else None)\n",
    "print(name if (name := d.get('age')) is not None else None)"
   ]
  },
  {
   "cell_type": "code",
   "execution_count": 34,
   "metadata": {},
   "outputs": [
    {
     "data": {
      "text/plain": [
       "'2023-04-30 15:30:00'"
      ]
     },
     "execution_count": 34,
     "metadata": {},
     "output_type": "execute_result"
    },
    {
     "name": "stdout",
     "output_type": "stream",
     "text": [
      "day_str_old = '2023-04-30 15:30:00.0000000'\n",
      "day_str_new = '04/30 15:30:00'\n"
     ]
    }
   ],
   "source": [
    "from datetime import datetime\n",
    "day_str_old = '2023-04-30 15:30:00.0000000'\n",
    "day_str_old.split('.')[0]\n",
    "print(f'{day_str_old = }')\n",
    "day_obj = datetime.strptime(day_str_old, '%Y-%m-%d %H:%M:%S.0000000')\n",
    "day_str_new = day_obj.strftime('%m/%d %H:%M:%S')\n",
    "print(f'{day_str_new = }')\n"
   ]
  },
  {
   "cell_type": "code",
   "execution_count": 29,
   "metadata": {},
   "outputs": [
    {
     "ename": "NameError",
     "evalue": "name 'file' is not defined",
     "output_type": "error",
     "traceback": [
      "\u001b[0;31m---------------------------------------------------------------------------\u001b[0m",
      "\u001b[0;31mNameError\u001b[0m                                 Traceback (most recent call last)",
      "Cell \u001b[0;32mIn[29], line 2\u001b[0m\n\u001b[1;32m      1\u001b[0m files \u001b[39m=\u001b[39m [\u001b[39m'\u001b[39m\u001b[39mfile1.txt\u001b[39m\u001b[39m'\u001b[39m, \u001b[39m'\u001b[39m\u001b[39mfile2.txt\u001b[39m\u001b[39m'\u001b[39m, \u001b[39m'\u001b[39m\u001b[39mfile3.txt\u001b[39m\u001b[39m'\u001b[39m]\n\u001b[0;32m----> 2\u001b[0m \u001b[39mwith\u001b[39;00m \u001b[39mopen\u001b[39m(file, \u001b[39m'\u001b[39m\u001b[39mr\u001b[39m\u001b[39m'\u001b[39m) \u001b[39mas\u001b[39;00m open_file:\n\u001b[1;32m      3\u001b[0m     contents \u001b[39m=\u001b[39m [open_file\u001b[39m.\u001b[39mread() \u001b[39mfor\u001b[39;00m file \u001b[39min\u001b[39;00m files]\n",
      "\u001b[0;31mNameError\u001b[0m: name 'file' is not defined"
     ]
    }
   ],
   "source": [
    "files = ['file1.txt', 'file2.txt', 'file3.txt']\n",
    "with open(file, 'r') as open_file:\n",
    "    contents = [open_file.read() for file in files]"
   ]
  },
  {
   "cell_type": "code",
   "execution_count": 36,
   "metadata": {},
   "outputs": [
    {
     "name": "stdout",
     "output_type": "stream",
     "text": [
      "hello, \n",
      "world.\n"
     ]
    },
    {
     "data": {
      "text/plain": [
       "CompletedProcess(args=['python3', 'hello.py'], returncode=0)"
      ]
     },
     "execution_count": 36,
     "metadata": {},
     "output_type": "execute_result"
    }
   ],
   "source": [
    "import subprocess\n",
    "\n",
    "subprocess.run(['python3', 'hello.py'])"
   ]
  },
  {
   "cell_type": "code",
   "execution_count": 54,
   "metadata": {},
   "outputs": [
    {
     "name": "stdout",
     "output_type": "stream",
     "text": [
      "2023-05-01 12:24:00\n",
      "2023-05-01 13:00:00\n"
     ]
    }
   ],
   "source": [
    "from datetime import datetime, timedelta\n",
    "\n",
    "now_format = '%Y-%m-%d %H:%M:00'\n",
    "time_format = '%Y-%m-%d %H:00:00'\n",
    "now = datetime.now()\n",
    "# now = '2023-05-01 14:01:00'\n",
    "# now = datetime.strptime(now, now_format)\n",
    "# print(now)\n",
    "# print('--------')\n",
    "print(now.strftime(now_format))\n",
    "print((now + timedelta(minutes=59)).strftime(time_format))\n"
   ]
  },
  {
   "cell_type": "code",
   "execution_count": 5,
   "metadata": {},
   "outputs": [
    {
     "ename": "AttributeError",
     "evalue": "",
     "output_type": "error",
     "traceback": [
      "\u001b[0;31m---------------------------------------------------------------------------\u001b[0m",
      "\u001b[0;31mAttributeError\u001b[0m                            Traceback (most recent call last)",
      "Cell \u001b[0;32mIn[5], line 6\u001b[0m\n\u001b[1;32m      4\u001b[0m d \u001b[39m=\u001b[39m Delorean()\n\u001b[1;32m      5\u001b[0m d \u001b[39m=\u001b[39m d\u001b[39m.\u001b[39mshift(\u001b[39m'\u001b[39m\u001b[39mUS/Eastern\u001b[39m\u001b[39m'\u001b[39m)\n\u001b[0;32m----> 6\u001b[0m d\u001b[39m.\u001b[39;49mnow()\u001b[39m.\u001b[39;49myear()\n",
      "File \u001b[0;32m~/.local/lib/python3.11/site-packages/delorean/dates.py:279\u001b[0m, in \u001b[0;36mDelorean.__getattr__\u001b[0;34m(self, name)\u001b[0m\n\u001b[1;32m    277\u001b[0m \u001b[39m# is the func we are trying to call the right length?\u001b[39;00m\n\u001b[1;32m    278\u001b[0m \u001b[39mif\u001b[39;00m \u001b[39mlen\u001b[39m(func_parts) \u001b[39m!=\u001b[39m \u001b[39m2\u001b[39m:\n\u001b[0;32m--> 279\u001b[0m     \u001b[39mraise\u001b[39;00m \u001b[39mAttributeError\u001b[39;00m\n\u001b[1;32m    281\u001b[0m \u001b[39m# is the function we are trying to call valid?\u001b[39;00m\n\u001b[1;32m    282\u001b[0m \u001b[39mif\u001b[39;00m (func_parts[\u001b[39m0\u001b[39m] \u001b[39mnot\u001b[39;00m \u001b[39min\u001b[39;00m \u001b[39mself\u001b[39m\u001b[39m.\u001b[39m_VALID_SHIFT_DIRECTIONS \u001b[39mor\u001b[39;00m\n\u001b[1;32m    283\u001b[0m             func_parts[\u001b[39m1\u001b[39m] \u001b[39mnot\u001b[39;00m \u001b[39min\u001b[39;00m \u001b[39mself\u001b[39m\u001b[39m.\u001b[39m_VALID_SHIFT_UNITS):\n",
      "\u001b[0;31mAttributeError\u001b[0m: "
     ]
    }
   ],
   "source": [
    "# ! pip install delorean\n",
    "from delorean import Delorean\n",
    "\n",
    "d = Delorean()\n",
    "d = d.shift('US/Eastern')\n",
    "d.now().year()"
   ]
  },
  {
   "cell_type": "code",
   "execution_count": 21,
   "metadata": {},
   "outputs": [
    {
     "data": {
      "text/plain": [
       "31"
      ]
     },
     "execution_count": 21,
     "metadata": {},
     "output_type": "execute_result"
    }
   ],
   "source": [
    "from thefuzz import fuzz\n",
    "from thefuzz import process\n",
    "# fuzz.ratio(\"Hit me with your best shot\", \"Hit me with your pet shark\")\n",
    "# fuzz.ratio(\"this is a test\", \"this is a test!\")\n",
    "\n",
    "text1 = '''\n",
    "跳投為籃球運動重要的技能之一，\n",
    "在越高技能水準的比賽，越顯外線投籃對籃球比賽勝負的重要，\n",
    "因此過去有許多文獻探討投籃動作的變異性，\n",
    "以建構有效的控制或學習投籃技巧的策略，\n",
    "而隨運動行為領域與動力系統的發展，由多肢段產生的協調形態，\n",
    "肢段間相互的複雜關係與其變異性更引發研究者們的興趣。'''\n",
    "text2 = '''\n",
    "用於分析之資料總命中率為78.6%，結果顯示籃球跳投動作時，關節最大角速度出現順序為髖→膝→踝→肩-肘→腕關節，且準備起跳到身體騰空之前，膝-踝關節有最穩定的相對相位，同時相互訊息達到最高值，顯示此時膝-踝關節產生緊密的連結，\n",
    "隨著運動行為領域與動力系統的發展，由多肢段產生的協調形態，\n",
    "肢段間的複雜關係與其變異性，更引起研究者的興趣。用於分析之資料總命中率為78.6%，結果顯示籃球跳投動作時，關節最大角速度出現順序為髖→膝→踝→肩-肘→腕關節，且準備起跳到身體騰空之前，膝-踝關節有最穩定的相對相位，同時相互訊息達到最高值，顯示此時膝-踝關節產生緊密的連結，'''\n",
    "text3 = '''本研究的跳投動作定義為從膝關節角度最小值至腕關節最大角速度為止的動作過程，共招募七位超級籃球聯賽(SBL)現役球員(年齡 (y)：22.8 ± 1.2，身高 (cm)：185 ± 10.1，體重 (kg)：86.1 ± 10.8，球齡 (y)：8.8 ± 1.7)，使用Phasespace動態光點擷取系統 (480Hz) 與兩部數位攝影機 (JVC, 30Hz)，共蒐集單手跳投500次、其中一實驗參與者1500次跳投的動作進行相對相位、訊息熵及相互訊息的比較。'''\n",
    "fuzz.ratio(text1, text2)"
   ]
  },
  {
   "cell_type": "code",
   "execution_count": 32,
   "metadata": {},
   "outputs": [
    {
     "ename": "RuntimeError",
     "evalue": "You must call \"start\" before calling \"update\"",
     "output_type": "error",
     "traceback": [
      "\u001b[0;31m---------------------------------------------------------------------------\u001b[0m",
      "\u001b[0;31mRuntimeError\u001b[0m                              Traceback (most recent call last)",
      "Cell \u001b[0;32mIn[32], line 8\u001b[0m\n\u001b[1;32m      5\u001b[0m \u001b[39mfor\u001b[39;00m i \u001b[39min\u001b[39;00m \u001b[39mrange\u001b[39m(\u001b[39m1\u001b[39m, \u001b[39m11\u001b[39m):\n\u001b[1;32m      6\u001b[0m \u001b[39m#  pbar.update(i)\u001b[39;00m\n\u001b[1;32m      7\u001b[0m  time\u001b[39m.\u001b[39msleep(\u001b[39m1\u001b[39m)\n\u001b[0;32m----> 8\u001b[0m pbar\u001b[39m.\u001b[39;49mfinish()\n",
      "File \u001b[0;32m~/.local/lib/python3.11/site-packages/progressbar/progressbar.py:302\u001b[0m, in \u001b[0;36mProgressBar.finish\u001b[0;34m(self)\u001b[0m\n\u001b[1;32m    300\u001b[0m     \u001b[39mreturn\u001b[39;00m\n\u001b[1;32m    301\u001b[0m \u001b[39mself\u001b[39m\u001b[39m.\u001b[39mfinished \u001b[39m=\u001b[39m \u001b[39mTrue\u001b[39;00m\n\u001b[0;32m--> 302\u001b[0m \u001b[39mself\u001b[39;49m\u001b[39m.\u001b[39;49mupdate(\u001b[39mself\u001b[39;49m\u001b[39m.\u001b[39;49mmaxval)\n\u001b[1;32m    303\u001b[0m \u001b[39mself\u001b[39m\u001b[39m.\u001b[39mfd\u001b[39m.\u001b[39mwrite(\u001b[39m'\u001b[39m\u001b[39m\\n\u001b[39;00m\u001b[39m'\u001b[39m)\n\u001b[1;32m    304\u001b[0m \u001b[39mif\u001b[39;00m \u001b[39mself\u001b[39m\u001b[39m.\u001b[39msignal_set:\n",
      "File \u001b[0;32m~/.local/lib/python3.11/site-packages/progressbar/progressbar.py:257\u001b[0m, in \u001b[0;36mProgressBar.update\u001b[0;34m(self, value)\u001b[0m\n\u001b[1;32m    255\u001b[0m \u001b[39mif\u001b[39;00m \u001b[39mnot\u001b[39;00m \u001b[39mself\u001b[39m\u001b[39m.\u001b[39m_need_update(): \u001b[39mreturn\u001b[39;00m\n\u001b[1;32m    256\u001b[0m \u001b[39mif\u001b[39;00m \u001b[39mself\u001b[39m\u001b[39m.\u001b[39mstart_time \u001b[39mis\u001b[39;00m \u001b[39mNone\u001b[39;00m:\n\u001b[0;32m--> 257\u001b[0m     \u001b[39mraise\u001b[39;00m \u001b[39mRuntimeError\u001b[39;00m(\u001b[39m'\u001b[39m\u001b[39mYou must call \u001b[39m\u001b[39m\"\u001b[39m\u001b[39mstart\u001b[39m\u001b[39m\"\u001b[39m\u001b[39m before calling \u001b[39m\u001b[39m\"\u001b[39m\u001b[39mupdate\u001b[39m\u001b[39m\"\u001b[39m\u001b[39m'\u001b[39m)\n\u001b[1;32m    259\u001b[0m now \u001b[39m=\u001b[39m time\u001b[39m.\u001b[39mtime()\n\u001b[1;32m    260\u001b[0m \u001b[39mself\u001b[39m\u001b[39m.\u001b[39mseconds_elapsed \u001b[39m=\u001b[39m now \u001b[39m-\u001b[39m \u001b[39mself\u001b[39m\u001b[39m.\u001b[39mstart_time\n",
      "\u001b[0;31mRuntimeError\u001b[0m: You must call \"start\" before calling \"update\""
     ]
    }
   ],
   "source": [
    "from progressbar import ProgressBar\n",
    "import time\n",
    "pbar = ProgressBar(maxval=100)\n",
    "# pbar.start()\n",
    "for i in range(1, 11):\n",
    "#  pbar.update(i)\n",
    " time.sleep(1)\n",
    "pbar.finish()"
   ]
  },
  {
   "cell_type": "code",
   "execution_count": 50,
   "metadata": {},
   "outputs": [
    {
     "data": {
      "text/html": [
       "<table style='text-align: left;'><tr><th>name</th>\n",
       "<th> gender</th>\n",
       "<th>age</th>\n",
       "<th>height</th>\n",
       "<th>  bmi</th></tr>\n",
       "\n",
       "<tr><td style='text-align: left;'>Alex</td>\n",
       "    <td style='text-align: left;'>  M</td>\n",
       "    <td style='text-align: left;'> 39</td>\n",
       "    <td style='text-align: left;'>168</td>\n",
       "    <td style='text-align: left;'>22.9</td></tr>\n",
       "\n",
       "<tr><td style='text-align: left;'> Elizabeth</td>\n",
       "    <td style='text-align: left;'> F</td>\n",
       "    <td style='text-align: left;'>80</td>\n",
       "    <td style='text-align: left;'>160</td>\n",
       "    <td style='text-align: left;'>29.5</td></tr>\n",
       "\n",
       "<tr><td style='text-align: left;'>  劉大任</td>\n",
       "    <td style='text-align: left;'>M</td>\n",
       "    <td style='text-align: left;'>39</td>\n",
       "    <td style='text-align: left;'> 172</td>\n",
       "    <td style='text-align: left;'>16.8</td></tr>\n",
       "\n",
       "<tr><td style='text-align: left;'>    司馬元真</td>\n",
       "    <td style='text-align: left;'>  F</td>\n",
       "    <td style='text-align: left;'>39</td>\n",
       "    <td style='text-align: left;'>161</td>\n",
       "    <td style='text-align: left;'>26.2</td></tr>\n",
       "\n",
       "<tr><td style='text-align: left;'>小張</td>\n",
       "    <td style='text-align: left;'>M</td>\n",
       "    <td style='text-align: left;'> 74</td>\n",
       "    <td style='text-align: left;'>174</td>\n",
       "    <td style='text-align: left;'>28.9</td></tr>\n",
       "\n",
       "<tr><td style='text-align: left;'> 鏡</td>\n",
       "    <td style='text-align: left;'>F</td>\n",
       "    <td style='text-align: left;'>23</td>\n",
       "    <td style='text-align: left;'> 161</td>\n",
       "    <td style='text-align: left;'>17.6</td></tr>\n",
       "\n",
       "<tr><td style='text-align: left;'>Alexander</td>\n",
       "    <td style='text-align: left;'>M</td>\n",
       "    <td style='text-align: left;'>56</td>\n",
       "    <td style='text-align: left;'>168</td>\n",
       "    <td style='text-align: left;'>25.4</td></tr>\n",
       "\n",
       "<tr><td style='text-align: left;'>  Mirror</td>\n",
       "    <td style='text-align: left;'>F</td>\n",
       "    <td style='text-align: left;'>33</td>\n",
       "    <td style='text-align: left;'>164</td>\n",
       "    <td style='text-align: left;'>    19.0</td></tr>\n",
       "\n",
       "<tr><td style='text-align: left;'>    Rebecca</td>\n",
       "    <td style='text-align: left;'>F</td>\n",
       "    <td style='text-align: left;'>18</td>\n",
       "    <td style='text-align: left;'> 157</td>\n",
       "    <td style='text-align: left;'>23.7</td></tr>\n",
       "\n",
       "<tr><td style='text-align: left;'>Thomas</td>\n",
       "    <td style='text-align: left;'>M</td>\n",
       "    <td style='text-align: left;'>16</td>\n",
       "    <td style='text-align: left;'>  161</td>\n",
       "    <td style='text-align: left;'>20.5</td></tr></table>"
      ],
      "text/plain": [
       "CommaTable([{'name': 'Alex', ' gender': '  M', 'age': ' 39', 'height': '168', '  bmi': '22.9'},\n",
       "            {'name': ' Elizabeth', ' gender': ' F', 'age': '80', 'height': '160', '  bmi': '29.5'},\n",
       "            {'name': '  劉大任', ' gender': 'M', 'age': '39', 'height': ' 172', '  bmi': '16.8'},\n",
       "            {'name': '    司馬元真', ' gender': '  F', 'age': '39', 'height': '161', '  bmi': '26.2'},\n",
       "            {'name': '小張', ' gender': 'M', 'age': ' 74', 'height': '174', '  bmi': '28.9'},\n",
       "            {'name': ' 鏡', ' gender': 'F', 'age': '23', 'height': ' 161', '  bmi': '17.6'},\n",
       "            {'name': 'Alexander', ' gender': 'M', 'age': '56', 'height': '168', '  bmi': '25.4'},\n",
       "            {'name': '  Mirror', ' gender': 'F', 'age': '33', 'height': '164', '  bmi': '    19.0'},\n",
       "            {'name': '    Rebecca', ' gender': 'F', 'age': '18', 'height': ' 157', '  bmi': '23.7'},\n",
       "            {'name': 'Thomas', ' gender': 'M', 'age': '16', 'height': '  161', '  bmi': '20.5'}])"
      ]
     },
     "execution_count": 50,
     "metadata": {},
     "output_type": "execute_result"
    },
    {
     "data": {
      "text/plain": [
       "['Alex',\n",
       " ' Elizabeth',\n",
       " '  劉大任',\n",
       " '    司馬元真',\n",
       " '小張',\n",
       " ' 鏡',\n",
       " 'Alexander',\n",
       " '  Mirror',\n",
       " '    Rebecca',\n",
       " 'Thomas']"
      ]
     },
     "execution_count": 50,
     "metadata": {},
     "output_type": "execute_result"
    },
    {
     "data": {
      "text/plain": [
       "['Alex', ' Elizabeth', '  劉大任', '    司馬元真', '小張']"
      ]
     },
     "execution_count": 50,
     "metadata": {},
     "output_type": "execute_result"
    },
    {
     "data": {
      "text/plain": [
       "['  劉大任', '    司馬元真', '小張']"
      ]
     },
     "execution_count": 50,
     "metadata": {},
     "output_type": "execute_result"
    },
    {
     "data": {
      "text/plain": [
       "'    司馬元真'"
      ]
     },
     "execution_count": 50,
     "metadata": {},
     "output_type": "execute_result"
    }
   ],
   "source": [
    "import comma\n",
    "\n",
    "table = comma.load('./test.csv')\n",
    "table\n",
    "table['name']\n",
    "table['name'][0:5]\n",
    "table['name'][0:5][2:5]\n",
    "table[0:5]['name'][3]"
   ]
  },
  {
   "cell_type": "code",
   "execution_count": 57,
   "metadata": {},
   "outputs": [
    {
     "data": {
      "text/plain": [
       "'I have 三千五百 dollars.'"
      ]
     },
     "execution_count": 57,
     "metadata": {},
     "output_type": "execute_result"
    }
   ],
   "source": [
    "from numerizer import numerize\n",
    "numerize('I have 三千五百 dollars.')"
   ]
  },
  {
   "cell_type": "code",
   "execution_count": 83,
   "metadata": {},
   "outputs": [
    {
     "name": "stdout",
     "output_type": "stream",
     "text": [
      "🐈\n",
      "🐕\n",
      "🐇\n",
      "🐀\n",
      "🐦\n",
      "🐔\n",
      "🐖\n",
      "🐹\n",
      "🦎\n",
      "🦔\n",
      "🐐\n",
      "🐍\n",
      "🐢\n",
      "🐁\n",
      "🦝\n",
      "🐟\n",
      "🐸\n"
     ]
    }
   ],
   "source": [
    "# ! pip311 install imoji\n",
    "import emoji\n",
    "\n",
    "animals = [\n",
    "    'Cat', 'Dog', 'Rabbit', 'Rat', 'Bird', 'Chicken', \n",
    "    'Pig', 'Hamster', 'Lizard',\n",
    "    'Hedgehog', 'Goat', 'Snake', 'Turtle',\n",
    "    'Mouse', 'Raccoon', 'Fish'\n",
    "    ]\n",
    "\n",
    "for animal in animals:\n",
    "    animal = f':{animal.lower()}:'\n",
    "    print(emoji.emojize(animal))\n",
    "    \n",
    "print(emoji.emojize(':rana:', language='it'))"
   ]
  },
  {
   "cell_type": "code",
   "execution_count": 13,
   "metadata": {},
   "outputs": [
    {
     "data": {
      "text/plain": [
       "'胡宇軒'"
      ]
     },
     "execution_count": 13,
     "metadata": {},
     "output_type": "execute_result"
    },
    {
     "data": {
      "text/plain": [
       "'營運管理師'"
      ]
     },
     "execution_count": 13,
     "metadata": {},
     "output_type": "execute_result"
    },
    {
     "data": {
      "text/plain": [
       "'隆豐大飯店（北台君悅）'"
      ]
     },
     "execution_count": 13,
     "metadata": {},
     "output_type": "execute_result"
    },
    {
     "data": {
      "text/plain": [
       "'X117071410'"
      ]
     },
     "execution_count": 13,
     "metadata": {},
     "output_type": "execute_result"
    },
    {
     "data": {
      "text/plain": [
       "'通過不同控制地方都是都是怎麼.最新選擇新聞詳細歡迎網上.你們標准首頁科技公司繼續.\\n可是個人不要注冊.國際操作發展主要深圳安全情況發布.\\n最后計劃商品教育加入.\\n合作不要以下社會更多.合作廣告標題作為.過程其他名稱可是.\\n來自發現閱讀規定免費.出現能力怎麼日本也是一般標准.之間市場擁有你們因為幫助.\\n回復全國可能應用需要工具內容決定.學習參加免費.不過次數城市在線.'"
      ]
     },
     "execution_count": 13,
     "metadata": {},
     "output_type": "execute_result"
    },
    {
     "data": {
      "text/plain": [
       "['企業日期怎麼單位.論壇功能學習同時歡迎全國.他們時間進入自己安全會員.\\n精華目前人員質量個人內容.實現隻是功能電影圖片中文網絡.影響非常最后地方包括更多一種.\\n同時更多當然支持設計為什很多.活動為什一個開始密碼需要東西.有限工程非常自己用戶密碼而且得到.\\n經營規定覺得要求精華.實現不斷一些應該完成.這麼安全設計電話.\\n提供中心項目.這麼查看隻是帖子原因圖片正在.他們決定隻要功能.',\n",
       " '日本標准密碼時間投資類型.學校時候非常深圳.影響發生不會方式操作研究.直接其實關於原因如果.\\n部門原因活動經驗發布用戶.項目他的注意全國影響增加.\\n企業這種都是科技作為.您的信息雖然工具單位.免費品牌在線免費業務增加決定.\\n人民中心信息最大狀態產品.應該學校可以活動這是發表她的.\\n學校全部目前知道認為城市.相關系列位置項目必須.有關游戲全國進行參加出來我們.',\n",
       " '所以活動當然方法資源.汽車主題是一以及科技不能等級.\\n部分更多報告計劃登錄經濟活動.免費實現日期一樣制作解決現在.就是看到個人資源地區.\\n問題為了一種作者.然后這些已經.文件經營進入價格地址注冊支持商品.因此擁有公司繼續.\\n包括汽車不會女人報告他的.\\n教育一點以后標題他的方式不是資源.說明能力文件回復合作.質量全部必須一直一切.\\n日本其實更多大家非常要求.語言這些電話.']"
      ]
     },
     "execution_count": 13,
     "metadata": {},
     "output_type": "execute_result"
    }
   ],
   "source": [
    "from faker import Faker\n",
    "\n",
    "fake = Faker('zh_TW')\n",
    "# faker.\n",
    "fake.name()\n",
    "fake.job()\n",
    "fake.company()\n",
    "fake.ssn()\n",
    "fake.text()\n",
    "fake.texts()\n",
    "# fake.email()\n",
    "# fake.address()\n",
    "# fake.bank_country()\n",
    "# fake.zip()\n",
    "# fake.year()\n",
    "# fake.words()\n",
    "# fake.user_agent()"
   ]
  },
  {
   "cell_type": "code",
   "execution_count": null,
   "metadata": {},
   "outputs": [],
   "source": [
    "import click\n",
    "\n",
    "@click.command()\n",
    "@click.option('--count', default=1, help='Number of greetings.')\n",
    "@click.option('--name', prompt='Your name',\n",
    "              help='The person to greet.')\n",
    "def hello(count, name):\n",
    "    \"\"\"Simple program that greets NAME for a total of COUNT times.\"\"\"\n",
    "    for x in range(count):\n",
    "        click.echo(f\"Hello {name}!\")\n",
    "\n",
    "\n",
    "hello()"
   ]
  },
  {
   "cell_type": "code",
   "execution_count": null,
   "metadata": {},
   "outputs": [],
   "source": []
  },
  {
   "cell_type": "code",
   "execution_count": 52,
   "metadata": {},
   "outputs": [
    {
     "data": {
      "text/html": [
       "<div>\n",
       "<style scoped>\n",
       "    .dataframe tbody tr th:only-of-type {\n",
       "        vertical-align: middle;\n",
       "    }\n",
       "\n",
       "    .dataframe tbody tr th {\n",
       "        vertical-align: top;\n",
       "    }\n",
       "\n",
       "    .dataframe thead th {\n",
       "        text-align: right;\n",
       "    }\n",
       "</style>\n",
       "<table border=\"1\" class=\"dataframe\">\n",
       "  <thead>\n",
       "    <tr style=\"text-align: right;\">\n",
       "      <th></th>\n",
       "      <th>name</th>\n",
       "      <th>gender</th>\n",
       "      <th>age</th>\n",
       "      <th>height</th>\n",
       "      <th>Unnamed: 4</th>\n",
       "    </tr>\n",
       "  </thead>\n",
       "  <tbody>\n",
       "    <tr>\n",
       "      <th>0</th>\n",
       "      <td>Alex</td>\n",
       "      <td>M</td>\n",
       "      <td>39</td>\n",
       "      <td>168</td>\n",
       "      <td>22.0</td>\n",
       "    </tr>\n",
       "    <tr>\n",
       "      <th>1</th>\n",
       "      <td>Elizabeth</td>\n",
       "      <td>F</td>\n",
       "      <td>80</td>\n",
       "      <td>160</td>\n",
       "      <td>29.5</td>\n",
       "    </tr>\n",
       "    <tr>\n",
       "      <th>2</th>\n",
       "      <td>劉大任</td>\n",
       "      <td>M</td>\n",
       "      <td>39</td>\n",
       "      <td>172</td>\n",
       "      <td>16.8</td>\n",
       "    </tr>\n",
       "    <tr>\n",
       "      <th>3</th>\n",
       "      <td>司馬元真</td>\n",
       "      <td>F</td>\n",
       "      <td>39</td>\n",
       "      <td>161</td>\n",
       "      <td>26.2</td>\n",
       "    </tr>\n",
       "    <tr>\n",
       "      <th>4</th>\n",
       "      <td>小張</td>\n",
       "      <td>M</td>\n",
       "      <td>74</td>\n",
       "      <td>174</td>\n",
       "      <td>28.9</td>\n",
       "    </tr>\n",
       "    <tr>\n",
       "      <th>5</th>\n",
       "      <td>鏡</td>\n",
       "      <td>F</td>\n",
       "      <td>23</td>\n",
       "      <td>161</td>\n",
       "      <td>17.6</td>\n",
       "    </tr>\n",
       "    <tr>\n",
       "      <th>6</th>\n",
       "      <td>Alexander</td>\n",
       "      <td>M</td>\n",
       "      <td>56</td>\n",
       "      <td>168</td>\n",
       "      <td>25.4</td>\n",
       "    </tr>\n",
       "    <tr>\n",
       "      <th>7</th>\n",
       "      <td>Mirror</td>\n",
       "      <td>F</td>\n",
       "      <td>33</td>\n",
       "      <td>164</td>\n",
       "      <td>19.0</td>\n",
       "    </tr>\n",
       "    <tr>\n",
       "      <th>8</th>\n",
       "      <td>Rebecca</td>\n",
       "      <td>F</td>\n",
       "      <td>18</td>\n",
       "      <td>157</td>\n",
       "      <td>23.7</td>\n",
       "    </tr>\n",
       "    <tr>\n",
       "      <th>9</th>\n",
       "      <td>Thomas</td>\n",
       "      <td>M</td>\n",
       "      <td>16</td>\n",
       "      <td>161</td>\n",
       "      <td>20.5</td>\n",
       "    </tr>\n",
       "  </tbody>\n",
       "</table>\n",
       "</div>"
      ],
      "text/plain": [
       "          name  gender  age  height  Unnamed: 4\n",
       "0         Alex       M   39     168        22.0\n",
       "1    Elizabeth       F   80     160        29.5\n",
       "2          劉大任       M   39     172        16.8\n",
       "3         司馬元真       F   39     161        26.2\n",
       "4           小張       M   74     174        28.9\n",
       "5            鏡       F   23     161        17.6\n",
       "6    Alexander       M   56     168        25.4\n",
       "7       Mirror       F   33     164        19.0\n",
       "8      Rebecca       F   18     157        23.7\n",
       "9       Thomas       M   16     161        20.5"
      ]
     },
     "execution_count": 52,
     "metadata": {},
     "output_type": "execute_result"
    }
   ],
   "source": [
    "import pandas as pd\n",
    "\n",
    "df = pd.read_csv('./test.csv')\n",
    "df "
   ]
  },
  {
   "cell_type": "code",
   "execution_count": 15,
   "metadata": {},
   "outputs": [
    {
     "data": {
      "text/html": [
       "<pre style=\"white-space:pre;overflow-x:auto;line-height:normal;font-family:Menlo,'DejaVu Sans Mono',consolas,'Courier New',monospace\">Hello, <span style=\"font-weight: bold\">World</span>!\n",
       "</pre>\n"
      ],
      "text/plain": [
       "Hello, \u001b[1mWorld\u001b[0m!\n"
      ]
     },
     "metadata": {},
     "output_type": "display_data"
    },
    {
     "data": {
      "text/html": [
       "<pre style=\"white-space:pre;overflow-x:auto;line-height:normal;font-family:Menlo,'DejaVu Sans Mono',consolas,'Courier New',monospace\">Python is <span style=\"font-style: italic\">awesome!</span>\n",
       "</pre>\n"
      ],
      "text/plain": [
       "Python is \u001b[3mawesome!\u001b[0m\n"
      ]
     },
     "metadata": {},
     "output_type": "display_data"
    },
    {
     "data": {
      "text/html": [
       "<pre style=\"white-space:pre;overflow-x:auto;line-height:normal;font-family:Menlo,'DejaVu Sans Mono',consolas,'Courier New',monospace\">Rich is a <span style=\"font-weight: bold; font-style: italic\">hidden gem</span>\n",
       "</pre>\n"
      ],
      "text/plain": [
       "Rich is a \u001b[1;3mhidden gem\u001b[0m\n"
      ]
     },
     "metadata": {},
     "output_type": "display_data"
    },
    {
     "data": {
      "text/html": [
       "<pre style=\"white-space:pre;overflow-x:auto;line-height:normal;font-family:Menlo,'DejaVu Sans Mono',consolas,'Courier New',monospace\">Let's <span style=\"text-decoration: underline\">learn</span> something new.\n",
       "</pre>\n"
      ],
      "text/plain": [
       "Let's \u001b[4mlearn\u001b[0m something new.\n"
      ]
     },
     "metadata": {},
     "output_type": "display_data"
    },
    {
     "data": {
      "text/html": [
       "<pre style=\"white-space:pre;overflow-x:auto;line-height:normal;font-family:Menlo,'DejaVu Sans Mono',consolas,'Courier New',monospace\"><span style=\"font-style: italic\">                      Books                      </span>\n",
       "┏━━━━━━━━━━━━━━━━━━━━━━━━┳━━━━━━━━━━━━━━━┳━━━━━━┓\n",
       "┃<span style=\"color: #800080; text-decoration-color: #800080; font-weight: bold\"> Title                  </span>┃<span style=\"color: #800080; text-decoration-color: #800080; font-weight: bold\"> Author        </span>┃<span style=\"color: #800080; text-decoration-color: #800080; font-weight: bold\"> Year </span>┃\n",
       "┡━━━━━━━━━━━━━━━━━━━━━━━━╇━━━━━━━━━━━━━━━╇━━━━━━┩\n",
       "│<span style=\"color: #008080; text-decoration-color: #008080\"> The Catcher in the Rye </span>│<span style=\"color: #008000; text-decoration-color: #008000\"> J.D. Salinger </span>│<span style=\"color: #808000; text-decoration-color: #808000\"> 1951 </span>│\n",
       "│<span style=\"color: #008080; text-decoration-color: #008080\"> To Kill a Mockingbird  </span>│<span style=\"color: #008000; text-decoration-color: #008000\"> Harper Lee    </span>│<span style=\"color: #808000; text-decoration-color: #808000\"> 1960 </span>│\n",
       "│<span style=\"color: #008080; text-decoration-color: #008080\"> Pride and Prejudice    </span>│<span style=\"color: #008000; text-decoration-color: #008000\"> Jane Austen   </span>│<span style=\"color: #808000; text-decoration-color: #808000\"> 1813 </span>│\n",
       "└────────────────────────┴───────────────┴──────┘\n",
       "</pre>\n"
      ],
      "text/plain": [
       "\u001b[3m                      Books                      \u001b[0m\n",
       "┏━━━━━━━━━━━━━━━━━━━━━━━━┳━━━━━━━━━━━━━━━┳━━━━━━┓\n",
       "┃\u001b[1;35m \u001b[0m\u001b[1;35mTitle                 \u001b[0m\u001b[1;35m \u001b[0m┃\u001b[1;35m \u001b[0m\u001b[1;35mAuthor       \u001b[0m\u001b[1;35m \u001b[0m┃\u001b[1;35m \u001b[0m\u001b[1;35mYear\u001b[0m\u001b[1;35m \u001b[0m┃\n",
       "┡━━━━━━━━━━━━━━━━━━━━━━━━╇━━━━━━━━━━━━━━━╇━━━━━━┩\n",
       "│\u001b[36m \u001b[0m\u001b[36mThe Catcher in the Rye\u001b[0m\u001b[36m \u001b[0m│\u001b[32m \u001b[0m\u001b[32mJ.D. Salinger\u001b[0m\u001b[32m \u001b[0m│\u001b[33m \u001b[0m\u001b[33m1951\u001b[0m\u001b[33m \u001b[0m│\n",
       "│\u001b[36m \u001b[0m\u001b[36mTo Kill a Mockingbird \u001b[0m\u001b[36m \u001b[0m│\u001b[32m \u001b[0m\u001b[32mHarper Lee   \u001b[0m\u001b[32m \u001b[0m│\u001b[33m \u001b[0m\u001b[33m1960\u001b[0m\u001b[33m \u001b[0m│\n",
       "│\u001b[36m \u001b[0m\u001b[36mPride and Prejudice   \u001b[0m\u001b[36m \u001b[0m│\u001b[32m \u001b[0m\u001b[32mJane Austen  \u001b[0m\u001b[32m \u001b[0m│\u001b[33m \u001b[0m\u001b[33m1813\u001b[0m\u001b[33m \u001b[0m│\n",
       "└────────────────────────┴───────────────┴──────┘\n"
      ]
     },
     "metadata": {},
     "output_type": "display_data"
    },
    {
     "data": {
      "text/html": [
       "<pre style=\"white-space:pre;overflow-x:auto;line-height:normal;font-family:Menlo,'DejaVu Sans Mono',consolas,'Courier New',monospace\"><span style=\"color: #e3e3dd; text-decoration-color: #e3e3dd; background-color: #272822; font-weight: bold\">  </span><span style=\"color: #656660; text-decoration-color: #656660; background-color: #272822\">1 </span><span style=\"background-color: #272822\">                                                                                                               </span>\n",
       "<span style=\"color: #e3e3dd; text-decoration-color: #e3e3dd; background-color: #272822; font-weight: bold\">  </span><span style=\"color: #656660; text-decoration-color: #656660; background-color: #272822\">2 </span><span style=\"color: #66d9ef; text-decoration-color: #66d9ef; background-color: #272822\">def</span><span style=\"color: #f8f8f2; text-decoration-color: #f8f8f2; background-color: #272822\"> </span><span style=\"color: #a6e22e; text-decoration-color: #a6e22e; background-color: #272822\">hello_world</span><span style=\"color: #f8f8f2; text-decoration-color: #f8f8f2; background-color: #272822\">():</span><span style=\"background-color: #272822\">                                                                                             </span>\n",
       "<span style=\"color: #e3e3dd; text-decoration-color: #e3e3dd; background-color: #272822; font-weight: bold\">  </span><span style=\"color: #656660; text-decoration-color: #656660; background-color: #272822\">3 </span><span style=\"color: #f8f8f2; text-decoration-color: #f8f8f2; background-color: #272822\">    print(</span><span style=\"color: #e6db74; text-decoration-color: #e6db74; background-color: #272822\">\"Hello, World!\"</span><span style=\"color: #f8f8f2; text-decoration-color: #f8f8f2; background-color: #272822\">)</span><span style=\"background-color: #272822\">                                                                                     </span>\n",
       "<span style=\"color: #e3e3dd; text-decoration-color: #e3e3dd; background-color: #272822; font-weight: bold\">  </span><span style=\"color: #656660; text-decoration-color: #656660; background-color: #272822\">4 </span><span style=\"background-color: #272822\">                                                                                                               </span>\n",
       "<span style=\"color: #e3e3dd; text-decoration-color: #e3e3dd; background-color: #272822; font-weight: bold\">  </span><span style=\"color: #656660; text-decoration-color: #656660; background-color: #272822\">5 </span><span style=\"color: #f8f8f2; text-decoration-color: #f8f8f2; background-color: #272822\">hello_world()</span><span style=\"background-color: #272822\">                                                                                                  </span>\n",
       "<span style=\"color: #e3e3dd; text-decoration-color: #e3e3dd; background-color: #272822; font-weight: bold\">  </span><span style=\"color: #656660; text-decoration-color: #656660; background-color: #272822\">6 </span><span style=\"background-color: #272822\">                                                                                                               </span>\n",
       "</pre>\n"
      ],
      "text/plain": [
       "\u001b[1;38;2;227;227;221;48;2;39;40;34m  \u001b[0m\u001b[38;2;101;102;96;48;2;39;40;34m1 \u001b[0m\u001b[48;2;39;40;34m                                                                                                               \u001b[0m\n",
       "\u001b[1;38;2;227;227;221;48;2;39;40;34m  \u001b[0m\u001b[38;2;101;102;96;48;2;39;40;34m2 \u001b[0m\u001b[38;2;102;217;239;48;2;39;40;34mdef\u001b[0m\u001b[38;2;248;248;242;48;2;39;40;34m \u001b[0m\u001b[38;2;166;226;46;48;2;39;40;34mhello_world\u001b[0m\u001b[38;2;248;248;242;48;2;39;40;34m(\u001b[0m\u001b[38;2;248;248;242;48;2;39;40;34m)\u001b[0m\u001b[38;2;248;248;242;48;2;39;40;34m:\u001b[0m\u001b[48;2;39;40;34m                                                                                             \u001b[0m\n",
       "\u001b[1;38;2;227;227;221;48;2;39;40;34m  \u001b[0m\u001b[38;2;101;102;96;48;2;39;40;34m3 \u001b[0m\u001b[38;2;248;248;242;48;2;39;40;34m    \u001b[0m\u001b[38;2;248;248;242;48;2;39;40;34mprint\u001b[0m\u001b[38;2;248;248;242;48;2;39;40;34m(\u001b[0m\u001b[38;2;230;219;116;48;2;39;40;34m\"\u001b[0m\u001b[38;2;230;219;116;48;2;39;40;34mHello, World!\u001b[0m\u001b[38;2;230;219;116;48;2;39;40;34m\"\u001b[0m\u001b[38;2;248;248;242;48;2;39;40;34m)\u001b[0m\u001b[48;2;39;40;34m                                                                                     \u001b[0m\n",
       "\u001b[1;38;2;227;227;221;48;2;39;40;34m  \u001b[0m\u001b[38;2;101;102;96;48;2;39;40;34m4 \u001b[0m\u001b[48;2;39;40;34m                                                                                                               \u001b[0m\n",
       "\u001b[1;38;2;227;227;221;48;2;39;40;34m  \u001b[0m\u001b[38;2;101;102;96;48;2;39;40;34m5 \u001b[0m\u001b[38;2;248;248;242;48;2;39;40;34mhello_world\u001b[0m\u001b[38;2;248;248;242;48;2;39;40;34m(\u001b[0m\u001b[38;2;248;248;242;48;2;39;40;34m)\u001b[0m\u001b[48;2;39;40;34m                                                                                                  \u001b[0m\n",
       "\u001b[1;38;2;227;227;221;48;2;39;40;34m  \u001b[0m\u001b[38;2;101;102;96;48;2;39;40;34m6 \u001b[0m\u001b[48;2;39;40;34m                                                                                                               \u001b[0m\n"
      ]
     },
     "metadata": {},
     "output_type": "display_data"
    }
   ],
   "source": [
    "from rich.console import Console\n",
    "from rich.table import Table\n",
    "from rich.syntax import Syntax\n",
    "\n",
    "console = Console()\n",
    "\n",
    "# Text styling\n",
    "console.print(\"Hello, [bold]World[/bold]!\")\n",
    "console.print(\"Python is [italic]awesome![/italic]\")\n",
    "console.print(\"Rich is a [italic][bold]hidden gem[/bold][/italic]\")\n",
    "console.print(\"Let's [underline]learn[/underline] something new.\")\n",
    "\n",
    "# Table\n",
    "table = Table(title=\"Books\", show_header=True, header_style=\"bold magenta\")\n",
    "table.add_column(\"Title\", style=\"cyan\")\n",
    "table.add_column(\"Author\", style=\"green\")\n",
    "table.add_column(\"Year\", style=\"yellow\")\n",
    "\n",
    "table.add_row(\"The Catcher in the Rye\", \"J.D. Salinger\", \"1951\")\n",
    "table.add_row(\"To Kill a Mockingbird\", \"Harper Lee\", \"1960\")\n",
    "table.add_row(\"Pride and Prejudice\", \"Jane Austen\", \"1813\")\n",
    "\n",
    "console.print(table)\n",
    "\n",
    "# Syntax highlighting\n",
    "code = \"\"\"\n",
    "def hello_world():\n",
    "    print(\"Hello, World!\")\n",
    "\n",
    "hello_world()\n",
    "\"\"\"\n",
    "\n",
    "syntax = Syntax(code, \"python\", theme=\"monokai\", line_numbers=True)\n",
    "console.print(syntax)"
   ]
  },
  {
   "cell_type": "code",
   "execution_count": 16,
   "metadata": {},
   "outputs": [
    {
     "data": {
      "text/html": [
       "<pre style=\"white-space:pre;overflow-x:auto;line-height:normal;font-family:Menlo,'DejaVu Sans Mono',consolas,'Courier New',monospace\"><span style=\"font-style: italic\">                 Python Versions                 </span>\n",
       "┏━━━━━━━━━━━━━━┳━━━━━━━━━┳━━━━━━━━━━━━━━━━━━━━━━┓\n",
       "┃<span style=\"font-weight: bold\"> Release Date </span>┃<span style=\"font-weight: bold\"> Version </span>┃<span style=\"font-weight: bold\"> Latest Micro Version </span>┃\n",
       "┡━━━━━━━━━━━━━━╇━━━━━━━━━╇━━━━━━━━━━━━━━━━━━━━━━┩\n",
       "│<span style=\"color: #008080; text-decoration-color: #008080\"> Oct 10, 2020 </span>│<span style=\"color: #800080; text-decoration-color: #800080\"> 3.9     </span>│<span style=\"color: #008000; text-decoration-color: #008000\"> 3.9.0                </span>│\n",
       "│<span style=\"color: #008080; text-decoration-color: #008080\"> Oct 14, 2019 </span>│<span style=\"color: #800080; text-decoration-color: #800080\"> 3.8     </span>│<span style=\"color: #008000; text-decoration-color: #008000\"> 3.8.3                </span>│\n",
       "│<span style=\"color: #008080; text-decoration-color: #008080\"> Jun 27, 2018 </span>│<span style=\"color: #800080; text-decoration-color: #800080\"> 3.7     </span>│<span style=\"color: #008000; text-decoration-color: #008000\"> 3.7.7                </span>│\n",
       "│<span style=\"color: #008080; text-decoration-color: #008080\"> Dec 23, 2016 </span>│<span style=\"color: #800080; text-decoration-color: #800080\"> 3.6     </span>│<span style=\"color: #008000; text-decoration-color: #008000\"> 3.6.10               </span>│\n",
       "│<span style=\"color: #008080; text-decoration-color: #008080\"> Sep 13, 2015 </span>│<span style=\"color: #800080; text-decoration-color: #800080\"> 3.5     </span>│<span style=\"color: #008000; text-decoration-color: #008000\"> 3.5.9                </span>│\n",
       "│<span style=\"color: #008080; text-decoration-color: #008080\"> Mar 16, 2014 </span>│<span style=\"color: #800080; text-decoration-color: #800080\"> 3.4     </span>│<span style=\"color: #008000; text-decoration-color: #008000\"> 3.4.10               </span>│\n",
       "└──────────────┴─────────┴──────────────────────┘\n",
       "</pre>\n"
      ],
      "text/plain": [
       "\u001b[3m                 Python Versions                 \u001b[0m\n",
       "┏━━━━━━━━━━━━━━┳━━━━━━━━━┳━━━━━━━━━━━━━━━━━━━━━━┓\n",
       "┃\u001b[1m \u001b[0m\u001b[1mRelease Date\u001b[0m\u001b[1m \u001b[0m┃\u001b[1m \u001b[0m\u001b[1mVersion\u001b[0m\u001b[1m \u001b[0m┃\u001b[1m \u001b[0m\u001b[1mLatest Micro Version\u001b[0m\u001b[1m \u001b[0m┃\n",
       "┡━━━━━━━━━━━━━━╇━━━━━━━━━╇━━━━━━━━━━━━━━━━━━━━━━┩\n",
       "│\u001b[36m \u001b[0m\u001b[36mOct 10, 2020\u001b[0m\u001b[36m \u001b[0m│\u001b[35m \u001b[0m\u001b[35m3.9    \u001b[0m\u001b[35m \u001b[0m│\u001b[32m \u001b[0m\u001b[32m3.9.0               \u001b[0m\u001b[32m \u001b[0m│\n",
       "│\u001b[36m \u001b[0m\u001b[36mOct 14, 2019\u001b[0m\u001b[36m \u001b[0m│\u001b[35m \u001b[0m\u001b[35m3.8    \u001b[0m\u001b[35m \u001b[0m│\u001b[32m \u001b[0m\u001b[32m3.8.3               \u001b[0m\u001b[32m \u001b[0m│\n",
       "│\u001b[36m \u001b[0m\u001b[36mJun 27, 2018\u001b[0m\u001b[36m \u001b[0m│\u001b[35m \u001b[0m\u001b[35m3.7    \u001b[0m\u001b[35m \u001b[0m│\u001b[32m \u001b[0m\u001b[32m3.7.7               \u001b[0m\u001b[32m \u001b[0m│\n",
       "│\u001b[36m \u001b[0m\u001b[36mDec 23, 2016\u001b[0m\u001b[36m \u001b[0m│\u001b[35m \u001b[0m\u001b[35m3.6    \u001b[0m\u001b[35m \u001b[0m│\u001b[32m \u001b[0m\u001b[32m3.6.10              \u001b[0m\u001b[32m \u001b[0m│\n",
       "│\u001b[36m \u001b[0m\u001b[36mSep 13, 2015\u001b[0m\u001b[36m \u001b[0m│\u001b[35m \u001b[0m\u001b[35m3.5    \u001b[0m\u001b[35m \u001b[0m│\u001b[32m \u001b[0m\u001b[32m3.5.9               \u001b[0m\u001b[32m \u001b[0m│\n",
       "│\u001b[36m \u001b[0m\u001b[36mMar 16, 2014\u001b[0m\u001b[36m \u001b[0m│\u001b[35m \u001b[0m\u001b[35m3.4    \u001b[0m\u001b[35m \u001b[0m│\u001b[32m \u001b[0m\u001b[32m3.4.10              \u001b[0m\u001b[32m \u001b[0m│\n",
       "└──────────────┴─────────┴──────────────────────┘\n"
      ]
     },
     "metadata": {},
     "output_type": "display_data"
    }
   ],
   "source": [
    "from rich.console import Console\n",
    "from rich.table import Table\n",
    "\n",
    "table = Table(title=\"Python Versions\")\n",
    "\n",
    "table.add_column(\"Release Date\", justify=\"right\", style=\"cyan\", no_wrap=True)\n",
    "table.add_column(\"Version\", style=\"magenta\")\n",
    "table.add_column(\"Latest Micro Version\", justify=\"left\", style=\"green\")\n",
    "\n",
    "table.add_row(\"Oct 10, 2020\", \"3.9\", \"3.9.0\")\n",
    "table.add_row(\"Oct 14, 2019\", \"3.8\", \"3.8.3\")\n",
    "table.add_row(\"Jun 27, 2018\", \"3.7\", \"3.7.7\")\n",
    "table.add_row(\"Dec 23, 2016\", \"3.6\", \"3.6.10\")\n",
    "table.add_row(\"Sep 13, 2015\", \"3.5\", \"3.5.9\")\n",
    "table.add_row(\"Mar 16, 2014\", \"3.4\", \"3.4.10\")\n",
    "\n",
    "console = Console()\n",
    "console.print(table)"
   ]
  },
  {
   "cell_type": "code",
   "execution_count": 2,
   "metadata": {},
   "outputs": [
    {
     "name": "stderr",
     "output_type": "stream",
     "text": [
      "Downloading data from 'https://github.com/danielgatis/rembg/releases/download/v0.0.0/u2net.onnx' to file '/home/alex/.u2net/u2net.onnx'.\n",
      "100%|████████████████████████████████████████| 176M/176M [00:00<00:00, 186GB/s]\n"
     ]
    },
    {
     "data": {
      "text/plain": [
       "True"
      ]
     },
     "execution_count": 2,
     "metadata": {},
     "output_type": "execute_result"
    }
   ],
   "source": [
    "from rembg import remove\n",
    "import cv2 \n",
    "# path of input image (my file: image.jpeg)\n",
    "input_file = './assests/car.jpg'\n",
    "# path for saving output image and saving as a output.jpeg\n",
    "output_file = './assests/car1.jpg'\n",
    "# Reading the input image\n",
    "input = cv2.imread(input_file)\n",
    "# Removing background\n",
    "output = remove(input)\n",
    "# Saving file \n",
    "cv2.imwrite(output_file, output)"
   ]
  },
  {
   "cell_type": "code",
   "execution_count": 2,
   "metadata": {},
   "outputs": [
    {
     "name": "stdout",
     "output_type": "stream",
     "text": [
      "Correct the sentence using \"ftfy\".\n",
      "✔ No problems with text\n",
      "à perturber la réflexion\n"
     ]
    }
   ],
   "source": [
    "import ftfy\n",
    "print(ftfy.fix_text('Correct the sentence using â€œftfyâ€\\x9d.'))\n",
    "print(ftfy.fix_text('âœ” No problems with text'))\n",
    "print(ftfy.fix_text('Ã perturber la rÃ©flexion'))"
   ]
  },
  {
   "cell_type": "code",
   "execution_count": 1,
   "metadata": {},
   "outputs": [
    {
     "name": "stdout",
     "output_type": "stream",
     "text": [
      "951,009\n",
      "10.0 billion\n"
     ]
    }
   ],
   "source": [
    "import humanize\n",
    "# import datetime as dt\n",
    "\n",
    "# Formatting  numbers with comma\n",
    "a =  humanize.intcomma(951009)\n",
    "\n",
    "# converting numbers into words\n",
    "b = humanize.intword(10046328394)\n",
    "\n",
    "#printing\n",
    "\n",
    "print(a)\n",
    "print(b)"
   ]
  },
  {
   "cell_type": "code",
   "execution_count": 2,
   "metadata": {},
   "outputs": [
    {
     "name": "stdout",
     "output_type": "stream",
     "text": [
      "Jun 05 2012\n",
      "Jun 05\n"
     ]
    }
   ],
   "source": [
    "import humanize\n",
    "import datetime as dt\n",
    "    \n",
    "a = humanize.naturaldate(dt.date(2012, 6, 5))\n",
    "b = humanize.naturalday(dt.date(2012, 6, 5))\n",
    "\n",
    "print(a)\n",
    "print(b)"
   ]
  },
  {
   "cell_type": "code",
   "execution_count": 7,
   "metadata": {},
   "outputs": [
    {
     "name": "stdout",
     "output_type": "stream",
     "text": [
      "1\n"
     ]
    }
   ],
   "source": [
    "try:\n",
    "    first ,= [1]\n",
    "    print(first)\n",
    "except Exception as e:\n",
    "    print(e)    "
   ]
  },
  {
   "cell_type": "code",
   "execution_count": 13,
   "metadata": {},
   "outputs": [
    {
     "data": {
      "text/plain": [
       "True"
      ]
     },
     "execution_count": 13,
     "metadata": {},
     "output_type": "execute_result"
    }
   ],
   "source": [
    "# assert 0!=6\n",
    "3!=86\n",
    "# 9!\n",
    "b# assert 4!=24\n",
    "# assert 5!=120\n",
    "# assert 6!=720\n",
    "# assert 9!=362,880"
   ]
  },
  {
   "cell_type": "code",
   "execution_count": 17,
   "metadata": {},
   "outputs": [
    {
     "name": "stdout",
     "output_type": "stream",
     "text": [
      "My name is Alex.\n"
     ]
    }
   ],
   "source": [
    "class AnAbstractClass:\n",
    "    def name(self): \n",
    "        # abstract\n",
    "        print('My name is Alex.')\n",
    "        \n",
    "AnAbstractClass().name()        "
   ]
  },
  {
   "cell_type": "code",
   "execution_count": 34,
   "metadata": {},
   "outputs": [
    {
     "name": "stdout",
     "output_type": "stream",
     "text": [
      "now = datetime.datetime(2023, 5, 5, 18, 34, 26, 173857)\n",
      "start_time = datetime.datetime(2023, 5, 5, 18, 35)\n",
      "delay = 33.826143\n",
      "now = datetime.datetime(2023, 5, 5, 18, 34, 26, 173857)\n",
      "----------\n",
      "now = datetime.datetime(2023, 5, 5, 18, 35, 0, 942)\n"
     ]
    }
   ],
   "source": [
    "from datetime import datetime\n",
    "import time\n",
    "\n",
    "now = datetime.now()\n",
    "print(f'{now = }')\n",
    "start_time = now.replace(hour=18, minute=35, second=0, microsecond=0)\n",
    "print(f'{start_time = }')\n",
    "delay = (start_time - now).total_seconds()\n",
    "print(f'{delay = }')\n",
    "print(f'{now = }')\n",
    "print('----------')\n",
    "time.sleep(delay)\n",
    "now = datetime.now()\n",
    "print(f'{now = }')\n",
    "# print(f'{now.microsecond = }')\n"
   ]
  },
  {
   "cell_type": "code",
   "execution_count": 37,
   "metadata": {},
   "outputs": [
    {
     "data": {
      "text/plain": [
       "Every 1 minute do job() (last run: [never], next run: 2023-05-05 19:00:20)"
      ]
     },
     "execution_count": 37,
     "metadata": {},
     "output_type": "execute_result"
    }
   ],
   "source": [
    "import schedule\n",
    "from datetime import datetime, timedelta, time\n",
    "\n",
    "def job():\n",
    "    print('Boo')\n",
    "\n",
    "# run job until a 18:30 today\n",
    "schedule.every(1).minutes.until(\"19:02:00\").do(job)"
   ]
  },
  {
   "cell_type": "code",
   "execution_count": 38,
   "metadata": {},
   "outputs": [
    {
     "data": {
      "text/plain": [
       "'{\"name\": \"alex\", \"age\": 39}'"
      ]
     },
     "execution_count": 38,
     "metadata": {},
     "output_type": "execute_result"
    }
   ],
   "source": [
    "import json\n",
    "d = {'name': 'alex', 'age': 39}\n",
    "json.dumps(d)"
   ]
  },
  {
   "cell_type": "code",
   "execution_count": null,
   "metadata": {},
   "outputs": [],
   "source": [
    "# ex95：函數-直角三角形\n",
    "def right_triangle(text: str = ''):\n",
    "    if not text:\n",
    "        return ''\n",
    "    start = 0\n",
    "    return_str = ''\n",
    "    for len_sub in range(1, len(text) + 1):\n",
    "        sub = text[start:start+len_sub]\n",
    "        return_str += sub\n",
    "        if len(sub) == 0:\n",
    "            break\n",
    "        elif len(sub) < len_sub:\n",
    "            # return_str += '*'*(len_sub - len(sub))\n",
    "            return_str += text[:(len_sub - len(sub))]\n",
    "            break\n",
    "        else:\n",
    "            return_str += '\\n'\n",
    "            \n",
    "        start += len_sub\n",
    "    return return_str[:-1] if return_str[-1] == '\\n' else return_str\n",
    "\n",
    "print()\n",
    "print(f'/{right_triangle()}/')\n",
    "text = 'abcdefghijklmn'\n",
    "print(f'{text = }')\n",
    "print(right_triangle(text))\n",
    "print()\n",
    "text = 'Alex'\n",
    "print(f'{text = }')\n",
    "print(right_triangle(text))\n",
    "print()\n",
    "text = '3.1416'\n",
    "print(f'{text = }')\n",
    "print(right_triangle(text))\n",
    "print()\n",
    "text = 'a'\n",
    "print(f'{text = }')\n",
    "print(right_triangle(text))\n",
    "print()\n",
    "text = '@#$%^&~!-=*'\n",
    "print(f'{text = }')\n",
    "print(right_triangle(text))\n",
    "print()"
   ]
  },
  {
   "cell_type": "code",
   "execution_count": 59,
   "metadata": {},
   "outputs": [
    {
     "name": "stdout",
     "output_type": "stream",
     "text": [
      "\n",
      "text = 'Python'\n",
      "to_head(text) = ['Python', 'yPthon', 'tPyhon', 'hPyton', 'oPythn', 'nPytho']\n",
      "text = '2023年'\n",
      "to_head(text) = ['2023年', '0223年', '2203年', '3202年', '年2023']\n",
      "text = 'art'\n",
      "to_head(text) = ['art', 'rat', 'tar']\n",
      "text = 'OS'\n",
      "to_head(text) = ['OS', 'SO']\n",
      "text = '山明水秀'\n",
      "to_head(text) = ['山明水秀', '明山水秀', '水山明秀', '秀山明水']\n",
      "text = '🐍'\n",
      "to_head(text) = ['🐍']\n",
      "text = ''\n",
      "to_head(text) = []\n",
      "\n"
     ]
    }
   ],
   "source": [
    "# ex96：函數-輪流當頭家\n",
    "# Make a program that input string and create a loop to move \n",
    "# each letter to the front. \n",
    "def to_head(chars: str) -> list:\n",
    "    return_list = []\n",
    "    for index, char in enumerate(chars):\n",
    "        return_list.append(f'{char}{chars[:index]}{chars[index+1:]}')\n",
    "    return return_list\n",
    "        \n",
    "print()\n",
    "text = 'Python'\n",
    "print(f'{text = }')\n",
    "print(f\"{to_head(text) = }\")\n",
    "\n",
    "text = '2023年'\n",
    "print(f'{text = }')\n",
    "print(f\"{to_head(text) = }\")\n",
    "\n",
    "text = 'art'\n",
    "print(f'{text = }')\n",
    "print(f\"{to_head(text) = }\")\n",
    "\n",
    "text = 'OS'\n",
    "print(f'{text = }')\n",
    "print(f\"{to_head(text) = }\")\n",
    "\n",
    "text = '山明水秀'\n",
    "print(f'{text = }')\n",
    "print(f\"{to_head(text) = }\")\n",
    "\n",
    "text = '🐍'\n",
    "print(f'{text = }')\n",
    "print(f\"{to_head(text) = }\")\n",
    "\n",
    "text = ''\n",
    "print(f'{text = }')\n",
    "print(f\"{to_head(text) = }\")\n",
    "print()"
   ]
  },
  {
   "cell_type": "code",
   "execution_count": 3,
   "metadata": {},
   "outputs": [
    {
     "name": "stdout",
     "output_type": "stream",
     "text": [
      "\n",
      "slopes() = {'up': [], 'down': []}\n",
      "\n",
      "heights = [1, 3, 4, 6, 2, 3, 5, 5, 5, 3, 3, 8, 9]\n",
      "slopes(heights) = {'up': [[1, 3, 4, 6], [2, 3, 5], [3, 8, 9]], 'down': [[6, 2], [5, 3]]}\n",
      "\n",
      "heights = (6, 8, 9, 4, 1, 8, 7, 1, 1)\n",
      "slopes(heights) = {'up': [[6, 8, 9], [1, 8]], 'down': [[9, 4, 1], [8, 7, 1]]}\n",
      "\n",
      "heights = [5, 3, 1, 7, 7, 9, 30, 4, 4, 4, 15]\n",
      "slopes(heights) = {'up': [[1, 7], [7, 9, 30], [4, 15]], 'down': [[5, 3, 1], [30, 4]]}\n",
      "\n",
      "heights = (15, 23, 8, 6, 11, 49, 26)\n",
      "slopes(heights) = {'up': [[15, 23], [6, 11, 49]], 'down': [[23, 8, 6], [49, 26]]}\n",
      "\n",
      "heights = [10, 9, 7, 3, 2, 2, 2, 2, 4, 6, 8, 15, 29, 29, 29, 29]\n",
      "slopes(heights) = {'up': [[2, 4, 6, 8, 15, 29]], 'down': [[10, 9, 7, 3, 2]]}\n",
      "\n",
      "\n"
     ]
    }
   ],
   "source": [
    "# ex97：函數-上下坡\n",
    "def slopes(heights: tuple | list = []) -> tuple:\n",
    "    return_slopes = {'up': [], 'down': []}\n",
    "    up_sloping = down_sloping = False\n",
    "    for point, height in enumerate(heights[:-1]):\n",
    "        if heights[point+1] > height:\n",
    "            if down_sloping:\n",
    "                return_slopes['down'][-1].append(height)\n",
    "                down_sloping = False \n",
    "            if not up_sloping:\n",
    "                return_slopes['up'].append([height])\n",
    "                up_sloping = True\n",
    "            else:\n",
    "                return_slopes['up'][-1].append(height)\n",
    "            \n",
    "        if heights[point+1] < height:\n",
    "            if up_sloping:\n",
    "                return_slopes['up'][-1].append(height)\n",
    "                up_sloping = False \n",
    "            if not down_sloping:\n",
    "                return_slopes['down'].append([height])\n",
    "                down_sloping = True\n",
    "            else:\n",
    "                return_slopes['down'][-1].append(height)\n",
    "                \n",
    "        if heights[point+1] == height:\n",
    "            if up_sloping:\n",
    "                return_slopes['up'][-1].append(height)\n",
    "                up_sloping = False\n",
    "            elif down_sloping:\n",
    "                return_slopes['down'][-1].append(height)                \n",
    "                down_sloping = False\n",
    "    if up_sloping:\n",
    "       return_slopes['up'][-1].append(heights[-1])\n",
    "    if down_sloping:\n",
    "       return_slopes['down'][-1].append(heights[-1])\n",
    "\n",
    "    return return_slopes\n",
    "\n",
    "print()\n",
    "print(f\"{slopes() = }\\n\")\n",
    "heights = [1, 3, 4, 6, 2, 3, 5, 5, 5, 3, 3, 8, 9]\n",
    "print(f'{heights = }')\n",
    "print(f\"{slopes(heights) = }\\n\")\n",
    "heights = (6, 8, 9, 4, 1, 8, 7, 1, 1)\n",
    "print(f'{heights = }')\n",
    "print(f\"{slopes(heights) = }\\n\")\n",
    "heights = [5, 3, 1, 7, 7, 9, 30, 4, 4, 4, 15]\n",
    "print(f'{heights = }')\n",
    "print(f\"{slopes(heights) = }\\n\")\n",
    "heights = (15, 23, 8, 6, 11, 49, 26)\n",
    "print(f'{heights = }')\n",
    "print(f\"{slopes(heights) = }\\n\")\n",
    "heights = [10, 9, 7, 3, 2, 2, 2, 2, 4, 6, 8, 15, 29, 29, 29, 29]\n",
    "print(f'{heights = }')\n",
    "print(f\"{slopes(heights) = }\\n\")\n",
    "print()"
   ]
  },
  {
   "cell_type": "code",
   "execution_count": 14,
   "metadata": {},
   "outputs": [
    {
     "name": "stdout",
     "output_type": "stream",
     "text": [
      "\n",
      "{(0, 1), (0, 4), (3, 4), (0, 0), (3, 1), (1, 1), (0, 3), (3, 0), (2, 3), (1, 0), (3, 2)}\n",
      "11\n",
      "get_islands(map) = []\n"
     ]
    }
   ],
   "source": [
    "def get_islands(map: tuple | list) -> list:\n",
    "    land_points = list()\n",
    "    \n",
    "    for i, row in enumerate(map):\n",
    "        for j, cell in enumerate(row):\n",
    "            if cell == 1:\n",
    "                land_points.append((i, j))\n",
    "            # print(cell)\n",
    "    print(land_points)\n",
    "    print(len(land_points))\n",
    "    \n",
    "    for point in land_points:\n",
    "        \n",
    "    \n",
    "    return []\n",
    "\n",
    "\n",
    "map = [\n",
    "    [1,1,0,1,1],\n",
    "    [1,1,0,0,0],\n",
    "    [0,0,0,1,0],\n",
    "    [1,1,1,0,1],\n",
    "]\n",
    "# print(map[1][3])\n",
    "print()\n",
    "print(f'{get_islands(map) = }')\n",
    "# print(f'{get_islands(map) = }')\n",
    "# print(f'{get_islands(map) = }')\n",
    "[\n",
    "    {(0, 1), (1, 0), (0, 0), (1, 1)},  # the top-left island\n",
    "    {(0, 3), (0, 4)},                  # the top-right island\n",
    "    {(3, 0), (3, 2), (3, 1)}           # the bottom-right island\n",
    "]"
   ]
  },
  {
   "cell_type": "code",
   "execution_count": null,
   "metadata": {},
   "outputs": [],
   "source": [
    "def calculate(expr: str) -> int | float:\n",
    "    ...\n",
    "    for char in expr\n",
    "    return result\n",
    "    \n",
    "print()\n",
    "expr = '2+2'\n",
    "print(f'{expr = }')\n",
    "print(f'{calculate(expr) = }\\n')\n",
    "expr = '5+3*5-2/7'\n",
    "print(f'{expr = }')\n",
    "print(f'{calculate(expr) = }\\n')\n",
    "expr = '3*9/3.7+2.1-4.6'\n",
    "print(f'{expr = }')\n",
    "print(f'{calculate(expr) = }\\n')\n",
    "expr = '6-80/3+3*7.9'\n",
    "print(f'{expr = }')\n",
    "print(f'{calculate(expr) = }\\n')\n",
    "expr = '2*3.1416*20'\n",
    "print(f'{expr = }')\n",
    "print(f'{calculate(expr) = }\\n')\n",
    "\n",
    "    "
   ]
  },
  {
   "cell_type": "code",
   "execution_count": null,
   "metadata": {},
   "outputs": [],
   "source": [
    "def diamond"
   ]
  },
  {
   "cell_type": "code",
   "execution_count": 15,
   "metadata": {},
   "outputs": [
    {
     "data": {
      "text/plain": [
       "{'interventions': {'a': '0', 'b': 'xyz', 'c': '0'}}"
      ]
     },
     "execution_count": 15,
     "metadata": {},
     "output_type": "execute_result"
    }
   ],
   "source": [
    "dashboard = {'interventions': {'a': '', 'b': 'xyz', 'c':''}}\n",
    "for key, value in dashboard['interventions'].items():\n",
    "    if not value:\n",
    "        dashboard['interventions'][key] = '0'\n",
    "        \n",
    "dashboard"
   ]
  },
  {
   "cell_type": "code",
   "execution_count": null,
   "metadata": {},
   "outputs": [],
   "source": [
    "dashboard = {'sofa_pao2_fio2': [{'a': '', 'b': 'xyz', 'c':''], \n",
    "             'sofa_platelets': {'a': '', 'b': 'xyz', 'c':'2',\n",
    "             'sofa_bilirubin': {'a': '', 'b': '', 'c':'123',}}\n",
    "                                }}\n",
    "for key, value in dashboard['interventions'].items():\n",
    "    if not value:\n",
    "        dashboard['interventions'][key] = '0'\n",
    "        \n",
    "dashboard"
   ]
  },
  {
   "cell_type": "code",
   "execution_count": 23,
   "metadata": {},
   "outputs": [
    {
     "data": {
      "text/plain": [
       "{}"
      ]
     },
     "execution_count": 23,
     "metadata": {},
     "output_type": "execute_result"
    }
   ],
   "source": [
    "import json\n",
    "\n",
    "# patient['chart_sepsis']['infection'] = \\\n",
    "#     remove_minus_nine(json.loads(prediect['chart_sepsis_infection'] if predict.get('chart_sepsis_infection') is not None else ''))\n",
    "\n",
    "# predict['chart_sepsis_infection'] if predict.get('chart_sepsis_infection') else None\n",
    "\n",
    "json.loads('')"
   ]
  },
  {
   "cell_type": "code",
   "execution_count": 19,
   "metadata": {},
   "outputs": [
    {
     "name": "stdout",
     "output_type": "stream",
     "text": [
      "0\n",
      "2\n",
      "3\n",
      "4\n",
      "9\n"
     ]
    }
   ],
   "source": [
    "ss = {4, 3, 9, 0, 2}\n",
    "for s in ss:\n",
    "    print(s)"
   ]
  }
 ],
 "metadata": {
  "kernelspec": {
   "display_name": "Python 3.10.4 64-bit",
   "language": "python",
   "name": "python3"
  },
  "language_info": {
   "codemirror_mode": {
    "name": "ipython",
    "version": 3
   },
   "file_extension": ".py",
   "mimetype": "text/x-python",
   "name": "python",
   "nbconvert_exporter": "python",
   "pygments_lexer": "ipython3",
   "version": "3.11.3"
  },
  "orig_nbformat": 4,
  "vscode": {
   "interpreter": {
    "hash": "916dbcbb3f70747c44a77c7bcd40155683ae19c65e1c03b4aa3499c5328201f1"
   }
  }
 },
 "nbformat": 4,
 "nbformat_minor": 2
}
