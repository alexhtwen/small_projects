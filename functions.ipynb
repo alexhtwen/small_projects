{
 "cells": [
  {
   "cell_type": "code",
   "execution_count": 2,
   "metadata": {},
   "outputs": [
    {
     "data": {
      "text/plain": [
       "'interactiveShell imported'"
      ]
     },
     "execution_count": 2,
     "metadata": {},
     "output_type": "execute_result"
    }
   ],
   "source": [
    "from IPython.core.interactiveshell import InteractiveShell \n",
    "InteractiveShell.ast_node_interactivity = \"all\"\n",
    "'interactiveShell imported'"
   ]
  },
  {
   "cell_type": "code",
   "execution_count": null,
   "metadata": {},
   "outputs": [],
   "source": []
  },
  {
   "cell_type": "code",
   "execution_count": null,
   "metadata": {},
   "outputs": [],
   "source": []
  },
  {
   "cell_type": "code",
   "execution_count": null,
   "metadata": {},
   "outputs": [],
   "source": []
  },
  {
   "cell_type": "code",
   "execution_count": null,
   "metadata": {},
   "outputs": [],
   "source": []
  },
  {
   "cell_type": "code",
   "execution_count": null,
   "metadata": {},
   "outputs": [],
   "source": []
  },
  {
   "cell_type": "code",
   "execution_count": null,
   "metadata": {},
   "outputs": [],
   "source": []
  },
  {
   "cell_type": "markdown",
   "metadata": {},
   "source": [
    "## 正則表達式-1"
   ]
  },
  {
   "cell_type": "code",
   "execution_count": null,
   "metadata": {},
   "outputs": [],
   "source": [
    "import re\n",
    "\n",
    "patterns = ['', '']\n",
    "order = 'Tx: 30ml ACL rupture va9 mL Spur va30ml Cubitus Varus 47 ml Arthritis VA 36 ml Ankle Fracture va10'\n",
    "\n",
    "for pattern in patterns:\n",
    "    match = re.search(string=order, pattern=p)\n"
   ]
  },
  {
   "cell_type": "markdown",
   "metadata": {},
   "source": [
    "## 變數字串分割"
   ]
  },
  {
   "cell_type": "code",
   "execution_count": 5,
   "metadata": {},
   "outputs": [
    {
     "data": {
      "text/plain": [
       "3"
      ]
     },
     "execution_count": 5,
     "metadata": {},
     "output_type": "execute_result"
    },
    {
     "data": {
      "text/plain": [
       "6"
      ]
     },
     "execution_count": 5,
     "metadata": {},
     "output_type": "execute_result"
    },
    {
     "data": {
      "text/plain": [
       "0"
      ]
     },
     "execution_count": 5,
     "metadata": {},
     "output_type": "execute_result"
    }
   ],
   "source": [
    "a = 3\n",
    "b = 6\n",
    "c = 0\n",
    "a\n",
    "b\n",
    "c"
   ]
  },
  {
   "cell_type": "code",
   "execution_count": null,
   "metadata": {},
   "outputs": [],
   "source": [
    "import string\n",
    "\n",
    "def pascal(chars: str) -> list:\n",
    "    return_list = []\n",
    "    for char in chars:\n",
    "        if char in string.ascii_uppercase:\n",
    "            box.append(char)\n",
    "        else:\n",
    "            box[-1] += char\n",
    "    \n",
    "    return box\n",
    "    # return [char if char in string.ascii_uppercase else pass for i, char in enumerate(chars)]\n",
    "    # [        for i in range(sum(1 for c in message if c.isupper()))]\n"
   ]
  },
  {
   "cell_type": "code",
   "execution_count": 9,
   "metadata": {},
   "outputs": [
    {
     "ename": "IndexError",
     "evalue": "list index out of range",
     "output_type": "error",
     "traceback": [
      "\u001b[0;31m---------------------------------------------------------------------------\u001b[0m",
      "\u001b[0;31mIndexError\u001b[0m                                Traceback (most recent call last)",
      "\u001b[1;32m/mnt/zfs/Python/small_projects/functions.ipynb Cell 13\u001b[0m in \u001b[0;36m<cell line: 14>\u001b[0;34m()\u001b[0m\n\u001b[1;32m     <a href='vscode-notebook-cell:/mnt/zfs/Python/small_projects/functions.ipynb#X40sZmlsZQ%3D%3D?line=9'>10</a>\u001b[0m             box[\u001b[39m-\u001b[39m\u001b[39m1\u001b[39m] \u001b[39m+\u001b[39m\u001b[39m=\u001b[39m char\n\u001b[1;32m     <a href='vscode-notebook-cell:/mnt/zfs/Python/small_projects/functions.ipynb#X40sZmlsZQ%3D%3D?line=11'>12</a>\u001b[0m     \u001b[39mreturn\u001b[39;00m box       \n\u001b[0;32m---> <a href='vscode-notebook-cell:/mnt/zfs/Python/small_projects/functions.ipynb#X40sZmlsZQ%3D%3D?line=13'>14</a>\u001b[0m \u001b[39mprint\u001b[39m(camel(\u001b[39m'\u001b[39;49m\u001b[39mfamilyName\u001b[39;49m\u001b[39m'\u001b[39;49m))\n",
      "\u001b[1;32m/mnt/zfs/Python/small_projects/functions.ipynb Cell 13\u001b[0m in \u001b[0;36mcamel\u001b[0;34m(chars)\u001b[0m\n\u001b[1;32m      <a href='vscode-notebook-cell:/mnt/zfs/Python/small_projects/functions.ipynb#X40sZmlsZQ%3D%3D?line=7'>8</a>\u001b[0m         box\u001b[39m.\u001b[39mappend(char)\n\u001b[1;32m      <a href='vscode-notebook-cell:/mnt/zfs/Python/small_projects/functions.ipynb#X40sZmlsZQ%3D%3D?line=8'>9</a>\u001b[0m     \u001b[39melse\u001b[39;00m:\n\u001b[0;32m---> <a href='vscode-notebook-cell:/mnt/zfs/Python/small_projects/functions.ipynb#X40sZmlsZQ%3D%3D?line=9'>10</a>\u001b[0m         box[\u001b[39m-\u001b[39m\u001b[39m1\u001b[39m] \u001b[39m+\u001b[39m\u001b[39m=\u001b[39m char\n\u001b[1;32m     <a href='vscode-notebook-cell:/mnt/zfs/Python/small_projects/functions.ipynb#X40sZmlsZQ%3D%3D?line=11'>12</a>\u001b[0m \u001b[39mreturn\u001b[39;00m box\n",
      "\u001b[0;31mIndexError\u001b[0m: list index out of range"
     ]
    }
   ],
   "source": [
    "def camel(chars: str) -> list:\n",
    "    box = []\n",
    "    \n",
    "    for char in chars:\n",
    "        \n",
    "        # if char == 0 or char in char.upper():\n",
    "        if char == char.title() or char == char.upper():    \n",
    "            box.append(char)\n",
    "        else:\n",
    "            box[-1] += char\n",
    "    \n",
    "    return box       \n",
    "\n",
    "print(camel('familyName')) \n"
   ]
  },
  {
   "cell_type": "code",
   "execution_count": null,
   "metadata": {},
   "outputs": [],
   "source": [
    "\n",
    "# def camel(chars: str) -> list:\n",
    "#     return [for i, char in enumerate(chars)]\n",
    "\n",
    "\n",
    "# def snake(chars: str) -> list:\n",
    "#     return_list = []\n",
    "#     for i, char in enumerate(chars):\n",
    "#         if i == 0:\n",
    "#             return_list.append(char)   \n",
    "#         elif char == '_':\n",
    "#             return_list.append('')\n",
    "#         else:\n",
    "#             return_list[-1] = return_list[-1] + char\n",
    "    \n",
    "#     return return_list        \n",
    "\n",
    "def snake(chars: str) -> list:\n",
    "    return chars.split('_')\n",
    "\n",
    "\n",
    "print()        \n",
    "print(f\"{pascal('FamilyName') = }\")\n",
    "print(f\"{pascal('UserLoginId') = }\")\n",
    "print(f\"{pascal('RestApiWebApp') = }\")\n",
    "print()\n",
    "print(f\"{camel('familyName') = }\")\n",
    "print(f\"{camel('userLoginId') = }\")\n",
    "print(f\"{camel('restApiWebApp') = }\")\n",
    "print()\n",
    "print(f\"{snake('family_name') = }\")\n",
    "print(f\"{snake('user_login_id') = }\")\n",
    "print(f\"{snake('rest_api_web_app') = }\")"
   ]
  },
  {
   "cell_type": "code",
   "execution_count": 22,
   "metadata": {},
   "outputs": [
    {
     "name": "stdout",
     "output_type": "stream",
     "text": [
      "[0, 10, 20, 30, 40, 50, 60, 70, 80, 90]\n",
      "[0, 10, 20, 30, 40, 50, 60, 70, 80, 90]\n"
     ]
    }
   ],
   "source": [
    "num_list1 = [y for y in range(100) if y % 2 == 0 and y % 5 == 0]\n",
    "num_list2 = [y for y in range(100) if y % 2 == 0 if y % 5 == 0]\n",
    "print(num_list1)\n",
    "print(num_list2)"
   ]
  },
  {
   "cell_type": "code",
   "execution_count": 31,
   "metadata": {},
   "outputs": [
    {
     "name": "stdout",
     "output_type": "stream",
     "text": [
      "0\n",
      "1\n",
      "2\n"
     ]
    }
   ],
   "source": [
    "message = 'PythonIsFun'\n",
    "# print(\"Capital Letters: \", sum(1 for c in message if c.isupper()))\n",
    "for i in range(sum(1 for c in message if c.isupper())):\n",
    "    print(i)"
   ]
  },
  {
   "cell_type": "code",
   "execution_count": 85,
   "metadata": {},
   "outputs": [
    {
     "data": {
      "text/plain": [
       "['BananaOrangePear', 'OrangePear', 'Pear']"
      ]
     },
     "execution_count": 85,
     "metadata": {},
     "output_type": "execute_result"
    },
    {
     "data": {
      "text/plain": [
       "[0, 6, 12]"
      ]
     },
     "execution_count": 85,
     "metadata": {},
     "output_type": "execute_result"
    },
    {
     "data": {
      "text/plain": [
       "['Banana', 'Orange', 'Pear']"
      ]
     },
     "execution_count": 85,
     "metadata": {},
     "output_type": "execute_result"
    }
   ],
   "source": [
    "chars = 'BananaOrangePear'\n",
    "\n",
    "\n",
    "[chars[c:] for index, c in enumerate([index for index, c in enumerate(chars) if c.isupper()] ) ]\n",
    "\n",
    "indexes = [ for i, ii in enumerate([index for index, c in enumerate(chars) if c.isupper()])]\n",
    "indexes\n",
    "[chars[index:(indexes[i+1] if i < len(indexes) - 1 else len(chars))] for i, index in enumerate(indexes)]\n",
    "# [chars[idx:idx+3] for idx in indexes]\n",
    "# [chars[index:5] for i, index in enumerate(indexes)]\n",
    "# print(s1.rfind('an', 1, 5))\n",
    "# print(s1.find('an', 1, 5))"
   ]
  },
  {
   "cell_type": "code",
   "execution_count": 98,
   "metadata": {},
   "outputs": [
    {
     "name": "stdout",
     "output_type": "stream",
     "text": [
      "[8, 8, 8, 8, 8, 8, 8]\n"
     ]
    }
   ],
   "source": [
    "a = [1, 2, 3, 7, 0, 6, 8]\n",
    "# print([lambda: _ for _ in a])\n",
    "b = [lambda: _ for _ in a]\n",
    "c = [_() for _ in b]\n",
    "# print(a)\n",
    "# print(b)\n",
    "print(c)"
   ]
  },
  {
   "cell_type": "code",
   "execution_count": 15,
   "metadata": {},
   "outputs": [
    {
     "data": {
      "text/plain": [
       "True"
      ]
     },
     "execution_count": 15,
     "metadata": {},
     "output_type": "execute_result"
    },
    {
     "data": {
      "text/plain": [
       "False"
      ]
     },
     "execution_count": 15,
     "metadata": {},
     "output_type": "execute_result"
    },
    {
     "data": {
      "text/plain": [
       "True"
      ]
     },
     "execution_count": 15,
     "metadata": {},
     "output_type": "execute_result"
    },
    {
     "data": {
      "text/plain": [
       "False"
      ]
     },
     "execution_count": 15,
     "metadata": {},
     "output_type": "execute_result"
    },
    {
     "data": {
      "text/plain": [
       "True"
      ]
     },
     "execution_count": 15,
     "metadata": {},
     "output_type": "execute_result"
    },
    {
     "data": {
      "text/plain": [
       "False"
      ]
     },
     "execution_count": 15,
     "metadata": {},
     "output_type": "execute_result"
    }
   ],
   "source": [
    "# import time\n",
    "\n",
    "def is_happy_number(n: int) -> bool:   # 型別提示(並不是強制)\n",
    "    # return_value = False\n",
    "    chars = str(n)\n",
    "    new_ns = []\n",
    "    while True:\n",
    "        new_n = 0\n",
    "        for char in chars:\n",
    "            new_n += int(char) ** 2\n",
    "        \n",
    "        if new_n == 1:\n",
    "            return_value = True\n",
    "            break\n",
    "        elif new_n in new_ns:\n",
    "            return_value = False\n",
    "            break\n",
    "        else:\n",
    "            new_ns.append(new_n)\n",
    "            chars = str(new_n)\n",
    "            # time.sleep(0.3)\n",
    "            # print(new_n)\n",
    "    \n",
    "    return return_value\n",
    "        \n",
    "is_happy_number(7)\n",
    "is_happy_number(90)\n",
    "is_happy_number(44)\n",
    "is_happy_number(21)\n",
    "is_happy_number(79)\n",
    "is_happy_number(108)\n"
   ]
  },
  {
   "cell_type": "code",
   "execution_count": null,
   "metadata": {},
   "outputs": [],
   "source": [
    "def make_appointment(\n",
    "        patient_id: int, \n",
    "        department_id: int, \n",
    "        doctor_id: int, \n",
    "        date: str, \n",
    "        period: str) -> bool:\n",
    "    global departments, doctors, appointments, MAX_PATIENT_COUNT\n",
    "    \n",
    "    if departments.get(department_id) is None or doctors.get(doctor_id) is None:\n",
    "        return False\n",
    "    doctors[date] = date\n",
    "    doctors[period] = period\n",
    "    appointments\n",
    "    # print('------------', doctors[date])    \n",
    "    # return_values = {1: True, 6: True, 3: True, 9: True, 4: False}\n",
    "    return True\n",
    "\n",
    "MAX_PATIENT_COUNT = 2\n",
    "departments = {'027': '骨科', '013': '神經內科', '015': '胸腔內科'}\n",
    "doctors = {'00715': {'name': '翁佩韋', 'department_id': '027'}, \n",
    "           '00721': {'name': '江長蓉', 'department_id': '027'}, \n",
    "           '01256': {'name': '官怡君', 'department_id': '013'}, \n",
    "           '23809': {'name': '張志誠', 'department_id': '015'},\n",
    "} \n",
    "appointments = [{'patient_id': 1, 'department_id': '00715', ''}\n",
    "]\n",
    "\n",
    "           \n",
    "# 骨科027、神內是013、翁佩韋醫師是00715、江長蓉醫師是00721\n",
    "\n",
    "print()\n",
    "print(f\"{make_appointment(patient_id=1, department_id='027', doctor_id='00715', date='2022-09-30', period='上午') = }\\n\")\n",
    "print(f\"{make_appointment(patient_id=6, department_id='013', doctor_id='01256', date='2022-10-19', period='下午') = }\\n\")\n",
    "print(f\"{make_appointment(patient_id=3, department_id='027', doctor_id='00715', date='2022-09-30', period='上午') = }\\n\")\n",
    "print(f\"{make_appointment(patient_id=9, department_id='015', doctor_id='23809', date='2022-10-04', period='夜間') = }\\n\")\n",
    "print(f\"{make_appointment(patient_id=4, department_id='027', doctor_id='00715', date='2022-09-30', period='上午') = }\\n\")"
   ]
  },
  {
   "cell_type": "code",
   "execution_count": null,
   "metadata": {},
   "outputs": [],
   "source": [
    "print(round(1454.9999, -1))\n",
    "print(round(1350.0000, -2))\n",
    "print(round(1458.9999, -3))\n",
    "print(round(1458.236, -4))\n",
    "print(round(1458.236, -5))\n"
   ]
  },
  {
   "cell_type": "code",
   "execution_count": 1,
   "metadata": {},
   "outputs": [],
   "source": [
    "# Linux version(低音版)\n",
    "def play_song(notations):\n",
    "    import os\n",
    "\n",
    "    frequencies = {\n",
    "        'C3' : 130.81,    # 1\n",
    "        'C#3': 138.59,    # 1#\n",
    "        'D3' : 146.83,    # 2\n",
    "        'D#3': 155.56,    # 2#\n",
    "        'E3' : 164.81,    # 3\n",
    "        'F3' : 174.61,    # 4\n",
    "        'F#3': 185.00,    # 4#\n",
    "        'G3' : 196.00,    # 5\n",
    "        'G#3': 207.65,    # 5#\n",
    "        'A3' : 220.00,    # 6\n",
    "        'A#3': 233.08,    # 6#\n",
    "        'B3' : 246.94,    # 7\n",
    "        'C4' : 261.63,    # 1\n",
    "        'C#4': 277.18,    # 1#\n",
    "        'D4' : 293.66,    # 2\n",
    "        'D#4': 311.13,    # 2#  \n",
    "        'E4' : 329.63,    # 3\n",
    "        'F4' : 349.23,    # 4\n",
    "        'F#4': 369.99,    # 4#    \n",
    "        'G4' : 391.99,    # 5\n",
    "        'G#4': 415.30,    # 5#\n",
    "        'A4' : 440.00,    # 6\n",
    "        'A#4': 466.16,    # 6#\n",
    "        'B4' : 493.88,    # 7\n",
    "    }\n",
    "\n",
    "    # durations = {'H': 300, 'M': 600, 'D': 1200, 'T': 1800, 'Q': 2400}\n",
    "    durations = {'H': 250, 'M': 500, 'D': 1000, 'T': 1500, 'Q': 2000}\n",
    "\n",
    "    for notation in notations:\n",
    "        note = notation.split()\n",
    "        frequency = frequencies.get(note[0])\n",
    "        duration = durations.get(note[1])\n",
    "        os.system(f'beep -f {frequency} -l {duration}')\n",
    "        \n",
    "\n",
    "notations = ('G3 H', 'G3 H', 'A3 M', 'G3 M', 'C4 M', 'B3 D', 'G3 H', 'G3 H', \n",
    "             'A3 M', 'G3 M', 'D4 M', 'C4 D', 'G3 H', 'G3 H', 'G4 M', 'E4 M', \n",
    "             'C4 M', 'B3 M', 'A3 M', 'F4 H', 'F4 H', 'E4 M', 'C4 M', 'D4 M', 'C4 T')\n",
    "play_song(notations)"
   ]
  },
  {
   "cell_type": "code",
   "execution_count": 29,
   "metadata": {},
   "outputs": [],
   "source": [
    "# Linux version(高音版)\n",
    "def play_song(notations):\n",
    "    import os\n",
    "\n",
    "    frequencies = {\n",
    "        'C3' : 130.81,    # 1\n",
    "        'C#3': 138.59,    # 1#\n",
    "        'D3' : 146.83,    # 2\n",
    "        'D#3': 155.56,    # 2#\n",
    "        'E3' : 164.81,    # 3\n",
    "        'F3' : 174.61,    # 4\n",
    "        'F#3': 185.00,    # 4#\n",
    "        'G3' : 196.00,    # 5\n",
    "        'G#3': 207.65,    # 5#\n",
    "        'A3' : 220.00,    # 6\n",
    "        'A#3': 233.08,    # 6#\n",
    "        'B3' : 246.94,    # 7\n",
    "        'C4' : 261.63,    # 1\n",
    "        'C#4': 277.18,    # 1#\n",
    "        'D4' : 293.66,    # 2\n",
    "        'D#4': 311.13,    # 2#  \n",
    "        'E4' : 329.63,    # 3\n",
    "        'F4' : 349.23,    # 4\n",
    "        'F#4': 369.99,    # 4#    \n",
    "        'G4' : 391.99,    # 5\n",
    "        'G#4': 415.30,    # 5#\n",
    "        'A4' : 440.00,    # 6\n",
    "        'A#4': 466.16,    # 6#\n",
    "        'B4' : 493.88,    # 7\n",
    "        'C5' : 523.25,    # 1\n",
    "        'C#5': 554.37,    # 1#\n",
    "        'D5' : 587.33,    # 2\n",
    "        'D#5': 622.25,    # 2#  \n",
    "        'E5' : 659.26,    # 3\n",
    "        'F5' : 698.46,    # 4\n",
    "        'F#5': 739.99,    # 4#    \n",
    "        'G5' : 783.99,    # 5\n",
    "        'G#5': 830.61,    # 5#\n",
    "        'A5' : 880.00,    # 6\n",
    "        'A#5': 932.33,    # 6#\n",
    "        'B5' : 987.77,    # 7\n",
    "    }\n",
    "\n",
    "    # durations = {'H': 300, 'M': 600, 'D': 1200, 'T': 1800, 'Q': 2400}\n",
    "    durations = {'H': 250, 'M': 500, 'D': 1000, 'T': 1500, 'Q': 2000}\n",
    "\n",
    "    for notation in notations:\n",
    "        note = notation.split()\n",
    "        frequency = frequencies.get(note[0])\n",
    "        duration = durations.get(note[1])\n",
    "        os.system(f'beep -f {frequency} -l {duration}')\n",
    "        \n",
    "        \n",
    "\n",
    "notations = ('G4 H', 'G4 H', 'A4 M', 'G4 M', 'C5 M', 'B4 D', 'G4 H', 'G4 H', \n",
    "             'A4 M', 'G4 M', 'D5 M', 'C5 D', 'G4 H', 'G4 H', 'G5 M', 'E5 M', \n",
    "             'C5 M', 'B4 M', 'A4 M', 'F5 H', 'F5 H', 'E5 M', 'C5 M', 'D5 M', 'C5 T')\n",
    "play_song(notations)"
   ]
  },
  {
   "cell_type": "code",
   "execution_count": 1,
   "metadata": {},
   "outputs": [],
   "source": [
    "# Windows version\n",
    "def play_song(notations):\n",
    "    import winsound\n",
    "\n",
    "    frequencies = {\n",
    "        'C3' : 130.81,    # 1\n",
    "        'C#3': 138.59,    # 1#\n",
    "        'D3' : 146.83,    # 2\n",
    "        'D#3': 155.56,    # 2#\n",
    "        'E3' : 164.81,    # 3\n",
    "        'F3' : 174.61,    # 4\n",
    "        'F#3': 185.00,    # 4#\n",
    "        'G3' : 196.00,    # 5\n",
    "        'G#3': 207.65,    # 5#\n",
    "        'A3' : 220.00,    # 6\n",
    "        'A#3': 233.08,    # 6#\n",
    "        'B3' : 246.94,    # 7\n",
    "        'C4' : 261.63,    # 1\n",
    "        'C#4': 277.18,    # 1#\n",
    "        'D4' : 293.66,    # 2\n",
    "        'D#4': 311.13,    # 2#  \n",
    "        'E4' : 329.63,    # 3\n",
    "        'F4' : 349.23,    # 4\n",
    "        'F#4': 369.99,    # 4#    \n",
    "        'G4' : 391.99,    # 5\n",
    "        'G#4': 415.30,    # 5#\n",
    "        'A4' : 440.00,    # 6\n",
    "        'A#4': 466.16,    # 6#\n",
    "        'B4' : 493.88,    # 7\n",
    "        'C5' : 523.25,    # 1\n",
    "        'C#5': 554.37,    # 1#\n",
    "        'D5' : 587.33,    # 2\n",
    "        'D#5': 622.25,    # 2#  \n",
    "        'E5' : 659.26,    # 3\n",
    "        'F5' : 698.46,    # 4\n",
    "        'F#5': 739.99,    # 4#    \n",
    "        'G5' : 783.99,    # 5\n",
    "        'G#5': 830.61,    # 5#\n",
    "        'A5' : 880.00,    # 6\n",
    "        'A#5': 932.33,    # 6#\n",
    "        'B5' : 987.77,    # 7\n",
    "    }\n",
    "\n",
    "    # durations = {'H': 300, 'M': 600, 'D': 1200, 'T': 1800, 'Q': 2400}\n",
    "    durations = {'H': 250, 'M': 500, 'D': 1000, 'T': 1500, 'Q': 2000}\n",
    "\n",
    "    for notation in notations:\n",
    "        note = notation.split()\n",
    "        frequency = round(frequencies.get(note[0]))\n",
    "        duration = durations.get(note[1])\n",
    "        winsound.Beep(frequency, duration)\n",
    "        \n",
    "\n",
    "notations = ('G4 H', 'G4 H', 'A4 M', 'G4 M', 'C5 M', 'B4 D', 'G4 H', 'G4 H', \n",
    "             'A4 M', 'G4 M', 'D5 M', 'C5 D', 'G4 H', 'G4 H', 'G5 M', 'E5 M', \n",
    "             'C5 M', 'B4 M', 'A4 M', 'F5 H', 'F5 H', 'E5 M', 'C5 M', 'D5 M', 'C5 T')\n",
    "play_song(notations)"
   ]
  },
  {
   "cell_type": "code",
   "execution_count": 32,
   "metadata": {},
   "outputs": [
    {
     "name": "stdout",
     "output_type": "stream",
     "text": [
      "\n",
      "中秋佳節，月明人圓。\n"
     ]
    }
   ],
   "source": [
    "def acrostic(idioms: str) -> str:\n",
    "    '''藏頭詩'''\n",
    "    return ''.join([a[(index % len(a))] + ('，' if index == len(a) - 1 else '。' if index == len(a)*2 - 1 else '') for index, a in enumerate((idioms))])\n",
    "\n",
    "\n",
    "\n",
    "idioms = ('中流砥柱', '千秋萬世', '漸入佳境', '高風亮節', \n",
    "          '月下花前', '聰明伶俐', '地靈人傑', '破鏡重圓')\n",
    "print()\n",
    "print(acrostic(idioms))"
   ]
  },
  {
   "cell_type": "code",
   "execution_count": null,
   "metadata": {},
   "outputs": [],
   "source": []
  },
  {
   "cell_type": "code",
   "execution_count": null,
   "metadata": {},
   "outputs": [],
   "source": []
  },
  {
   "cell_type": "code",
   "execution_count": null,
   "metadata": {},
   "outputs": [],
   "source": []
  },
  {
   "cell_type": "code",
   "execution_count": null,
   "metadata": {},
   "outputs": [],
   "source": []
  },
  {
   "cell_type": "code",
   "execution_count": 2,
   "metadata": {},
   "outputs": [
    {
     "name": "stdout",
     "output_type": "stream",
     "text": [
      "before my_func(): i=123\n",
      "within my_func(): num=124\n",
      "124\n",
      "after my_func() : i=133\n"
     ]
    }
   ],
   "source": [
    "def my_func(num: int):   # num是形參\n",
    "    global i\n",
    "    i += 10\n",
    "    num += 1    # num是「參數」，也就是local變數。在函數裡改變local變數的值，不會影響外面。\n",
    "    print(f'within my_func(): {num=}') \n",
    "    return num\n",
    "    \n",
    "s = 'hello, world'  # s的值是'hello, world'\n",
    "i = 123             # i的值是123\n",
    "lst = []            # lst的值是一個空的list\n",
    "# my_func(i)          # 呼叫my_func()之後的值是None(i是實參)\n",
    "# my_func(123)        # 呼叫my_func()之後的值是None(i是實參)\n",
    "# my_func             # 和my_func()不一樣\n",
    "print(f'before my_func(): {i=}')\n",
    "print(my_func(i))  # print出my_func()的傳回值，也就是my_func()的值。\n",
    "print(f'after my_func() : {i=}')"
   ]
  },
  {
   "cell_type": "code",
   "execution_count": 36,
   "metadata": {},
   "outputs": [],
   "source": [
    "def is_aliquot(dividend: int, divisor: int) -> bool:\n",
    "    if divisor == 0:\n",
    "        raise ZeroDivisionError('除數不能為零。')\n",
    "    return dividend % divisor == 0"
   ]
  },
  {
   "cell_type": "code",
   "execution_count": 37,
   "metadata": {},
   "outputs": [
    {
     "name": "stdout",
     "output_type": "stream",
     "text": [
      "is_aliquot(15, 5) = True\n",
      "is_aliquot(15, 4) = False\n",
      "除數不能為零。\n"
     ]
    }
   ],
   "source": [
    "try:\n",
    "    print(f'{is_aliquot(15, 5) = }')\n",
    "    print(f'{is_aliquot(15, 4) = }')\n",
    "    print(f'{is_aliquot(15, 0) = }')\n",
    "except Exception as e:\n",
    "    print(str(e))                                                "
   ]
  },
  {
   "cell_type": "code",
   "execution_count": 6,
   "metadata": {},
   "outputs": [
    {
     "data": {
      "text/plain": [
       "True"
      ]
     },
     "execution_count": 6,
     "metadata": {},
     "output_type": "execute_result"
    }
   ],
   "source": [
    "21 / 7 == int(21 / 7)"
   ]
  }
 ],
 "metadata": {
  "kernelspec": {
   "display_name": "Python 3.10.4 64-bit",
   "language": "python",
   "name": "python3"
  },
  "language_info": {
   "codemirror_mode": {
    "name": "ipython",
    "version": 3
   },
   "file_extension": ".py",
   "mimetype": "text/x-python",
   "name": "python",
   "nbconvert_exporter": "python",
   "pygments_lexer": "ipython3",
   "version": "3.10.6 (main, Nov  2 2022, 18:53:38) [GCC 11.3.0]"
  },
  "orig_nbformat": 4,
  "vscode": {
   "interpreter": {
    "hash": "916dbcbb3f70747c44a77c7bcd40155683ae19c65e1c03b4aa3499c5328201f1"
   }
  }
 },
 "nbformat": 4,
 "nbformat_minor": 2
}
