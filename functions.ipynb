{
 "cells": [
  {
   "cell_type": "code",
   "execution_count": 8,
   "metadata": {},
   "outputs": [
    {
     "data": {
      "text/plain": [
       "'interactiveShell imported.'"
      ]
     },
     "execution_count": 8,
     "metadata": {},
     "output_type": "execute_result"
    },
    {
     "data": {
      "text/plain": [
       "'now: 16:05:43'"
      ]
     },
     "execution_count": 8,
     "metadata": {},
     "output_type": "execute_result"
    }
   ],
   "source": [
    "import time\n",
    "\n",
    "from IPython.core.interactiveshell import InteractiveShell \n",
    "InteractiveShell.ast_node_interactivity = \"all\"\n",
    "\n",
    "'interactiveShell imported.'\n",
    "f\"now: {time.strftime('%H:%M:%S', time.localtime())}\""
   ]
  },
  {
   "cell_type": "markdown",
   "metadata": {},
   "source": [
    "## 正則表達式-1"
   ]
  },
  {
   "cell_type": "code",
   "execution_count": 8,
   "metadata": {},
   "outputs": [
    {
     "ename": "NameError",
     "evalue": "name 'p' is not defined",
     "output_type": "error",
     "traceback": [
      "\u001b[0;31m---------------------------------------------------------------------------\u001b[0m",
      "\u001b[0;31mNameError\u001b[0m                                 Traceback (most recent call last)",
      "Cell \u001b[0;32mIn [8], line 7\u001b[0m\n\u001b[1;32m      4\u001b[0m order \u001b[39m=\u001b[39m \u001b[39m'\u001b[39m\u001b[39mTx: 30ml ACL rupture va9 mL Spur va30ml Cubitus Varus 47 ml Arthritis VA 36 ml Ankle Fracture va10\u001b[39m\u001b[39m'\u001b[39m\n\u001b[1;32m      6\u001b[0m \u001b[39mfor\u001b[39;00m pattern \u001b[39min\u001b[39;00m patterns:\n\u001b[0;32m----> 7\u001b[0m     match \u001b[39m=\u001b[39m re\u001b[39m.\u001b[39msearch(string\u001b[39m=\u001b[39morder, pattern\u001b[39m=\u001b[39mp)\n",
      "\u001b[0;31mNameError\u001b[0m: name 'p' is not defined"
     ]
    }
   ],
   "source": [
    "import re\n",
    "\n",
    "patterns = ['', '']\n",
    "order = 'Tx: 30ml ACL rupture va9 mL Spur va30ml Cubitus Varus 47 ml Arthritis VA 36 ml Ankle Fracture va10'\n",
    "\n",
    "for pattern in patterns:\n",
    "    match = re.search(string=order, pattern=p)\n"
   ]
  },
  {
   "cell_type": "markdown",
   "metadata": {},
   "source": [
    "## 變數字串分割"
   ]
  },
  {
   "cell_type": "code",
   "execution_count": null,
   "metadata": {},
   "outputs": [],
   "source": [
    "a = 3\n",
    "b = 6\n",
    "c = 0\n",
    "a\n",
    "b\n",
    "c"
   ]
  },
  {
   "cell_type": "code",
   "execution_count": null,
   "metadata": {},
   "outputs": [],
   "source": [
    "import string\n",
    "\n",
    "def pascal(chars: str) -> list:\n",
    "    return_list = []\n",
    "    for char in chars:\n",
    "        if char in string.ascii_uppercase:\n",
    "            box.append(char)\n",
    "        else:\n",
    "            box[-1] += char\n",
    "    \n",
    "    return box\n",
    "    # return [char if char in string.ascii_uppercase else pass for i, char in enumerate(chars)]\n",
    "    # [        for i in range(sum(1 for c in message if c.isupper()))]\n"
   ]
  },
  {
   "cell_type": "code",
   "execution_count": null,
   "metadata": {},
   "outputs": [],
   "source": [
    "def camel(chars: str) -> list:\n",
    "    box = []\n",
    "    \n",
    "    for char in chars:\n",
    "        \n",
    "        # if char == 0 or char in char.upper():\n",
    "        if char == char.title() or char == char.upper():    \n",
    "            box.append(char)\n",
    "        else:\n",
    "            box[-1] += char\n",
    "    \n",
    "    return box       \n",
    "\n",
    "print(camel('familyName')) \n"
   ]
  },
  {
   "cell_type": "code",
   "execution_count": null,
   "metadata": {},
   "outputs": [],
   "source": [
    "\n",
    "# def camel(chars: str) -> list:\n",
    "#     return [for i, char in enumerate(chars)]\n",
    "\n",
    "\n",
    "# def snake(chars: str) -> list:\n",
    "#     return_list = []\n",
    "#     for i, char in enumerate(chars):\n",
    "#         if i == 0:\n",
    "#             return_list.append(char)   \n",
    "#         elif char == '_':\n",
    "#             return_list.append('')\n",
    "#         else:\n",
    "#             return_list[-1] = return_list[-1] + char\n",
    "    \n",
    "#     return return_list        \n",
    "\n",
    "def snake(chars: str) -> list:\n",
    "    return chars.split('_')\n",
    "\n",
    "\n",
    "print()        \n",
    "print(f\"{pascal('FamilyName') = }\")\n",
    "print(f\"{pascal('UserLoginId') = }\")\n",
    "print(f\"{pascal('RestApiWebApp') = }\")\n",
    "print()\n",
    "print(f\"{camel('familyName') = }\")\n",
    "print(f\"{camel('userLoginId') = }\")\n",
    "print(f\"{camel('restApiWebApp') = }\")\n",
    "print()\n",
    "print(f\"{snake('family_name') = }\")\n",
    "print(f\"{snake('user_login_id') = }\")\n",
    "print(f\"{snake('rest_api_web_app') = }\")"
   ]
  },
  {
   "cell_type": "code",
   "execution_count": null,
   "metadata": {},
   "outputs": [],
   "source": [
    "num_list1 = [y for y in range(100) if y % 2 == 0 and y % 5 == 0]\n",
    "num_list2 = [y for y in range(100) if y % 2 == 0 if y % 5 == 0]\n",
    "print(num_list1)\n",
    "print(num_list2)"
   ]
  },
  {
   "cell_type": "code",
   "execution_count": null,
   "metadata": {},
   "outputs": [],
   "source": [
    "message = 'PythonIsFun'\n",
    "# print(\"Capital Letters: \", sum(1 for c in message if c.isupper()))\n",
    "for i in range(sum(1 for c in message if c.isupper())):\n",
    "    print(i)"
   ]
  },
  {
   "cell_type": "code",
   "execution_count": null,
   "metadata": {},
   "outputs": [
    {
     "ename": "SyntaxError",
     "evalue": "invalid syntax (828114822.py, line 6)",
     "output_type": "error",
     "traceback": [
      "\u001b[0;36m  Cell \u001b[0;32mIn [9], line 6\u001b[0;36m\u001b[0m\n\u001b[0;31m    indexes = [ for i, ii in enumerate([index for index, c in enumerate(chars) if c.isupper()])]\u001b[0m\n\u001b[0m                ^\u001b[0m\n\u001b[0;31mSyntaxError\u001b[0m\u001b[0;31m:\u001b[0m invalid syntax\n"
     ]
    }
   ],
   "source": [
    "chars = 'BananaOrangePear'\n",
    "\n",
    "\n",
    "[chars[c:] for index, c in enumerate([index for index, c in enumerate(chars) if c.isupper()] ) ]\n",
    "\n",
    "indexes = [ for i, ii in enumerate([index for index, c in enumerate(chars) if c.isupper()])]\n",
    "indexes\n",
    "[chars[index:(indexes[i+1] if i < len(indexes) - 1 else len(chars))] for i, index in enumerate(indexes)]\n",
    "# [chars[idx:idx+3] for idx in indexes]\n",
    "# [chars[index:5] for i, index in enumerate(indexes)]\n",
    "# print(s1.rfind('an', 1, 5))\n",
    "# print(s1.find('an', 1, 5))"
   ]
  },
  {
   "cell_type": "code",
   "execution_count": null,
   "metadata": {},
   "outputs": [],
   "source": [
    "a = [1, 2, 3, 7, 0, 6, 8]\n",
    "# print([lambda: _ for _ in a])\n",
    "b = [lambda: _ for _ in a]\n",
    "c = [_() for _ in b]\n",
    "# print(a)\n",
    "# print(b)\n",
    "print(c)"
   ]
  },
  {
   "cell_type": "code",
   "execution_count": null,
   "metadata": {},
   "outputs": [],
   "source": [
    "# import time\n",
    "\n",
    "def is_happy_number(n: int) -> bool:   # 型別提示(並不是強制)\n",
    "    # return_value = False\n",
    "    chars = str(n)\n",
    "    new_ns = []\n",
    "    while True:\n",
    "        new_n = 0\n",
    "        for char in chars:\n",
    "            new_n += int(char) ** 2\n",
    "        \n",
    "        if new_n == 1:\n",
    "            return_value = True\n",
    "            break\n",
    "        elif new_n in new_ns:\n",
    "            return_value = False\n",
    "            break\n",
    "        else:\n",
    "            new_ns.append(new_n)\n",
    "            chars = str(new_n)\n",
    "            # time.sleep(0.3)\n",
    "            # print(new_n)\n",
    "    \n",
    "    return return_value\n",
    "        \n",
    "is_happy_number(7)\n",
    "is_happy_number(90)\n",
    "is_happy_number(44)\n",
    "is_happy_number(21)\n",
    "is_happy_number(79)\n",
    "is_happy_number(108)\n"
   ]
  },
  {
   "cell_type": "code",
   "execution_count": null,
   "metadata": {},
   "outputs": [],
   "source": [
    "def make_appointment(\n",
    "        patient_id: int, \n",
    "        department_id: int, \n",
    "        doctor_id: int, \n",
    "        date: str, \n",
    "        period: str) -> bool:\n",
    "    global departments, doctors, appointments, MAX_PATIENT_COUNT\n",
    "    \n",
    "    if departments.get(department_id) is None or doctors.get(doctor_id) is None:\n",
    "        return False\n",
    "    doctors[date] = date\n",
    "    doctors[period] = period\n",
    "    appointments\n",
    "    # print('------------', doctors[date])    \n",
    "    # return_values = {1: True, 6: True, 3: True, 9: True, 4: False}\n",
    "    return True\n",
    "\n",
    "MAX_PATIENT_COUNT = 2\n",
    "departments = {'027': '骨科', '013': '神經內科', '015': '胸腔內科'}\n",
    "doctors = {'00715': {'name': '翁佩韋', 'department_id': '027'}, \n",
    "           '00721': {'name': '江長蓉', 'department_id': '027'}, \n",
    "           '01256': {'name': '官怡君', 'department_id': '013'}, \n",
    "           '23809': {'name': '張志誠', 'department_id': '015'},\n",
    "} \n",
    "appointments = [{'patient_id': 1, 'department_id': '00715', ''}\n",
    "]\n",
    "\n",
    "           \n",
    "# 骨科027、神內是013、翁佩韋醫師是00715、江長蓉醫師是00721\n",
    "\n",
    "print()\n",
    "print(f\"{make_appointment(patient_id=1, department_id='027', doctor_id='00715', date='2022-09-30', period='上午') = }\\n\")\n",
    "print(f\"{make_appointment(patient_id=6, department_id='013', doctor_id='01256', date='2022-10-19', period='下午') = }\\n\")\n",
    "print(f\"{make_appointment(patient_id=3, department_id='027', doctor_id='00715', date='2022-09-30', period='上午') = }\\n\")\n",
    "print(f\"{make_appointment(patient_id=9, department_id='015', doctor_id='23809', date='2022-10-04', period='夜間') = }\\n\")\n",
    "print(f\"{make_appointment(patient_id=4, department_id='027', doctor_id='00715', date='2022-09-30', period='上午') = }\\n\")"
   ]
  },
  {
   "cell_type": "code",
   "execution_count": null,
   "metadata": {},
   "outputs": [],
   "source": [
    "print(round(1454.9999, -1))\n",
    "print(round(1350.0000, -2))\n",
    "print(round(1458.9999, -3))\n",
    "print(round(1458.236, -4))\n",
    "print(round(1458.236, -5))\n"
   ]
  },
  {
   "cell_type": "code",
   "execution_count": null,
   "metadata": {},
   "outputs": [],
   "source": [
    "# Linux version(低音版)\n",
    "def play_song(notations):\n",
    "    import os\n",
    "\n",
    "    frequencies = {\n",
    "        'C3' : 130.81,    # 1\n",
    "        'C#3': 138.59,    # 1#\n",
    "        'D3' : 146.83,    # 2\n",
    "        'D#3': 155.56,    # 2#\n",
    "        'E3' : 164.81,    # 3\n",
    "        'F3' : 174.61,    # 4\n",
    "        'F#3': 185.00,    # 4#\n",
    "        'G3' : 196.00,    # 5\n",
    "        'G#3': 207.65,    # 5#\n",
    "        'A3' : 220.00,    # 6\n",
    "        'A#3': 233.08,    # 6#\n",
    "        'B3' : 246.94,    # 7\n",
    "        'C4' : 261.63,    # 1\n",
    "        'C#4': 277.18,    # 1#\n",
    "        'D4' : 293.66,    # 2\n",
    "        'D#4': 311.13,    # 2#  \n",
    "        'E4' : 329.63,    # 3\n",
    "        'F4' : 349.23,    # 4\n",
    "        'F#4': 369.99,    # 4#    \n",
    "        'G4' : 391.99,    # 5\n",
    "        'G#4': 415.30,    # 5#\n",
    "        'A4' : 440.00,    # 6\n",
    "        'A#4': 466.16,    # 6#\n",
    "        'B4' : 493.88,    # 7\n",
    "    }\n",
    "\n",
    "    # durations = {'H': 300, 'M': 600, 'D': 1200, 'T': 1800, 'Q': 2400}\n",
    "    durations = {'H': 250, 'M': 500, 'D': 1000, 'T': 1500, 'Q': 2000}\n",
    "\n",
    "    for notation in notations:\n",
    "        note = notation.split()\n",
    "        frequency = frequencies.get(note[0])\n",
    "        duration = durations.get(note[1])\n",
    "        os.system(f'beep -f {frequency} -l {duration}')\n",
    "        \n",
    "\n",
    "notations = ('G3 H', 'G3 H', 'A3 M', 'G3 M', 'C4 M', 'B3 D', 'G3 H', 'G3 H', \n",
    "             'A3 M', 'G3 M', 'D4 M', 'C4 D', 'G3 H', 'G3 H', 'G4 M', 'E4 M', \n",
    "             'C4 M', 'B3 M', 'A3 M', 'F4 H', 'F4 H', 'E4 M', 'C4 M', 'D4 M', 'C4 T')\n",
    "play_song(notations)"
   ]
  },
  {
   "cell_type": "code",
   "execution_count": null,
   "metadata": {},
   "outputs": [],
   "source": [
    "# Linux version(高音版)\n",
    "def play_song(notations):\n",
    "    import os\n",
    "\n",
    "    frequencies = {\n",
    "        'C3' : 130.81,    # 1\n",
    "        'C#3': 138.59,    # 1#\n",
    "        'D3' : 146.83,    # 2\n",
    "        'D#3': 155.56,    # 2#\n",
    "        'E3' : 164.81,    # 3\n",
    "        'F3' : 174.61,    # 4\n",
    "        'F#3': 185.00,    # 4#\n",
    "        'G3' : 196.00,    # 5\n",
    "        'G#3': 207.65,    # 5#\n",
    "        'A3' : 220.00,    # 6\n",
    "        'A#3': 233.08,    # 6#\n",
    "        'B3' : 246.94,    # 7\n",
    "        'C4' : 261.63,    # 1\n",
    "        'C#4': 277.18,    # 1#\n",
    "        'D4' : 293.66,    # 2\n",
    "        'D#4': 311.13,    # 2#  \n",
    "        'E4' : 329.63,    # 3\n",
    "        'F4' : 349.23,    # 4\n",
    "        'F#4': 369.99,    # 4#    \n",
    "        'G4' : 391.99,    # 5\n",
    "        'G#4': 415.30,    # 5#\n",
    "        'A4' : 440.00,    # 6\n",
    "        'A#4': 466.16,    # 6#\n",
    "        'B4' : 493.88,    # 7\n",
    "        'C5' : 523.25,    # 1\n",
    "        'C#5': 554.37,    # 1#\n",
    "        'D5' : 587.33,    # 2\n",
    "        'D#5': 622.25,    # 2#  \n",
    "        'E5' : 659.26,    # 3\n",
    "        'F5' : 698.46,    # 4\n",
    "        'F#5': 739.99,    # 4#    \n",
    "        'G5' : 783.99,    # 5\n",
    "        'G#5': 830.61,    # 5#\n",
    "        'A5' : 880.00,    # 6\n",
    "        'A#5': 932.33,    # 6#\n",
    "        'B5' : 987.77,    # 7\n",
    "    }\n",
    "\n",
    "    # durations = {'H': 300, 'M': 600, 'D': 1200, 'T': 1800, 'Q': 2400}\n",
    "    durations = {'H': 250, 'M': 500, 'D': 1000, 'T': 1500, 'Q': 2000}\n",
    "\n",
    "    for notation in notations:\n",
    "        note = notation.split()\n",
    "        frequency = frequencies.get(note[0])\n",
    "        duration = durations.get(note[1])\n",
    "        os.system(f'beep -f {frequency} -l {duration}')\n",
    "        \n",
    "        \n",
    "\n",
    "notations = ('G4 H', 'G4 H', 'A4 M', 'G4 M', 'C5 M', 'B4 D', 'G4 H', 'G4 H', \n",
    "             'A4 M', 'G4 M', 'D5 M', 'C5 D', 'G4 H', 'G4 H', 'G5 M', 'E5 M', \n",
    "             'C5 M', 'B4 M', 'A4 M', 'F5 H', 'F5 H', 'E5 M', 'C5 M', 'D5 M', 'C5 T')\n",
    "play_song(notations)"
   ]
  },
  {
   "cell_type": "code",
   "execution_count": null,
   "metadata": {},
   "outputs": [],
   "source": [
    "import sys\n",
    "from IPython.core.interactiveshell import InteractiveShell\n",
    "\n",
    "InteractiveShell.ast_node_interactivity = \"all\"\n",
    "print(\"InteractiveShell set.\")\n",
    "print(sys.version)"
   ]
  },
  {
   "cell_type": "code",
   "execution_count": null,
   "metadata": {},
   "outputs": [],
   "source": [
    "# Windows version\n",
    "def play_song(notations):\n",
    "    import winsound\n",
    "\n",
    "    frequencies = {\n",
    "        'C3' : 130.81,    # 1\n",
    "        'C#3': 138.59,    # 1#\n",
    "        'D3' : 146.83,    # 2\n",
    "        'D#3': 155.56,    # 2#\n",
    "        'E3' : 164.81,    # 3\n",
    "        'F3' : 174.61,    # 4\n",
    "        'F#3': 185.00,    # 4#\n",
    "        'G3' : 196.00,    # 5\n",
    "        'G#3': 207.65,    # 5#\n",
    "        'A3' : 220.00,    # 6\n",
    "        'A#3': 233.08,    # 6#\n",
    "        'B3' : 246.94,    # 7\n",
    "        'C4' : 261.63,    # 1\n",
    "        'C#4': 277.18,    # 1#\n",
    "        'D4' : 293.66,    # 2\n",
    "        'D#4': 311.13,    # 2#  \n",
    "        'E4' : 329.63,    # 3\n",
    "        'F4' : 349.23,    # 4\n",
    "        'F#4': 369.99,    # 4#    \n",
    "        'G4' : 391.99,    # 5\n",
    "        'G#4': 415.30,    # 5#\n",
    "        'A4' : 440.00,    # 6\n",
    "        'A#4': 466.16,    # 6#\n",
    "        'B4' : 493.88,    # 7\n",
    "        'C5' : 523.25,    # 1\n",
    "        'C#5': 554.37,    # 1#\n",
    "        'D5' : 587.33,    # 2\n",
    "        'D#5': 622.25,    # 2#  \n",
    "        'E5' : 659.26,    # 3\n",
    "        'F5' : 698.46,    # 4\n",
    "        'F#5': 739.99,    # 4#    \n",
    "        'G5' : 783.99,    # 5\n",
    "        'G#5': 830.61,    # 5#\n",
    "        'A5' : 880.00,    # 6\n",
    "        'A#5': 932.33,    # 6#\n",
    "        'B5' : 987.77,    # 7\n",
    "    }\n",
    "\n",
    "    # durations = {'H': 300, 'M': 600, 'D': 1200, 'T': 1800, 'Q': 2400}\n",
    "    durations = {'H': 250, 'M': 500, 'D': 1000, 'T': 1500, 'Q': 2000}\n",
    "\n",
    "    for notation in notations:\n",
    "        note = notation.split()\n",
    "        frequency = round(frequencies.get(note[0]))\n",
    "        duration = durations.get(note[1])\n",
    "        winsound.Beep(frequency, duration)\n",
    "        \n",
    "\n",
    "notations = ('G4 H', 'G4 H', 'A4 M', 'G4 M', 'C5 M', 'B4 D', 'G4 H', 'G4 H', \n",
    "             'A4 M', 'G4 M', 'D5 M', 'C5 D', 'G4 H', 'G4 H', 'G5 M', 'E5 M', \n",
    "             'C5 M', 'B4 M', 'A4 M', 'F5 H', 'F5 H', 'E5 M', 'C5 M', 'D5 M', 'C5 T')\n",
    "play_song(notations)"
   ]
  },
  {
   "cell_type": "code",
   "execution_count": null,
   "metadata": {},
   "outputs": [],
   "source": [
    "def acrostic(idioms: tuple) -> str:\n",
    "    '''藏頭詩'''\n",
    "    return ''.join([idiom[(index % len(idiom))] + ('，' if index == len(idiom) - 1 else '。' if index == len(idiom)*2 - 1 else '') for index, idiom in enumerate((idioms))])\n",
    "\n",
    "\n",
    "idioms = ('中流砥柱', '千秋萬世', '漸入佳境', '高風亮節', \n",
    "          '月下花前', '聰明伶俐', '地靈人傑', '破鏡重圓')\n",
    "print()\n",
    "print(acrostic(idioms))\n",
    "idioms = ('聖帝明王', '孺子可教', '紆尊降貴', '談笑風生', \n",
    "          '拯溺扶危', '匡救彌縫', '名門世族', '百年樹人')\n",
    "print(acrostic(idioms))"
   ]
  },
  {
   "cell_type": "code",
   "execution_count": null,
   "metadata": {},
   "outputs": [],
   "source": [
    "def acrostic(idioms: tuple) -> str:\n",
    "    '''藏頭詩'''\n",
    "    # return ''.join([a[(index % len(a))] + ('，' if index == len(a) - 1 else '。' if index == len(a)*2 - 1 else '') for index, a in enumerate((idioms))])\n",
    "    return ''.join([idiom[(index % len(idiom))] + ('，' if index == len(idiom) - 1 else '。' if index == len(idiom)*2 - 1 else '') for index, idiom in enumerate((idioms))])\n",
    "\n",
    "\n",
    "idioms = ('聖帝明王', '孺子可教', '紆尊降貴', '談笑風生', \n",
    "          '拯溺扶危', '匡救彌縫', '名門世族', '百年樹人')\n",
    "print()\n",
    "print(acrostic(idioms))\n",
    "\n",
    "'聖子降生，拯救世人。'"
   ]
  },
  {
   "cell_type": "code",
   "execution_count": null,
   "metadata": {},
   "outputs": [],
   "source": [
    "from math import ceil\n",
    "\n",
    "def get_pages(total_words: int, words_per_line: int, lines_per_page) -> int:\n",
    "    return ceil(total_words / words_per_line / lines_per_page)\n",
    "\n",
    "print()\n",
    "print(f'{get_pages(110_537, 28, 26) = }')\n",
    "print(f'{get_pages(236_090, 39, 18) = }')\n",
    "print(f'{get_pages(788_451, 44, 16) = }')   # 紅樓夢字數\n",
    "print(f'{get_pages(481_584, 46, 19) = }')\n",
    "print()"
   ]
  },
  {
   "cell_type": "code",
   "execution_count": null,
   "metadata": {},
   "outputs": [
    {
     "name": "stdout",
     "output_type": "stream",
     "text": [
      "\n",
      "is_prime(-3) = False\n",
      "is_prime(0) = False\n",
      "is_prime(1) = False\n",
      "is_prime(2) = True\n",
      "is_prime(3) = True\n",
      "is_prime(4) = False\n",
      "is_prime(73) = True\n",
      "is_prime(12347) = True\n",
      "is_prime(674139) = False\n",
      "\n"
     ]
    }
   ],
   "source": [
    "def is_prime(number: int) -> bool:\n",
    "    prime = True\n",
    "    if number <= 1:\n",
    "        prime = False\n",
    "    else:\n",
    "        for i in range(2, int(number ** .5 + 1)):\n",
    "            if number % i == 0:\n",
    "                prime = False\n",
    "                break\n",
    "    return prime\n",
    "\n",
    "print()\n",
    "print(f'{is_prime(-3) = }')\n",
    "print(f'{is_prime(0) = }')\n",
    "print(f'{is_prime(1) = }')\n",
    "print(f'{is_prime(2) = }')\n",
    "print(f'{is_prime(3) = }')\n",
    "print(f'{is_prime(4) = }')\n",
    "print(f'{is_prime(73) = }')\n",
    "print(f'{is_prime(12347) = }')\n",
    "print(f'{is_prime(674139) = }')\n",
    "print()"
   ]
  },
  {
   "cell_type": "code",
   "execution_count": null,
   "metadata": {},
   "outputs": [
    {
     "data": {
      "text/plain": [
       "2"
      ]
     },
     "execution_count": 19,
     "metadata": {},
     "output_type": "execute_result"
    }
   ],
   "source": [
    "int(5/2)"
   ]
  },
  {
   "cell_type": "code",
   "execution_count": null,
   "metadata": {},
   "outputs": [
    {
     "name": "stdout",
     "output_type": "stream",
     "text": [
      "\n",
      "is_composite(-3) = False\n",
      "is_composite(0) = False\n",
      "is_composite(1) = False\n",
      "is_composite(2) = False\n",
      "is_composite(3) = False\n",
      "is_composite(4) = True\n",
      "is_composite(73) = False\n",
      "is_composite(12347) = False\n",
      "is_composite(674139) = True\n",
      "\n"
     ]
    }
   ],
   "source": [
    "def is_composite(num: int) -> bool:\n",
    "    is_composite = False\n",
    "    for i in range(2, (num // 2 + 1)): \n",
    "        if num % i == 0:\n",
    "            is_composite = True\n",
    "            break\n",
    "    return is_composite\n",
    "\n",
    "print()\n",
    "print(f'{is_composite(-3) = }')\n",
    "print(f'{is_composite(0) = }')\n",
    "print(f'{is_composite(1) = }')\n",
    "print(f'{is_composite(2) = }')\n",
    "print(f'{is_composite(3) = }')\n",
    "print(f'{is_composite(4) = }')\n",
    "print(f'{is_composite(73) = }')\n",
    "print(f'{is_composite(12347) = }')\n",
    "print(f'{is_composite(674139) = }')\n",
    "print()"
   ]
  },
  {
   "cell_type": "code",
   "execution_count": null,
   "metadata": {},
   "outputs": [],
   "source": [
    "def remove_spaces(raw_str: str) -> str:\n",
    "    return 'α' + raw_str.replace(' ', '') + 'ω'\n",
    "\n",
    "print()\n",
    "raw_str = '   Hasta  la   vista,  baby.    --Terminator 2   '\n",
    "print(f'{raw_str = }')\n",
    "print(f\"{remove_spaces(raw_str) = }\")\n",
    "\n",
    "print()\n",
    "raw_str = ' Never lose a holy curiosity. --Albert Einstein'\n",
    "print(f'{raw_str = }')\n",
    "print(f\"{remove_spaces(raw_str) = }\")\n",
    "\n",
    "print()\n",
    "raw_str = ' 天  地  不  仁， 以  萬  物  為  芻  狗。  --Lao Zi '\n",
    "print(f'{raw_str = }')\n",
    "print(f\"{remove_spaces(raw_str) = }\")\n",
    "print()"
   ]
  },
  {
   "cell_type": "code",
   "execution_count": null,
   "metadata": {},
   "outputs": [],
   "source": [
    "def toggle_case(raw_str: str) -> str:\n",
    "    return 'α' + raw_str.swapcase() + 'ω'\n",
    "\n",
    "print()\n",
    "raw_str = 'Life is short.  We use Python.'\n",
    "print(f'{raw_str = }')\n",
    "print(f\"{toggle_case(raw_str) = }\")\n",
    "\n",
    "print()\n",
    "raw_str = 'Talk is cheap.  Show me the CODE.'\n",
    "print(f'{raw_str = }')\n",
    "print(f\"{toggle_case(raw_str) = }\")\n",
    "\n",
    "print()\n",
    "raw_str = '我們正在學CPR & First Aid。'\n",
    "print(f'{raw_str = }')\n",
    "print(f\"{toggle_case(raw_str) = }\")\n",
    "print()"
   ]
  },
  {
   "cell_type": "code",
   "execution_count": null,
   "metadata": {},
   "outputs": [],
   "source": [
    "def insert_seps(raw_str: str, sep: str) -> str:\n",
    "    # return 'α' + chars.join(raw_str.split('')) + 'ω'\n",
    "    return  'α' + sep.join([char for char in raw_str]) + 'ω'\n",
    "\n",
    "print()\n",
    "raw_str = 'Hello, World!'\n",
    "print(f'{raw_str = }')\n",
    "print(f\"{insert_seps(raw_str, '..') = }\") \n",
    "\n",
    "print()\n",
    "raw_str = 'Readability counts.'\n",
    "print(f'{raw_str = }')\n",
    "print(f\"{insert_seps(raw_str, '_') = }\") \n",
    "\n",
    "print()\n",
    "raw_str = '欲窮千里目，更上一層樓。'\n",
    "print(f'{raw_str = }')\n",
    "print(f\"{insert_seps(raw_str, ' ') = }\") \n",
    "print()\n"
   ]
  },
  {
   "cell_type": "code",
   "execution_count": null,
   "metadata": {},
   "outputs": [],
   "source": [
    "def split_list(numbers: list) -> tuple:\n",
    "    red_box = []    # 紅bin放有沒有重覆的數字\n",
    "    blue_box = []   # 藍bin放有重覆的唯一數字(重複只放一個)\n",
    "    for index, number in enumerate(numbers):\n",
    "        if number in numbers[index + 1:]:\n",
    "            if number not in blue_box:\n",
    "                blue_box.append(number)\n",
    "        else:\n",
    "            if number not in blue_box:\n",
    "                red_box.append(number)\n",
    "    \n",
    "    return red_box, blue_box\n",
    "            \n",
    "print()\n",
    "numbers = [5, 6, 3, 2, 8, 3, 8, 3, 3, 6, 0]\n",
    "print(f'{numbers = }')\n",
    "print(f'{split_list(numbers) = }')\n",
    "\n",
    "print()\n",
    "numbers = [9, 0, 4, 0, 7, 9, 1, 9, 6]\n",
    "print(f'{numbers = }')\n",
    "print(f'{split_list(numbers) = }')\n",
    "\n",
    "print()\n",
    "numbers = [0, 1, 2, 3, 4, 4, 2, 3, 0]\n",
    "print(f'{numbers = }')\n",
    "print(f'{split_list(numbers) = }')\n",
    "\n",
    "print()\n",
    "numbers = [8, 2, 2, 7, 2, 2, 3, 2, 4, 9, 1]\n",
    "print(f'{numbers = }')\n",
    "print(f'{split_list(numbers) = }')\n",
    "\n",
    "print()\n",
    "numbers = [5, 5, 5, 5, 5]\n",
    "print(f'{numbers = }')\n",
    "print(f'{split_list(numbers) = }')\n",
    "\n",
    "print()\n",
    "numbers = [11, 29, 86, 33, 6]\n",
    "print(f'{numbers = }')\n",
    "print(f'{split_list(numbers) = }')\n"
   ]
  },
  {
   "cell_type": "code",
   "execution_count": null,
   "metadata": {},
   "outputs": [],
   "source": [
    "def symmetrize(raw_str: str, central: str) -> str:\n",
    "    return raw_str + central + raw_str[::-1]\n",
    "\n",
    "\n",
    "print()\n",
    "raw_str = '芳梅喜淡雅，永日伴清茶'\n",
    "print(f'{raw_str = }') \n",
    "print(f\"{symmetrize(raw_str, '💖💖') = }\")\n",
    "\n",
    "print()\n",
    "raw_str = '遙望四邊雲接水，碧峰千點數鷗輕'\n",
    "print(f'{raw_str = }') \n",
    "print(f\"{symmetrize(raw_str, '💎') = }\")\n",
    "\n",
    "print()\n",
    "raw_str = ' +-.desserts.-+ '\n",
    "print(f'{raw_str = }') \n",
    "print(f\"{symmetrize(raw_str, '🎀🎖🎀') = }\")"
   ]
  },
  {
   "cell_type": "code",
   "execution_count": null,
   "metadata": {},
   "outputs": [],
   "source": [
    "def create_list(start: int, end: int, step: int) -> list:\n",
    "    return [item for item in range(start, end, step)][::-1]\n",
    "print()\n",
    "print(f'{create_list(3, 17, 3) = }')\n",
    "print(f'{create_list(56, 90, 5) = }')\n",
    "print(f'{create_list(-20, 9, 4) = }')\n",
    "print(f'{create_list(0, 500, 99) = }')"
   ]
  },
  {
   "cell_type": "code",
   "execution_count": null,
   "metadata": {},
   "outputs": [],
   "source": [
    "def get_unique_sum(lst: list) -> int:\n",
    "    return sum(set(lst))\n",
    "\n",
    "print(f'{get_unique_sum([4, 7, 3, 4, 9, 3, 3, 0, -7]) = }')\n",
    "print(f'{get_unique_sum([11, 6, -25, 6, 1, 6, 5, 3, 1, 8]) = }')\n",
    "print(f'{get_unique_sum([36, 37, 38, 11, 12, 37, -11, 11]) = }')\n",
    "print(f'{get_unique_sum([1, -2, 3, 4, 1, 3, 4, -2, 7, 1]) = }')\n"
   ]
  },
  {
   "cell_type": "code",
   "execution_count": null,
   "metadata": {},
   "outputs": [],
   "source": [
    "def acrostic(idioms: tuple) -> str:\n",
    "    string = ''\n",
    "    length = len(idioms[0])\n",
    "    for index, idiom in enumerate(idioms):\n",
    "        string += idiom[index % length]\n",
    "        if index == len(idioms) - 1:\n",
    "            string += '。'\n",
    "        elif index % length == length - 1:\n",
    "            string += '，'\n",
    "    return string\n",
    "\n",
    "idioms = ('聖帝明王', '孺子可教', '紆尊降貴', '談笑風生', \n",
    "          '拯溺扶危', '匡救彌縫', '名門世族', '百年樹人')\n",
    "print()\n",
    "print(acrostic(idioms))"
   ]
  },
  {
   "cell_type": "code",
   "execution_count": null,
   "metadata": {},
   "outputs": [],
   "source": [
    "def add_key(old_dict: dict, key: object, value: object = None, add: bool = True) -> dict:\n",
    "    from copy import deepcopy\n",
    "    new_dict = deepcopy(old_dict)\n",
    "    if new_dict.get(key) is not None or add:\n",
    "        new_dict[key] = value\n",
    "    return new_dict\n",
    "\n",
    "print('add_key() defined.')"
   ]
  },
  {
   "cell_type": "code",
   "execution_count": null,
   "metadata": {},
   "outputs": [],
   "source": [
    "old_dict = {'id': 1, 'name': 'Alex'}\n",
    "print()\n",
    "new_dict = add_key(old_dict, 'name', 'Thomas', True)\n",
    "print(f\"{old_dict = }\")\n",
    "print(\"new_dict = add_key(old_dict, 'name', 'Thomas', True)\")\n",
    "print(f\"結果new_dict的內容為：{new_dict}\")\n",
    "\n",
    "print()\n",
    "new_dict = add_key(old_dict, 'name', 'Thomas', False)\n",
    "print(f\"{old_dict = }\")\n",
    "print(\"new_dict = add_key(old_dict, 'name', 'Thomas', False)\")\n",
    "print(f\"結果new_dict的內容為：{new_dict}\")\n",
    "\n",
    "print()\n",
    "new_dict = add_key(old_dict, 'name', 'Thomas')\n",
    "print(f\"{old_dict = }\")\n",
    "print(\"new_dict = add_key(old_dict, 'name', 'Thomas')\")\n",
    "print(f\"結果new_dict的內容為：{new_dict}\")\n",
    "\n",
    "print()\n",
    "new_dict = add_key(old_dict, 'name')\n",
    "print(f\"{old_dict = }\")\n",
    "print(\"new_dict = add_key(old_dict, 'name')\")\n",
    "print(f\"結果new_dict的內容為：{new_dict}\")\n",
    "\n",
    "print('--------------------------------')\n",
    "\n",
    "print()\n",
    "new_dict = add_key(old_dict, 'bmi', 22.8, True)\n",
    "print(f\"{old_dict = }\")\n",
    "print(\"new_dict = add_key(old_dict, 'bmi', 22.8, True)\")\n",
    "print(f\"結果new_dict的內容為：{new_dict}\")\n",
    "\n",
    "print()\n",
    "new_dict = add_key(old_dict, 'bmi', 22.8, False)\n",
    "print(f\"{old_dict = }\")\n",
    "print(\"new_dict = add_key(old_dict, 'bmi', 22.8, False)\")\n",
    "print(f\"結果new_dict的內容為：{new_dict}\")\n",
    "\n",
    "print()\n",
    "new_dict = add_key(old_dict, 'bmi', 22.8)\n",
    "print(f\"{old_dict = }\")\n",
    "print(\"new_dict = add_key(old_dict, 'bmi', 22.8)\")\n",
    "print(f\"結果new_dict的內容為：{new_dict}\")\n",
    "\n",
    "print()\n",
    "new_dict = add_key(old_dict, 'bmi')\n",
    "print(f\"{old_dict = }\")\n",
    "print(\"new_dict = add_key(old_dict, 'bmi')\")\n",
    "print(f\"結果new_dict的內容為：{new_dict}\")\n",
    "\n",
    "print()"
   ]
  },
  {
   "cell_type": "code",
   "execution_count": null,
   "metadata": {},
   "outputs": [],
   "source": [
    "def intersperse(str1: str, str2: str) -> str:\n",
    "    return ''.join([char1 + str2[index] for index, char1 in enumerate(str1)])\n",
    "\n",
    "print()\n",
    "str1 = 'ABCDE'\n",
    "str2 = 'abcde'\n",
    "print(f'{str1 = }     {str2 = }')\n",
    "print(f'{intersperse(str1, str2) = }')\n",
    "\n",
    "print()\n",
    "str1 = '人生在世不稱意'\n",
    "str2 = '明朝散髮弄扁舟'\n",
    "print(f'{str1 = }     {str2 = }')\n",
    "print(f'{intersperse(str1, str2) = }')\n",
    "\n",
    "print()\n",
    "str1 = '7654321'\n",
    "str2 = '+-*/%.,'\n",
    "print(f'{str1 = }   {str2 = }')\n",
    "print(f'{intersperse(str1, str2) = }')"
   ]
  },
  {
   "cell_type": "code",
   "execution_count": null,
   "metadata": {},
   "outputs": [],
   "source": [
    "raw_str = 'abcde'\n",
    "reverse_str = raw_str[::-1]   # raw_str[::-1]就是raw_str的逆字串。\n",
    "print(f'{raw_str = }')\n",
    "print(f'{reverse_str = }')"
   ]
  },
  {
   "cell_type": "code",
   "execution_count": null,
   "metadata": {},
   "outputs": [],
   "source": [
    "import string\n",
    "\n",
    "def generate_pwd(char_pool: str, length: int, amount: int) -> list:\n",
    "    import random as rd\n",
    "    passwords = []    \n",
    "    for _ in range(amount):\n",
    "        passwords.append('')\n",
    "        passwords[-1] += ''.join(rd.choices(char_pool, k=length))\n",
    "    return passwords\n",
    "        \n",
    "print()\n",
    "pool = string.ascii_letters + string.digits \n",
    "print(f'{pool = }')\n",
    "print(f'{generate_pwd(pool, 6, 5) = }')\n",
    "\n",
    "print()\n",
    "pool = string.ascii_uppercase + string.hexdigits\n",
    "print(f'{pool = }')\n",
    "print(f'{generate_pwd(pool, 12, 2) = }')    \n",
    "\n",
    "print()\n",
    "pool = string.ascii_lowercase + string.punctuation\n",
    "print(f'{pool = }')\n",
    "print(f'{generate_pwd(pool, 8, 3) = }')"
   ]
  },
  {
   "cell_type": "code",
   "execution_count": null,
   "metadata": {},
   "outputs": [],
   "source": []
  },
  {
   "cell_type": "code",
   "execution_count": null,
   "metadata": {},
   "outputs": [],
   "source": [
    "def my_func(num: int):   # num是形參\n",
    "    global i\n",
    "    i += 10\n",
    "    num += 1    # num是「參數」，也就是local變數。在函數裡改變local變數的值，不會影響外面。\n",
    "    print(f'within my_func(): {num=}') \n",
    "    return num\n",
    "    \n",
    "s = 'hello, world'  # s的值是'hello, world'\n",
    "i = 123             # i的值是123\n",
    "lst = []            # lst的值是一個空的list\n",
    "# my_func(i)          # 呼叫my_func()之後的值是None(i是實參)\n",
    "# my_func(123)        # 呼叫my_func()之後的值是None(i是實參)\n",
    "# my_func             # 和my_func()不一樣\n",
    "print(f'before my_func(): {i=}')\n",
    "print(my_func(i))  # print出my_func()的傳回值，也就是my_func()的值。\n",
    "print(f'after my_func() : {i=}')"
   ]
  },
  {
   "cell_type": "code",
   "execution_count": null,
   "metadata": {},
   "outputs": [],
   "source": [
    "def is_aliquot(dividend: int, divisor: int) -> bool:\n",
    "    if divisor == 0:\n",
    "        raise ZeroDivisionError('除數不能為零。')\n",
    "    return dividend % divisor == 0"
   ]
  },
  {
   "cell_type": "code",
   "execution_count": null,
   "metadata": {},
   "outputs": [],
   "source": [
    "try:\n",
    "    print(f'{is_aliquot(15, 5) = }')\n",
    "    print(f'{is_aliquot(15, 4) = }')\n",
    "    print(f'{is_aliquot(15, 0) = }')\n",
    "except Exception as e:\n",
    "    print(str(e))                                                "
   ]
  },
  {
   "cell_type": "code",
   "execution_count": null,
   "metadata": {},
   "outputs": [],
   "source": [
    "import typing\n",
    "def set_pwd_source(source: str) -> typing.Callable:\n",
    "    import random as rd\n",
    "    return lambda count: ''.join(rd.choices(source, k=count))\n",
    "\n",
    "my_password_gen = set_pwd_source('0123456789abcdefghij')\n",
    "my_password_gen(10)"
   ]
  },
  {
   "cell_type": "code",
   "execution_count": null,
   "metadata": {},
   "outputs": [],
   "source": [
    "import typing\n",
    "def set_password_source(source: str) -> typing.Callable:\n",
    "    def gen_password(count: int) -> str:\n",
    "        import random as rd\n",
    "        return ''.join(rd.choices(source, k=count))\n",
    "    return gen_password\n",
    "\n",
    "my_password_gen = set_password_source('0123456789abcdefghij')\n",
    "my_password_gen(10)"
   ]
  },
  {
   "cell_type": "code",
   "execution_count": null,
   "metadata": {},
   "outputs": [],
   "source": [
    "def get_available_days(all_days: list, closed_days: list, on_duty_days: list) -> list:\n",
    "    return (lst := sorted(list((set(all_days) - set(closed_days)) & set(on_duty_days))))\n",
    "\n",
    "all_days = ['2022-12-05', '2022-12-01', '2022-12-03', '2022-12-08', '2022-12-04', \n",
    "            '2022-12-10', '2022-12-06', '2022-12-07', '2022-12-02', '2022-12-09']\n",
    "closed_days = ['2022-12-10', '2022-12-03']\n",
    "on_duty_days = ['2022-12-09', '2022-12-02', '2022-12-05', '2022-12-16', \n",
    "                '2022-12-04', '2022-12-12', '2022-12-14', '2022-12-03', \n",
    "                '2022-12-07']   # 有些看診日超過all_days範圍。\n",
    "\n",
    "print()\n",
    "print(f'{all_days = }')       # 一段時間內的所有日期\n",
    "print()\n",
    "print(f'{closed_days = }')    # 醫院休假日\n",
    "print()\n",
    "print(f'{on_duty_days = }')   # 醫師看診日\n",
    "print()\n",
    "print('-----------------')\n",
    "# 注意：超過all_days範圍的醫師看診日期不要納入傳回的list。\n",
    "print(f'{get_available_days(all_days, closed_days, on_duty_days) = }')\n",
    "print()"
   ]
  },
  {
   "cell_type": "code",
   "execution_count": null,
   "metadata": {},
   "outputs": [],
   "source": [
    "# def merge_dicts1(dict1: dict = {}, dict2: dict = {}) -> None:\n",
    "#     dict1.update(dict2)\n",
    "#     return None\n",
    "\n",
    "# def merge_dicts2(dict1: dict = {}, dict2: dict = {}) -> dict:\n",
    "#     return {**dict1, **dict2}"
   ]
  },
  {
   "cell_type": "code",
   "execution_count": null,
   "metadata": {},
   "outputs": [],
   "source": [
    "def merge_dicts(dict1_: dict = {}, dict2: dict = {}) -> None:\n",
    "    # dict1 | dict2\n",
    "    # dict1.update(dict2)\n",
    "    print(f'{id(dict1_) = }')\n",
    "    global dict1\n",
    "    dict1 = dict1_ | dict2\n",
    "    # print('-------------------')\n",
    "    # print(dict1)\n",
    "    # print('-------------------')\n",
    "    return None"
   ]
  },
  {
   "cell_type": "code",
   "execution_count": null,
   "metadata": {},
   "outputs": [],
   "source": [
    "print()\n",
    "print('----- key部分重疊 -----')\n",
    "dict1 = {'name': 'Alex', 'age': 24}; dict2 = {'id': 1, 'name': 'Jade'}\n",
    "print(f'{dict1 = }\\n{dict2 = }')\n",
    "print(f'{id(dict1) = }')\n",
    "merge_dicts(dict1, dict2)\n",
    "print('執行merge_dicts(dict1, dict2)...')\n",
    "print(f'{dict1 = }\\n{dict2 = }\\n')\n",
    "\n",
    "print('----- key完全不重疊 -----')\n",
    "dict1 = {'name': 'Alex', 'age': 24}; dict2 = {'id': 1, 'bmi': 22.8}\n",
    "print(f'{dict1 = }\\n{dict2 = }')\n",
    "merge_dicts(dict1, dict2)\n",
    "print('執行merge_dicts(dict1, dict2)...')\n",
    "print(f'{dict1 = }\\n{dict2 = }\\n')\n",
    "\n",
    "print('----- key完全重疊 -----')\n",
    "dict1 = {'name': 'Alex', 'age': 24}; dict2 = {'name': 'Jade', 'age': 18}\n",
    "print(f'{dict1 = }\\n{dict2 = }')\n",
    "merge_dicts(dict1, dict2)\n",
    "print('執行merge_dicts(dict1, dict2)...')\n",
    "print(f'{dict1 = }\\n{dict2 = }\\n')\n",
    "\n",
    "print('----- dict1包含dict2 -----')\n",
    "dict1 = {'name': 'Alex', 'age': 24}; dict2 = {'name': 'Jade'}\n",
    "print(f'{dict1 = }\\n{dict2 = }')\n",
    "merge_dicts(dict1, dict2)\n",
    "print('執行merge_dicts(dict1, dict2)...')\n",
    "print(f'{dict1 = }\\n{dict2 = }\\n')\n",
    "\n",
    "print('----- dict2包含dict1 -----')\n",
    "dict1 = {'name': 'Alex', 'age': 24}; dict2 = {'id': 1, 'name': 'Jade', 'age': 18}\n",
    "print(f'{dict1 = }\\n{dict2 = }')\n",
    "merge_dicts(dict1, dict2)\n",
    "print('執行merge_dicts(dict1, dict2)...')\n",
    "print(f'{dict1 = }\\n{dict2 = }')\n",
    "print()"
   ]
  },
  {
   "cell_type": "code",
   "execution_count": null,
   "metadata": {},
   "outputs": [],
   "source": [
    "def accumulate(high_bound: int, step: int) -> int:\n",
    "    return sum(i for i in range(1, high_bound, step))\n",
    "\n",
    "print()\n",
    "print(f'{accumulate(3, 1) = }')\n",
    "print(f'{accumulate(5, 5) = }')\n",
    "print(f'{accumulate(10, 2) = }')\n",
    "print(f'{accumulate(10, 3) = }')\n",
    "print(f'{accumulate(50, 9) = }')\n",
    "print(f'{accumulate(1024, 66) = }')\n",
    "print()"
   ]
  },
  {
   "cell_type": "code",
   "execution_count": null,
   "metadata": {},
   "outputs": [],
   "source": [
    "def get_chinese_chars(raw_chars: str) -> int:\n",
    "    # 程式內盡量不要有Magic Numbers。將Magic Numbers用變數或常數表示。\n",
    "    MAX_ASCII = 127 \n",
    "    lines = raw_chars.split('\\n')\n",
    "\n",
    "    # 能以「資料」作判斷的，就盡量使用資料。程式的「維護」和「日後擴充」都比\n",
    "    # 在code內以邏輯判斷好。\n",
    "    # Code的邏輯寫好測試過OK後，「能不動就盡量不動」。\n",
    "    # 請緊記一點：「改code」是有風險的事。\n",
    "    # 下面的code_block_headers如果資料很多也較複雜，更理想的做法是把這些資料抽出來，\n",
    "    # 放在外部檔案或資料庫。程式從檔案或資料庫讀入資料。如此一來，即使日後資料\n",
    "    # 有增減修改，只要改外部的檔案或資料庫就行。程式部分完全不必更動。\n",
    "    code_block_headers = ['```', '```python', '```c', '```cpp', '```c#', '```python=', '```c=', '```cpp=', '```c#=']\n",
    "    chinese_chars = 0\n",
    "\n",
    "    # 下面這個「旗標」(flag)變數是本程式的重點。同學要懂得運用。\n",
    "    is_code_block = False\n",
    "\n",
    "    for line in lines:  \n",
    "        line = line.strip()\n",
    "\n",
    "        # 假如不是利用資料作判斷，下面這個if就得寫成：\n",
    "        # line_lower = line.lower()\n",
    "        # if line_lower == '```' or line_lower == '```python' or line_lower == '```c' or line_lower == '```cpp'... :\n",
    "        # 萬一日後code block的語言增加'javascript'，就得多寫一個or，更動到邏輯了。\n",
    "        # 再萬一整支程式有50個地方都須判斷，您就得改50處，少改一處就埋下一個地雷。\n",
    "        if line.lower() in code_block_headers:  # 這種寫法不管增加多少語言都不必改。只須改的是上面的list。\n",
    "            is_code_block = True\n",
    "\n",
    "        if is_code_block:\n",
    "            if line == '```':   # 這個地方不會變動，所以直接hardcode。\n",
    "                is_code_block = False\n",
    "        else:\n",
    "            for char in line:\n",
    "                if ord(char) > MAX_ASCII:  # 以常數取代Magic Number。\n",
    "                    chinese_chars += 1\n",
    "    return chinese_chars"
   ]
  },
  {
   "cell_type": "code",
   "execution_count": null,
   "metadata": {},
   "outputs": [
    {
     "ename": "NameError",
     "evalue": "name 'get_chinese_chars' is not defined",
     "output_type": "error",
     "traceback": [
      "\u001b[0;31m---------------------------------------------------------------------------\u001b[0m",
      "\u001b[0;31mNameError\u001b[0m                                 Traceback (most recent call last)",
      "Cell \u001b[0;32mIn [15], line 32\u001b[0m\n\u001b[1;32m      1\u001b[0m raw_chars \u001b[39m=\u001b[39m \u001b[39m'''\u001b[39m\n\u001b[1;32m      2\u001b[0m \u001b[39m昨天簡介`類別屬性`(class attributes)，今天則淺談`類別方法`(class methods)。\u001b[39m\n\u001b[1;32m      3\u001b[0m \u001b[39m筆者談類別方法的「方法」(註1)，是從類別屬性切入。\u001b[39m\n\u001b[0;32m   (...)\u001b[0m\n\u001b[1;32m     29\u001b[0m \u001b[39m    ```\u001b[39m\n\u001b[1;32m     30\u001b[0m \u001b[39m* 測試程式如下。請特別注意：這段測試程式，三個`類別屬性`都是用「**物件.屬性**」方式存取。\u001b[39m\u001b[39m'''\u001b[39m\n\u001b[0;32m---> 32\u001b[0m \u001b[39mprint\u001b[39m(\u001b[39mf\u001b[39m\u001b[39m'\u001b[39m\u001b[39m\\n\u001b[39;00m\u001b[39m{\u001b[39;00mget_chinese_chars(raw_chars) \u001b[39m= }\u001b[39;00m\u001b[39m\\n\u001b[39;00m\u001b[39m'\u001b[39m)\n",
      "\u001b[0;31mNameError\u001b[0m: name 'get_chinese_chars' is not defined"
     ]
    }
   ],
   "source": [
    "raw_chars = '''\n",
    "昨天簡介`類別屬性`(class attributes)，今天則淺談`類別方法`(class methods)。\n",
    "筆者談類別方法的「方法」(註1)，是從類別屬性切入。\n",
    "\n",
    "* 以下是昨天類別屬性的code。為節省篇幅，僅貼部分，完整版本見昨天發文：\n",
    "    ```\n",
    "    class Tree():\n",
    "        count = 0         # 放在建構子外面的是類別屬性。\n",
    "\n",
    "        def __init__(self, breed: str, age: int):\n",
    "            self.__breed = breed\n",
    "            self.__age = age\n",
    "            Tree.count += 1          # class attributes是用Tree.xxx而非self.xxx\n",
    "            ...   # 以下略\n",
    "    ```\n",
    "* `count`, `total_age`和`average_age`這幾個類別屬性都設成公開，所以主程式可以直接以`方法.屬性`或`物件.屬性`存取，沒用到property。看來還滿「方便」的。\n",
    "* 不過，這好像違反了筆者一直強調`屬性盡量私有(private)`的封裝保護層級理論。怎辦？改為私有吧：\n",
    "* 改為私有，類別屬性當然得補上properties。補好後的完整版本如下：\n",
    "    ```\n",
    "    class Tree():\n",
    "        __count = 0         # 所有類別的屬性都改為私有。\n",
    "\n",
    "        def __init__(self, breed: str, age: int):\n",
    "            self.__breed = breed\n",
    "            self.__age = age\n",
    "\n",
    "            Tree.__count += 1          # 類別屬性是用Tree.xxx而不是self.xxx。\n",
    "            # 以下略。\n",
    "    ```\n",
    "* 測試程式如下。請特別注意：這段測試程式，三個`類別屬性`都是用「**物件.屬性**」方式存取。'''\n",
    "\n",
    "print(f'\\n{get_chinese_chars(raw_chars) = }\\n')"
   ]
  },
  {
   "cell_type": "code",
   "execution_count": null,
   "metadata": {},
   "outputs": [],
   "source": [
    "def get_quote_info(chars: str) -> dict:\n",
    "    count = 0\n",
    "    quote = ''\n",
    "    lengths = []\n",
    "    quotes = []\n",
    "    return_dict = {}\n",
    "    within_quote = False\n",
    "    for char in chars:\n",
    "        if within_quote:\n",
    "            if char == '」':\n",
    "                lengths.append(count)\n",
    "                quotes.append(quote)\n",
    "                within_quote = False\n",
    "            else:    \n",
    "                count += 1\n",
    "                quote += char\n",
    "        else:\n",
    "            if char == '「':\n",
    "                count = 0\n",
    "                quote = ''\n",
    "                within_quote = True\n",
    "\n",
    "\n",
    "    shortest_text = quotes[lengths.index(min(lengths))]\n",
    "    longest_text = quotes[lengths.index(max(lengths))]\n",
    "    shortest_id = quotes.index(shortest_text)\n",
    "    longest_id = quotes.index(longest_text)\n",
    "    \n",
    "    return_dict['shortest_id'] = shortest_id\n",
    "    return_dict['shortest_len'] = min(lengths)\n",
    "    return_dict['shortest_text'] = shortest_text\n",
    "    \n",
    "    return_dict['longest_id'] = longest_id\n",
    "    return_dict['longest_len'] = max(lengths)\n",
    "    return_dict['longest_text'] = longest_text\n",
    "    \n",
    "    return return_dict"
   ]
  },
  {
   "cell_type": "code",
   "execution_count": null,
   "metadata": {},
   "outputs": [
    {
     "name": "stdout",
     "output_type": "stream",
     "text": [
      "\n",
      "chars = '寶玉忙笑道：「好妹妹，你拿出來我瞧瞧。」寶琴笑道：「在南京收著呢，此時那裡去取來？」寶玉聽了，大失所望，便說：「沒福得見這世面。」黛玉笑拉寶琴道：「你別哄我們。我知道你這一來，你的這些東西未必放在家裡，自然都是要帶了來的，這會子又扯謊說沒帶來。他們雖信，我是不信的。」寶琴便紅了臉，低頭微笑不語。寶釵笑道：「偏這個顰兒慣說這些白話，把你就伶俐的。」黛玉道：「若帶了來，就給我們見識見識也罷了。」'\n",
      "quote_info = {'shortest_id': 2, 'shortest_len': 8, 'shortest_text': '沒福得見這世面。', 'longest_id': 3, 'longest_len': 59, 'longest_text': '你別哄我們。我知道你這一來，你的這些東西未必放在家裡，自然都是要帶了來的，這會子又扯謊說沒帶來。他們雖信，我是不信的。'}\n",
      "\n",
      "chars = '孔明曰：「將軍莫非因吾等不曾遠接，故而不樂？」回顧左右曰：「汝等緣何不先報？」雲長曰：「關某特來請死。」孔明曰：「莫非曹操不曾容道上來？」雲長曰：「是從那裏來。關某無能，因此被他走脫。」孔明曰：「拏得甚將士來？」雲長曰：「皆不曾拏。」孔明曰：「此是雲長想曹操昔日之恩，故意放了。但既有軍令狀在此，不得不按軍法。」遂叱武士推出斬之。'\n",
      "quote_info = {'shortest_id': 6, 'shortest_len': 5, 'shortest_text': '皆不曾拏。', 'longest_id': 7, 'longest_len': 33, 'longest_text': '此是雲長想曹操昔日之恩，故意放了。但既有軍令狀在此，不得不按軍法。'}\n",
      "\n",
      "\n",
      "\n",
      "\n",
      "\n"
     ]
    }
   ],
   "source": [
    "chars = '寶玉忙笑道：「好妹妹，你拿出來我瞧瞧。」寶琴笑道：「在南京收著呢，此時那裡去取來？」寶玉聽了，大失所望，便說：「沒福得見這世面。」黛玉笑拉寶琴道：「你別哄我們。我知道你這一來，你的這些東西未必放在家裡，自然都是要帶了來的，這會子又扯謊說沒帶來。他們雖信，我是不信的。」寶琴便紅了臉，低頭微笑不語。寶釵笑道：「偏這個顰兒慣說這些白話，把你就伶俐的。」黛玉道：「若帶了來，就給我們見識見識也罷了。」'\n",
    "print()\n",
    "print(f'{chars = }')\n",
    "quote_info = get_quote_info(chars)\n",
    "print(f'{quote_info = }')\n",
    "\n",
    "chars = '孔明曰：「將軍莫非因吾等不曾遠接，故而不樂？」回顧左右曰：「汝等緣何不先報？」雲長曰：「關某特來請死。」孔明曰：「莫非曹操不曾容道上來？」雲長曰：「是從那裏來。關某無能，因此被他走脫。」孔明曰：「拏得甚將士來？」雲長曰：「皆不曾拏。」孔明曰：「此是雲長想曹操昔日之恩，故意放了。但既有軍令狀在此，不得不按軍法。」遂叱武士推出斬之。'\n",
    "print()\n",
    "print(f'{chars = }')\n",
    "quote_info = get_quote_info(chars)\n",
    "print(f'{quote_info = }')\n",
    "\n",
    "print()\n",
    "print()\n",
    "print()\n",
    "print()\n",
    "print()"
   ]
  },
  {
   "cell_type": "code",
   "execution_count": null,
   "metadata": {},
   "outputs": [],
   "source": [
    "import psycopg2\n",
    "conn = psycopg2.connect(database=\"test\", user = \"postgres\", password = \"123456\", host = \"127.0.0.1\", port = \"5432\")\n",
    "\n",
    "cur = conn.cursor()\n",
    "cur.execute(\"INSERT INTO test.college.students values (7, 'David') ;\")\n",
    "conn.commit()\n",
    "conn.close()"
   ]
  },
  {
   "cell_type": "code",
   "execution_count": null,
   "metadata": {},
   "outputs": [
    {
     "name": "stdout",
     "output_type": "stream",
     "text": [
      "{'status': 'OK'}\n"
     ]
    }
   ],
   "source": [
    "def func(chars: str) -> dict | None:\n",
    "    if chars.startswith('a'):\n",
    "        return {'status': 'OK'}\n",
    "    else: \n",
    "        return None\n",
    "    \n",
    "print(func('abc'))"
   ]
  },
  {
   "cell_type": "code",
   "execution_count": null,
   "metadata": {},
   "outputs": [
    {
     "data": {
      "text/plain": [
       "'65279'"
      ]
     },
     "execution_count": 6,
     "metadata": {},
     "output_type": "execute_result"
    },
    {
     "data": {
      "text/plain": [
       "'41'"
      ]
     },
     "execution_count": 6,
     "metadata": {},
     "output_type": "execute_result"
    }
   ],
   "source": [
    "lst = ['41', '123', '65279', '36', '4126', 'asr6v']\n",
    "max(lst, key=len)\n",
    "min(lsbt, key=len)"
   ]
  },
  {
   "cell_type": "code",
   "execution_count": null,
   "metadata": {},
   "outputs": [
    {
     "name": "stdout",
     "output_type": "stream",
     "text": [
      "\n",
      "source = \"In the end, it's not the years in your life that count. It's the life in your years.\"\n",
      "first_last(source, 20) = \"In the end, it's not life in your years.\"\n",
      "\n",
      "source = ['天地', '玄黃', '宇宙', '洪荒', '日月', '盈昃', '辰宿', '列張']\n",
      "first_last(source, 5) = ['天地', '玄黃', '宇宙', '洪荒', '日月', '洪荒', '日月', '盈昃', '辰宿', '列張']\n",
      "\n",
      "source = ('Amy', 'Ben', 'Coy', 'Dow', 'Ell', 'Fox', 'Gay', 'Huy', 'Ivy', 'Jay', 'Kim', 'Lee', 'Mat', 'Noe', 'Obe', 'Pat', 'Qis', 'Rex', 'Sim', 'Tim', 'Ugh', 'Van', 'Wes', 'Xeo', 'Yee', 'Zev')\n",
      "first_last(source, 6) = ('Amy', 'Ben', 'Coy', 'Dow', 'Ell', 'Fox', 'Ugh', 'Van', 'Wes', 'Xeo', 'Yee', 'Zev')\n",
      "\n"
     ]
    }
   ],
   "source": [
    "def first_last(source: str | list | tuple, count: int) -> str | list | tuple:\n",
    "    return source[:count] + source[-count:]\n",
    "\n",
    "print()\n",
    "source = \"In the end, it's not the years in your life that count. It's the life in your years.\"\n",
    "print(f'{source = }')  # source是str，first_last()的傳回值也要是str。\n",
    "print(f'{first_last(source, 20) = }')\n",
    "print()\n",
    "source = ['天地', '玄黃', '宇宙', '洪荒', '日月', '盈昃', '辰宿', '列張']\n",
    "print(f'{source = }')  # source是list，first_last()的傳回值也要是list。\n",
    "print(f'{first_last(source, 5) = }')\n",
    "print()\n",
    "source = ('Amy', 'Ben', 'Coy', 'Dow', 'Ell', 'Fox', 'Gay', 'Huy', 'Ivy', 'Jay', 'Kim', 'Lee', 'Mat', 'Noe', 'Obe', 'Pat', 'Qis', 'Rex', 'Sim', 'Tim', 'Ugh', 'Van', 'Wes', 'Xeo', 'Yee', 'Zev')\n",
    "print(f'{source = }')  # source是tuple，first_last()的傳回值也要是tuple。\n",
    "print(f'{first_last(source, 6) = }')\n",
    "print()"
   ]
  },
  {
   "cell_type": "code",
   "execution_count": null,
   "metadata": {},
   "outputs": [
    {
     "name": "stdout",
     "output_type": "stream",
     "text": [
      "\n",
      "source_str = code        \n",
      "pig_latin(source_str, \"man\", \"Snap\", \"Wendy\") = 'odecWendy'\n",
      "\n",
      "source_str = eat         \n",
      "pig_latin(source_str, tail2=\"fish\", tail1=\"meat\") = 'eatmeat'\n",
      "\n",
      "source_str = python      \n",
      "pig_latin(source_str, chars=\"pointer\") = 'pythonway'\n",
      "\n",
      "source_str = 'computer'\n",
      "pig_latin(source_str=source_str) = 'omputercay'\n",
      "\n"
     ]
    }
   ],
   "source": [
    "def pig_latin(source_str: str, chars: str = 'aeiou', tail1: str = 'way', tail2: str = 'ay') -> str:\n",
    "    if source_str[0] in chars:\n",
    "        return_str = source_str + tail1\n",
    "    else:\n",
    "        return_str = source_str[1:] + source_str[0] + tail2\n",
    "    return return_str\n",
    "\n",
    "print()\n",
    "source_str = 'code'\n",
    "print(f'{source_str = :12}')  \n",
    "print(f'{pig_latin(source_str, \"man\", \"Snap\", \"Wendy\") = }')\n",
    "print()\n",
    "source_str = 'eat'\n",
    "print(f'{source_str = :12}')\n",
    "print(f'{pig_latin(source_str, tail2=\"fish\", tail1=\"meat\") = }')\n",
    "print()\n",
    "source_str = 'python'\n",
    "print(f'{source_str = :12}')  \n",
    "print(f'{pig_latin(source_str, chars=\"pointer\") = }')\n",
    "print()\n",
    "source_str = 'computer'\n",
    "print(f'{source_str = }')  \n",
    "print(f'{pig_latin(source_str=source_str) = }')\n",
    "print()       "
   ]
  },
  {
   "cell_type": "code",
   "execution_count": null,
   "metadata": {},
   "outputs": [
    {
     "name": "stdout",
     "output_type": "stream",
     "text": [
      "\n",
      "get_lines('./quotes_raw.txt', './quotes_out1.txt', 45, 44) = 0\n",
      "get_lines('./quotes_raw.txt', './quotes_out2.txt', 89, 89) = 11\n",
      "get_lines('./quotes_raw.txt', './quotes_out3.txt', 257, 258) = 37\n",
      "get_lines('./quotes_raw.txt', './quotes_out4.txt', 256, 309) = 2476\n",
      "get_lines('./quotes_raw.txt', './quotes_out5.txt', 241, 633) = 15796\n",
      "get_lines('./quotes_raw.txt', './quotes_out6.txt', 600, 700) = 0\n",
      "\n"
     ]
    }
   ],
   "source": [
    "def get_lines(in_file: str, out_file: str, start: int = 1, end: int = 10) -> int:\n",
    "    with open(in_file, 'r') as in_f:\n",
    "        lines = in_f.readlines()\n",
    "        \n",
    "    selected_lines = ''.join(lines[start - 1: end])        \n",
    "    with open(out_file, 'w') as out_f:\n",
    "        count = out_f.write(selected_lines)\n",
    "        \n",
    "    return count\n",
    " \n",
    "print()    \n",
    "print(f\"{get_lines('./quotes_raw.txt', './quotes_out1.txt', 45, 44) = }\")\n",
    "print(f\"{get_lines('./quotes_raw.txt', './quotes_out2.txt', 89, 89) = }\")\n",
    "print(f\"{get_lines('./quotes_raw.txt', './quotes_out3.txt', 257, 258) = }\")\n",
    "print(f\"{get_lines('./quotes_raw.txt', './quotes_out4.txt', 256, 309) = }\")\n",
    "print(f\"{get_lines('./quotes_raw.txt', './quotes_out5.txt', 241, 633) = }\")\n",
    "print(f\"{get_lines('./quotes_raw.txt', './quotes_out6.txt', 600, 700) = }\")\n",
    "print()"
   ]
  },
  {
   "cell_type": "code",
   "execution_count": null,
   "metadata": {},
   "outputs": [
    {
     "data": {
      "text/plain": [
       "25574"
      ]
     },
     "execution_count": 70,
     "metadata": {},
     "output_type": "execute_result"
    }
   ],
   "source": [
    "with open('./quotes.txt', 'r') as f:\n",
    "    lines = ''.join(set(f.readlines()))\n",
    "    \n",
    "with open('./quotes1.txt', 'w') as f:\n",
    "    f.write(lines)\n"
   ]
  },
  {
   "cell_type": "code",
   "execution_count": 38,
   "metadata": {},
   "outputs": [
    {
     "name": "stdout",
     "output_type": "stream",
     "text": [
      "\n",
      "{'id': {0: 1, 1: 2, 2: 3, 3: 4, 4: 5, 5: 6, 6: 7, 7: 8, 8: 9, 9: 10}, ' breed': {0: ' ceder', 1: ' loquat', 2: ' maple', 3: ' oak', 4: ' willow', 5: ' poplar', 6: ' elm', 7: ' birch', 8: ' acacia', 9: ' hemlock'}, ' age': {0: 1056, 1: 27, 2: 403, 3: 633, 4: 295, 5: 18, 6: 280, 7: 87, 8: 535, 9: 900}, ' height': {0: 41, 1: 9, 2: 56, 3: 21, 4: 14, 5: 51, 6: 25, 7: 17, 8: 6, 9: 34}, ' location': {0: ' A327', 1: ' H406', 2: ' A505', 3: ' X329', 4: ' C443', 5: ' E318', 6: ' P072', 7: ' X005', 8: ' F985', 9: ' K896'}}\n",
      "\n"
     ]
    }
   ],
   "source": [
    "from pprint import pprint\n",
    "import pandas as pd\n",
    "\n",
    "# def read_tree(csv_file):\n",
    "#     df = pd.read_csv(csv_file, sep=', ')\n",
    "#     return df.to_dict()\n",
    "\n",
    "def read_tree(csv_file):\n",
    "    return pd.read_csv(csv_file, sep=', ').to_dict()\n",
    "\n",
    "\n",
    "trees = read_tree('./tree_info.csv')\n",
    "print()\n",
    "print(trees)\n",
    "print()"
   ]
  },
  {
   "cell_type": "code",
   "execution_count": 34,
   "metadata": {},
   "outputs": [
    {
     "data": {
      "text/plain": [
       "{'a': 'aa', 1: False, 3.14: [2, 5], (): []}"
      ]
     },
     "execution_count": 34,
     "metadata": {},
     "output_type": "execute_result"
    },
    {
     "data": {
      "text/plain": [
       "{'a': 'aa', 1: False, (): []}"
      ]
     },
     "execution_count": 34,
     "metadata": {},
     "output_type": "execute_result"
    },
    {
     "data": {
      "text/plain": [
       "[]"
      ]
     },
     "execution_count": 34,
     "metadata": {},
     "output_type": "execute_result"
    },
    {
     "data": {
      "text/plain": [
       "{'a': 'aa', 1: False}"
      ]
     },
     "execution_count": 34,
     "metadata": {},
     "output_type": "execute_result"
    }
   ],
   "source": [
    "d = {'a': 'aa', 1: 9, 3.14: [2, 5], True: False, (): [],}\n",
    "d\n",
    "del d[3.14]\n",
    "d\n",
    "d.pop(())\n",
    "d"
   ]
  },
  {
   "cell_type": "code",
   "execution_count": null,
   "metadata": {},
   "outputs": [
    {
     "data": {
      "text/plain": [
       "10"
      ]
     },
     "execution_count": 1,
     "metadata": {},
     "output_type": "execute_result"
    }
   ],
   "source": [
    "sum(range(5))"
   ]
  },
  {
   "cell_type": "code",
   "execution_count": null,
   "metadata": {},
   "outputs": [
    {
     "data": {
      "text/plain": [
       "'Alex'"
      ]
     },
     "metadata": {},
     "output_type": "display_data"
    },
    {
     "data": {
      "text/plain": [
       "\"name = 'Alex'\""
      ]
     },
     "metadata": {},
     "output_type": "display_data"
    }
   ],
   "source": [
    "display('Alex')\n",
    "name = 'Alex'\n",
    "display(f'{name = }')"
   ]
  },
  {
   "cell_type": "code",
   "execution_count": null,
   "metadata": {},
   "outputs": [
    {
     "name": "stdout",
     "output_type": "stream",
     "text": [
      "\n",
      "find_max_occurrence(source=source, target='0') = 3\n",
      "find_max_occurrence(source=source, target='1') = 2\n",
      "find_max_occurrence(source=source, target='2') = 4\n",
      "find_max_occurrence(source=source, target='m') = 1\n",
      "find_max_occurrence(source=source, target='4') = 0\n",
      "find_max_occurrence(source=source, target='A') = 1\n",
      "find_max_occurrence(source=source, target='p') = 0\n"
     ]
    }
   ],
   "source": [
    "import re\n",
    "\n",
    "def find_max_occurrence(source: str, target: str) -> int:\n",
    "    return 0 if not (match_len := [match.group() for match in re.finditer(pattern=target + '+', string=source)]) else len(max(match_len, key=len))\n",
    "\n",
    "print()\n",
    "source = '01100A2222012A000122m'\n",
    "print(f\"{find_max_occurrence(source=source, target='0') = }\")\n",
    "print(f\"{find_max_occurrence(source=source, target='1') = }\")\n",
    "print(f\"{find_max_occurrence(source=source, target='2') = }\")\n",
    "print(f\"{find_max_occurrence(source=source, target='m') = }\")\n",
    "print(f\"{find_max_occurrence(source=source, target='4') = }\")\n",
    "print(f\"{find_max_occurrence(source=source, target='A') = }\")\n",
    "print(f\"{find_max_occurrence(source=source, target='p') = }\")"
   ]
  },
  {
   "cell_type": "code",
   "execution_count": null,
   "metadata": {},
   "outputs": [],
   "source": []
  },
  {
   "cell_type": "code",
   "execution_count": null,
   "metadata": {},
   "outputs": [
    {
     "name": "stdout",
     "output_type": "stream",
     "text": [
      " type(matches) = <class 'callable_iterator'>\n"
     ]
    }
   ],
   "source": [
    "# coding=utf8\n",
    "# the above tag defines encoding for this document and is for Python 2.x compatibility\n",
    "\n",
    "import re\n",
    "\n",
    "regex = r\"0+\"\n",
    "\n",
    "test_str = \"01100222201250001223\"\n",
    "\n",
    "matches = re.finditer(regex, test_str, re.MULTILINE)\n",
    "print(f' {type(matches) = }')\n",
    "# for matchNum, match in enumerate(matches, start=1):\n",
    "    \n",
    "#     print (\"Match {matchNum} was found at {start}-{end}: {match}\".format(matchNum = matchNum, start = match.start(), end = match.end(), match = match.group()))\n",
    "    \n",
    "#     for groupNum in range(0, len(match.groups())):\n",
    "#         groupNum = groupNum + 1\n",
    "        \n",
    "#         print (\"Group {groupNum} found at {start}-{end}: {group}\".format(groupNum = groupNum, start = match.start(groupNum), end = match.end(groupNum), group = match.group(groupNum)))\n",
    "\n",
    "# # Note: for Python 2.7 compatibility, use ur\"\" to prefix the regex and u\"\" to prefix the test string and substitution.\n"
   ]
  },
  {
   "cell_type": "code",
   "execution_count": null,
   "metadata": {},
   "outputs": [],
   "source": [
    "# in_file = open('./quotes.txt', 'r', encoding='utf-8')\n",
    "# ...\n",
    "# in_file.close()\n",
    "\n",
    "# ---------\n",
    "with open('./quotes.txt', 'r', encoding='utf-8') as in_file:\n",
    "    text = in_file.read()\n",
    "    \n",
    "print(text)    \n",
    "    "
   ]
  },
  {
   "cell_type": "code",
   "execution_count": null,
   "metadata": {},
   "outputs": [
    {
     "name": "stdout",
     "output_type": "stream",
     "text": [
      "\n",
      "is_palindrome(13231) = True\n",
      "is_palindrome(12345678) = False\n",
      "is_palindrome(508805) = True\n",
      "is_palindrome(6666) = True\n",
      "is_palindrome(10987079801) = False\n",
      "is_palindrome(0) = True\n",
      "is_palindrome(10) = False\n",
      "\n"
     ]
    }
   ],
   "source": [
    "def is_palindrome(number: int) -> bool:\n",
    "    chars = str(number)\n",
    "    half_len = len(chars) // 2\n",
    "    return True if chars[:half_len] == chars[:-half_len - 1:-1] else False\n",
    "\n",
    "print()\n",
    "print(f'{is_palindrome(13231) = }')\n",
    "print(f'{is_palindrome(12345678) = }')\n",
    "print(f'{is_palindrome(508805) = }')\n",
    "print(f'{is_palindrome(6666) = }')\n",
    "print(f'{is_palindrome(10987079801) = }')\n",
    "print(f'{is_palindrome(0) = }')\n",
    "print(f'{is_palindrome(10) = }')\n",
    "print()"
   ]
  },
  {
   "cell_type": "code",
   "execution_count": null,
   "metadata": {},
   "outputs": [
    {
     "name": "stdout",
     "output_type": "stream",
     "text": [
      "\n",
      "is_in_order('0123456789', '245768') = False\n",
      "is_in_order('0123456789', '245789') = True\n",
      "is_in_order('abcdefghijklmnopqrstuvwxyz', 'rstuvvwxyz') = False\n",
      "is_in_order('abcdefghijklmnopqrstuvwxyz', 'cdghijlptw') = True\n",
      "is_in_order('甲乙丙丁戊己庚辛壬癸', '戊己寅辛') = False\n",
      "is_in_order('甲乙丙丁戊己庚辛壬癸', '甲丁戊壬') = True\n",
      "is_in_order('鼠牛虎兔龍蛇馬羊猴雞狗豬', '') = False\n",
      "is_in_order('鼠牛虎兔龍蛇馬羊猴雞狗豬', '牛龍羊雞豬') = True\n",
      "is_in_order('ABΓΔEZηΘIKΛMNΞOπPΣτΥΦXΨΩ', 'OπτPΣΥΦΨΩ') = False\n",
      "is_in_order('ABΓΔEZηΘIKΛMNΞOπPΣτΥΦXΨΩ', 'Θ') = True\n",
      "\n"
     ]
    }
   ],
   "source": [
    "def is_in_order(sequence: str, test_str: str) -> bool:\n",
    "    \n",
    "    in_order = True if test_str else False\n",
    "    previous_index = -1\n",
    "    for char in test_str:\n",
    "        this_index = sequence.find(char)\n",
    "        if this_index == -1:\n",
    "            in_order = False\n",
    "            break\n",
    "        \n",
    "        if this_index <= previous_index:\n",
    "            in_order = False\n",
    "            break\n",
    "        else:\n",
    "            previous_index = this_index            \n",
    "        \n",
    "    return in_order\n",
    "\n",
    "print()\n",
    "print(f\"{is_in_order('0123456789', '245768') = }\")\n",
    "print(f\"{is_in_order('0123456789', '245789') = }\")\n",
    "print(f\"{is_in_order('abcdefghijklmnopqrstuvwxyz', 'rstuvvwxyz') = }\")\n",
    "print(f\"{is_in_order('abcdefghijklmnopqrstuvwxyz', 'cdghijlptw') = }\")\n",
    "print(f\"{is_in_order('甲乙丙丁戊己庚辛壬癸', '戊己寅辛') = }\")\n",
    "print(f\"{is_in_order('甲乙丙丁戊己庚辛壬癸', '甲丁戊壬') = }\")\n",
    "print(f\"{is_in_order('鼠牛虎兔龍蛇馬羊猴雞狗豬', '') = }\")\n",
    "print(f\"{is_in_order('鼠牛虎兔龍蛇馬羊猴雞狗豬', '牛龍羊雞豬') = }\")\n",
    "print(f\"{is_in_order('ABΓΔEZηΘIKΛMNΞOπPΣτΥΦXΨΩ', 'OπτPΣΥΦΨΩ') = }\")\n",
    "print(f\"{is_in_order('ABΓΔEZηΘIKΛMNΞOπPΣτΥΦXΨΩ', 'Θ') = }\")\n",
    "        \n",
    "print()"
   ]
  },
  {
   "cell_type": "code",
   "execution_count": null,
   "metadata": {},
   "outputs": [],
   "source": [
    "def is_prime(number: int) -> bool:\n",
    "    prime = True\n",
    "    if number <= 1:\n",
    "        prime = False\n",
    "    else:\n",
    "        for i in range(2, int(number ** .5 + 1)): \n",
    "            if number % i == 0:\n",
    "                prime = False\n",
    "                break\n",
    "    return prime"
   ]
  },
  {
   "cell_type": "code",
   "execution_count": null,
   "metadata": {},
   "outputs": [
    {
     "name": "stdout",
     "output_type": "stream",
     "text": [
      "\n",
      "prime_factors(-10) = ()\n",
      "prime_factors(1) = ()\n",
      "prime_factors(12) = (2, 3)\n",
      "prime_factors(109) = (109,)\n",
      "prime_factors(1128) = (2, 3, 47)\n",
      "prime_factors(2023) = (7, 17)\n",
      "prime_factors(53751) = (3, 19, 23, 41)\n",
      "\n"
     ]
    }
   ],
   "source": [
    "def prime_factors(number: int) -> tuple:\n",
    "    return tuple([prime for prime in \n",
    "            [i for i in range(2, number + 1) if is_prime(i)] \n",
    "            if number % prime == 0])\n",
    "\n",
    "print() \n",
    "print(f'{prime_factors(-10) = }')\n",
    "print(f'{prime_factors(1) = }')\n",
    "print(f'{prime_factors(12) = }')\n",
    "print(f'{prime_factors(109) = }')\n",
    "print(f'{prime_factors(1128) = }')\n",
    "print(f'{prime_factors(2023) = }')\n",
    "print(f'{prime_factors(53751) = }')\n",
    "print()"
   ]
  },
  {
   "cell_type": "code",
   "execution_count": null,
   "metadata": {},
   "outputs": [
    {
     "name": "stdout",
     "output_type": "stream",
     "text": [
      "find_key(d, 'bmi', 21.6) = None\n"
     ]
    },
    {
     "data": {
      "text/plain": [
       "{'name': 'Alex', 'age': 39, 'bmi': 21.6}"
      ]
     },
     "execution_count": 106,
     "metadata": {},
     "output_type": "execute_result"
    }
   ],
   "source": [
    "def find_key(source: dict, key: str | int, value: object) -> str | int | None:\n",
    "    \n",
    "    if source.get(key) is None:\n",
    "        ...\n",
    "    source[key] = value\n",
    "    return None\n",
    "\n",
    "d = {'name': 'Alex', 'age': 39}\n",
    "print(f\"{find_key(d, 'bmi', 21.6) = }\")\n",
    "d\n"
   ]
  },
  {
   "cell_type": "code",
   "execution_count": 9,
   "metadata": {},
   "outputs": [
    {
     "name": "stdout",
     "output_type": "stream",
     "text": [
      "sum_sub([-1, 2, 3, 4]) = -4\n",
      "sum_sub((1, 2, -3, 4, 5)) = -3\n",
      "sum_sub([1, 3, -5]) = -1\n",
      "sum_sub((2, -4, -6, 0)) = 8\n",
      "sum_sub([99, -10, 10]) = 99\n",
      "sum_sub() = 0\n"
     ]
    }
   ],
   "source": [
    "def sum_sub(int_container: list | tuple = []) -> int:\n",
    "    return_value = 0\n",
    "    for number in int_container:\n",
    "        if number % 2 == 1:   # 奇\n",
    "            return_value += number\n",
    "        else:\n",
    "            return_value -= number\n",
    "    return return_value\n",
    "\n",
    "# print()\n",
    "print(f'{sum_sub([-1, 2, 3, 4]) = }')\n",
    "print(f'{sum_sub((1, 2, -3, 4, 5)) = }')\n",
    "print(f'{sum_sub([1, 3, -5]) = }')\n",
    "print(f'{sum_sub((2, -4, -6, 0)) = }')\n",
    "print(f'{sum_sub([99, -10, 10]) = }')\n",
    "print(f'{sum_sub() = }')   # 採用參數的預設值。\n",
    "# print()"
   ]
  },
  {
   "cell_type": "code",
   "execution_count": null,
   "metadata": {},
   "outputs": [
    {
     "name": "stdout",
     "output_type": "stream",
     "text": [
      "\n",
      "repeat_me(quote, counts=occurrences) = '我ccoooddddeeee故故故我我在'\n",
      "repeat_me(counts=times, source=source) = '我我故故我oooooooeeeee'\n",
      "repeat_me(pl := 'Python', counts=[1 for _ in range(len(pl))]) = 'Python'\n",
      "repeat_me(source='窈窕淑女，君子好逑。') = '窈窕淑女，君子好逑。'\n",
      "source和counts兩個參數的長度應相等。\n",
      "\n"
     ]
    }
   ],
   "source": [
    "def repeat_me(source: str, counts: tuple | list = None) -> str:\n",
    "    if counts == None:\n",
    "        counts = [1 for _ in range(len(source))]\n",
    "    if len(source) != len(counts):\n",
    "        raise Exception(\"source和counts兩個參數的長度應相等。\")\n",
    "    \n",
    "    new_str = ''\n",
    "    for index, count in enumerate(counts):\n",
    "        # if count \n",
    "        if count < 0:\n",
    "            raise Exception('counts的元素不可以為負。')\n",
    "        new_str += source[index]*count\n",
    "    return new_str\n",
    "\n",
    "print()\n",
    "try:\n",
    "    quote = '我code故我在'; occurrences = (1, 2, 3, 4, 4, 3, 2, 1)\n",
    "    print(f\"{repeat_me(quote, counts=occurrences) = }\")\n",
    "    source = '我在故我code'; times = [2, 0, 2, 1, 0, 7, 0, 5]\n",
    "    print(f\"{repeat_me(counts=times, source=source) = }\")\n",
    "    print(f\"{repeat_me(pl := 'Python', counts=[1 for _ in range(len(pl))]) = }\")\n",
    "    print(f\"{repeat_me(source='窈窕淑女，君子好逑。') = }\")   # 沒有傳入counts。\n",
    "    print(f\"{repeat_me('Hello, World.', (0, 1, 2, 4, 0, 3)) = }\")\n",
    "    print(f\"{repeat_me('van Rossum', [0, 1, 2, 3, 4, 5, 6, 7, -8, 9]) = }\")\n",
    "except Exception as e:\n",
    "    print(e)\n",
    "finally:    \n",
    "    print()"
   ]
  },
  {
   "cell_type": "code",
   "execution_count": 113,
   "metadata": {},
   "outputs": [
    {
     "name": "stdout",
     "output_type": "stream",
     "text": [
      "\n",
      "\n",
      "．原patient'：{'name': 'Alex', 'height': 169, 'weight': 65.3, 'bp': [150, 63, 75], 'vital_signs': {'temp': 37.2, 'hr': 66, 'rr': 12}}\n",
      "．所有的keys: ['name', 'height', 'weight', 'bp', 'vital_signs']\n",
      "．所有的values: ['Alex', 169, 65.3, [150, 63, 75], {'temp': 37.2, 'hr': 66, 'rr': 12}]\n",
      "．所有的pairs: [('name', 'Alex'), ('height', 169), ('weight', 65.3), ('bp', [150, 63, 75]), ('vital_signs', {'temp': 37.2, 'hr': 66, 'rr': 12})]\n",
      "\n",
      "．搜尋'bmi'：None\n",
      "．搜尋'bp'：[150, 63, 75]\n",
      "\n",
      "．修改'weight'的值：{'name': 'Alex', 'height': 169, 'weight': 64.2, 'bp': [150, 63, 75], 'vital_signs': {'temp': 37.2, 'hr': 66, 'rr': 12}}\n",
      "\n",
      "．新增'bmi'：{'name': 'Alex', 'height': 169, 'weight': 64.2, 'bp': [150, 63, 75], 'vital_signs': {'temp': 37.2, 'hr': 66, 'rr': 12}, 'bmi': 23.1}\n",
      "\n",
      "．刪除'vital_signs'：{'name': 'Alex', 'height': 169, 'weight': 64.2, 'bp': [150, 63, 75], 'bmi': 23.1}\n",
      "\n",
      "\n"
     ]
    }
   ],
   "source": [
    "# dict operations\n",
    "patient = {'name': 'Alex', 'height': 169, 'weight': 65.3, 'bp': [150, 63, 75], 'vital_signs': {'temp': 37.2, 'hr': 66, 'rr': 12}}\n",
    "\n",
    "print()\n",
    "print()\n",
    "print(f\"．原patient'：{patient}\")\n",
    "# 所有的keys。\n",
    "print(f'．所有的keys: {[key for key in patient]}')\n",
    "# 所有的values。\n",
    "print(f'．所有的values: {[value for value in patient.values()]}')\n",
    "# 所有的key-value pairs。\n",
    "print(f'．所有的pairs: {[(key, value) for key, value in patient.items()]}')\n",
    "print()\n",
    "# 搜尋某個key。\n",
    "print(f\"．搜尋'bmi'：{patient.get('bmi')}\")\n",
    "print(f\"．搜尋'bp'：{patient.get('bp')}\")\n",
    "print()\n",
    "# 修改某個bp的值。\n",
    "patient['weight'] = 64.2\n",
    "print(f\"．修改'weight'的值：{patient}\")\n",
    "print()\n",
    "# 新增'bmi'。\n",
    "patient['bmi'] = 23.1\n",
    "print(f\"．新增'bmi'：{patient}\")\n",
    "print()\n",
    "# 刪除'vital_signs'。\n",
    "del patient['vital_signs']\n",
    "print(f\"．刪除'vital_signs'：{patient}\")\n",
    "print()\n",
    "print()"
   ]
  },
  {
   "cell_type": "code",
   "execution_count": 92,
   "metadata": {},
   "outputs": [
    {
     "name": "stdout",
     "output_type": "stream",
     "text": [
      "\n",
      "\n",
      "   A藥盒的藥丸：B, N, V, U, M, C, A\n",
      "   B藥盒的藥丸：K, N, O, U, C, D, E, Z, P\n",
      "1. A藥盒的藥丸數：7\n",
      "2. B藥盒的藥丸數：9\n",
      "3. 兩盒都有的藥丸：C, U, N\n",
      "4. 全部不重複的藥丸：B, K, C, A, D, E, Z, P, N, O, V, U, M\n",
      "5. A盒有而B盒沒有的藥丸：B, A, M, V\n",
      "6. B盒有而A盒沒有的藥丸：K, O, D, E, Z, P\n",
      "7. 扣除兩盒都有的藥丸：B, K, O, A, V, D, E, M, Z, P\n",
      "\n",
      "\n"
     ]
    }
   ],
   "source": [
    "# 藥盒中的藥丸\n",
    "box_a = {'A', 'B', 'C', 'M', 'N', 'U', 'V'}\n",
    "box_b = {'U', 'P', 'O', 'N', 'D', 'Z', 'C', 'E', 'K'}\n",
    "\n",
    "print()\n",
    "print(f\"   A藥盒的藥丸：{', '.join(box_a)}\")\n",
    "print(f\"   B藥盒的藥丸：{', '.join(box_b)}\")\n",
    "print(f\"1. A藥盒的藥丸數：{len(box_a)}\")\n",
    "print(f\"2. B藥盒的藥丸數：{len(box_b)}\")\n",
    "print(f\"3. 兩盒都有的藥丸：{', '.join(box_a & box_b)}\")\n",
    "print(f\"4. 全部不重複的藥丸：{', '.join(box_a | box_b)}\")\n",
    "print(f\"5. A盒有而B盒沒有的藥丸：{', '.join(box_a - box_b)}\")\n",
    "print(f\"6. B盒有而A盒沒有的藥丸：{', '.join(box_b - box_a)}\")\n",
    "print(f\"7. 扣除兩盒都有的藥丸：{', '.join(box_a ^ box_b)}\")\n",
    "print()"
   ]
  },
  {
   "cell_type": "code",
   "execution_count": 72,
   "metadata": {},
   "outputs": [
    {
     "name": "stdout",
     "output_type": "stream",
     "text": [
      "\n",
      "id(source               ) = 140266930171968\n",
      "id(order_me(source)     ) = 140266930983232\n",
      "id(order_me(source, '1')) = 140266931708608\n",
      "id(order_me(source, '2')) = 140266931710784\n",
      "id(order_me(source, '3')) = 140266931708608\n",
      "id(order_me(source, '4')) = 140266931710784\n",
      "id(order_me(source, '5')) = 140266931710272\n",
      "order參數只能接受'0', '1', '2', '3', '4', '5'。\n",
      "\n"
     ]
    }
   ],
   "source": [
    "def order_me(source: tuple | list, order: str = '0') -> list:\n",
    "    import copy, random\n",
    "    return_list = []\n",
    "    match order:\n",
    "        case '0':   # 原封不動\n",
    "            return_list = list(copy.copy(source))\n",
    "        case '1':   # 奇先偶後\n",
    "            return_list = [item for item in source if item % 2 != 0] + [item for item in source if item % 2 == 0]\n",
    "        case '2':   # 偶先奇後\n",
    "            return_list = [item for item in source if item % 2 == 0] + [item for item in source if item % 2 != 0]\n",
    "        case '3':   # 升冪排序\n",
    "            return_list = sorted(source, reverse=False)\n",
    "        case '4':   # 降冪排序\n",
    "            return_list = sorted(source, reverse=True)\n",
    "        case '5':   # 隨機排列\n",
    "            return_list = random.sample(source, len(source))\n",
    "        case _:     # 觸發異常\n",
    "            raise ValueError(\"order參數只能接受'0', '1', '2', '3', '4', '5'。\")\n",
    "    return return_list\n",
    "\n",
    "source = (3, -8, 2, 5, 3, 0, -1, 6, -4, 2, -7)\n",
    "print()\n",
    "try:\n",
    "    print(f\"{id(source               ) = }\")   # 原tuple \n",
    "    print(f\"{id(order_me(source)     ) = }\")   # 原封不動\n",
    "    print(f\"{id(order_me(source, '1')) = }\")   # 奇先偶後\n",
    "    print(f\"{id(order_me(source, '2')) = }\")   # 偶先奇後\n",
    "    print(f\"{id(order_me(source, '3')) = }\")   # 升冪排序\n",
    "    print(f\"{id(order_me(source, '4')) = }\")   # 降冪排序\n",
    "    print(f\"{id(order_me(source, '5')) = }\")   # 隨機排列\n",
    "    print(f\"{id(order_me(source, '6')) = }\")   # 觸發異常\n",
    "except Exception as e:\n",
    "    print(e) \n",
    "print()       "
   ]
  },
  {
   "cell_type": "code",
   "execution_count": 10,
   "metadata": {},
   "outputs": [
    {
     "name": "stdout",
     "output_type": "stream",
     "text": [
      "\n",
      "num = (2, 4, 6)\n",
      "accum_items(num) = [2, 6, 12]\n",
      "\n",
      "num = (5, 7, 9, -3.5)\n",
      "accum_items(num) = [5, 12, 21, 17.5]\n",
      "\n",
      "num = (4, 2.8, 0, -4.6, -7)\n",
      "accum_items(num) = [4, 6.8, 6.8, 2.2, -4.8]\n",
      "\n"
     ]
    }
   ],
   "source": [
    "def accum_items(nums: tuple | list) -> list:\n",
    "    square = 0\n",
    "    return [square := num + square for num in nums]\n",
    "\n",
    "nums = [(2, 4, 6), (5, 7, 9, -3.5), (4, 2.8, 0, -4.6, -7)]\n",
    "print()\n",
    "for num in nums:\n",
    "    print(f'{num = }')\n",
    "    print(f'{accum_items(num) = }\\n')"
   ]
  },
  {
   "cell_type": "code",
   "execution_count": 1,
   "metadata": {},
   "outputs": [
    {
     "name": "stdout",
     "output_type": "stream",
     "text": [
      "\n",
      "cut('ChatGPT', 4) = ['Chat', 'GPT']\n",
      "cut(('流', '星', '蝴', '蝶', '劍'), 2) = [('流', '星'), ('蝴', '蝶'), ('劍',)]\n",
      "cut(['天', '涯', '明', '月', '刀'], 2) = [['天', '涯'], ['明', '月'], ['刀']]\n",
      "cut([9, 8, 7, 6, 5, 4, 3, 2], 3) = [[9, 8, 7], [6, 5, 4], [3, 2]]\n",
      "cut((2.1, 3.6, 8.0, 5.3, -0.9)) = [(2.1,), (3.6,), (8.0,), (5.3,), (-0.9,)]\n",
      "cut(\"心臟肝臟脾臟肺臟腎臟\", 2) = ['心臟', '肝臟', '脾臟', '肺臟', '腎臟']\n",
      "\n"
     ]
    }
   ],
   "source": [
    "def cut(seq: str | list | tuple, size: int = 1) -> list:\n",
    "    return [seq[pos:pos + size] for pos in range(0, len(seq), size)]\n",
    "\n",
    "print()\n",
    "print(f\"{cut('ChatGPT', 4) = }\")\n",
    "print(f\"{cut(('流', '星', '蝴', '蝶', '劍'), 2) = }\")\n",
    "print(f\"{cut(['天', '涯', '明', '月', '刀'], 2) = }\")\n",
    "print(f'{cut([9, 8, 7, 6, 5, 4, 3, 2], 3) = }')\n",
    "print(f'{cut((2.1, 3.6, 8.0, 5.3, -0.9)) = }')\n",
    "print(f'{cut(\"心臟肝臟脾臟肺臟腎臟\", 2) = }')\n",
    "print()"
   ]
  },
  {
   "cell_type": "code",
   "execution_count": 12,
   "metadata": {},
   "outputs": [],
   "source": [
    "import random\n",
    "\n",
    "class patient():\n",
    "    basic_info = {\n",
    "        'results': [\n",
    "            {\n",
    "                'id': 1,\n",
    "                'icu_id': 'MICU-01',\n",
    "                'name': '王０明',\n",
    "                'gender': 'M',\n",
    "                'age': 90,\n",
    "            },\n",
    "            {\n",
    "                'id': 2,\n",
    "                'icu_id': 'MICU-01',\n",
    "                'name': '張簡０玲',\n",
    "                'gender': 'F',\n",
    "                'age': 49,\n",
    "            },     {\n",
    "                'id': 3,\n",
    "                'icu_id': 'MICU-03',\n",
    "                'name': '林０華',\n",
    "                'gender': 'M',\n",
    "                'age': 71,\n",
    "            },\n",
    "        ]\n",
    "    }\n",
    "\n",
    "    sepsis = [\n",
    "        {\n",
    "        'id': 1, \n",
    "        'prediction': 0.85, \n",
    "        'infection': 0.80, \n",
    "        }, \n",
    "        {\n",
    "        'id': 2, \n",
    "        'prediction': 0.93, \n",
    "        'infection': 0.86, \n",
    "        }, \n",
    "        {\n",
    "        'id': 3, \n",
    "        'prediction': 0.78, \n",
    "        'infection': 0.74, \n",
    "        }, \n",
    "    ]\n",
    "\n",
    "    culture = [\n",
    "        {\n",
    "        'id': 1, \n",
    "        'blood': {'order': 'V', 'report': '+'},\n",
    "        'sputum': {'order': 'V', 'report': ''},\n",
    "        'urine': {'order': 'V', 'report': '-'},\n",
    "        'others': {'order': '', 'report': ''},\n",
    "        }, \n",
    "        {\n",
    "        'id': 2, \n",
    "        'blood': {'order': '', 'report': ''},\n",
    "        'sputum': {'order': 'V', 'report': '-'},\n",
    "        'urine': {'order': 'V', 'report': ''},\n",
    "        'others': {'order': '', 'report': ''},\n",
    "        }, \n",
    "        {\n",
    "        'id': 3, \n",
    "        'blood': {'order': '', 'report': ''},\n",
    "        'sputum': {'order': 'V', 'report': '-'},\n",
    "        'urine': {'order': 'V', 'report': '+'},\n",
    "        'others': {'order': 'V', 'report': ''},\n",
    "        }, \n",
    "    ]\n",
    "\n",
    "    antibiotics = [\n",
    "        {\n",
    "        'id': 1, \n",
    "        'anti_1': 'anti_1-1',   # value?\n",
    "        'anti_2': 'anti_1-2', \n",
    "        'anti_3': 'anti_1-3', \n",
    "        }, \n",
    "        {\n",
    "        'id': 2, \n",
    "        'anti_1': 'anti_2-1', \n",
    "        'anti_2': 'anti_2-2', \n",
    "        'anti_3': 'anti_2-3', \n",
    "        }, \n",
    "        {\n",
    "        'id': 3, \n",
    "        'anti_1': 'anti_3-1', \n",
    "        'anti_2': 'anti_3-2', \n",
    "        'anti_3': 'anti_3-3', \n",
    "        }, \n",
    "    ]\n",
    "\n",
    "    vasopressors = [\n",
    "        {\n",
    "        'id': 1,\n",
    "        'vaso-1': 'vaso-1-1',\n",
    "        'vaso-2': 'vaso-1-2',\n",
    "        'vaso-3': 'vaso-1-3',\n",
    "        }, \n",
    "        {\n",
    "        'id': 2, \n",
    "        'vaso-1': 'vaso-2-1',\n",
    "        'vaso-2': 'vaso-2-2',\n",
    "        'vaso-3': 'vaso-2-3',\n",
    "        }, \n",
    "        {\n",
    "        'id': 3, \n",
    "        'vaso-1': 'vaso-3-1',\n",
    "        'vaso-2': 'vaso-3-2',\n",
    "        'vaso-3': 'vaso-3-3',\n",
    "        }, \n",
    "    ]\n",
    "\n",
    "    sofa = [\n",
    "        {\n",
    "        'id': 1,\n",
    "        'pao2': [random.randint(0, 4) for _ in range(5)],\n",
    "        'platelets': [random.randint(0, 4) for _ in range(5)],\n",
    "        'bilirubin': [random.randint(0, 4) for _ in range(5)],\n",
    "        'map': [random.randint(0, 4) for _ in range(5)],\n",
    "        'gcs': [random.randint(0, 4) for _ in range(5)],\n",
    "        'renal': [random.randint(0, 4) for _ in range(5)],\n",
    "        }, \n",
    "        {\n",
    "        'id': 2, \n",
    "        'pao2': [random.randint(0, 4) for _ in range(5)],\n",
    "        'platelets': [random.randint(0, 4) for _ in range(5)], \n",
    "        'bilirubin': [random.randint(0, 4) for _ in range(5)],\n",
    "        'map': [random.randint(0, 4) for _ in range(5)],\n",
    "        'gcs': [random.randint(0, 4) for _ in range(5)],\n",
    "        'renal': [random.randint(0, 4) for _ in range(5)],\n",
    "        }, \n",
    "        {\n",
    "        'id': 3, \n",
    "        'pao2': [random.randint(0, 4) for _ in range(5)],\n",
    "        'platelets': [random.randint(0, 4) for _ in range(5)],\n",
    "        'bilirubin': [random.randint(0, 4) for _ in range(5)],\n",
    "        'map': [random.randint(0, 4) for _ in range(5)],\n",
    "        'gcs': [random.randint(0, 4) for _ in range(5)],\n",
    "        'renal': [random.randint(0, 4) for _ in range(5)],\n",
    "        }, \n",
    "    ]\n",
    "\n",
    "    chart_sepsis = [\n",
    "        {\n",
    "        'id': 1,\n",
    "        'sepsis': [random.randint(0, 50) for _ in range(24)],     # how many items?\n",
    "        'infection': [random.randint(0, 50) for _ in range(24)],\n",
    "        'base_line': 0.8\n",
    "        }, \n",
    "        {\n",
    "        'id': 2, \n",
    "        'sepsis': [random.randint(0, 50) for _ in range(24)],\n",
    "        'infection': [random.randint(0, 50) for _ in range(24)],\n",
    "        }, \n",
    "        {\n",
    "        'id': 3, \n",
    "        'sepsis': [random.randint(0, 50) for _ in range(24)],\n",
    "        'infection': [random.randint(0, 50) for _ in range(24)],\n",
    "        }, \n",
    "    ]\n",
    "\n",
    "    chart_hr = [\n",
    "        {\n",
    "        'id': 1, \n",
    "        'hr': [random.randint(0, 50) for _ in range(24)],\n",
    "        }, \n",
    "        {\n",
    "        'id': 2,\n",
    "        'hr': [random.randint(0, 50) for _ in range(24)],\n",
    "        }, \n",
    "        {\n",
    "        'id': 3,\n",
    "        'hr': [random.randint(0, 50) for _ in range(24)],\n",
    "        }, \n",
    "    ]\n",
    "\n",
    "    chart_rr = [\n",
    "        {\n",
    "        'id': 1,\n",
    "        'rr': [random.randint(0, 50) for _ in range(24)],   # how many items?\n",
    "        }, \n",
    "        {\n",
    "        'id': 2,\n",
    "        'rr': [random.randint(0, 50) for _ in range(24)],\n",
    "        }, \n",
    "        {\n",
    "        'id': 3,\n",
    "        'rr': [random.randint(0, 50) for _ in range(24)],\n",
    "        }, \n",
    "    ]\n",
    "\n",
    "    chart_sbp = [\n",
    "        {\n",
    "        'id': 1,\n",
    "        'sbp': [random.randint(0, 50) for _ in range(24)],   # number of items?\n",
    "        }, \n",
    "        {\n",
    "        'id': 2,\n",
    "        'sbp': [random.randint(0, 50) for _ in range(24)],\n",
    "        }, \n",
    "        {\n",
    "        'id': 3,\n",
    "        'sbp': [random.randint(0, 50) for _ in range(24)],\n",
    "        }, \n",
    "    ]\n",
    "\n",
    "    chart_urine = [\n",
    "        {\n",
    "        'id': 1,\n",
    "        'urine': [random.randint(0, 50) for _ in range(24)],   # number of items?\n",
    "        'base_line': [random.randint(0, 50) for _ in range(24)],\n",
    "        }, \n",
    "        {\n",
    "        'id': 2, \n",
    "        'urine': [random.randint(0, 50) for _ in range(24)],   # number of items?\n",
    "        'base_line': [random.randint(0, 50) for _ in range(24)],\n",
    "        }, \n",
    "        {\n",
    "        'id': 3, \n",
    "        'urine': [random.randint(0, 50) for _ in range(24)],   # number of items?\n",
    "        'base_line': [random.randint(0, 50) for _ in range(24)],\n",
    "        }, \n",
    "    ]\n",
    "\n",
    "    vital_signs = [\n",
    "        {\n",
    "        'id': 1,\n",
    "        'temp': 38.2, \n",
    "        'hr': 66, \n",
    "        'rr': 12, \n",
    "        'bp': (106, 50, 69), \n",
    "        'spo2': 97, \n",
    "        'gcs': 10, \n",
    "        'apache2': 50, \n",
    "        'ventilator': 'Y', \n",
    "        'hemodialysis': 'Y'\n",
    "        }, \n",
    "        {\n",
    "        'id': 2, \n",
    "        'temp': 37.6, \n",
    "        'hr': 69, \n",
    "        'rr': 10, \n",
    "        'bp': (129, 71, 80), \n",
    "        'spo2': 90, \n",
    "        'gcs': 15, \n",
    "        'apache2': 43, \n",
    "        'ventilator': 'Y', \n",
    "        'hemodialysis': 'N'\n",
    "        }, \n",
    "        {\n",
    "        'id': 3, \n",
    "        'temp': 36.8, \n",
    "        'hr': 85, \n",
    "        'rr': 23, \n",
    "        'bp': (152, 89, 91), \n",
    "        'spo2': 106, \n",
    "        'gcs': 19, \n",
    "        'apache2': 68, \n",
    "        'ventilator': 'N', \n",
    "        'hemodialysis': 'Y'\n",
    "        }, \n",
    "    ]\n",
    "\n",
    "    urine = [\n",
    "        {\n",
    "        'id': 1, \n",
    "        'urine': (80, 130, 120, 50, 150, 230)\n",
    "        }, \n",
    "        {\n",
    "        'id': 2,\n",
    "        'urine': (140, 210, 185, 150, 0, 90)\n",
    "        }, \n",
    "        {\n",
    "        'id': 3, \n",
    "        'urine': (100, 50, 0, 0, 300, 160)\n",
    "        }, \n",
    "    ]\n",
    "\n",
    "    interventions = [\n",
    "        {\n",
    "        'id': 1,\n",
    "        'endotracheal_tube': '2023-01-15',    # value?   \n",
    "        'tracheostomy_tube': '2023-01-15',\n",
    "        'cvc': '2023-01-14', \n",
    "        'fvc': '', \n",
    "        'dlc': '2023-01-10', \n",
    "        'central_a_line': '2023-01-20', \n",
    "        'foley': '', \n",
    "        'others': ''\n",
    "        }, \n",
    "        {\n",
    "        'id': 2, \n",
    "        'endotracheal_tube': '2023-01-25',    # value?   \n",
    "        'tracheostomy_tube': '2023-01-17',\n",
    "        'cvc': '', \n",
    "        'fvc': '2023-01-09', \n",
    "        'dlc': '', \n",
    "        'central_a_line': '', \n",
    "        'foley': '2023-01-29', \n",
    "        'others': ''\n",
    "        }, \n",
    "        {\n",
    "        'id': 3, \n",
    "        'endotracheal_tube': '',    # value?   \n",
    "        'tracheostomy_tube': '2023-01-03',\n",
    "        'cvc': '2023-01-04', \n",
    "        'fvc': '2023-01-18', \n",
    "        'dlc': '', \n",
    "        'central_a_line': '', \n",
    "        'foley': '', \n",
    "        'others': '2023-01-26'\n",
    "        }, \n",
    "    ]\n",
    "\n"
   ]
  },
  {
   "cell_type": "code",
   "execution_count": 17,
   "metadata": {},
   "outputs": [
    {
     "data": {
      "text/plain": [
       "{'id': 3, 'prediction': 0.78, 'infection': 0.74}"
      ]
     },
     "execution_count": 17,
     "metadata": {},
     "output_type": "execute_result"
    }
   ],
   "source": [
    "def get_sepsis_by_id(id: int) -> dict:\n",
    "    # return next(item for item in patient.sepsis if item['id'] == id)\n",
    "    return (item for item in patient.sepsis if item['id'] == id)\n",
    "    \n",
    "    \n",
    "get_dict_by_id(3)\n"
   ]
  },
  {
   "cell_type": "code",
   "execution_count": 9,
   "metadata": {},
   "outputs": [
    {
     "data": {
      "text/plain": [
       "1"
      ]
     },
     "execution_count": 9,
     "metadata": {},
     "output_type": "execute_result"
    },
    {
     "data": {
      "text/plain": [
       "1"
      ]
     },
     "execution_count": 9,
     "metadata": {},
     "output_type": "execute_result"
    },
    {
     "data": {
      "text/plain": [
       "1"
      ]
     },
     "execution_count": 9,
     "metadata": {},
     "output_type": "execute_result"
    },
    {
     "data": {
      "text/plain": [
       "0"
      ]
     },
     "execution_count": 9,
     "metadata": {},
     "output_type": "execute_result"
    },
    {
     "data": {
      "text/plain": [
       "1"
      ]
     },
     "execution_count": 9,
     "metadata": {},
     "output_type": "execute_result"
    },
    {
     "data": {
      "text/plain": [
       "1"
      ]
     },
     "execution_count": 9,
     "metadata": {},
     "output_type": "execute_result"
    },
    {
     "data": {
      "text/plain": [
       "1"
      ]
     },
     "execution_count": 9,
     "metadata": {},
     "output_type": "execute_result"
    },
    {
     "data": {
      "text/plain": [
       "0"
      ]
     },
     "execution_count": 9,
     "metadata": {},
     "output_type": "execute_result"
    },
    {
     "data": {
      "text/plain": [
       "0"
      ]
     },
     "execution_count": 9,
     "metadata": {},
     "output_type": "execute_result"
    },
    {
     "data": {
      "text/plain": [
       "0"
      ]
     },
     "execution_count": 9,
     "metadata": {},
     "output_type": "execute_result"
    },
    {
     "data": {
      "text/plain": [
       "'99999999'"
      ]
     },
     "execution_count": 9,
     "metadata": {},
     "output_type": "execute_result"
    },
    {
     "data": {
      "text/plain": [
       "'88888888'"
      ]
     },
     "execution_count": 9,
     "metadata": {},
     "output_type": "execute_result"
    }
   ],
   "source": [
    "import random\n",
    "for _ in range(10):\n",
    "    random.randint(0, 1)\n",
    "    \n",
    "'99999999'\n",
    "'88888888'"
   ]
  },
  {
   "cell_type": "code",
   "execution_count": 22,
   "metadata": {},
   "outputs": [
    {
     "name": "stdout",
     "output_type": "stream",
     "text": [
      "0 a\n",
      "1 1\n",
      "2 2\n",
      "3 3\n",
      "4 4\n",
      "5 z\n"
     ]
    }
   ],
   "source": [
    "dd = {0: 'a', 1: 1, 2: 2, 3: 3, 4: 4, 5: 'z'}\n",
    "\n",
    "for i, d in dd.items():\n",
    "    print(i, d)"
   ]
  },
  {
   "cell_type": "code",
   "execution_count": 15,
   "metadata": {},
   "outputs": [
    {
     "data": {
      "text/plain": [
       "{'id': 1, 'urine': (80, 130, 120, 50, 150, 230)}"
      ]
     },
     "execution_count": 15,
     "metadata": {},
     "output_type": "execute_result"
    }
   ],
   "source": [
    "class patientSepsisOneGet():\n",
    "    '''P11: 查詢某月每天的病人人數'''\n",
    "    def get(self) -> dict:\n",
    "        return next(item for item in patient.urine if item['id'] == 1)\n",
    "\n",
    "patientSepsisOneGet().get()\n"
   ]
  },
  {
   "cell_type": "code",
   "execution_count": null,
   "metadata": {},
   "outputs": [],
   "source": [
    "import copy\n",
    "\n",
    "origin = [[1]]\n",
    "shallow_copy = copy.copy(origin)\n",
    "\n",
    "print(f'{origin = }')"
   ]
  },
  {
   "cell_type": "code",
   "execution_count": 51,
   "metadata": {},
   "outputs": [
    {
     "name": "stdout",
     "output_type": "stream",
     "text": [
      "['J', 'e', 'r', 'r', 'y', 'A', 'l', 'e', 'x', 'J', 'a', 'c', 'k', 't', 'o', 'm', 'T', 'h', 'o', 'm', 'a', 's']\n"
     ]
    }
   ],
   "source": [
    "names = ['Jerry', 'Alex', 'Jack', 'tom', 'Thomas']\n",
    "chars = [char for name in names for char in name]\n",
    "print(chars)\n",
    "\n"
   ]
  },
  {
   "cell_type": "code",
   "execution_count": 125,
   "metadata": {},
   "outputs": [
    {
     "data": {
      "text/plain": [
       "'2023/01/19 02:15:08'"
      ]
     },
     "execution_count": 125,
     "metadata": {},
     "output_type": "execute_result"
    }
   ],
   "source": [
    "import datetime\n",
    "datetime.datetime.now().strftime('%Y/%m/%d %H:%M:%S')"
   ]
  }
 ],
 "metadata": {
  "kernelspec": {
   "display_name": "Python 3.10.4 64-bit",
   "language": "python",
   "name": "python3"
  },
  "language_info": {
   "codemirror_mode": {
    "name": "ipython",
    "version": 3
   },
   "file_extension": ".py",
   "mimetype": "text/x-python",
   "name": "python",
   "nbconvert_exporter": "python",
   "pygments_lexer": "ipython3",
   "version": "3.10.6"
  },
  "orig_nbformat": 4,
  "vscode": {
   "interpreter": {
    "hash": "916dbcbb3f70747c44a77c7bcd40155683ae19c65e1c03b4aa3499c5328201f1"
   }
  }
 },
 "nbformat": 4,
 "nbformat_minor": 2
}
