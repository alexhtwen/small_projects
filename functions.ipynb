{
 "cells": [
  {
   "cell_type": "code",
   "execution_count": 3,
   "metadata": {},
   "outputs": [
    {
     "data": {
      "text/plain": [
       "'interactiveShell imported'"
      ]
     },
     "execution_count": 3,
     "metadata": {},
     "output_type": "execute_result"
    },
    {
     "data": {
      "text/plain": [
       "'Hello, World!'"
      ]
     },
     "execution_count": 3,
     "metadata": {},
     "output_type": "execute_result"
    }
   ],
   "source": [
    "from IPython.core.interactiveshell import InteractiveShell \n",
    "InteractiveShell.ast_node_interactivity = \"all\"\n",
    "'interactiveShell imported'\n",
    "'Hello, World!"
   ]
  },
  {
   "cell_type": "code",
   "execution_count": null,
   "metadata": {},
   "outputs": [],
   "source": []
  },
  {
   "cell_type": "code",
   "execution_count": null,
   "metadata": {},
   "outputs": [],
   "source": []
  },
  {
   "cell_type": "code",
   "execution_count": null,
   "metadata": {},
   "outputs": [],
   "source": []
  },
  {
   "cell_type": "code",
   "execution_count": null,
   "metadata": {},
   "outputs": [],
   "source": []
  },
  {
   "cell_type": "code",
   "execution_count": null,
   "metadata": {},
   "outputs": [],
   "source": []
  },
  {
   "cell_type": "code",
   "execution_count": null,
   "metadata": {},
   "outputs": [],
   "source": []
  },
  {
   "cell_type": "markdown",
   "metadata": {},
   "source": [
    "## 正則表達式-1"
   ]
  },
  {
   "cell_type": "code",
   "execution_count": null,
   "metadata": {},
   "outputs": [],
   "source": [
    "import re\n",
    "\n",
    "patterns = ['', '']\n",
    "order = 'Tx: 30ml ACL rupture va9 mL Spur va30ml Cubitus Varus 47 ml Arthritis VA 36 ml Ankle Fracture va10'\n",
    "\n",
    "for pattern in patterns:\n",
    "    match = re.search(string=order, pattern=p)\n"
   ]
  },
  {
   "cell_type": "markdown",
   "metadata": {},
   "source": [
    "## 變數字串分割"
   ]
  },
  {
   "cell_type": "code",
   "execution_count": 5,
   "metadata": {},
   "outputs": [
    {
     "data": {
      "text/plain": [
       "3"
      ]
     },
     "execution_count": 5,
     "metadata": {},
     "output_type": "execute_result"
    },
    {
     "data": {
      "text/plain": [
       "6"
      ]
     },
     "execution_count": 5,
     "metadata": {},
     "output_type": "execute_result"
    },
    {
     "data": {
      "text/plain": [
       "0"
      ]
     },
     "execution_count": 5,
     "metadata": {},
     "output_type": "execute_result"
    }
   ],
   "source": [
    "a = 3\n",
    "b = 6\n",
    "c = 0\n",
    "a\n",
    "b\n",
    "c"
   ]
  },
  {
   "cell_type": "code",
   "execution_count": null,
   "metadata": {},
   "outputs": [],
   "source": [
    "import string\n",
    "\n",
    "def pascal(chars: str) -> list:\n",
    "    return_list = []\n",
    "    for char in chars:\n",
    "        if char in string.ascii_uppercase:\n",
    "            box.append(char)\n",
    "        else:\n",
    "            box[-1] += char\n",
    "    \n",
    "    return box\n",
    "    # return [char if char in string.ascii_uppercase else pass for i, char in enumerate(chars)]\n",
    "    # [        for i in range(sum(1 for c in message if c.isupper()))]\n"
   ]
  },
  {
   "cell_type": "code",
   "execution_count": 9,
   "metadata": {},
   "outputs": [
    {
     "ename": "IndexError",
     "evalue": "list index out of range",
     "output_type": "error",
     "traceback": [
      "\u001b[0;31m---------------------------------------------------------------------------\u001b[0m",
      "\u001b[0;31mIndexError\u001b[0m                                Traceback (most recent call last)",
      "\u001b[1;32m/mnt/zfs/Python/small_projects/functions.ipynb Cell 13\u001b[0m in \u001b[0;36m<cell line: 14>\u001b[0;34m()\u001b[0m\n\u001b[1;32m     <a href='vscode-notebook-cell:/mnt/zfs/Python/small_projects/functions.ipynb#X40sZmlsZQ%3D%3D?line=9'>10</a>\u001b[0m             box[\u001b[39m-\u001b[39m\u001b[39m1\u001b[39m] \u001b[39m+\u001b[39m\u001b[39m=\u001b[39m char\n\u001b[1;32m     <a href='vscode-notebook-cell:/mnt/zfs/Python/small_projects/functions.ipynb#X40sZmlsZQ%3D%3D?line=11'>12</a>\u001b[0m     \u001b[39mreturn\u001b[39;00m box       \n\u001b[0;32m---> <a href='vscode-notebook-cell:/mnt/zfs/Python/small_projects/functions.ipynb#X40sZmlsZQ%3D%3D?line=13'>14</a>\u001b[0m \u001b[39mprint\u001b[39m(camel(\u001b[39m'\u001b[39;49m\u001b[39mfamilyName\u001b[39;49m\u001b[39m'\u001b[39;49m))\n",
      "\u001b[1;32m/mnt/zfs/Python/small_projects/functions.ipynb Cell 13\u001b[0m in \u001b[0;36mcamel\u001b[0;34m(chars)\u001b[0m\n\u001b[1;32m      <a href='vscode-notebook-cell:/mnt/zfs/Python/small_projects/functions.ipynb#X40sZmlsZQ%3D%3D?line=7'>8</a>\u001b[0m         box\u001b[39m.\u001b[39mappend(char)\n\u001b[1;32m      <a href='vscode-notebook-cell:/mnt/zfs/Python/small_projects/functions.ipynb#X40sZmlsZQ%3D%3D?line=8'>9</a>\u001b[0m     \u001b[39melse\u001b[39;00m:\n\u001b[0;32m---> <a href='vscode-notebook-cell:/mnt/zfs/Python/small_projects/functions.ipynb#X40sZmlsZQ%3D%3D?line=9'>10</a>\u001b[0m         box[\u001b[39m-\u001b[39m\u001b[39m1\u001b[39m] \u001b[39m+\u001b[39m\u001b[39m=\u001b[39m char\n\u001b[1;32m     <a href='vscode-notebook-cell:/mnt/zfs/Python/small_projects/functions.ipynb#X40sZmlsZQ%3D%3D?line=11'>12</a>\u001b[0m \u001b[39mreturn\u001b[39;00m box\n",
      "\u001b[0;31mIndexError\u001b[0m: list index out of range"
     ]
    }
   ],
   "source": [
    "def camel(chars: str) -> list:\n",
    "    box = []\n",
    "    \n",
    "    for char in chars:\n",
    "        \n",
    "        # if char == 0 or char in char.upper():\n",
    "        if char == char.title() or char == char.upper():    \n",
    "            box.append(char)\n",
    "        else:\n",
    "            box[-1] += char\n",
    "    \n",
    "    return box       \n",
    "\n",
    "print(camel('familyName')) \n"
   ]
  },
  {
   "cell_type": "code",
   "execution_count": null,
   "metadata": {},
   "outputs": [],
   "source": [
    "\n",
    "# def camel(chars: str) -> list:\n",
    "#     return [for i, char in enumerate(chars)]\n",
    "\n",
    "\n",
    "# def snake(chars: str) -> list:\n",
    "#     return_list = []\n",
    "#     for i, char in enumerate(chars):\n",
    "#         if i == 0:\n",
    "#             return_list.append(char)   \n",
    "#         elif char == '_':\n",
    "#             return_list.append('')\n",
    "#         else:\n",
    "#             return_list[-1] = return_list[-1] + char\n",
    "    \n",
    "#     return return_list        \n",
    "\n",
    "def snake(chars: str) -> list:\n",
    "    return chars.split('_')\n",
    "\n",
    "\n",
    "print()        \n",
    "print(f\"{pascal('FamilyName') = }\")\n",
    "print(f\"{pascal('UserLoginId') = }\")\n",
    "print(f\"{pascal('RestApiWebApp') = }\")\n",
    "print()\n",
    "print(f\"{camel('familyName') = }\")\n",
    "print(f\"{camel('userLoginId') = }\")\n",
    "print(f\"{camel('restApiWebApp') = }\")\n",
    "print()\n",
    "print(f\"{snake('family_name') = }\")\n",
    "print(f\"{snake('user_login_id') = }\")\n",
    "print(f\"{snake('rest_api_web_app') = }\")"
   ]
  },
  {
   "cell_type": "code",
   "execution_count": 22,
   "metadata": {},
   "outputs": [
    {
     "name": "stdout",
     "output_type": "stream",
     "text": [
      "[0, 10, 20, 30, 40, 50, 60, 70, 80, 90]\n",
      "[0, 10, 20, 30, 40, 50, 60, 70, 80, 90]\n"
     ]
    }
   ],
   "source": [
    "num_list1 = [y for y in range(100) if y % 2 == 0 and y % 5 == 0]\n",
    "num_list2 = [y for y in range(100) if y % 2 == 0 if y % 5 == 0]\n",
    "print(num_list1)\n",
    "print(num_list2)"
   ]
  },
  {
   "cell_type": "code",
   "execution_count": 31,
   "metadata": {},
   "outputs": [
    {
     "name": "stdout",
     "output_type": "stream",
     "text": [
      "0\n",
      "1\n",
      "2\n"
     ]
    }
   ],
   "source": [
    "message = 'PythonIsFun'\n",
    "# print(\"Capital Letters: \", sum(1 for c in message if c.isupper()))\n",
    "for i in range(sum(1 for c in message if c.isupper())):\n",
    "    print(i)"
   ]
  },
  {
   "cell_type": "code",
   "execution_count": 85,
   "metadata": {},
   "outputs": [
    {
     "data": {
      "text/plain": [
       "['BananaOrangePear', 'OrangePear', 'Pear']"
      ]
     },
     "execution_count": 85,
     "metadata": {},
     "output_type": "execute_result"
    },
    {
     "data": {
      "text/plain": [
       "[0, 6, 12]"
      ]
     },
     "execution_count": 85,
     "metadata": {},
     "output_type": "execute_result"
    },
    {
     "data": {
      "text/plain": [
       "['Banana', 'Orange', 'Pear']"
      ]
     },
     "execution_count": 85,
     "metadata": {},
     "output_type": "execute_result"
    }
   ],
   "source": [
    "chars = 'BananaOrangePear'\n",
    "\n",
    "\n",
    "[chars[c:] for index, c in enumerate([index for index, c in enumerate(chars) if c.isupper()] ) ]\n",
    "\n",
    "indexes = [ for i, ii in enumerate([index for index, c in enumerate(chars) if c.isupper()])]\n",
    "indexes\n",
    "[chars[index:(indexes[i+1] if i < len(indexes) - 1 else len(chars))] for i, index in enumerate(indexes)]\n",
    "# [chars[idx:idx+3] for idx in indexes]\n",
    "# [chars[index:5] for i, index in enumerate(indexes)]\n",
    "# print(s1.rfind('an', 1, 5))\n",
    "# print(s1.find('an', 1, 5))"
   ]
  },
  {
   "cell_type": "code",
   "execution_count": 98,
   "metadata": {},
   "outputs": [
    {
     "name": "stdout",
     "output_type": "stream",
     "text": [
      "[8, 8, 8, 8, 8, 8, 8]\n"
     ]
    }
   ],
   "source": [
    "a = [1, 2, 3, 7, 0, 6, 8]\n",
    "# print([lambda: _ for _ in a])\n",
    "b = [lambda: _ for _ in a]\n",
    "c = [_() for _ in b]\n",
    "# print(a)\n",
    "# print(b)\n",
    "print(c)"
   ]
  },
  {
   "cell_type": "code",
   "execution_count": 15,
   "metadata": {},
   "outputs": [
    {
     "data": {
      "text/plain": [
       "True"
      ]
     },
     "execution_count": 15,
     "metadata": {},
     "output_type": "execute_result"
    },
    {
     "data": {
      "text/plain": [
       "False"
      ]
     },
     "execution_count": 15,
     "metadata": {},
     "output_type": "execute_result"
    },
    {
     "data": {
      "text/plain": [
       "True"
      ]
     },
     "execution_count": 15,
     "metadata": {},
     "output_type": "execute_result"
    },
    {
     "data": {
      "text/plain": [
       "False"
      ]
     },
     "execution_count": 15,
     "metadata": {},
     "output_type": "execute_result"
    },
    {
     "data": {
      "text/plain": [
       "True"
      ]
     },
     "execution_count": 15,
     "metadata": {},
     "output_type": "execute_result"
    },
    {
     "data": {
      "text/plain": [
       "False"
      ]
     },
     "execution_count": 15,
     "metadata": {},
     "output_type": "execute_result"
    }
   ],
   "source": [
    "# import time\n",
    "\n",
    "def is_happy_number(n: int) -> bool:   # 型別提示(並不是強制)\n",
    "    # return_value = False\n",
    "    chars = str(n)\n",
    "    new_ns = []\n",
    "    while True:\n",
    "        new_n = 0\n",
    "        for char in chars:\n",
    "            new_n += int(char) ** 2\n",
    "        \n",
    "        if new_n == 1:\n",
    "            return_value = True\n",
    "            break\n",
    "        elif new_n in new_ns:\n",
    "            return_value = False\n",
    "            break\n",
    "        else:\n",
    "            new_ns.append(new_n)\n",
    "            chars = str(new_n)\n",
    "            # time.sleep(0.3)\n",
    "            # print(new_n)\n",
    "    \n",
    "    return return_value\n",
    "        \n",
    "is_happy_number(7)\n",
    "is_happy_number(90)\n",
    "is_happy_number(44)\n",
    "is_happy_number(21)\n",
    "is_happy_number(79)\n",
    "is_happy_number(108)\n"
   ]
  },
  {
   "cell_type": "code",
   "execution_count": null,
   "metadata": {},
   "outputs": [],
   "source": [
    "def make_appointment(\n",
    "        patient_id: int, \n",
    "        department_id: int, \n",
    "        doctor_id: int, \n",
    "        date: str, \n",
    "        period: str) -> bool:\n",
    "    global departments, doctors, appointments, MAX_PATIENT_COUNT\n",
    "    \n",
    "    if departments.get(department_id) is None or doctors.get(doctor_id) is None:\n",
    "        return False\n",
    "    doctors[date] = date\n",
    "    doctors[period] = period\n",
    "    appointments\n",
    "    # print('------------', doctors[date])    \n",
    "    # return_values = {1: True, 6: True, 3: True, 9: True, 4: False}\n",
    "    return True\n",
    "\n",
    "MAX_PATIENT_COUNT = 2\n",
    "departments = {'027': '骨科', '013': '神經內科', '015': '胸腔內科'}\n",
    "doctors = {'00715': {'name': '翁佩韋', 'department_id': '027'}, \n",
    "           '00721': {'name': '江長蓉', 'department_id': '027'}, \n",
    "           '01256': {'name': '官怡君', 'department_id': '013'}, \n",
    "           '23809': {'name': '張志誠', 'department_id': '015'},\n",
    "} \n",
    "appointments = [{'patient_id': 1, 'department_id': '00715', ''}\n",
    "]\n",
    "\n",
    "           \n",
    "# 骨科027、神內是013、翁佩韋醫師是00715、江長蓉醫師是00721\n",
    "\n",
    "print()\n",
    "print(f\"{make_appointment(patient_id=1, department_id='027', doctor_id='00715', date='2022-09-30', period='上午') = }\\n\")\n",
    "print(f\"{make_appointment(patient_id=6, department_id='013', doctor_id='01256', date='2022-10-19', period='下午') = }\\n\")\n",
    "print(f\"{make_appointment(patient_id=3, department_id='027', doctor_id='00715', date='2022-09-30', period='上午') = }\\n\")\n",
    "print(f\"{make_appointment(patient_id=9, department_id='015', doctor_id='23809', date='2022-10-04', period='夜間') = }\\n\")\n",
    "print(f\"{make_appointment(patient_id=4, department_id='027', doctor_id='00715', date='2022-09-30', period='上午') = }\\n\")"
   ]
  },
  {
   "cell_type": "code",
   "execution_count": null,
   "metadata": {},
   "outputs": [],
   "source": [
    "print(round(1454.9999, -1))\n",
    "print(round(1350.0000, -2))\n",
    "print(round(1458.9999, -3))\n",
    "print(round(1458.236, -4))\n",
    "print(round(1458.236, -5))\n"
   ]
  },
  {
   "cell_type": "code",
   "execution_count": 1,
   "metadata": {},
   "outputs": [],
   "source": [
    "# Linux version(低音版)\n",
    "def play_song(notations):\n",
    "    import os\n",
    "\n",
    "    frequencies = {\n",
    "        'C3' : 130.81,    # 1\n",
    "        'C#3': 138.59,    # 1#\n",
    "        'D3' : 146.83,    # 2\n",
    "        'D#3': 155.56,    # 2#\n",
    "        'E3' : 164.81,    # 3\n",
    "        'F3' : 174.61,    # 4\n",
    "        'F#3': 185.00,    # 4#\n",
    "        'G3' : 196.00,    # 5\n",
    "        'G#3': 207.65,    # 5#\n",
    "        'A3' : 220.00,    # 6\n",
    "        'A#3': 233.08,    # 6#\n",
    "        'B3' : 246.94,    # 7\n",
    "        'C4' : 261.63,    # 1\n",
    "        'C#4': 277.18,    # 1#\n",
    "        'D4' : 293.66,    # 2\n",
    "        'D#4': 311.13,    # 2#  \n",
    "        'E4' : 329.63,    # 3\n",
    "        'F4' : 349.23,    # 4\n",
    "        'F#4': 369.99,    # 4#    \n",
    "        'G4' : 391.99,    # 5\n",
    "        'G#4': 415.30,    # 5#\n",
    "        'A4' : 440.00,    # 6\n",
    "        'A#4': 466.16,    # 6#\n",
    "        'B4' : 493.88,    # 7\n",
    "    }\n",
    "\n",
    "    # durations = {'H': 300, 'M': 600, 'D': 1200, 'T': 1800, 'Q': 2400}\n",
    "    durations = {'H': 250, 'M': 500, 'D': 1000, 'T': 1500, 'Q': 2000}\n",
    "\n",
    "    for notation in notations:\n",
    "        note = notation.split()\n",
    "        frequency = frequencies.get(note[0])\n",
    "        duration = durations.get(note[1])\n",
    "        os.system(f'beep -f {frequency} -l {duration}')\n",
    "        \n",
    "\n",
    "notations = ('G3 H', 'G3 H', 'A3 M', 'G3 M', 'C4 M', 'B3 D', 'G3 H', 'G3 H', \n",
    "             'A3 M', 'G3 M', 'D4 M', 'C4 D', 'G3 H', 'G3 H', 'G4 M', 'E4 M', \n",
    "             'C4 M', 'B3 M', 'A3 M', 'F4 H', 'F4 H', 'E4 M', 'C4 M', 'D4 M', 'C4 T')\n",
    "play_song(notations)"
   ]
  },
  {
   "cell_type": "code",
   "execution_count": 29,
   "metadata": {},
   "outputs": [],
   "source": [
    "# Linux version(高音版)\n",
    "def play_song(notations):\n",
    "    import os\n",
    "\n",
    "    frequencies = {\n",
    "        'C3' : 130.81,    # 1\n",
    "        'C#3': 138.59,    # 1#\n",
    "        'D3' : 146.83,    # 2\n",
    "        'D#3': 155.56,    # 2#\n",
    "        'E3' : 164.81,    # 3\n",
    "        'F3' : 174.61,    # 4\n",
    "        'F#3': 185.00,    # 4#\n",
    "        'G3' : 196.00,    # 5\n",
    "        'G#3': 207.65,    # 5#\n",
    "        'A3' : 220.00,    # 6\n",
    "        'A#3': 233.08,    # 6#\n",
    "        'B3' : 246.94,    # 7\n",
    "        'C4' : 261.63,    # 1\n",
    "        'C#4': 277.18,    # 1#\n",
    "        'D4' : 293.66,    # 2\n",
    "        'D#4': 311.13,    # 2#  \n",
    "        'E4' : 329.63,    # 3\n",
    "        'F4' : 349.23,    # 4\n",
    "        'F#4': 369.99,    # 4#    \n",
    "        'G4' : 391.99,    # 5\n",
    "        'G#4': 415.30,    # 5#\n",
    "        'A4' : 440.00,    # 6\n",
    "        'A#4': 466.16,    # 6#\n",
    "        'B4' : 493.88,    # 7\n",
    "        'C5' : 523.25,    # 1\n",
    "        'C#5': 554.37,    # 1#\n",
    "        'D5' : 587.33,    # 2\n",
    "        'D#5': 622.25,    # 2#  \n",
    "        'E5' : 659.26,    # 3\n",
    "        'F5' : 698.46,    # 4\n",
    "        'F#5': 739.99,    # 4#    \n",
    "        'G5' : 783.99,    # 5\n",
    "        'G#5': 830.61,    # 5#\n",
    "        'A5' : 880.00,    # 6\n",
    "        'A#5': 932.33,    # 6#\n",
    "        'B5' : 987.77,    # 7\n",
    "    }\n",
    "\n",
    "    # durations = {'H': 300, 'M': 600, 'D': 1200, 'T': 1800, 'Q': 2400}\n",
    "    durations = {'H': 250, 'M': 500, 'D': 1000, 'T': 1500, 'Q': 2000}\n",
    "\n",
    "    for notation in notations:\n",
    "        note = notation.split()\n",
    "        frequency = frequencies.get(note[0])\n",
    "        duration = durations.get(note[1])\n",
    "        os.system(f'beep -f {frequency} -l {duration}')\n",
    "        \n",
    "        \n",
    "\n",
    "notations = ('G4 H', 'G4 H', 'A4 M', 'G4 M', 'C5 M', 'B4 D', 'G4 H', 'G4 H', \n",
    "             'A4 M', 'G4 M', 'D5 M', 'C5 D', 'G4 H', 'G4 H', 'G5 M', 'E5 M', \n",
    "             'C5 M', 'B4 M', 'A4 M', 'F5 H', 'F5 H', 'E5 M', 'C5 M', 'D5 M', 'C5 T')\n",
    "play_song(notations)"
   ]
  },
  {
   "cell_type": "code",
   "execution_count": 6,
   "metadata": {},
   "outputs": [
    {
     "name": "stdout",
     "output_type": "stream",
     "text": [
      "InteractiveShell set.\n",
      "3.10.6 (main, Nov  2 2022, 18:53:38) [GCC 11.3.0]\n"
     ]
    }
   ],
   "source": [
    "import sys\n",
    "from IPython.core.interactiveshell import InteractiveShell\n",
    "\n",
    "InteractiveShell.ast_node_interactivity = \"all\"\n",
    "print(\"InteractiveShell set.\")\n",
    "print(sys.version)"
   ]
  },
  {
   "cell_type": "code",
   "execution_count": 1,
   "metadata": {},
   "outputs": [],
   "source": [
    "# Windows version\n",
    "def play_song(notations):\n",
    "    import winsound\n",
    "\n",
    "    frequencies = {\n",
    "        'C3' : 130.81,    # 1\n",
    "        'C#3': 138.59,    # 1#\n",
    "        'D3' : 146.83,    # 2\n",
    "        'D#3': 155.56,    # 2#\n",
    "        'E3' : 164.81,    # 3\n",
    "        'F3' : 174.61,    # 4\n",
    "        'F#3': 185.00,    # 4#\n",
    "        'G3' : 196.00,    # 5\n",
    "        'G#3': 207.65,    # 5#\n",
    "        'A3' : 220.00,    # 6\n",
    "        'A#3': 233.08,    # 6#\n",
    "        'B3' : 246.94,    # 7\n",
    "        'C4' : 261.63,    # 1\n",
    "        'C#4': 277.18,    # 1#\n",
    "        'D4' : 293.66,    # 2\n",
    "        'D#4': 311.13,    # 2#  \n",
    "        'E4' : 329.63,    # 3\n",
    "        'F4' : 349.23,    # 4\n",
    "        'F#4': 369.99,    # 4#    \n",
    "        'G4' : 391.99,    # 5\n",
    "        'G#4': 415.30,    # 5#\n",
    "        'A4' : 440.00,    # 6\n",
    "        'A#4': 466.16,    # 6#\n",
    "        'B4' : 493.88,    # 7\n",
    "        'C5' : 523.25,    # 1\n",
    "        'C#5': 554.37,    # 1#\n",
    "        'D5' : 587.33,    # 2\n",
    "        'D#5': 622.25,    # 2#  \n",
    "        'E5' : 659.26,    # 3\n",
    "        'F5' : 698.46,    # 4\n",
    "        'F#5': 739.99,    # 4#    \n",
    "        'G5' : 783.99,    # 5\n",
    "        'G#5': 830.61,    # 5#\n",
    "        'A5' : 880.00,    # 6\n",
    "        'A#5': 932.33,    # 6#\n",
    "        'B5' : 987.77,    # 7\n",
    "    }\n",
    "\n",
    "    # durations = {'H': 300, 'M': 600, 'D': 1200, 'T': 1800, 'Q': 2400}\n",
    "    durations = {'H': 250, 'M': 500, 'D': 1000, 'T': 1500, 'Q': 2000}\n",
    "\n",
    "    for notation in notations:\n",
    "        note = notation.split()\n",
    "        frequency = round(frequencies.get(note[0]))\n",
    "        duration = durations.get(note[1])\n",
    "        winsound.Beep(frequency, duration)\n",
    "        \n",
    "\n",
    "notations = ('G4 H', 'G4 H', 'A4 M', 'G4 M', 'C5 M', 'B4 D', 'G4 H', 'G4 H', \n",
    "             'A4 M', 'G4 M', 'D5 M', 'C5 D', 'G4 H', 'G4 H', 'G5 M', 'E5 M', \n",
    "             'C5 M', 'B4 M', 'A4 M', 'F5 H', 'F5 H', 'E5 M', 'C5 M', 'D5 M', 'C5 T')\n",
    "play_song(notations)"
   ]
  },
  {
   "cell_type": "code",
   "execution_count": 69,
   "metadata": {},
   "outputs": [
    {
     "name": "stdout",
     "output_type": "stream",
     "text": [
      "\n",
      "中秋佳節，月明人圓。\n",
      "聖子降生，拯救世人。\n"
     ]
    }
   ],
   "source": [
    "def acrostic(idioms: tuple) -> str:\n",
    "    '''藏頭詩'''\n",
    "    return ''.join([idiom[(index % len(idiom))] + ('，' if index == len(idiom) - 1 else '。' if index == len(idiom)*2 - 1 else '') for index, idiom in enumerate((idioms))])\n",
    "\n",
    "\n",
    "idioms = ('中流砥柱', '千秋萬世', '漸入佳境', '高風亮節', \n",
    "          '月下花前', '聰明伶俐', '地靈人傑', '破鏡重圓')\n",
    "print()\n",
    "print(acrostic(idioms))\n",
    "idioms = ('聖帝明王', '孺子可教', '紆尊降貴', '談笑風生', \n",
    "          '拯溺扶危', '匡救彌縫', '名門世族', '百年樹人')\n",
    "print(acrostic(idioms))"
   ]
  },
  {
   "cell_type": "code",
   "execution_count": 68,
   "metadata": {},
   "outputs": [
    {
     "name": "stdout",
     "output_type": "stream",
     "text": [
      "\n",
      "聖子降生，拯救世人。\n"
     ]
    },
    {
     "data": {
      "text/plain": [
       "'聖子降生，拯救世人。'"
      ]
     },
     "execution_count": 68,
     "metadata": {},
     "output_type": "execute_result"
    }
   ],
   "source": [
    "def acrostic(idioms: tuple) -> str:\n",
    "    '''藏頭詩'''\n",
    "    # return ''.join([a[(index % len(a))] + ('，' if index == len(a) - 1 else '。' if index == len(a)*2 - 1 else '') for index, a in enumerate((idioms))])\n",
    "    return ''.join([idiom[(index % len(idiom))] + ('，' if index == len(idiom) - 1 else '。' if index == len(idiom)*2 - 1 else '') for index, idiom in enumerate((idioms))])\n",
    "\n",
    "\n",
    "idioms = ('聖帝明王', '孺子可教', '紆尊降貴', '談笑風生', \n",
    "          '拯溺扶危', '匡救彌縫', '名門世族', '百年樹人')\n",
    "print()\n",
    "print(acrostic(idioms))\n",
    "\n",
    "'聖子降生，拯救世人。'"
   ]
  },
  {
   "cell_type": "code",
   "execution_count": 151,
   "metadata": {},
   "outputs": [
    {
     "name": "stdout",
     "output_type": "stream",
     "text": [
      "\n",
      "get_pages(110_537, 28, 26) = 152\n",
      "get_pages(236_090, 39, 18) = 337\n",
      "get_pages(788_451, 44, 16) = 1120\n",
      "get_pages(481_584, 46, 19) = 552\n",
      "\n"
     ]
    }
   ],
   "source": [
    "from math import ceil\n",
    "\n",
    "def get_pages(total_words: int, words_per_line: int, lines_per_page) -> int:\n",
    "    return ceil(total_words / words_per_line / lines_per_page)\n",
    "\n",
    "print()\n",
    "print(f'{get_pages(110_537, 28, 26) = }')\n",
    "print(f'{get_pages(236_090, 39, 18) = }')\n",
    "print(f'{get_pages(788_451, 44, 16) = }')   # 紅樓夢\n",
    "print(f'{get_pages(481_584, 46, 19) = }')\n",
    "print()"
   ]
  },
  {
   "cell_type": "code",
   "execution_count": 150,
   "metadata": {},
   "outputs": [
    {
     "name": "stdout",
     "output_type": "stream",
     "text": [
      "\n",
      "is_prime(-3) = False\n",
      "is_prime(0) = False\n",
      "is_prime(1) = False\n",
      "is_prime(2) = True\n",
      "is_prime(3) = True\n",
      "is_prime(4) = False\n",
      "is_prime(73) = True\n",
      "is_prime(12347) = True\n",
      "is_prime(674139) = False\n",
      "\n"
     ]
    }
   ],
   "source": [
    "def is_prime(num: int) -> bool:\n",
    "    is_prime = True\n",
    "    if num <= 1:\n",
    "        is_prime = False\n",
    "    else:\n",
    "        for i in range(2, (num // 2 + 1)): \n",
    "            if num % i == 0:\n",
    "                is_prime = False\n",
    "                break\n",
    "    return is_prime\n",
    "\n",
    "print()\n",
    "print(f'{is_prime(-3) = }')\n",
    "print(f'{is_prime(0) = }')\n",
    "print(f'{is_prime(1) = }')\n",
    "print(f'{is_prime(2) = }')\n",
    "print(f'{is_prime(3) = }')\n",
    "print(f'{is_prime(4) = }')\n",
    "print(f'{is_prime(73) = }')\n",
    "print(f'{is_prime(12347) = }')\n",
    "print(f'{is_prime(674139) = }')\n",
    "print()"
   ]
  },
  {
   "cell_type": "code",
   "execution_count": 149,
   "metadata": {},
   "outputs": [
    {
     "name": "stdout",
     "output_type": "stream",
     "text": [
      "\n",
      "is_composite(-3) = False\n",
      "is_composite(0) = False\n",
      "is_composite(1) = False\n",
      "is_composite(2) = False\n",
      "is_composite(3) = False\n",
      "is_composite(4) = True\n",
      "is_composite(73) = False\n",
      "is_composite(12347) = False\n",
      "is_composite(674139) = True\n",
      "\n"
     ]
    }
   ],
   "source": [
    "def is_composite(num: int) -> bool:\n",
    "    is_composite = False\n",
    "    for i in range(2, (num // 2 + 1)): \n",
    "        if num % i == 0:\n",
    "            is_composite = True\n",
    "            break\n",
    "    return is_composite\n",
    "\n",
    "print()\n",
    "print(f'{is_composite(-3) = }')\n",
    "print(f'{is_composite(0) = }')\n",
    "print(f'{is_composite(1) = }')\n",
    "print(f'{is_composite(2) = }')\n",
    "print(f'{is_composite(3) = }')\n",
    "print(f'{is_composite(4) = }')\n",
    "print(f'{is_composite(73) = }')\n",
    "print(f'{is_composite(12347) = }')\n",
    "print(f'{is_composite(674139) = }')\n",
    "print()"
   ]
  },
  {
   "cell_type": "code",
   "execution_count": 124,
   "metadata": {},
   "outputs": [
    {
     "name": "stdout",
     "output_type": "stream",
     "text": [
      "\n",
      "raw_str = '   Hasta  la   vista,  baby.    --Terminator 2   '\n",
      "remove_spaces(raw_str) = 'αHastalavista,baby.--Terminator2ω'\n",
      "\n",
      "raw_str = ' Never lose a holy curiosity. --Albert Einstein'\n",
      "remove_spaces(raw_str) = 'αNeverloseaholycuriosity.--AlbertEinsteinω'\n",
      "\n",
      "raw_str = ' 天  地  不  仁， 以  萬  物  為  芻  狗。  --Lao Zi '\n",
      "remove_spaces(raw_str) = 'α天地不仁，以萬物為芻狗。--LaoZiω'\n",
      "\n"
     ]
    }
   ],
   "source": [
    "def remove_spaces(raw_str: str) -> str:\n",
    "    return 'α' + raw_str.replace(' ', '') + 'ω'\n",
    "\n",
    "print()\n",
    "raw_str = '   Hasta  la   vista,  baby.    --Terminator 2   '\n",
    "print(f'{raw_str = }')\n",
    "print(f\"{remove_spaces(raw_str) = }\")\n",
    "\n",
    "print()\n",
    "raw_str = ' Never lose a holy curiosity. --Albert Einstein'\n",
    "print(f'{raw_str = }')\n",
    "print(f\"{remove_spaces(raw_str) = }\")\n",
    "\n",
    "print()\n",
    "raw_str = ' 天  地  不  仁， 以  萬  物  為  芻  狗。  --Lao Zi '\n",
    "print(f'{raw_str = }')\n",
    "print(f\"{remove_spaces(raw_str) = }\")\n",
    "print()"
   ]
  },
  {
   "cell_type": "code",
   "execution_count": 125,
   "metadata": {},
   "outputs": [
    {
     "name": "stdout",
     "output_type": "stream",
     "text": [
      "\n",
      "raw_str = 'Life is short.  We use Python.'\n",
      "toggle_case(raw_str) = 'αlIFE IS SHORT.  wE USE pYTHON.ω'\n",
      "\n",
      "raw_str = 'Talk is cheap.  Show me the CODE.'\n",
      "toggle_case(raw_str) = 'αtALK IS CHEAP.  sHOW ME THE code.ω'\n",
      "\n",
      "raw_str = '我們正在學CPR & First Aid。'\n",
      "toggle_case(raw_str) = 'α我們正在學cpr & fIRST aID。ω'\n",
      "\n"
     ]
    }
   ],
   "source": [
    "def toggle_case(raw_str: str) -> str:\n",
    "    return 'α' + raw_str.swapcase() + 'ω'\n",
    "\n",
    "print()\n",
    "raw_str = 'Life is short.  We use Python.'\n",
    "print(f'{raw_str = }')\n",
    "print(f\"{toggle_case(raw_str) = }\")\n",
    "\n",
    "print()\n",
    "raw_str = 'Talk is cheap.  Show me the CODE.'\n",
    "print(f'{raw_str = }')\n",
    "print(f\"{toggle_case(raw_str) = }\")\n",
    "\n",
    "print()\n",
    "raw_str = '我們正在學CPR & First Aid。'\n",
    "print(f'{raw_str = }')\n",
    "print(f\"{toggle_case(raw_str) = }\")\n",
    "print()"
   ]
  },
  {
   "cell_type": "code",
   "execution_count": 126,
   "metadata": {},
   "outputs": [
    {
     "name": "stdout",
     "output_type": "stream",
     "text": [
      "\n",
      "raw_str = 'Hello, World!'\n",
      "insert_seps(raw_str, '..') = 'αH..e..l..l..o..,.. ..W..o..r..l..d..!ω'\n",
      "\n",
      "raw_str = 'Readability counts.'\n",
      "insert_seps(raw_str, '_') = 'αR_e_a_d_a_b_i_l_i_t_y_ _c_o_u_n_t_s_.ω'\n",
      "\n",
      "raw_str = '欲窮千里目，更上一層樓。'\n",
      "insert_seps(raw_str, ' ') = 'α欲 窮 千 里 目 ， 更 上 一 層 樓 。ω'\n",
      "\n"
     ]
    }
   ],
   "source": [
    "def insert_seps(raw_str: str, sep: str) -> str:\n",
    "    # return 'α' + chars.join(raw_str.split('')) + 'ω'\n",
    "    return  'α' + sep.join([char for char in raw_str]) + 'ω'\n",
    "\n",
    "print()\n",
    "raw_str = 'Hello, World!'\n",
    "print(f'{raw_str = }')\n",
    "print(f\"{insert_seps(raw_str, '..') = }\") \n",
    "\n",
    "print()\n",
    "raw_str = 'Readability counts.'\n",
    "print(f'{raw_str = }')\n",
    "print(f\"{insert_seps(raw_str, '_') = }\") \n",
    "\n",
    "print()\n",
    "raw_str = '欲窮千里目，更上一層樓。'\n",
    "print(f'{raw_str = }')\n",
    "print(f\"{insert_seps(raw_str, ' ') = }\") \n",
    "print()\n"
   ]
  },
  {
   "cell_type": "code",
   "execution_count": null,
   "metadata": {},
   "outputs": [],
   "source": [
    "def split_list(numbers: list) -> tuple:\n",
    "    red_box = []    # 紅bin放有沒有重覆的數字\n",
    "    blue_box = []   # 藍bin放有重覆的唯一數字(重複只放一個)\n",
    "    for index, number in enumerate(numbers):\n",
    "        if number in numbers[index + 1:]:\n",
    "            if number not in blue_box:\n",
    "                blue_box.append(number)\n",
    "        else:\n",
    "            if number not in blue_box:\n",
    "                red_box.append(number)\n",
    "    \n",
    "    return red_box, blue_box\n",
    "            \n",
    "print()\n",
    "numbers = [5, 6, 3, 2, 8, 3, 8, 3, 3, 6, 0]\n",
    "print(f'{numbers = }')\n",
    "print(f'{split_list(numbers) = }')\n",
    "\n",
    "print()\n",
    "numbers = [9, 0, 4, 0, 7, 9, 1, 9, 6]\n",
    "print(f'{numbers = }')\n",
    "print(f'{split_list(numbers) = }')\n",
    "\n",
    "print()\n",
    "numbers = [0, 1, 2, 3, 4, 4, 2, 3, 0]\n",
    "print(f'{numbers = }')\n",
    "print(f'{split_list(numbers) = }')\n",
    "\n",
    "print()\n",
    "numbers = [8, 2, 2, 7, 2, 2, 3, 2, 4, 9, 1]\n",
    "print(f'{numbers = }')\n",
    "print(f'{split_list(numbers) = }')\n",
    "\n",
    "print()\n",
    "numbers = [5, 5, 5, 5, 5]\n",
    "print(f'{numbers = }')\n",
    "print(f'{split_list(numbers) = }')\n",
    "\n",
    "print()\n",
    "numbers = [11, 29, 86, 33, 6]\n",
    "print(f'{numbers = }')\n",
    "print(f'{split_list(numbers) = }')\n"
   ]
  },
  {
   "cell_type": "code",
   "execution_count": 23,
   "metadata": {},
   "outputs": [
    {
     "name": "stdout",
     "output_type": "stream",
     "text": [
      "\n",
      "raw_str = '潮隨暗浪雪山傾，遠浦漁舟釣月明'\n",
      "reverse_str(raw_str, '*') = '潮隨暗浪雪山傾，遠浦漁舟釣月明*明月釣舟漁浦遠，傾山雪浪暗隨潮'\n",
      "\n",
      "raw_str = '遙望四邊雲接水，碧峰千點數鷗輕'\n",
      "reverse_str(raw_str, '^^') = '遙望四邊雲接水，碧峰千點數鷗輕^^輕鷗數點千峰碧，水接雲邊四望遙'\n"
     ]
    }
   ],
   "source": [
    "def reverse_str(raw_str: str, central: str) -> str:\n",
    "    return raw_str + central + raw_str[::-1]\n",
    "\n",
    "\n",
    "print()\n",
    "raw_str = '潮隨暗浪雪山傾，遠浦漁舟釣月明'\n",
    "print(f'{raw_str = }') \n",
    "print(f\"{reverse_str(raw_str, '*') = }\")\n",
    "\n",
    "print()\n",
    "raw_str = '遙望四邊雲接水，碧峰千點數鷗輕'\n",
    "print(f'{raw_str = }') \n",
    "print(f\"{reverse_str(raw_str, '^^') = }\")"
   ]
  },
  {
   "cell_type": "code",
   "execution_count": 156,
   "metadata": {},
   "outputs": [
    {
     "name": "stdout",
     "output_type": "stream",
     "text": [
      "\n",
      "create_list(3, 17, 3) = [15, 12, 9, 6, 3]\n",
      "create_list(56, 90, 5) = [86, 81, 76, 71, 66, 61, 56]\n",
      "create_list(-20, 9, 4) = [8, 4, 0, -4, -8, -12, -16, -20]\n",
      "create_list(0, 500, 99) = [495, 396, 297, 198, 99, 0]\n"
     ]
    }
   ],
   "source": [
    "def create_list(start: int, end: int, step: int) -> list:\n",
    "    return [item for item in range(start, end, step)][::-1]\n",
    "print()\n",
    "print(f'{create_list(3, 17, 3) = }')\n",
    "print(f'{create_list(56, 90, 5) = }')\n",
    "print(f'{create_list(-20, 9, 4) = }')\n",
    "print(f'{create_list(0, 500, 99) = }')"
   ]
  },
  {
   "cell_type": "code",
   "execution_count": 160,
   "metadata": {},
   "outputs": [
    {
     "name": "stdout",
     "output_type": "stream",
     "text": [
      "get_unique_sum([4, 7, 3, 4, 9, 3, 3, 0, -7]) = 16\n",
      "get_unique_sum([11, 6, -25, 6, 1, 6, 5, 3, 1, 8]) = 9\n",
      "get_unique_sum([36, 37, 38, 11, 12, 37, -11, 11]) = 123\n",
      "get_unique_sum([1, -2, 3, 4, 1, 3, 4, -2, 7, 1]) = 13\n"
     ]
    }
   ],
   "source": [
    "def get_unique_sum(lst: list) -> int:\n",
    "    return sum(set(lst))\n",
    "\n",
    "print(f'{get_unique_sum([4, 7, 3, 4, 9, 3, 3, 0, -7]) = }')\n",
    "print(f'{get_unique_sum([11, 6, -25, 6, 1, 6, 5, 3, 1, 8]) = }')\n",
    "print(f'{get_unique_sum([36, 37, 38, 11, 12, 37, -11, 11]) = }')\n",
    "print(f'{get_unique_sum([1, -2, 3, 4, 1, 3, 4, -2, 7, 1]) = }')\n"
   ]
  },
  {
   "cell_type": "code",
   "execution_count": 70,
   "metadata": {},
   "outputs": [
    {
     "name": "stdout",
     "output_type": "stream",
     "text": [
      "\n",
      "聖子降生，拯救世人。\n"
     ]
    }
   ],
   "source": [
    "def acrostic(idioms: tuple) -> str:\n",
    "    string = ''\n",
    "    length = len(idioms[0])\n",
    "    for index, idiom in enumerate(idioms):\n",
    "        string += idiom[index % length]\n",
    "        if index == len(idioms) - 1:\n",
    "            string += '。'\n",
    "        elif index % length == length - 1:\n",
    "            string += '，'\n",
    "    return string\n",
    "\n",
    "idioms = ('聖帝明王', '孺子可教', '紆尊降貴', '談笑風生', \n",
    "          '拯溺扶危', '匡救彌縫', '名門世族', '百年樹人')\n",
    "print()\n",
    "print(acrostic(idioms))"
   ]
  },
  {
   "cell_type": "code",
   "execution_count": 1,
   "metadata": {},
   "outputs": [
    {
     "name": "stdout",
     "output_type": "stream",
     "text": [
      "add_key() defined.\n"
     ]
    }
   ],
   "source": [
    "def add_key(old_dict: dict, key: object, value: object = None, add: bool = True) -> dict:\n",
    "    from copy import deepcopy\n",
    "    new_dict = deepcopy(old_dict)\n",
    "    if new_dict.get(key) is not None or add:\n",
    "        new_dict[key] = value\n",
    "    return new_dict\n",
    "\n",
    "print('add_key() defined.')"
   ]
  },
  {
   "cell_type": "code",
   "execution_count": 2,
   "metadata": {},
   "outputs": [
    {
     "name": "stdout",
     "output_type": "stream",
     "text": [
      "\n",
      "old_dict = {'id': 1, 'name': 'Alex'}\n",
      "new_dict = add_key(old_dict, 'name', 'Thomas', True)\n",
      "結果new_dict的內容為：{'id': 1, 'name': 'Thomas'}\n",
      "\n",
      "old_dict = {'id': 1, 'name': 'Alex'}\n",
      "new_dict = add_key(old_dict, 'name', 'Thomas', False)\n",
      "結果new_dict的內容為：{'id': 1, 'name': 'Thomas'}\n",
      "\n",
      "old_dict = {'id': 1, 'name': 'Alex'}\n",
      "new_dict = add_key(old_dict, 'name', 'Thomas')\n",
      "結果new_dict的內容為：{'id': 1, 'name': 'Thomas'}\n",
      "\n",
      "old_dict = {'id': 1, 'name': 'Alex'}\n",
      "new_dict = add_key(old_dict, 'name')\n",
      "結果new_dict的內容為：{'id': 1, 'name': None}\n",
      "--------------------------------\n",
      "\n",
      "old_dict = {'id': 1, 'name': 'Alex'}\n",
      "new_dict = add_key(old_dict, 'bmi', 22.8, True)\n",
      "結果new_dict的內容為：{'id': 1, 'name': 'Alex', 'bmi': 22.8}\n",
      "\n",
      "old_dict = {'id': 1, 'name': 'Alex'}\n",
      "new_dict = add_key(old_dict, 'bmi', 22.8, False)\n",
      "結果new_dict的內容為：{'id': 1, 'name': 'Alex'}\n",
      "\n",
      "old_dict = {'id': 1, 'name': 'Alex'}\n",
      "new_dict = add_key(old_dict, 'bmi', 22.8)\n",
      "結果new_dict的內容為：{'id': 1, 'name': 'Alex', 'bmi': 22.8}\n",
      "\n",
      "old_dict = {'id': 1, 'name': 'Alex'}\n",
      "new_dict = add_key(old_dict, 'bmi')\n",
      "結果new_dict的內容為：{'id': 1, 'name': 'Alex', 'bmi': None}\n",
      "\n"
     ]
    }
   ],
   "source": [
    "old_dict = {'id': 1, 'name': 'Alex'}\n",
    "print()\n",
    "new_dict = add_key(old_dict, 'name', 'Thomas', True)\n",
    "print(f\"{old_dict = }\")\n",
    "print(\"new_dict = add_key(old_dict, 'name', 'Thomas', True)\")\n",
    "print(f\"結果new_dict的內容為：{new_dict}\")\n",
    "\n",
    "print()\n",
    "new_dict = add_key(old_dict, 'name', 'Thomas', False)\n",
    "print(f\"{old_dict = }\")\n",
    "print(\"new_dict = add_key(old_dict, 'name', 'Thomas', False)\")\n",
    "print(f\"結果new_dict的內容為：{new_dict}\")\n",
    "\n",
    "print()\n",
    "new_dict = add_key(old_dict, 'name', 'Thomas')\n",
    "print(f\"{old_dict = }\")\n",
    "print(\"new_dict = add_key(old_dict, 'name', 'Thomas')\")\n",
    "print(f\"結果new_dict的內容為：{new_dict}\")\n",
    "\n",
    "print()\n",
    "new_dict = add_key(old_dict, 'name')\n",
    "print(f\"{old_dict = }\")\n",
    "print(\"new_dict = add_key(old_dict, 'name')\")\n",
    "print(f\"結果new_dict的內容為：{new_dict}\")\n",
    "\n",
    "print('--------------------------------')\n",
    "\n",
    "print()\n",
    "new_dict = add_key(old_dict, 'bmi', 22.8, True)\n",
    "print(f\"{old_dict = }\")\n",
    "print(\"new_dict = add_key(old_dict, 'bmi', 22.8, True)\")\n",
    "print(f\"結果new_dict的內容為：{new_dict}\")\n",
    "\n",
    "print()\n",
    "new_dict = add_key(old_dict, 'bmi', 22.8, False)\n",
    "print(f\"{old_dict = }\")\n",
    "print(\"new_dict = add_key(old_dict, 'bmi', 22.8, False)\")\n",
    "print(f\"結果new_dict的內容為：{new_dict}\")\n",
    "\n",
    "print()\n",
    "new_dict = add_key(old_dict, 'bmi', 22.8)\n",
    "print(f\"{old_dict = }\")\n",
    "print(\"new_dict = add_key(old_dict, 'bmi', 22.8)\")\n",
    "print(f\"結果new_dict的內容為：{new_dict}\")\n",
    "\n",
    "print()\n",
    "new_dict = add_key(old_dict, 'bmi')\n",
    "print(f\"{old_dict = }\")\n",
    "print(\"new_dict = add_key(old_dict, 'bmi')\")\n",
    "print(f\"結果new_dict的內容為：{new_dict}\")\n",
    "\n",
    "print()"
   ]
  },
  {
   "cell_type": "code",
   "execution_count": 66,
   "metadata": {},
   "outputs": [
    {
     "name": "stdout",
     "output_type": "stream",
     "text": [
      "\n",
      "str1 = 'ABCDE'     str2 = 'abcde'\n",
      "intersperse(str1, str2) = 'AaBbCcDdEe'\n",
      "\n",
      "str1 = '人生在世不稱意'     str2 = '明朝散髮弄扁舟'\n",
      "intersperse(str1, str2) = '人明生朝在散世髮不弄稱扁意舟'\n",
      "\n",
      "str1 = '7654321'   str2 = '+-*/%.,'\n",
      "intersperse(str1, str2) = '7+6-5*4/3%2.1,'\n"
     ]
    }
   ],
   "source": [
    "def intersperse(str1: str, str2: str) -> str:\n",
    "    return ''.join([char1 + str2[index] for index, char1 in enumerate(str1)])\n",
    "\n",
    "print()\n",
    "str1 = 'ABCDE'\n",
    "str2 = 'abcde'\n",
    "print(f'{str1 = }     {str2 = }')\n",
    "print(f'{intersperse(str1, str2) = }')\n",
    "\n",
    "print()\n",
    "str1 = '人生在世不稱意'\n",
    "str2 = '明朝散髮弄扁舟'\n",
    "print(f'{str1 = }     {str2 = }')\n",
    "print(f'{intersperse(str1, str2) = }')\n",
    "\n",
    "print()\n",
    "str1 = '7654321'\n",
    "str2 = '+-*/%.,'\n",
    "print(f'{str1 = }   {str2 = }')\n",
    "print(f'{intersperse(str1, str2) = }')"
   ]
  },
  {
   "cell_type": "code",
   "execution_count": 64,
   "metadata": {},
   "outputs": [
    {
     "data": {
      "text/plain": [
       "2.4"
      ]
     },
     "execution_count": 64,
     "metadata": {},
     "output_type": "execute_result"
    },
    {
     "data": {
      "text/plain": [
       "12.633333333333333"
      ]
     },
     "execution_count": 64,
     "metadata": {},
     "output_type": "execute_result"
    },
    {
     "data": {
      "text/plain": [
       "(12.633333333333333,)"
      ]
     },
     "execution_count": 64,
     "metadata": {},
     "output_type": "execute_result"
    }
   ],
   "source": [
    "# 1+2-(3/4*5%6.)\n",
    "# 3.75 % 6.\n",
    "# 1+2-3.75\n",
    "3*4/5\n",
    "7 + 6- ((5*4/3) % 2.1)\n",
    "\n",
    "\n",
    "7+6-5*4/3%2.1,"
   ]
  },
  {
   "cell_type": "code",
   "execution_count": null,
   "metadata": {},
   "outputs": [],
   "source": []
  },
  {
   "cell_type": "code",
   "execution_count": 2,
   "metadata": {},
   "outputs": [
    {
     "name": "stdout",
     "output_type": "stream",
     "text": [
      "before my_func(): i=123\n",
      "within my_func(): num=124\n",
      "124\n",
      "after my_func() : i=133\n"
     ]
    }
   ],
   "source": [
    "def my_func(num: int):   # num是形參\n",
    "    global i\n",
    "    i += 10\n",
    "    num += 1    # num是「參數」，也就是local變數。在函數裡改變local變數的值，不會影響外面。\n",
    "    print(f'within my_func(): {num=}') \n",
    "    return num\n",
    "    \n",
    "s = 'hello, world'  # s的值是'hello, world'\n",
    "i = 123             # i的值是123\n",
    "lst = []            # lst的值是一個空的list\n",
    "# my_func(i)          # 呼叫my_func()之後的值是None(i是實參)\n",
    "# my_func(123)        # 呼叫my_func()之後的值是None(i是實參)\n",
    "# my_func             # 和my_func()不一樣\n",
    "print(f'before my_func(): {i=}')\n",
    "print(my_func(i))  # print出my_func()的傳回值，也就是my_func()的值。\n",
    "print(f'after my_func() : {i=}')"
   ]
  },
  {
   "cell_type": "code",
   "execution_count": 36,
   "metadata": {},
   "outputs": [],
   "source": [
    "def is_aliquot(dividend: int, divisor: int) -> bool:\n",
    "    if divisor == 0:\n",
    "        raise ZeroDivisionError('除數不能為零。')\n",
    "    return dividend % divisor == 0"
   ]
  },
  {
   "cell_type": "code",
   "execution_count": 37,
   "metadata": {},
   "outputs": [
    {
     "name": "stdout",
     "output_type": "stream",
     "text": [
      "is_aliquot(15, 5) = True\n",
      "is_aliquot(15, 4) = False\n",
      "除數不能為零。\n"
     ]
    }
   ],
   "source": [
    "try:\n",
    "    print(f'{is_aliquot(15, 5) = }')\n",
    "    print(f'{is_aliquot(15, 4) = }')\n",
    "    print(f'{is_aliquot(15, 0) = }')\n",
    "except Exception as e:\n",
    "    print(str(e))                                                "
   ]
  },
  {
   "cell_type": "code",
   "execution_count": 6,
   "metadata": {},
   "outputs": [
    {
     "data": {
      "text/plain": [
       "True"
      ]
     },
     "execution_count": 6,
     "metadata": {},
     "output_type": "execute_result"
    }
   ],
   "source": [
    "21 / 7 == int(21 / 7)"
   ]
  }
 ],
 "metadata": {
  "kernelspec": {
   "display_name": "Python 3.10.4 64-bit",
   "language": "python",
   "name": "python3"
  },
  "language_info": {
   "codemirror_mode": {
    "name": "ipython",
    "version": 3
   },
   "file_extension": ".py",
   "mimetype": "text/x-python",
   "name": "python",
   "nbconvert_exporter": "python",
   "pygments_lexer": "ipython3",
   "version": "3.10.6"
  },
  "orig_nbformat": 4,
  "vscode": {
   "interpreter": {
    "hash": "916dbcbb3f70747c44a77c7bcd40155683ae19c65e1c03b4aa3499c5328201f1"
   }
  }
 },
 "nbformat": 4,
 "nbformat_minor": 2
}
