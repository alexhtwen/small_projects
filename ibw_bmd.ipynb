{
 "cells": [
  {
   "cell_type": "code",
   "execution_count": null,
   "metadata": {},
   "outputs": [],
   "source": [
    "# Shift + Alt + downArrow\n",
    "from pprint import pprint\n",
    "\n",
    "patients = [\n",
    "    {'id':  1, 'name': '唐滌生', 'gender': 'M', 'dob': '1985-09-12', 'height': 174, 'weight': 76.0},\n",
    "    {'id':  2, 'name': '任劍輝', 'gender': 'F', 'dob': '1940-12-31', 'height': 163, 'weight': 59.3},\n",
    "    {'id':  3, 'name': '白雪仙', 'gender': 'F', 'dob': '1958-01-01', 'height': 155, 'weight': 46.8},\n",
    "    {'id':  4, 'name': '梁醒波', 'gender': 'M', 'dob': '2003-04-23', 'height': 170, 'weight': 92.9},\n",
    "    {'id':  5, 'name': '靚次伯', 'gender': 'M', 'dob': '1957-07-15', 'height': 176, 'weight': 59.6},\n",
    "    {'id':  6, 'name': '任冰兒', 'gender': 'F', 'dob': '1944-06-07', 'height': 158, 'weight': 41.7},\n",
    "    {'id':  7, 'name': '蘇少棠', 'gender': 'M', 'dob': '1966-08-02', 'height': 171, 'weight': 73.5},\n",
    "    {'id':  8, 'name': '林家聲', 'gender': 'M', 'dob': '1949-11-30', 'height': 167, 'weight': 53.2},\n",
    "    {'id':  9, 'name': '鳳凰女', 'gender': 'F', 'dob': '1974-02-26', 'height': 162, 'weight': 72.1},\n",
    "    {'id': 10, 'name': '英麗梨', 'gender': 'F', 'dob': '1929-03-22', 'height': 159, 'weight': 38.4}\n",
    "]\n",
    "# pprint.pformat(object, indent=1, width=80, depth=None, *, compact=False, sort_dicts=True, underscore_numbers=False)¶\n",
    "pprint(patients, sort_dicts=False)"
   ]
  },
  {
   "cell_type": "code",
   "execution_count": null,
   "metadata": {},
   "outputs": [],
   "source": [
    "patients = [\n",
    "    {'id':  1, 'name': '唐滌生', 'gender': 'M', 'dob': '1985-09-12', 'height': 174, 'weight': 76.0},\n",
    "    {'id':  2, 'name': '任劍輝', 'gender': 'F', 'dob': '1940-12-31', 'height': 163, 'weight': 59.3},\n",
    "    {'id':  3, 'name': '白雪仙', 'gender': 'F', 'dob': '1958-01-01', 'height': 155, 'weight': 46.8},\n",
    "    {'id':  4, 'name': '梁醒波', 'gender': 'M', 'dob': '2003-04-23', 'height': 170, 'weight': 92.9},\n",
    "    {'id':  5, 'name': '靚次伯', 'gender': 'M', 'dob': '1957-07-15', 'height': 176, 'weight': 59.6},\n",
    "    {'id':  6, 'name': '任冰兒', 'gender': 'F', 'dob': '1944-06-07', 'height': 158, 'weight': 41.7},\n",
    "    {'id':  7, 'name': '蘇少棠', 'gender': 'M', 'dob': '1966-08-02', 'height': 171, 'weight': 73.5},\n",
    "    {'id':  8, 'name': '林家聲', 'gender': 'M', 'dob': '1949-11-30', 'height': 167, 'weight': 53.2},\n",
    "    {'id':  9, 'name': '鳳凰女', 'gender': 'F', 'dob': '1974-02-26', 'height': 162, 'weight': 72.1},\n",
    "    {'id': 10, 'name': '英麗梨', 'gender': 'F', 'dob': '1929-03-22', 'height': 159, 'weight': 38.4},\n",
    "]\n",
    "patients\n",
    "\n"
   ]
  },
  {
   "cell_type": "code",
   "execution_count": 2,
   "metadata": {},
   "outputs": [
    {
     "data": {
      "text/plain": [
       "(68.6, 'underweight')"
      ]
     },
     "execution_count": 2,
     "metadata": {},
     "output_type": "execute_result"
    }
   ],
   "source": [
    "def get_ibw(gender, height, weight):\n",
    "    gender = gender.upper()\n",
    "    if gender == 'M':\n",
    "        ideal_weight = (height - 80)*0.7\n",
    "    elif gender == 'F':\n",
    "        ideal_weight = (height - 70)*0.6\n",
    "    else:\n",
    "        ideal_weight = None\n",
    "    \n",
    "    # 範圍值落在正負 10% 內，為正常體重；\n",
    "    # 範圍值落在 10%~ 20% 體重為過重或過輕；\n",
    "    # 範圍值落在正負 20% 以上則體重為肥胖或體重不足。\n",
    "\n",
    "    # ideal_weight = 100\n",
    "    description = None\n",
    "    # print(f'{round(ideal_weight * 1.099999, 6)=}')\n",
    "\n",
    "    scrawny = {'lo': 0, 'hi': round(ideal_weight * .8, 6)}   # lo - 80 \n",
    "    underweight = {'lo': round(ideal_weight * .8, 6), 'hi': round(ideal_weight * .9, 6)}   # 80 - 90\n",
    "    normal = {'lo': round(ideal_weight * .8999, 6),  'hi': round(ideal_weight * 1.099999, 6)}   # 89.99 - 109.99\n",
    "    overweight = {'lo': round(ideal_weight * 1.1, 6), 'hi': round(ideal_weight * 1.199999, 6)}   # 110 - 119.99\n",
    "    # overweight = {'lo': ideal_weight * 1.1, 'hi': ideal_weight * 1.1999}   # 110 - 119.99\n",
    "    obese = {'lo': round(ideal_weight * 1.2, 6), 'hi': 9**9}   # 120 - hi\n",
    "\n",
    "    if scrawny['lo'] <= weight <= scrawny['hi']:\n",
    "        description = 'scrawny'\n",
    "    elif underweight['lo'] <= weight <= underweight['hi']:\n",
    "        description = 'underweight'\n",
    "    elif normal['lo'] <= weight <= normal['hi']:\n",
    "        description = 'normal'\n",
    "    elif overweight['lo'] <= weight <= overweight['hi']:\n",
    "        description = 'overweight'\n",
    "    elif obese['lo'] <= weight <= obese['hi']:\n",
    "        description = 'obese'\n",
    "    return round(ideal_weight, 1), description\n",
    "    # 男性：(身高 - 80) × 70% ＝ 標準體重　(身高單位：cm)\n",
    "    # 女性：(身高 - 70) × 60% ＝ 標準體重　(身高單位：cm)\n",
    "    # 實際體重低於標準體重的20%以上 ⮕ 太瘦🢂\n",
    "    # 實際體重低於標準體重的10%~19.9999% ⮕🢂過輕\n",
    "    # 實際體重落在標準體重的±9.9999%內 ⮕🢂正常\n",
    "    # 實際體重高於標準體重的10%~19.9999% ⮕🢂過重\n",
    "    # 實際體重高於標準體重的20%以上 ⮕🢂肥胖\n",
    "ibw, desc = get_ibw('M', 178, 57.3)\n",
    "ibw, desc"
   ]
  },
  {
   "cell_type": "code",
   "execution_count": 3,
   "metadata": {},
   "outputs": [],
   "source": [
    "def get_bmd_risk(weight, age):\n",
    "    bmd = (weight - age)*0.2\n",
    "    if bmd > -1:\n",
    "        return_value = 'low'\n",
    "    elif -1 >= bmd >= -4:\n",
    "        return_value = 'medium'\n",
    "    else:\n",
    "        return_value = 'high'\n",
    "    return return_value\n",
    "\n",
    "# 骨質密度風險 = (體重 - 年齡) * 0.2\n",
    "# bmd > -1: 骨質密度風險字串為low(骨質疏鬆風險小)；\n",
    "# -1 >= bmd >= -4: 骨質密度風險字串為medium(中度風險)；\n",
    "# bmd < -4: 骨質密度風險字串為high(高風險)。\n",
    "\n",
    "# 骨質密度風險 = (體重 - 年齡) * 0.2"
   ]
  },
  {
   "cell_type": "code",
   "execution_count": 4,
   "metadata": {},
   "outputs": [
    {
     "name": "stdout",
     "output_type": "stream",
     "text": [
      "\n",
      "id= 1  name=唐滌生  age=37  height=174  weight=76.0  ibw=65.8➜overweight   bmd_risk=low   \n",
      "id= 2  name=任劍輝  age=82  height=163  weight=59.3  ibw=55.8➜normal       bmd_risk=high  \n",
      "id= 3  name=白雪仙  age=64  height=155  weight=46.8  ibw=51.0➜normal       bmd_risk=medium\n",
      "id= 4  name=梁醒波  age=19  height=170  weight=92.9  ibw=63.0➜obese        bmd_risk=low   \n",
      "id= 5  name=靚次伯  age=65  height=176  weight=59.6  ibw=67.2➜underweight  bmd_risk=medium\n",
      "id= 6  name=任冰兒  age=78  height=158  weight=41.7  ibw=52.8➜scrawny      bmd_risk=high  \n",
      "id= 7  name=蘇少棠  age=56  height=171  weight=73.5  ibw=63.7➜overweight   bmd_risk=low   \n",
      "id= 8  name=林家聲  age=73  height=167  weight=53.2  ibw=60.9➜underweight  bmd_risk=medium\n",
      "id= 9  name=鳳凰女  age=48  height=162  weight=72.1  ibw=55.2➜obese        bmd_risk=low   \n",
      "id=10  name=英麗梨  age=93  height=159  weight=38.4  ibw=53.4➜scrawny      bmd_risk=high  \n"
     ]
    }
   ],
   "source": [
    "from datetime import datetime\n",
    "this_year = datetime.now().year\n",
    "print()\n",
    "for patient in patients:\n",
    "    id = patient['id']\n",
    "    name = patient['name']\n",
    "    gender = patient['gender']\n",
    "    yob = datetime.strptime(patient['dob'], '%Y-%m-%d').year\n",
    "    age = this_year - yob\n",
    "    height = patient['height']\n",
    "    weight = patient['weight']\n",
    "\n",
    "    ibw, desc = get_ibw(gender, height, weight)\n",
    "    bmd_risk = get_bmd_risk(weight, age)\n",
    "    print(f'{id=:2}  {name=:5}{age=:<4}{height=:<5}{weight=:4.1f}  {ibw=:4.1f}➜{desc:13}{bmd_risk=:6}')\n"
   ]
  },
  {
   "cell_type": "code",
   "execution_count": null,
   "metadata": {},
   "outputs": [],
   "source": [
    "for i in range(9):\n",
    "    # print(i)\n"
   ]
  },
  {
   "cell_type": "code",
   "execution_count": null,
   "metadata": {},
   "outputs": [],
   "source": [
    "    "
   ]
  },
  {
   "cell_type": "markdown",
   "metadata": {},
   "source": [
    "![](./pye%20looks%20like%20this.png)"
   ]
  }
 ],
 "metadata": {
  "kernelspec": {
   "display_name": "Python 3.10.5 64-bit",
   "language": "python",
   "name": "python3"
  },
  "language_info": {
   "codemirror_mode": {
    "name": "ipython",
    "version": 3
   },
   "file_extension": ".py",
   "mimetype": "text/x-python",
   "name": "python",
   "nbconvert_exporter": "python",
   "pygments_lexer": "ipython3",
   "version": "3.10.5"
  },
  "orig_nbformat": 4,
  "vscode": {
   "interpreter": {
    "hash": "97cc609b13305c559618ec78a438abc56230b9381f827f22d070313b9a1f3777"
   }
  }
 },
 "nbformat": 4,
 "nbformat_minor": 2
}
