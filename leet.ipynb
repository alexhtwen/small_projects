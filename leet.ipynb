{
 "cells": [
  {
   "cell_type": "code",
   "execution_count": 19,
   "metadata": {},
   "outputs": [
    {
     "data": {
      "text/plain": [
       "'interactiveShell imported.'"
      ]
     },
     "execution_count": 19,
     "metadata": {},
     "output_type": "execute_result"
    },
    {
     "data": {
      "text/plain": [
       "'now: 01:07:29'"
      ]
     },
     "execution_count": 19,
     "metadata": {},
     "output_type": "execute_result"
    }
   ],
   "source": [
    "import time\n",
    "\n",
    "from IPython.core.interactiveshell import InteractiveShell \n",
    "InteractiveShell.ast_node_interactivity = \"all\"\n",
    "\n",
    "'interactiveShell imported.'\n",
    "f\"now: {time.strftime('%H:%M:%S', time.localtime())}\""
   ]
  },
  {
   "cell_type": "code",
   "execution_count": 50,
   "metadata": {},
   "outputs": [],
   "source": [
    "def dict_diff(dict1: dict, dict2: dict) -> dict:\n",
    "    from copy import deepcopy\n",
    "    temp_dict = deepcopy(dict2)\n",
    "    out_dict = {}\n",
    "    for key1, value1 in dict1.items():\n",
    "        value2 = dict2.get(key1)\n",
    "        if value2 is None:   # dict1有而dict2無的key。\n",
    "            out_dict[key1] = [value1, value2]\n",
    "        else:\n",
    "            value2 = dict2.get(key1)\n",
    "            if value1 != value2:  # 兩個dict都有某key但value不同。\n",
    "                out_dict[key1] = [value1, value2]\n",
    "            temp_dict.pop(key1)\n",
    "        \n",
    "    for key2, value2 in temp_dict.items():\n",
    "        out_dict[key2] = [None, value2]   # dict2有而dict1無的key。\n",
    "        \n",
    "    return out_dict"
   ]
  },
  {
   "cell_type": "code",
   "execution_count": 48,
   "metadata": {},
   "outputs": [],
   "source": [
    "# 這樣寫是很高明且簡潔，可是會有兩個問題：\n",
    "# 1. 傳回的dict無法保留來的次序。\n",
    "# 2. 如果原來的dict1或dict2有None值，會判斷錯誤。\n",
    "def dict_diff(dict1: dict, dict2: dict) -> dict:\n",
    "    all_keys = dict1.keys() | dict2.keys()\n",
    "\n",
    "    out_dict = {}\n",
    "    for key in all_keys:\n",
    "        value1 = dict1.get(key)\n",
    "        value2 = dict2.get(key)\n",
    "        if value1 != value2:\n",
    "            out_dict[key] = [value1, value2]\n",
    "        \n",
    "    return out_dict"
   ]
  },
  {
   "cell_type": "code",
   "execution_count": 51,
   "metadata": {},
   "outputs": [
    {
     "name": "stdout",
     "output_type": "stream",
     "text": [
      "new_dict = {'p': [1, 2], 'w': [None, None], 'm': [None, 4]}\n",
      "dict1 = {'p': 1, 'w': None, 'c': 3, 'u': 5}\n",
      "dict2 = {'u': 5, 'p': 2, 'm': 4, 'c': 3}\n"
     ]
    }
   ],
   "source": [
    "dict1 = {'p': 1, 'w': None, 'c': 3, 'u': 5}\n",
    "dict2 = {'u': 5, 'p': 2, 'm': 4, 'c': 3}\n",
    "\n",
    "new_dict = dict_diff(dict1, dict2)\n",
    "print(f'{new_dict = }')\n",
    "print(f'{dict1 = }')\n",
    "print(f'{dict2 = }')"
   ]
  },
  {
   "cell_type": "code",
   "execution_count": 57,
   "metadata": {},
   "outputs": [
    {
     "ename": "TypeError",
     "evalue": "unsupported operand type(s) for +: 'dict' and 'dict'",
     "output_type": "error",
     "traceback": [
      "\u001b[0;31m---------------------------------------------------------------------------\u001b[0m",
      "\u001b[0;31mTypeError\u001b[0m                                 Traceback (most recent call last)",
      "Cell \u001b[0;32mIn [57], line 2\u001b[0m\n\u001b[1;32m      1\u001b[0m \u001b[39m# dict operations只有 '|', \u001b[39;00m\n\u001b[0;32m----> 2\u001b[0m dict1 \u001b[39m+\u001b[39;49m dict2\n",
      "\u001b[0;31mTypeError\u001b[0m: unsupported operand type(s) for +: 'dict' and 'dict'"
     ]
    }
   ],
   "source": [
    "# dict operations只有'|'(union), 沒有'&'(intersection), '-'(difference), '^'(dict1 = {'p': 1, 'w': None, 'c': 3, 'u': 5}\n",
    "dict2 = {'u': 5, 'p': 2, 'm': 4, 'c': 3}\n",
    "dict1 + dict2"
   ]
  }
 ],
 "metadata": {
  "kernelspec": {
   "display_name": "Python 3",
   "language": "python",
   "name": "python3"
  },
  "language_info": {
   "codemirror_mode": {
    "name": "ipython",
    "version": 3
   },
   "file_extension": ".py",
   "mimetype": "text/x-python",
   "name": "python",
   "nbconvert_exporter": "python",
   "pygments_lexer": "ipython3",
   "version": "3.10.6"
  },
  "orig_nbformat": 4,
  "vscode": {
   "interpreter": {
    "hash": "916dbcbb3f70747c44a77c7bcd40155683ae19c65e1c03b4aa3499c5328201f1"
   }
  }
 },
 "nbformat": 4,
 "nbformat_minor": 2
}
