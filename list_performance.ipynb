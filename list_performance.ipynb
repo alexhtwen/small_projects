{
 "cells": [
  {
   "cell_type": "markdown",
   "metadata": {},
   "source": [
    "<div style=\"font-family: 'Gen Jyuu Gothic Monospace Medium', 'Noto Sans TC'; font-size: 115%; line-height: 135%; text-align: center; color: Plum;\">\n",
    "\n",
    "<br>\n",
    "\n",
    "# List Performance"
   ]
  },
  {
   "cell_type": "code",
   "execution_count": 65,
   "metadata": {},
   "outputs": [
    {
     "name": "stdout",
     "output_type": "stream",
     "text": [
      "InteractiveShell set.\n",
      "3.10.6 (main, Nov  2 2022, 18:53:38) [GCC 11.3.0]\n"
     ]
    }
   ],
   "source": [
    "import sys\n",
    "from IPython.core.interactiveshell import InteractiveShell\n",
    "\n",
    "InteractiveShell.ast_node_interactivity = \"all\"\n",
    "print(\"InteractiveShell set.\")\n",
    "print(sys.version)"
   ]
  },
  {
   "attachments": {},
   "cell_type": "markdown",
   "metadata": {},
   "source": [
    "<div style=\"font-family: 'Inconsolata', 'Noto Sans TC'; font-size: 115%; line-height: 135%;\">\n",
    "\n",
    "### 附加元素到List最後--最普遍的方法\n",
    "\n",
    "* 人人都知，是用`append()`函數，用insert()也行，只是要多給一個索引參數。"
   ]
  },
  {
   "cell_type": "code",
   "execution_count": 71,
   "metadata": {},
   "outputs": [
    {
     "name": "stdout",
     "output_type": "stream",
     "text": [
      "lst1 = [3, 1, 6]\n",
      "lst1 = [3, 1, 6, 0]\n",
      "\n",
      "lst2 = [3, 1, 6]\n",
      "lst2 = [3, 1, 6, 0]\n"
     ]
    }
   ],
   "source": [
    "lst1 = [3, 1, 6]\n",
    "print(f'{lst1 = }')\n",
    "lst1.append(0)\n",
    "print(f'{lst1 = }\\n')\n",
    "\n",
    "lst2 = [3, 1, 6]\n",
    "print(f'{lst2 = }')\n",
    "lst2.insert(len(lst2), 0)\n",
    "print(f'{lst2 = }')"
   ]
  },
  {
   "attachments": {},
   "cell_type": "markdown",
   "metadata": {},
   "source": [
    "<div style=\"font-family: 'Inconsolata', 'Noto Sans TC'; font-size: 115%; line-height: 135%;\">\n",
    "\n",
    "### 附加元素到List的最後--其他方法\n",
    "* 其實，還有其他方法附加元素的。"
   ]
  },
  {
   "cell_type": "code",
   "execution_count": 45,
   "metadata": {},
   "outputs": [],
   "source": [
    "import time    \n",
    "LOOPS = 50000"
   ]
  },
  {
   "cell_type": "code",
   "execution_count": 62,
   "metadata": {},
   "outputs": [],
   "source": [
    "def show_performance(*secs) -> None:\n",
    "    durations = {'list_plus_list': secs[1] - secs[0], \n",
    "                'addition_assignment': secs[2] - secs[1], \n",
    "                'list_append': secs[3] - secs[2]}\n",
    "\n",
    "    for method, secs in durations.items():\n",
    "        print(f'{method = :24}{secs = }')\n",
    "\n",
    "    # find minimum value in dict\n",
    "    min_secs = min(durations.values())\n",
    "    max_secs = max(durations.values())\n",
    "    # get keys with minimal value using list comprehension\n",
    "    fastest_method = [method for method in durations if durations[method] == min_secs]\n",
    "    slowest_method = [method for method in durations if durations[method] == max_secs]\n",
    "    print(f'fastest: {fastest_method[0]:24}slowest: {slowest_method[0]:24}')\n"
   ]
  },
  {
   "cell_type": "code",
   "execution_count": 63,
   "metadata": {},
   "outputs": [
    {
     "name": "stdout",
     "output_type": "stream",
     "text": [
      "method = list_plus_list          secs = 2.9647817611694336\n",
      "method = addition_assignment     secs = 0.011881113052368164\n",
      "method = list_append             secs = 0.03613162040710449\n",
      "fastest: addition_assignment     slowest: list_plus_list          \n"
     ]
    }
   ],
   "source": [
    "time0 = time.time()\n",
    "lst1 = []\n",
    "for i in range(LOOPS):\n",
    "    lst1 = lst1 + [i]\n",
    "time1 = time.time()\n",
    "\n",
    "lst2 = []\n",
    "for i in range(LOOPS):\n",
    "    lst1 += [i]\n",
    "time2 = time.time()\n",
    "\n",
    "lst3 = []\n",
    "for i in range(LOOPS):\n",
    "    lst3.append(i)\n",
    "time3 = time.time()\n",
    "\n",
    "secs = (time0, time1, time2, time3)\n",
    "show_performance(*secs)"
   ]
  },
  {
   "cell_type": "code",
   "execution_count": 64,
   "metadata": {},
   "outputs": [
    {
     "name": "stdout",
     "output_type": "stream",
     "text": [
      "method = list_plus_list          secs = 3.0413053035736084\n",
      "method = addition_assignment     secs = 0.0029909610748291016\n",
      "method = list_append             secs = 0.0025131702423095703\n",
      "fastest: list_append             slowest: list_plus_list          \n"
     ]
    }
   ],
   "source": [
    "def create_lst_1(loops):\n",
    "    lst = []\n",
    "    for i in range(loops):\n",
    "        lst = lst + [i]\n",
    "    return lst\n",
    "\n",
    "def create_lst_2(loops):\n",
    "    lst = []\n",
    "    for i in range(loops):\n",
    "        lst += [i]\n",
    "    return lst\n",
    "\n",
    "def create_lst_3(loops):\n",
    "    lst = []\n",
    "    for i in range(loops):\n",
    "        lst.append(i)\n",
    "    return lst\n",
    "\n",
    "time0 = time.time()\n",
    "lst1 = create_lst_1(LOOPS)\n",
    "time1 = time.time()\n",
    "lst2 = create_lst_2(LOOPS)\n",
    "time2 = time.time()\n",
    "lst3 = create_lst_3(LOOPS)\n",
    "time3 = time.time()\n",
    "\n",
    "secs = (time0, time1, time2, time3)\n",
    "show_performance(*secs)"
   ]
  },
  {
   "attachments": {},
   "cell_type": "markdown",
   "metadata": {},
   "source": [
    "<div style=\"font-family: 'Inconsolata', 'Noto Sans TC'; font-size: 115%; line-height: 135%;\">\n",
    "\n",
    "### 結論\n",
    "\n",
    "* list元素的累加，用append()或addition assignment operator(`+=`)比用list + list快得多。\n",
    "* list + list每次都會新造另一個list。\n",
    "* addition assignment operator則不會新造list，它和append()函數一樣，都是沿用原來的那個list。這是它比list + list快的原因。\n",
    "* 包成函數有時竟然比不用函數更快(原因待查)。"
   ]
  }
 ],
 "metadata": {
  "kernelspec": {
   "display_name": "Python 3",
   "language": "python",
   "name": "python3"
  },
  "language_info": {
   "codemirror_mode": {
    "name": "ipython",
    "version": 3
   },
   "file_extension": ".py",
   "mimetype": "text/x-python",
   "name": "python",
   "nbconvert_exporter": "python",
   "pygments_lexer": "ipython3",
   "version": "3.10.6"
  },
  "orig_nbformat": 4,
  "vscode": {
   "interpreter": {
    "hash": "916dbcbb3f70747c44a77c7bcd40155683ae19c65e1c03b4aa3499c5328201f1"
   }
  }
 },
 "nbformat": 4,
 "nbformat_minor": 2
}
