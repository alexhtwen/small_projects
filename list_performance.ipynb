{
 "cells": [
  {
   "attachments": {},
   "cell_type": "markdown",
   "metadata": {},
   "source": [
    "<div style=\"font-family: 'Gen Jyuu Gothic P Bold', 'Noto Sans TC'; font-size: 130%; line-height: 360%; text-align: center; color: Plum;\">\n",
    "\n",
    "<br>\n",
    "\n",
    "# List Appending Performance"
   ]
  },
  {
   "cell_type": "code",
   "execution_count": null,
   "metadata": {},
   "outputs": [],
   "source": [
    "import sys\n",
    "from IPython.core.interactiveshell import InteractiveShell\n",
    "\n",
    "InteractiveShell.ast_node_interactivity = \"all\"\n",
    "print(\"InteractiveShell set.\")\n",
    "print(sys.version)"
   ]
  },
  {
   "attachments": {},
   "cell_type": "markdown",
   "metadata": {},
   "source": [
    "<div style=\"font-family: 'Inconsolata', 'Noto Sans TC'; font-size: 115%; line-height: 135%;\">\n",
    "\n",
    "### 附加元素到List最後面--最普遍的方法\n",
    "\n",
    "* 人人都知，是用`append()`函數。用insert()也行，只是要多給一個索引參數。"
   ]
  },
  {
   "cell_type": "code",
   "execution_count": null,
   "metadata": {},
   "outputs": [],
   "source": [
    "lst1 = [3, 1, 6]\n",
    "print(f'{lst1 = }')\n",
    "lst1.append(0)\n",
    "print(f'append(): {lst1 = }\\n')\n",
    "\n",
    "lst2 = [3, 1, 6]\n",
    "print(f'{lst2 = }')\n",
    "lst2.insert(len(lst2), 0)\n",
    "print(f'insert(): {lst2 = }')"
   ]
  },
  {
   "attachments": {},
   "cell_type": "markdown",
   "metadata": {},
   "source": [
    "<div style=\"font-family: 'Inconsolata', 'Noto Sans TC'; font-size: 115%; line-height: 135%;\">\n",
    "\n",
    "### 附加元素到List最後面--其他方法\n",
    "\n",
    "* 其實還有其他方法附加元素到list的。甚麼方法下面立即看到。\n",
    "* 本短文目的是測試這些方法，再比較其效能差異。"
   ]
  },
  {
   "cell_type": "code",
   "execution_count": null,
   "metadata": {},
   "outputs": [],
   "source": [
    "import time\n",
    "\n",
    "LOOPS = 50_000   # 5,000\n",
    "print('constants set.')\n",
    "print(time.time())"
   ]
  },
  {
   "cell_type": "code",
   "execution_count": null,
   "metadata": {},
   "outputs": [],
   "source": [
    "def show_performance(*secs) -> None:\n",
    "    \"\"\"顯示時間(單位：秒)差異。\n",
    "    \"\"\"    \n",
    "    durations = {'list_plus_list': secs[1] - secs[0], \n",
    "                'addition_assignment': secs[2] - secs[1], \n",
    "                'list_append': secs[3] - secs[2]}\n",
    "\n",
    "    for method, secs in durations.items():\n",
    "        print(f'{method = :24}{secs = }')\n",
    "\n",
    "    # find minimum value in dict\n",
    "    min_secs = min(durations.values())\n",
    "    max_secs = max(durations.values())\n",
    "    # get keys with minimal value using list comprehension\n",
    "    fastest_method = [method for method in durations if durations[method] == min_secs]\n",
    "    slowest_method = [method for method in durations if durations[method] == max_secs]\n",
    "    print(f'fastest: {fastest_method[0]:24}slowest: {slowest_method[0]:24}')\n",
    "\n",
    "print('show_performance() defined.')"
   ]
  },
  {
   "cell_type": "code",
   "execution_count": 18,
   "metadata": {},
   "outputs": [
    {
     "name": "stdout",
     "output_type": "stream",
     "text": [
      "method = list_plus_list          secs = 3.370708703994751\n",
      "method = addition_assignment     secs = 0.005025148391723633\n",
      "method = list_append             secs = 0.015379667282104492\n",
      "fastest: addition_assignment     slowest: list_plus_list          \n"
     ]
    }
   ],
   "source": [
    "time0 = time.time()\n",
    "lst1 = []\n",
    "for i in range(LOOPS):\n",
    "    lst1 = lst1 + [i]     # 測試方法-1: list plus list\n",
    "\n",
    "time1 = time.time()\n",
    "lst2 = []\n",
    "for i in range(LOOPS):\n",
    "    lst1 += [i]           # 測試方法-2: addition assignment(+=)\n",
    "\n",
    "time2 = time.time()\n",
    "lst3 = []\n",
    "for i in range(LOOPS):\n",
    "    lst3.append(i)        # 測試方法-3: append()\n",
    "\n",
    "time3 = time.time()\n",
    "secs = (time0, time1, time2, time3)\n",
    "\n",
    "show_performance(*secs)"
   ]
  },
  {
   "cell_type": "code",
   "execution_count": 19,
   "metadata": {},
   "outputs": [
    {
     "name": "stdout",
     "output_type": "stream",
     "text": [
      "method = list_plus_list          secs = 3.3501181602478027\n",
      "method = addition_assignment     secs = 0.00409388542175293\n",
      "method = list_append             secs = 0.003907918930053711\n",
      "fastest: list_append             slowest: list_plus_list          \n"
     ]
    }
   ],
   "source": [
    "def create_lst_1(loops):\n",
    "    lst = []\n",
    "    for i in range(loops):\n",
    "        lst = lst + [i]\n",
    "    return lst\n",
    "\n",
    "def create_lst_2(loops):\n",
    "    lst = []\n",
    "    for i in range(loops):\n",
    "        lst += [i]\n",
    "    return lst\n",
    "\n",
    "def create_lst_3(loops):  # 優化\n",
    "    lst = []\n",
    "    for i in range(loops):\n",
    "        lst.append(i)\n",
    "    return lst\n",
    "\n",
    "time0 = time.time()\n",
    "lst1 = create_lst_1(LOOPS)\n",
    "\n",
    "time1 = time.time()\n",
    "lst2 = create_lst_2(LOOPS)\n",
    "\n",
    "time2 = time.time()\n",
    "lst3 = create_lst_3(LOOPS)\n",
    "\n",
    "time3 = time.time()\n",
    "secs = (time0, time1, time2, time3)\n",
    "\n",
    "show_performance(*secs)"
   ]
  },
  {
   "cell_type": "code",
   "execution_count": 25,
   "metadata": {},
   "outputs": [
    {
     "name": "stdout",
     "output_type": "stream",
     "text": [
      "method = list_plus_list          secs = 3.320699453353882\n",
      "method = addition_assignment     secs = 0.004395723342895508\n",
      "method = list_append             secs = 0.0029594898223876953\n",
      "fastest: list_append             slowest: list_plus_list          \n"
     ]
    }
   ],
   "source": [
    "LOOPS = 50_000\n",
    "lst = []\n",
    "def create_lst_1():\n",
    "    global LOOPS, lst\n",
    "    lst = []\n",
    "    for i in range(LOOPS):\n",
    "        lst = lst + [i]\n",
    "    return lst\n",
    "\n",
    "def create_lst_2():\n",
    "    global LOOPS, lst\n",
    "    lst = []\n",
    "    for i in range(LOOPS):\n",
    "        lst += [i]\n",
    "    return lst\n",
    "\n",
    "def create_lst_3():  # 優化\n",
    "    global LOOPS, lst\n",
    "    lst = []\n",
    "    for i in range(LOOPS):\n",
    "        lst.append(i)\n",
    "    return lst\n",
    "\n",
    "time0 = time.time()\n",
    "lst1 = create_lst_1()\n",
    "\n",
    "time1 = time.time()\n",
    "lst2 = create_lst_2()\n",
    "\n",
    "time2 = time.time()\n",
    "lst3 = create_lst_3()\n",
    "\n",
    "time3 = time.time()\n",
    "secs = (time0, time1, time2, time3)\n",
    "\n",
    "show_performance(*secs)"
   ]
  },
  {
   "attachments": {},
   "cell_type": "markdown",
   "metadata": {},
   "source": [
    "<div style=\"font-family: 'Inconsolata', 'Noto Sans TC'; font-size: 115%; line-height: 135%;\">\n",
    "\n",
    "### 為甚麼 <b>`lst += [i]`</b> 比 <b>`lst = lst + [i]`</b> 快那麼多？\n",
    "\n",
    "* Python入門課不是有教，這兩者是「等價」，也就是效果一樣的嗎？\n",
    "* 問題是：「效果」一樣並不表示「效率」也一樣。\n",
    "* \"Talk is cheap.  Show me the code.\"--Linus Torvalds"
   ]
  },
  {
   "cell_type": "code",
   "execution_count": 22,
   "metadata": {},
   "outputs": [
    {
     "name": "stdout",
     "output_type": "stream",
     "text": [
      "lst1 = [1, 6, 4]\tid_1a = 140217284835840\n",
      "lst1 = [1, 6, 4, 99]\tid_1b = 140217284992256\n",
      "list plus list(lst1 = lst1 + [99]): (id_1a == id_1b) = False\n",
      "\n",
      "lst2 = [1, 6, 4]\tid_2a = 140217284831296\n",
      "lst2 = [1, 6, 4, 99]\tid_2b = 140217284831296\n",
      "addition assignment(lst2 += [99]):  (id_2a == id_2b) = True\n"
     ]
    }
   ],
   "source": [
    "lst1 = [1, 6, 4]\n",
    "id_1a = id(lst1)\n",
    "print(f'{lst1 = }\\t{id_1a = }')\n",
    "\n",
    "lst1 = lst1 + [99]     # list plus list\n",
    "id_1b = id(lst1)\n",
    "print(f'{lst1 = }\\t{id_1b = }')\n",
    "print(f'list plus list(lst1 = lst1 + [99]): {(id_1a == id_1b) = }')\n",
    "print()\n",
    "\n",
    "# ==================\n",
    "lst2 = [1, 6, 4]\n",
    "id_2a = id(lst2)\n",
    "print(f'{lst2 = }\\t{id_2a = }')\n",
    "lst2 += [99]           # addition assignment(+=)\n",
    "id_2b = id(lst2)\n",
    "print(f'{lst2 = }\\t{id_2b = }')\n",
    "print(f'addition assignment(lst2 += [99]):  {(id_2a == id_2b) = }')"
   ]
  },
  {
   "attachments": {},
   "cell_type": "markdown",
   "metadata": {},
   "source": [
    "<div style=\"font-family: 'Gen Jyuu Gothic P Bold', 'Noto Sans TC'; font-size: 1000%; line-height: 500%; text-align: center; color: pink;\">\n",
    "\n",
    "真相大白"
   ]
  },
  {
   "attachments": {},
   "cell_type": "markdown",
   "metadata": {},
   "source": [
    "<div style=\"font-family: 'Inconsolata', 'Noto Sans TC'; font-size: 115%; line-height: 135%;\">\n",
    "\n",
    "### 結論\n",
    "\n",
    "* list元素的累加，用append()或addition assignment operator(<span style=\"font-size: 120%; font-weight: 800; color: Gold;\">+=</span>)比用list + list快得多。\n",
    "* list + list每次都會新造另一個list。\n",
    "* addition assignment operator則不會新造list，它和append()函數一樣，都是沿用原來的那個list。這是它比list + list快的原因。\n",
    "* 包成函數有時竟然比不用函數更快(原因待查)。"
   ]
  }
 ],
 "metadata": {
  "kernelspec": {
   "display_name": "Python 3",
   "language": "python",
   "name": "python3"
  },
  "language_info": {
   "codemirror_mode": {
    "name": "ipython",
    "version": 3
   },
   "file_extension": ".py",
   "mimetype": "text/x-python",
   "name": "python",
   "nbconvert_exporter": "python",
   "pygments_lexer": "ipython3",
   "version": "3.10.6 (main, Nov  2 2022, 18:53:38) [GCC 11.3.0]"
  },
  "orig_nbformat": 4,
  "vscode": {
   "interpreter": {
    "hash": "916dbcbb3f70747c44a77c7bcd40155683ae19c65e1c03b4aa3499c5328201f1"
   }
  }
 },
 "nbformat": 4,
 "nbformat_minor": 2
}
